{
 "cells": [
  {
   "cell_type": "markdown",
   "id": "156dc018",
   "metadata": {
    "deletable": false,
    "editable": false,
    "nbgrader": {
     "cell_type": "markdown",
     "checksum": "6c6b500a6f722f4731cb56320c1d9431",
     "grade": false,
     "grade_id": "cell-0ca3dc27e71125d6",
     "locked": true,
     "schema_version": 3,
     "solution": false,
     "task": false
    }
   },
   "source": [
    "# Morfología en escala de grises y segmentación mediante el método de línea divisoria de aguas.\n",
    "\n",
    "En este tutorial estudiaremos la morfología matemática en escala de grises como un caso generalizado de la morfología binaria. Además, emplearemos el método de línea divisoria de aguas para segmentar imágenes, analizaremos cómo se pueden mejorar sus resultados a través de la imposición de mínimos, e identificaremos algunas ventajas y desventajas de este método.\n",
    "\n",
    "## Morfología en escala de grises\n",
    "\n",
    "En el tutorial pasado estudiamos las definiciones matemáticas asociadas a las operaciones de morfología binaria. Las 4 operaciones principales pueden resumirse en las siguientes descripciones asociadas a una imagen A y un elemento estructurante B:\n",
    "\n",
    "1. **Dilatación**: Todas las posibles traslaciones del origen de $\\hat{B}$ tales que $A$ y $B$ se sobreponen en al menos un píxel.\n",
    "1. **Erosión**: Todas las posibles posiciones del origen de $B$ tales que $B$ está completamente contenido en $A$.\n",
    "1. **Apertura**: La unión de todas las posibles traslaciones de $B$ que caen dentro de $A$.\n",
    "1. **Clausura**: Todas las posibles traslaciones de $B$ que caen fuera de $A$.\n",
    "\n",
    "Estas descripciones siguen aplicando para la morfología en escala de grises, es decir en el caso en el que consideramos que las intensidades de la imagen pueden tener más de una magnitud. Sin embargo, en este caso nuestras imágenes y elementos estructurantes deben interpretarse como conjuntos de 3 dimensiones. La intensidad de una imagen con un alto y ancho en el eje $x$ y $y$ puede interpretarse como una profundidad en el eje $z$. Esto es equivalente a la representación de una imagen como un mapa topográfico, donde la intensidad representa la altura del mapa en una coordenada determinada.\n",
    "\n",
    "La morfología matematica en escala de grises tiene diversos usos. Algunos de ellos pueden ser obtener el gradiente morfológico, suavizado de superficies, obtención de minimos y maximos locales, entre otros. En este tutorial implementaremos algunos de estos algoritmos."
   ]
  },
  {
   "cell_type": "markdown",
   "id": "7a2ec9fd",
   "metadata": {
    "deletable": false,
    "editable": false,
    "nbgrader": {
     "cell_type": "markdown",
     "checksum": "25379050ed1647d003820a1050691c9d",
     "grade": false,
     "grade_id": "cell-2e7be27dbdc6ca64",
     "locked": true,
     "schema_version": 3,
     "solution": false,
     "task": false
    }
   },
   "source": [
    "### Erosión en escala de grises\n",
    "La operación de la erosión en escala de grises no es muy distinta a la erosión en binario. Si recordamos bien la erosión nos decia que el pixel central será 0 si nuestro elemento estructurante B tocaba el fondo, de lo contrario sería 1. Esto se puede interpretar como un filtro minimo, es decír, le asignamos a nuestro pixel central el minimo de la vecindad cubierta por el elemento estructurante. En escala de grises, cuando usamos un elemento estructurante plano, haremos algo muy similar, tomando el minimo de la vecindad donde los pixeles del elemento estructurante están encendidos. \n",
    "\n",
    "#### Ejercicio 1:\n",
    "Modifique la función binary_dilation del tutorial anterior para que acepte imagenes en escala de grises y realice la erosión de la imagen con un elemento estructurante. Considere que el elemento estructurante que entre será binario y que los pixeles encendidos serán 1 y los apagados 0."
   ]
  },
  {
   "cell_type": "code",
   "execution_count": null,
   "id": "66523944",
   "metadata": {
    "deletable": false,
    "editable": false,
    "nbgrader": {
     "cell_type": "code",
     "checksum": "dc9f0b580999eac80f608c942e7d227c",
     "grade": false,
     "grade_id": "cell-9cf680acd8bb4fd8",
     "locked": true,
     "schema_version": 3,
     "solution": false,
     "task": false
    }
   },
   "outputs": [],
   "source": [
    "import numpy as np\n",
    "\n",
    "def binary_dilatation(A, B):\n",
    "    \n",
    "    # Obtención de variables auxiliares\n",
    "    m, n = B.shape\n",
    "    a, b = (m - 1)//2, (n - 1)//2\n",
    "    \n",
    "    # Imagen con borde de ceros que permita central el elemento estructurante en aristas y vertices\n",
    "    A_pad = np.block([[np.zeros((a, b)),         np.zeros((a, A.shape[1])),    np.zeros((a, b))],\n",
    "                      [np.zeros((A.shape[0], b)),         A,                   np.zeros((A.shape[0], b))],\n",
    "                      [np.zeros((a, b)),         np.zeros((a, A.shape[1])),    np.zeros((a, b))]])\n",
    "    \n",
    "    # Arreglo en el que se almacenará el resultado de la dilatación sobre la imagen con borde\n",
    "    result_pad = np.copy(A_pad)\n",
    "    \n",
    "    # Para cada pixel del arreglo original\n",
    "    for x in range(A.shape[0]):\n",
    "        for y in range(A.shape[1]):\n",
    "            # Cambio de coordenadas a la imagen con borde\n",
    "            x_pad = x + a\n",
    "            y_pad = y + b\n",
    "            # Si el pixel en el que se centra el elemento estructurante es igual a 1\n",
    "            if A_pad[x_pad, y_pad] == 1:\n",
    "                # La imagen resultante tiene intensidad 1 en cada pixel sea 1 en la\n",
    "                # imagen original o en el elemento estructurante\n",
    "                result_pad[x_pad - a:x_pad + a + 1, y_pad - b: y_pad + b + 1] = np.logical_or(\n",
    "                result_pad[x_pad - a:x_pad + a + 1, y_pad - b: y_pad + b + 1], B)\n",
    "                \n",
    "    # El resultado corresponde al arreglo sin borde para que se conserven las dimensiones de la imagen original\n",
    "    result = result_pad[a: -a, b: -b]\n",
    "    return result"
   ]
  },
  {
   "cell_type": "code",
   "execution_count": null,
   "id": "a5ccad48",
   "metadata": {
    "deletable": false,
    "nbgrader": {
     "cell_type": "code",
     "checksum": "53ead661c35370e9b2eeaf1217d9f341",
     "grade": false,
     "grade_id": "cell-8b9c01fad22daa56",
     "locked": false,
     "schema_version": 3,
     "solution": true,
     "task": false
    }
   },
   "outputs": [],
   "source": [
    "def gray_erosion(A, B):\n",
    "    # YOUR CODE HERE\n",
    "    raise NotImplementedError()\n",
    "    return result"
   ]
  },
  {
   "cell_type": "code",
   "execution_count": null,
   "id": "010bd440",
   "metadata": {
    "deletable": false,
    "editable": false,
    "nbgrader": {
     "cell_type": "code",
     "checksum": "a608c0327722158b81a4023bac3e64c2",
     "grade": true,
     "grade_id": "cell-1770b7697288cab5",
     "locked": true,
     "points": 1,
     "schema_version": 3,
     "solution": false,
     "task": false
    }
   },
   "outputs": [],
   "source": [
    "import skimage.io as io\n",
    "from matplotlib import pyplot as plt\n",
    "from skimage.morphology import disk, erosion, dilation\n",
    "\n",
    "fig,ax=plt.subplots(1,3,figsize=(10,10))\n",
    "image=io.imread('hand_x_ray.jpg',as_gray=True)\n",
    "eroded=gray_erosion(image,disk(5))\n",
    "sk_eroded=erosion(image,disk(5))\n",
    "\n",
    "ax[0].imshow(image)\n",
    "ax[0].axis('off')\n",
    "ax[0].set_title('Original')\n",
    "ax[1].imshow(eroded)\n",
    "ax[1].axis('off')\n",
    "ax[1].set_title('Erosion propia')\n",
    "ax[2].imshow(sk_eroded)\n",
    "ax[2].axis('off')\n",
    "ax[2].set_title('Erosion skimage')\n",
    "plt.show()\n",
    "\n",
    "assert eroded.shape[0]==image.shape[0] and eroded.shape[1]==image.shape[1], 'La erosión debe preservar las dimensiones originales'\n",
    "assert np.mean(eroded-sk_eroded)<0.01, 'La erosión propia no se parece lo suficiente a la de skimage'"
   ]
  },
  {
   "cell_type": "markdown",
   "id": "20d5b1fd",
   "metadata": {
    "deletable": false,
    "editable": false,
    "nbgrader": {
     "cell_type": "markdown",
     "checksum": "e4866af89defd854106d7e76b7afed91",
     "grade": false,
     "grade_id": "cell-ca1aef1dcd255b5b",
     "locked": true,
     "schema_version": 3,
     "solution": false,
     "task": false
    }
   },
   "source": [
    "### Erosión geodesica\n",
    "La erosión geodesica en escala de grises es similar a la realizada en binario, sin embargo, ya no usaremos como mascara una imagen binaria sino otra imagen en escala de grises. En este caso no usaremos la intesección entre la mascara y la erosión sino la unión, es decir, no será un logical or sino un maximo pixel a pixel.\n",
    "\n",
    "En resumen, el procedimiento a seguir es el siguiente:\n",
    "\n",
    ">- Se erosiona la semilla\n",
    ">- Se obtiene el maximo pixel a pixel entre la imagen **original** y la erosión\n",
    ">- Se repite iterativamente hasta que la iteración anterior sea igual a la actual\n",
    "\n",
    "**Nota:** En escala de grises no se necesita usar un condicional.\n",
    "\n",
    "#### Ejercicio 2:\n",
    "Cree una función que haga la erosión geodesica de una imagen en escala de grises. Puede usar como plantilla la función realizada en el tutorial pasado."
   ]
  },
  {
   "cell_type": "code",
   "execution_count": null,
   "id": "a6594d36",
   "metadata": {
    "deletable": false,
    "nbgrader": {
     "cell_type": "code",
     "checksum": "a4d5e82b078a621743b055b041591ad4",
     "grade": false,
     "grade_id": "cell-61b2f6ef7c906367",
     "locked": false,
     "schema_version": 3,
     "solution": true,
     "task": false
    }
   },
   "outputs": [],
   "source": [
    "def Erosion_geodesica_gray(seed,mask,E1,max_iterations):\n",
    "    'seed (ndarray): Semilla para erosionar'\n",
    "    'mask (ndarray): Imagen original'\n",
    "    'E1 (ndarray): Elemento estructurante para erosionar'\n",
    "    'max_iterations (int): numero maximo de iteraciones'\n",
    "    # YOUR CODE HERE\n",
    "    raise NotImplementedError()\n",
    "    return result,iterations"
   ]
  },
  {
   "cell_type": "code",
   "execution_count": null,
   "id": "7b756624",
   "metadata": {
    "deletable": false,
    "editable": false,
    "nbgrader": {
     "cell_type": "code",
     "checksum": "8fcba210bd0778d6566f9725df3d224e",
     "grade": true,
     "grade_id": "cell-2b722fc395ead384",
     "locked": true,
     "points": 1,
     "schema_version": 3,
     "solution": false,
     "task": false
    }
   },
   "outputs": [],
   "source": [
    "fig,ax=plt.subplots(1,3,figsize=(10,10))\n",
    "image=io.imread('hand_x_ray.jpg',as_gray=True)\n",
    "clausura,iteraciones=Erosion_geodesica_gray(dilation(image,disk(4)),image,disk(1),1000)\n",
    "minimos=1-(image-clausura)\n",
    "\n",
    "ax[0].imshow(image)\n",
    "ax[0].axis('off')\n",
    "ax[0].set_title('Original')\n",
    "ax[1].imshow(clausura)\n",
    "ax[1].axis('off')\n",
    "ax[1].set_title('Apertura por reconstrucción')\n",
    "ax[2].imshow(minimos)\n",
    "ax[2].axis('off')\n",
    "ax[2].set_title('Elemento eliminados')\n",
    "plt.show()\n",
    "\n",
    "assert np.array_equal(np.max([erosion(clausura),image],axis=0),clausura) or iteraciones==1000, 'Seguramente salió antes de tiempo del while'\n",
    "assert np.isclose(np.sum(minimos),710006.46,0.01), 'Los minimos obtenidos por la erosión por reconstrucción son erroneos'"
   ]
  },
  {
   "cell_type": "markdown",
   "id": "0be76035",
   "metadata": {
    "deletable": false,
    "editable": false,
    "nbgrader": {
     "cell_type": "markdown",
     "checksum": "165cd8a027ca519b41cbcfcf4dc7f0f8",
     "grade": false,
     "grade_id": "cell-255e9104aea171ab",
     "locked": true,
     "schema_version": 3,
     "solution": false,
     "task": false
    }
   },
   "source": [
    "### Imposición de minimos\n",
    "Como vimos con anterioridad, la clausura por reconstrucción elimina elementos de la imagen que son menores a el elemento estructurante y que son oscuros. Estos pueden considerarse como los minimos locales donde el elemento estructurante no alcanza a entrar. Ahora, si deseamos imponer algunos minimos, es decir poner como minimos locales los puntos que determinamos, debemos usar una formula. La formula es la siguiente:\n",
    "\n",
    "$R_{min(f+a,fm)}^{\\varepsilon}(fm)$\n",
    "\n",
    "Donde fm es la imagen con minimos, min(f+a,fm) es el minimo pixel a pixel entre f+a y fm, $R_{min(f+a,fm)}^{\\varepsilon}(fm)$ es la erosión geodesica usando fm como semilla y el minimo entre f+a y fm como mascara. Para implementar esta función siga los siguientes pasos.\n",
    "\n",
    ">- Agregue a fm el valor de a, el resultado sera f1.\n",
    ">- Invierta fm, ya que los minimos a imponer son 1 en donde existen y 0 en donde no, debemos sacar el complemento para continuar el procedimiento.\n",
    ">- Sacamos el minimo pixel a pixel entre f1 y fm. Esta será la mascara.\n",
    ">- Realizamos la erosión geodesica usando fm como semilla, la mascara y el elemento estructurante E1."
   ]
  },
  {
   "cell_type": "code",
   "execution_count": null,
   "id": "90bd1aea",
   "metadata": {
    "deletable": false,
    "nbgrader": {
     "cell_type": "code",
     "checksum": "85302237a7f9e85f755b510608b59cf1",
     "grade": false,
     "grade_id": "cell-0f2c2d4732525180",
     "locked": false,
     "schema_version": 3,
     "solution": true,
     "task": false
    }
   },
   "outputs": [],
   "source": [
    "def Minim_imposicion(f,fm,E1,a,max_iterations):\n",
    "    'f (ndarray): Imagen original'\n",
    "    'fm (ndarray): Minimos a imponer'\n",
    "    'a (float): Valor a agregar a fm'\n",
    "    'E1 (ndarray): Elemento estructurante para erosion geodesica'\n",
    "    'max_iterations (int): numero maximo de iteraciones'\n",
    "    # YOUR CODE HERE\n",
    "    raise NotImplementedError()\n",
    "    return R"
   ]
  },
  {
   "cell_type": "code",
   "execution_count": null,
   "id": "e2e44dbf",
   "metadata": {
    "deletable": false,
    "editable": false,
    "nbgrader": {
     "cell_type": "code",
     "checksum": "d5d3836f86ea6c6dace917b676432068",
     "grade": false,
     "grade_id": "cell-85fa18ce228c720e",
     "locked": true,
     "schema_version": 3,
     "solution": false,
     "task": false
    }
   },
   "outputs": [],
   "source": [
    "fig,ax=plt.subplots(1,3,figsize=(10,10))\n",
    "image=io.imread('hand_x_ray.jpg',as_gray=True)\n",
    "minimos_=dilation(minimos>1.2,disk(10))\n",
    "minim_imposed=Minim_imposicion(image,minimos_,disk(1),0.01,10000)\n",
    "\n",
    "ax[0].imshow(image)\n",
    "ax[0].axis('off')\n",
    "ax[0].set_title('Original')\n",
    "ax[1].imshow(minim_imposed)\n",
    "ax[1].axis('off')\n",
    "ax[1].set_title('Minimos impuestos')\n",
    "ax[2].imshow(minimos_)\n",
    "ax[2].axis('off')\n",
    "ax[2].set_title('Marcadores')\n",
    "plt.show()"
   ]
  },
  {
   "cell_type": "code",
   "execution_count": null,
   "id": "785d3786",
   "metadata": {
    "deletable": false,
    "editable": false,
    "nbgrader": {
     "cell_type": "code",
     "checksum": "4df946d950c978c7125a1fa1560bd48a",
     "grade": true,
     "grade_id": "cell-36c238810ee63e93",
     "locked": true,
     "points": 1,
     "schema_version": 3,
     "solution": false,
     "task": false
    }
   },
   "outputs": [],
   "source": [
    "assert not np.sum(minim_imposed*minimos_), 'Los minimos estan mal puestos'\n",
    "assert not np.mean(((minimos_*image)+np.min([image,minim_imposed],axis=0))-image), 'La imposición de minimos solo deben alterar las semillas puestas y el resto de minimos, no la imagen original'"
   ]
  }
 ],
 "metadata": {
  "kernelspec": {
   "display_name": "Python 3 (ipykernel)",
   "language": "python",
   "name": "python3"
  },
  "language_info": {
   "codemirror_mode": {
    "name": "ipython",
    "version": 3
   },
   "file_extension": ".py",
   "mimetype": "text/x-python",
   "name": "python",
   "nbconvert_exporter": "python",
   "pygments_lexer": "ipython3",
   "version": "3.11.4"
  }
 },
 "nbformat": 4,
 "nbformat_minor": 5
}
