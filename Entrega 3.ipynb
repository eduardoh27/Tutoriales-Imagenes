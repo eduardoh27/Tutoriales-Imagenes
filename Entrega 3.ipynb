{
 "cells": [
  {
   "cell_type": "markdown",
   "id": "89078fa3",
   "metadata": {},
   "source": [
    "# Entrega 3\n",
    "En esta ultima entrega realizaremos unos algoritmos un poco mas avanzados que podemos usar para hacer segmentación. Inicialmente usaremos el algorimto de watersheds donde podremos hacer nosotros una primera aproximación y tener claridad de como usarlo. Mas adelante usaremos las semillas de dos formas diferentes: con h-minimos e imponiendo marcadores. Despues de usar watersheds vamos a hacer segmentación usando una estrategia de clasificación y es clasificar super-pixeles usando el vecino mas cercano. Finalmente dependiendo de que logremos en esta entrega y lo que hayamos logrado en la entrega pasada haremos la prueba.\n",
    "\n",
    "## Parte 1: Watersheds\n",
    "Inicialmente usaremos watersheds o la linea divisoria de aguas. Como saben este algoritmo es basado en una imagen de 2 dimensiones y no un volumen. Sin embargo, si trasladamos los principios que están en dos dimensiones y pensamos en nuestro volumen en 3 dimensiones donde las intensidades son porosidad, densidad o temperatura (que son las interpretaciones que para ustedes pueden resultar mas intuitivas) podemos hacer watersheds en 3 dimensiones.\n",
    "\n",
    "### 1.1 Watersheds \n",
    "Inicalmente lo que haremos será dividir usando watersheds sin muchos problema, aqui obtendremos nuestras semillas de forma automatica. Lo que nos va a importar en esta primera parte es encontrar lo que serán nuestros bordes.\n",
    "\n",
    "Si recordamos bien la forma mas facil de sacar los bordes es usando los filtros de bordes de sobel, sin embargo, estos estan pensados para ser usados en imagenes, no en volumen. Si bien podríamos, por ejemplo, filtrar cada corte, esto desaprovecharía la informacion adyasente en una de las dimensiones. Por esto, vamos a obtener la informacion de los bordes mediante el uso del gradiente morfologico. Este operador, está pensado originalment en 2 dimensiones pero puede ser usado facilmente en un volumen al cambiar nuestro elemento estructurante de ser 2D a ser 3D. Así podemos usar el mismo principio para tener en cuenta el gradiente en todas las direcciones.\n",
    "\n",
    "Lo que primero vamos a hacer será justamente calcular este gradiente en 3D, notemos que si la funcion que realizamos del gradiente morfológico en el tutorial de la semana 7 la hicimos de forma correcta vamos a lograr tener ya una funcion que nos realice el gradiente morfológico incluso en 3D. Por esto usaremos la misma función, en caso que su función no sirva para hacer la operación en 3D."
   ]
  },
  {
   "cell_type": "code",
   "execution_count": null,
   "id": "36dbb296",
   "metadata": {
    "deletable": false,
    "nbgrader": {
     "cell_type": "code",
     "checksum": "62c618146ebcca96e54d8c22bd71a855",
     "grade": false,
     "grade_id": "cell-ffb90b45f177a84a",
     "locked": false,
     "schema_version": 3,
     "solution": true,
     "task": false
    }
   },
   "outputs": [],
   "source": [
    "from skimage.morphology import dilation,erosion,opening, closing\n",
    "borders = '' #Variable que tendrá los bordes del volumen 1 de entrenamiento \n",
    "element = '' #Variable que tendrá un elemento estructurante de esfera de radio 5\n",
    "def morph_gradient(gray_img,EE):\n",
    "    # YOUR CODE HERE\n",
    "    raise NotImplementedError()\n",
    "# YOUR CODE HERE\n",
    "raise NotImplementedError()"
   ]
  },
  {
   "cell_type": "code",
   "execution_count": null,
   "id": "6f9f0441",
   "metadata": {
    "deletable": false,
    "editable": false,
    "nbgrader": {
     "cell_type": "code",
     "checksum": "65c6f979bba6c71a1976dc2258d53af3",
     "grade": true,
     "grade_id": "cell-cc386fb2d3d1fca8",
     "locked": true,
     "points": 0.15,
     "schema_version": 3,
     "solution": false,
     "task": false
    }
   },
   "outputs": [],
   "source": [
    "import numpy as np\n",
    "assert borders.shape == (512,512,123), f'Alteró el tamaño de su volumen, debe ser (512,512,123) no {borders.shape}'\n",
    "assert len(element.shape)==3,f'su elemento estructurante debería tener 3 dimensiones, no {len(element.shape)}'\n",
    "assert element.shape==(11,11,11),f'su elemento estructurante está definido erroneamente su tamaño debe ser (512,512,2), no {element.shape}'\n",
    "assert len(np.unique(element))==2, f'su elemento estructurante solo debería tener 2 valores, no {len(np.unique(element))}'\n",
    "assert np.min(borders)>=0 and np.max(borders)<=1 ,f'el rango de su borde debería estar entre 0 y 1, no entre {np.min(borders)} y {np.max(borders)}'"
   ]
  },
  {
   "cell_type": "markdown",
   "id": "5bb23932",
   "metadata": {
    "deletable": false,
    "editable": false,
    "nbgrader": {
     "cell_type": "markdown",
     "checksum": "ad303fa4fb667d7280214fb7e041f334",
     "grade": false,
     "grade_id": "cell-b651a5bf842b1519",
     "locked": true,
     "schema_version": 3,
     "solution": false,
     "task": false
    }
   },
   "source": [
    "Ahora que ya tenemos el **gradiente morfológico** sabemos que este al final será nuestra imagen sobre la que vamos a usar watersheds. Para esto entonces use la funcion de skimage.segmentation(https://scikit-image.org/docs/stable/api/skimage.segmentation.html#skimage.segmentation.watershed) para realizar este procedimiento sobre el gradiente que ya calculó."
   ]
  },
  {
   "cell_type": "code",
   "execution_count": null,
   "id": "614296e0",
   "metadata": {
    "deletable": false,
    "nbgrader": {
     "cell_type": "code",
     "checksum": "fb3156af2a5837b4d7188799b93b0760",
     "grade": false,
     "grade_id": "cell-f070e28446f68b87",
     "locked": false,
     "schema_version": 3,
     "solution": true,
     "task": false
    }
   },
   "outputs": [],
   "source": [
    "watersheds_org = '' #variable que tendrá el resultado de hacer watersheds sin marcadores\n",
    "# YOUR CODE HERE\n",
    "raise NotImplementedError()"
   ]
  },
  {
   "cell_type": "code",
   "execution_count": null,
   "id": "22962aaa",
   "metadata": {
    "deletable": false,
    "editable": false,
    "nbgrader": {
     "cell_type": "code",
     "checksum": "835f6f37289b8f763c09a9e460e77506",
     "grade": true,
     "grade_id": "cell-57c054aad2df8dca",
     "locked": true,
     "points": 0.15,
     "schema_version": 3,
     "solution": false,
     "task": false
    }
   },
   "outputs": [],
   "source": [
    "assert watersheds_org.shape == (512,512,123), f'Alteró el tamaño de su volumen de watersheds, debe ser (512,512,123) no {watersheds_org.shape}'\n",
    "assert watersheds_org.dtype=='int32' ,f'su volumen debería ser de tipo int 32 no {watersheds_org.dtype}'"
   ]
  },
  {
   "cell_type": "markdown",
   "id": "53c09c4e",
   "metadata": {
    "deletable": false,
    "editable": false,
    "nbgrader": {
     "cell_type": "markdown",
     "checksum": "fba46aec3067725fa7f9ee231a569963",
     "grade": false,
     "grade_id": "cell-671faad62e721923",
     "locked": true,
     "schema_version": 3,
     "solution": false,
     "task": false
    }
   },
   "source": [
    "Visualice su volumen en almenos 2 cortes para ver lo que está sucediendo. Ademas, revise cuantos segmentos hay en total en el volumen."
   ]
  },
  {
   "cell_type": "code",
   "execution_count": null,
   "id": "ee95b598",
   "metadata": {},
   "outputs": [],
   "source": []
  },
  {
   "cell_type": "markdown",
   "id": "0037e65e",
   "metadata": {
    "deletable": false,
    "editable": false,
    "nbgrader": {
     "cell_type": "markdown",
     "checksum": "174eb0da6780fef8b6ab6ecc4fa90e12",
     "grade": false,
     "grade_id": "cell-ab9dfdf0db62e73a",
     "locked": true,
     "schema_version": 3,
     "solution": false,
     "task": false
    }
   },
   "source": [
    "### 1.2 h-minimos\n",
    "Ahora, si vemos las estadisticas y la imagen que obtuvimos de la ultima celda de la subseccion anterior nos daremos cuenta que tenemos una sobresegmentación bastante considerable. Esto es debido a que estamos usando los minimos locales en toda la imagen. En esta nueva parte vamos a querer usar lo que son h-minimos, estos como saben nos van a ayudar a disminuir el efecto de la sobresegmentación por lo cual sacaremos los h-minimos con la funcion de ```skimage.morphology``` (https://scikit-image.org/docs/stable/api/skimage.morphology.html#skimage.morphology.h_minima). Sace los h minimos del gradiente morfológico."
   ]
  },
  {
   "cell_type": "code",
   "execution_count": null,
   "id": "dc6261ac",
   "metadata": {
    "deletable": false,
    "nbgrader": {
     "cell_type": "code",
     "checksum": "be7a776837281a99043b20d27d2fa4d2",
     "grade": false,
     "grade_id": "cell-65e940ad4dd32cde",
     "locked": false,
     "schema_version": 3,
     "solution": true,
     "task": false
    }
   },
   "outputs": [],
   "source": [
    "minima = ''#Variable que contendrá los h-minimos\n",
    "# YOUR CODE HERE\n",
    "raise NotImplementedError()"
   ]
  },
  {
   "cell_type": "code",
   "execution_count": null,
   "id": "ac6b23f3",
   "metadata": {
    "deletable": false,
    "editable": false,
    "nbgrader": {
     "cell_type": "code",
     "checksum": "04ca88178a92e6c43737b2969399cb4f",
     "grade": true,
     "grade_id": "cell-7ec54ae4fff40821",
     "locked": true,
     "points": 0.1,
     "schema_version": 3,
     "solution": false,
     "task": false
    }
   },
   "outputs": [],
   "source": [
    "assert minima.shape == (512,512,123), f'Alteró el tamaño de su volumen de minimos, debe ser (512,512,123) no {minima.shape}'\n",
    "assert minima.dtype=='uint8' ,f'su volumen debería ser de tipo uint8 no {minima.dtype}'\n",
    "assert len(np.unique(minima))==2,f'sus minimos solo deberían tener 2 valores, no {len(np.unique(minima))}'"
   ]
  },
  {
   "cell_type": "markdown",
   "id": "d0bfdd6e",
   "metadata": {
    "deletable": false,
    "editable": false,
    "nbgrader": {
     "cell_type": "markdown",
     "checksum": "0da07e676dd3cf6baaabeb1e04b4d2b7",
     "grade": false,
     "grade_id": "cell-558d80f1c63ef5d2",
     "locked": true,
     "schema_version": 3,
     "solution": false,
     "task": false
    }
   },
   "source": [
    "Ahora que ya hicimos el proceso de extracción de los h-minimos, si nos damos cuenta estos siguen teniendo unicamente valores de 1 y 0 por lo cual tendremos que usar la funcion ```label``` de la misma librería que hemos usado hasta el momento.(https://scikit-image.org/docs/stable/api/skimage.morphology.html#label) \n",
    "\n",
    "Esta lo que hará será permitirnos que temgamos un valor diferente para cada uno de las semillas, de modo que al entrar en watersheds generen segmentos diferentes"
   ]
  },
  {
   "cell_type": "code",
   "execution_count": null,
   "id": "64bd2d24",
   "metadata": {
    "deletable": false,
    "nbgrader": {
     "cell_type": "code",
     "checksum": "95b4f3515bb5c3d106ca4e2bd95bcd44",
     "grade": false,
     "grade_id": "cell-8aa4684046d3c84e",
     "locked": false,
     "schema_version": 3,
     "solution": true,
     "task": false
    }
   },
   "outputs": [],
   "source": [
    "markers = ''# Variable que tendrá los marcadores con sus respectivos labels\n",
    "watersheds_h = '' #variable que tendrá el resultado de hacer watersheds\n",
    "# YOUR CODE HERE\n",
    "raise NotImplementedError()"
   ]
  },
  {
   "cell_type": "code",
   "execution_count": null,
   "id": "7e42754d",
   "metadata": {
    "deletable": false,
    "editable": false,
    "nbgrader": {
     "cell_type": "code",
     "checksum": "c640afa47d5609cbd8d1794675398cb8",
     "grade": true,
     "grade_id": "cell-04f0824a6d51493a",
     "locked": true,
     "points": 0.1,
     "schema_version": 3,
     "solution": false,
     "task": false
    }
   },
   "outputs": [],
   "source": [
    "assert markers.shape == (512,512,123), f'Alteró el tamaño de su volumen de minimos, debe ser (512,512,123) no {markers.shape}'\n",
    "assert markers.dtype=='int64' ,f'su volumen de marcadores debería ser de tipo int64 no {markers.dtype}'\n",
    "assert watersheds_h.shape == (512,512,123), f'Alteró el tamaño de su volumen de watersheds, debe ser (512,512,123) no {watersheds_h.shape}'\n",
    "assert watersheds_h.dtype=='int32' ,f'su volumen de watersheds debería ser de tipo int32 no {watersheds_h.dtype}'\n",
    "assert len(np.unique(markers))-1==len(np.unique(watersheds_h)),f'sus minimos y su resultado de watersheds no tienen los mismos valores {len(np.unique(markers))} y{len(np.unique(watersheds_h))}'"
   ]
  },
  {
   "cell_type": "markdown",
   "id": "22ebf8d8",
   "metadata": {
    "deletable": false,
    "editable": false,
    "nbgrader": {
     "cell_type": "markdown",
     "checksum": "c29a7b30ec8815d229b0ca5bde8fdfa1",
     "grade": false,
     "grade_id": "cell-671fa62e721923",
     "locked": true,
     "schema_version": 3,
     "solution": false,
     "task": false
    }
   },
   "source": [
    "Otra vez, visualice su volumen en almenos 2 cortes para ver lo que está sucediendo"
   ]
  },
  {
   "cell_type": "code",
   "execution_count": null,
   "id": "9effaba4",
   "metadata": {},
   "outputs": [],
   "source": []
  },
  {
   "cell_type": "markdown",
   "id": "3bce661f",
   "metadata": {},
   "source": [
    "### 1.3 Marcadores impuestos\n",
    "Ahora, vimos que h-minimos si bien nos ayuda a que tengan un mejor resultado ya que hay una menor cantidad de segmentos estos siguen siendo mas de los que necesitamos por lo que unicamente queremos dos segmentos. Por esto vamos a realmente hacer un cambio de estos labels.\n",
    "\n",
    "#### 1.3.1: Clasificación de semillas\n",
    "Pudimos observar que cada región creada por watersheds tiene una label distinta establecida por la label original de su respectiva semilla. Esto quiere decir que las zonas cuya semilla tiene una misma label, tendrán la misma label una vez realzado watersheds. Usaremos esta idea de clasificar semillas con el fin de crear zonas con mayor robustes de pertenecer al higado. \n",
    "\n",
    "Como debemos recordar, las tareas de clasificación supervisada requieren etiquetas para el entrenamiento. En nuestro caso, tenemos labels de cada voxel de los volumenes, y su pertenencia o no al higado. Basicamente tenemos una liste enorme de datos que pertenecen a higado y datos que no. Ahora, requerimos un modelo de clasificación, una forma de determinar que elementos pertenecen y cuales no al higado, una metodología sencilla de determinar esto es el vecino más cercano. \n",
    "\n",
    "**Vecino más cercano:** Si contamos con una base de datos amplia y etiquetada, donde sabemos que un dato con determinadas caracteristicas pertenece a una clase, para saber la pertenencia de un nuevo dato de entrada a una clase especifica solo debemos calcular la distancia de nuestro nuevo dato a todos los datos de entrenamiento. Luego, seleccionamos el dato de menor distancia a nuestro nuevo dato y le asignamos la etiqueta del dato de entrenamiento. En este caso, las caracteristicas de los datos son numeros y las distancias que usaremos para comparar será la distancia euclideana:\n",
    "\n",
    "$D=\\sqrt{(a_{1}-b_{1})^{2}+(a_{2}-b_{2})^{2}+...+(a_{n}-b_{n})^{2}}$\n",
    "\n",
    "Done $a_{1},...,a_{n}$ son las dimensiones del vector de caracteristicas de los datos de entrenamiento y $b_{1},...,b_{n}$ son las dimensiones del vector de caracteristicas del nuevo dato.\n",
    "\n",
    "**Vector de caracteristicas:** Una forma de representar nuestros datos son mediante un vector, donde cada dimensión corresponde a una caracteristica del dato. Por ejemplo, si tuvieramos que representar a una persona mediante un vector, alguna dimensión puede guardar la información de la edad, la altura, el promedio de carrera, etc. En nuestro caso, nuestros datos son voxeles y las caracteristicas que usaremos para representar nuestros datos serán las intensidades. Sin embargo, usar solo un valor de intensidad para clasificar un voxel es una mala idea. Podemos, en cambio, usar un histograma de intensidades en la vecindad del voxel. \n",
    "\n",
    "Lo primero que debemos hacer es realizar una función de vecino más cercano. Esta función recibirá como parametro una tupla de arreglos de datos de entrenamiento y una lista de vectores a predecir. La tupla de datos de entrenamiento tendrá de primer valor el vector de caracteristicas y de segundo valor un vector de etiquetas. La función debe retornar un vector de etiquetas del mismo tamaño de la cantidad de vectores a predecir."
   ]
  },
  {
   "cell_type": "code",
   "execution_count": null,
   "id": "3d1f2d10",
   "metadata": {
    "deletable": false,
    "nbgrader": {
     "cell_type": "code",
     "checksum": "45596e03163f9f75b307aa5f4808f5fd",
     "grade": false,
     "grade_id": "cell-eefc140caa950d13",
     "locked": false,
     "schema_version": 3,
     "solution": true,
     "task": false
    }
   },
   "outputs": [],
   "source": [
    "import numpy as np\n",
    "from skimage.measure import label\n",
    "\n",
    "def NN(train_data,predict):\n",
    "    # YOUR CODE HERE\n",
    "    raise NotImplementedError()\n",
    "    return predict_vector"
   ]
  },
  {
   "cell_type": "code",
   "execution_count": null,
   "id": "7d576a71",
   "metadata": {
    "deletable": false,
    "editable": false,
    "nbgrader": {
     "cell_type": "code",
     "checksum": "ba3ab9d18450610b51a111bade2da5f8",
     "grade": false,
     "grade_id": "cell-ce088ba4ae90c588",
     "locked": true,
     "schema_version": 3,
     "solution": false,
     "task": false
    }
   },
   "outputs": [],
   "source": [
    "train_data=([[0,0],[0,1],[1,0],[1,1]],[0,0,1,1])\n",
    "predict=[[0,0.5],[1,0.5],[0.7,0],[0.3,0]]\n",
    "predict_vector=NN(train_data,predict)"
   ]
  },
  {
   "cell_type": "code",
   "execution_count": null,
   "id": "83038f81",
   "metadata": {
    "deletable": false,
    "editable": false,
    "nbgrader": {
     "cell_type": "code",
     "checksum": "8a439f5fe6ba17168a0c8bcf1d363c98",
     "grade": false,
     "grade_id": "cell-d4d5fb87609e1e08",
     "locked": true,
     "schema_version": 3,
     "solution": false,
     "task": false
    }
   },
   "outputs": [],
   "source": [
    "predict_vector"
   ]
  },
  {
   "cell_type": "code",
   "execution_count": null,
   "id": "2aa2ea31",
   "metadata": {
    "deletable": false,
    "editable": false,
    "nbgrader": {
     "cell_type": "code",
     "checksum": "ef6e5eea3c83c3cff3894b9af63d0b68",
     "grade": true,
     "grade_id": "cell-405a3ffad0936807",
     "locked": true,
     "points": 0.1,
     "schema_version": 3,
     "solution": false,
     "task": false
    }
   },
   "outputs": [],
   "source": [
    "assert len(predict_vector)==len(predict)\n",
    "assert not np.sum(predict_vector-np.array([0,1,1,0])), 'Sus predicciones fueron erroneas'"
   ]
  },
  {
   "cell_type": "markdown",
   "id": "2790ef61",
   "metadata": {},
   "source": [
    "#### 1.3.2: Datos de entrenamiento\n",
    "Como dijimos anteriormente, usaremos voxeles de los volumenes de entrenamiento para entrenar nuestro clasificador. Para ello debemos sacar algunas muestras de nuestros datos, no podemos usarlos todos. Les daremos una función que entre por parametro el fold sobre el que sacaremos los voxeles (train, valid o test) junto con la cantidad de bins que usaremos para el histograma de intensidades de la vecindad, usaremos una vecindad de 3x3x3 al rededor del voxel. Esta función retorna una tupla de listas, la primera lista es de datos (el histograma de intensidades) y el segundo es de etiquetas (0 o 1 según la etiqueta dada en el volumen de segmentación). Debe retornar una cantidad minima de 1000 voxeles seleccionados aleatoriamente de cada volumen de entrenamiento (3000 voxeles en total) y un minimo de 100 voxeles positivos de cada volumen."
   ]
  },
  {
   "cell_type": "code",
   "execution_count": null,
   "id": "0ef70b89",
   "metadata": {
    "deletable": false,
    "editable": false,
    "nbgrader": {
     "cell_type": "code",
     "checksum": "8b4252ab8f3b204d0e8ee8074b565a54",
     "grade": false,
     "grade_id": "cell-93092f88428745fa",
     "locked": true,
     "schema_version": 3,
     "solution": false,
     "task": false
    }
   },
   "outputs": [],
   "source": [
    "from glob import glob\n",
    "from tqdm import tqdm\n",
    "\n",
    "seed=np.random.seed(0)\n",
    "\n",
    "def voxels_train(fold,bins):\n",
    "    \n",
    "    paths_v=glob(os.path.join('DB',fold,'volume*'))\n",
    "    paths_s=glob(os.path.join('DB',fold,'segmentation*'))\n",
    "    v=[]\n",
    "    l=[]\n",
    "    for i,pv in tqdm(enumerate(paths_v)):\n",
    "        vol=nib.load(pv).get_fdata()\n",
    "        seg=nib.load(paths_s[i]).get_fdata()>0\n",
    "        x,y,z=vol.shape\n",
    "        while np.sum(l)<100*(i+1):\n",
    "            r1=np.random.randint(3,x-3)\n",
    "            r2=np.random.randint(3,y-3)\n",
    "            r3=np.random.randint(3,z-3)\n",
    "            etiqueta=seg[r1,r2,r3]\n",
    "            if etiqueta:\n",
    "                etiqueta=1\n",
    "            else:\n",
    "                etiqueta=0\n",
    "            if len(l)<1000*(i+1) or etiqueta==1:\n",
    "                h,_=np.histogram(vol[r1-1:r1+2,r2-1:r2+2,r3-1:r3+2],bins=bins)\n",
    "                v.append(h)\n",
    "                l.append(etiqueta)\n",
    "    \n",
    "    return (v,l)\n",
    "            "
   ]
  },
  {
   "cell_type": "code",
   "execution_count": null,
   "id": "771193ed",
   "metadata": {
    "deletable": false,
    "editable": false,
    "nbgrader": {
     "cell_type": "code",
     "checksum": "613d9dd8a022e8d540168083d29a885e",
     "grade": false,
     "grade_id": "cell-031c1bb29a6abb0c",
     "locked": true,
     "schema_version": 3,
     "solution": false,
     "task": false
    }
   },
   "outputs": [],
   "source": [
    "train_data_total=voxels_train('train',27)"
   ]
  },
  {
   "cell_type": "code",
   "execution_count": null,
   "id": "bdb13709",
   "metadata": {
    "deletable": false,
    "editable": false,
    "nbgrader": {
     "cell_type": "code",
     "checksum": "2e6bcac9db5654424dec2c36e8b0706a",
     "grade": false,
     "grade_id": "cell-c7bc9b428e596739",
     "locked": true,
     "schema_version": 3,
     "solution": false,
     "task": false
    }
   },
   "outputs": [],
   "source": [
    "etiquetas,cuenta=np.unique(train_data_total[1],return_counts=True)\n",
    "assert np.isclose(np.sum(np.array(train_data_total[1])==1),300,0.1), f'Debería tener 300 datos positivos en su muestra y tiene {np.sum(train_data_total[1]==1)}'\n",
    "assert len(etiquetas)==2, 'Solo deberíamos tener 2 etiquetas en la muestra'\n",
    "assert np.max(etiquetas)==1 and np.min(etiquetas)==0, 'La maxima etiqueta debe ser 1 y la minima 0'\n",
    "assert len(train_data_total[0])>3000, f'Su muestra debe tener al menos 3000 datos y tiene {len(train_data_total[0])}'\n",
    "assert len(train_data_total[0][0])==27, 'Si se hizo un histograma de 27 bins, la dimensión del vector de caracteristicas debe ser 27'"
   ]
  },
  {
   "cell_type": "markdown",
   "id": "71927187",
   "metadata": {
    "deletable": false,
    "editable": false,
    "nbgrader": {
     "cell_type": "markdown",
     "checksum": "42cf3ddf336070f34960174ff700aef5",
     "grade": false,
     "grade_id": "cell-31ab240b803c2fc1",
     "locked": true,
     "schema_version": 3,
     "solution": false,
     "task": false
    }
   },
   "source": [
    "Ahora, clasificar voxeles es una muy mala idea sabiendo la cantidad de datos que contiene un volumen. En cambio lo que haremos será seleccionar un punto adentro y un punto afuera del higado para realizar la segmentación usando watersheds. Los puntos no los buscaremos nostros, sino que usaremos unos voxeles que potencialmente contengan más información, en este caso usaremos los volumenes de h minima creados anteriormente. Adicionalmente, gracias a nuestro conocimiento del organo de interes, vamos a seleccionar unicamente algunas semillas que cumplan ciertas condiciones, esto con el fin de disminuir el peso computacional y aumentar la robustes del modelo. Las semillas que tendremos en cuenta son las que cumplan las las siguientes condiciones:\n",
    "\n",
    "**Para las semillas positivas**\n",
    "Usaremos nuestra función de segmentación por elemento conexo más grande 2D creado en anteriores entregas y crearemos un volumen de segmentación a priori. Es decir, un volumen segmentado a la primera que puede tener muchos errores pero que ya conocemos que muchos de sus voxeles si pertenecen al higado.\n",
    "\n",
    ">- Las semillas creadas por h-minima que pertenezcan a su vez al volumen de segmentación a priori.\n",
    ">- Las semillas que se encuentren unicamente en el slice 65 **axial**.\n",
    ">- Consideramos positivas las semillas si cumplen las condiciones anteriores y su vecino más cercano en nuestra muestra de entrenamiento tiene una etiqueta de 1.\n",
    "\n",
    "**Para las semillas negativas**\n",
    "Sabemos que nuestros voxeles que no pertenecen al higado no tendrán intensidades superiores a 0.7, lo vimos en los hitogramas de la entrega pasada. Sin embargo, tampoco queremos quedarnos con semillas que solo sean el fondo de la resonancia, es decir que su intensidad sea 0.\n",
    "\n",
    ">- La semilla creada por h-minima tiene una intesidad en el **volumen original** (sobre el que se calculó el h-minima) mayor a 0.1 y menor a 0.7.\n",
    ">- Las semillas que se encuentren unicamente en el slice 65 **axial**.\n",
    ">- Consideramos negativas las semillas si cumplen las condiciones anteriores y su vecino más cercano en nuestra muestra de entrenamiento tiene una etiqueta de 0.\n",
    "\n",
    "Debemos recordar que nuestro volumen de H minima es un volumen donde todo es 0 menos en los voxeles marcados, que tienen una intensidad de 1. Cree una matriz de 0s del tamaño de la resonancia, recorra su volumen de H minima en el slice 65 buscando los voxeles cuya intensidad es 1. \n",
    "\n",
    "> Si el voxel i,j del **volumen H minima** pertenece a el **volumen de segmentación a priori**, prediga su etiqueta con el clasificador NN, si la etiqueta es 1 entonces cambie la intensidad del voxel i,j en la **matriz de 0s** por un **2**.\n",
    "\n",
    "> Si el pixel i,j del **volumen H minima** no pertenece a el volumen de segmentación a priori y su intensidad en el volumen original es mayor a 0.2 y menor a 0.7, prediga su etiqueta con el clasificador NN, si la etiqueta es 0 entonces cambie la intensidad del voxel i,j en la matriz de 0s por un **1**. "
   ]
  },
  {
   "cell_type": "markdown",
   "id": "355743d0",
   "metadata": {},
   "source": [
    "**Nota:** Se le recomienda usar el gradiente morfologico usando una bola de radio 5 para el correcto desarrollo de este punto. Los H minimos se calculan sobre este volumen."
   ]
  },
  {
   "cell_type": "markdown",
   "id": "29c8e15e",
   "metadata": {
    "deletable": false,
    "editable": false,
    "nbgrader": {
     "cell_type": "markdown",
     "checksum": "6595caaf0540e2d8cd4c71203244ad6e",
     "grade": false,
     "grade_id": "cell-b8b70e6592d0a571",
     "locked": true,
     "schema_version": 3,
     "solution": false,
     "task": false
    }
   },
   "source": [
    "Use la siguiente celda para copiar sus funciones de segmentación"
   ]
  },
  {
   "cell_type": "code",
   "execution_count": null,
   "id": "5b395858",
   "metadata": {
    "deletable": false,
    "nbgrader": {
     "cell_type": "code",
     "checksum": "10ff936fc0c9dd08fb06416b794df9df",
     "grade": false,
     "grade_id": "cell-58d8069245faf686",
     "locked": false,
     "schema_version": 3,
     "solution": true,
     "task": false
    }
   },
   "outputs": [],
   "source": [
    "from tqdm import tqdm\n",
    "def Vol2D_max_component(Vol,umbral,operador):\n",
    "    # YOUR CODE HERE\n",
    "    raise NotImplementedError()\n",
    "    return segmentacion\n",
    "\n",
    "def max_component(Im,umbral,operador):\n",
    "    'Im (ndarray): Imagen a segmentar'\n",
    "    'umbral (float): Umbral a utilizar'\n",
    "    'operador (str): Puede ser \"mayor\" para > o \"menor\" para < segun se quiera umbralizar'\n",
    "    # YOUR CODE HERE\n",
    "    raise NotImplementedError()\n",
    "    return max_comp"
   ]
  },
  {
   "cell_type": "code",
   "execution_count": null,
   "id": "8c188f95",
   "metadata": {
    "deletable": false,
    "nbgrader": {
     "cell_type": "code",
     "checksum": "ccbf0e3e9f1407ef523f1523770cf621",
     "grade": false,
     "grade_id": "cell-356a647b25fdcd86",
     "locked": false,
     "schema_version": 3,
     "solution": true,
     "task": false
    }
   },
   "outputs": [],
   "source": [
    "#Creando el volumen a priori\n",
    "vol1='' #Volumen volume-1.nii\n",
    "segmentacion_priori=''#volumen de segmentación a priori\n",
    "seg1='' #Volumen segmentation-1.nii\n",
    "# YOUR CODE HERE\n",
    "raise NotImplementedError()"
   ]
  },
  {
   "cell_type": "code",
   "execution_count": null,
   "id": "ca2f3827",
   "metadata": {},
   "outputs": [],
   "source": [
    "plt.imshow(vol1[:,:,66])"
   ]
  },
  {
   "cell_type": "markdown",
   "id": "d2ba0ab0",
   "metadata": {
    "deletable": false,
    "editable": false,
    "nbgrader": {
     "cell_type": "markdown",
     "checksum": "7c38e73366e416c401195f794797775c",
     "grade": false,
     "grade_id": "cell-69531c3c01632729",
     "locked": true,
     "schema_version": 3,
     "solution": false,
     "task": false
    }
   },
   "source": [
    "Use la siguiente celda para obtener el volumen de semillas clasificadas."
   ]
  },
  {
   "cell_type": "code",
   "execution_count": null,
   "id": "febee9fc",
   "metadata": {
    "deletable": false,
    "nbgrader": {
     "cell_type": "code",
     "checksum": "90d266fc5aeb1bc80aa80c374da86242",
     "grade": false,
     "grade_id": "cell-31d4509739b09f0a",
     "locked": false,
     "schema_version": 3,
     "solution": true,
     "task": false
    }
   },
   "outputs": [],
   "source": [
    "negative=0 #Numero de negativos obtenidos\n",
    "positive=0 #Numero de positivos obtenidos\n",
    "minima2='' #Volumen de semillas clasificadas\n",
    "# YOUR CODE HERE\n",
    "raise NotImplementedError()"
   ]
  },
  {
   "cell_type": "markdown",
   "id": "86f7251f",
   "metadata": {
    "deletable": false,
    "editable": false,
    "nbgrader": {
     "cell_type": "markdown",
     "checksum": "4c20692ad2ea4f8b93d6b09485e92749",
     "grade": false,
     "grade_id": "cell-8df2b96680785f98",
     "locked": true,
     "schema_version": 3,
     "solution": false,
     "task": false
    }
   },
   "source": [
    "Visualice sus semillas en el volumen de bordes en ell slice 65. Las semillas son puntos asi que para visualizarlas mejor hagales una apertura **solo para visualizarlas**. Puede hacer slice+dilatacion(bordes)."
   ]
  },
  {
   "cell_type": "code",
   "execution_count": null,
   "id": "a2d19103",
   "metadata": {
    "deletable": false,
    "nbgrader": {
     "cell_type": "code",
     "checksum": "20266abacfb551b9de595298c047118f",
     "grade": false,
     "grade_id": "cell-8284ab4925c240e0",
     "locked": false,
     "schema_version": 3,
     "solution": true,
     "task": false
    }
   },
   "outputs": [],
   "source": [
    "# YOUR CODE HERE\n",
    "raise NotImplementedError()"
   ]
  },
  {
   "cell_type": "code",
   "execution_count": null,
   "id": "1f6d2aaf",
   "metadata": {
    "deletable": false,
    "editable": false,
    "nbgrader": {
     "cell_type": "code",
     "checksum": "1d411e66cdbae6719dada5debbf43110",
     "grade": true,
     "grade_id": "cell-af6b7d6b5c1f71c1",
     "locked": true,
     "points": 0.4,
     "schema_version": 3,
     "solution": false,
     "task": false
    }
   },
   "outputs": [],
   "source": [
    "etiquetas, cantidades= np.unique(minima2,return_counts=True)\n",
    "assert negative and positive, 'Deben haber más de un positivo y un negativo en sus semillas, de no ser así, intente obtener más minimos con h-minimos bajando el h'\n",
    "assert len(minima2.shape)==3, 'Las dimensiones del volumen de minima2 deberían ser 3'\n",
    "assert np.sum(minima2[:,:,65]), 'Las semillas deben estar en el slice 65 axial'\n",
    "assert len(etiquetas)==3, f'Deberían haber 3 etiquetas diferentes en el volumen de etiquetas clasificadas y son {len(etiquetas)}'\n",
    "assert np.max(etiquetas)==2, f'El valor de la etiqueta maxima debe ser 2 y es {np.max(etiquetas)}'\n",
    "assert np.min(etiquetas)==0, f'El valor de la etiqueta minima debe ser 0 y es {np.min(etiquetas)}'\n",
    "assert cantidades[0]>=1 and cantidades[1]>=1 and cantidades[2]>=1, 'Debería haber al menos una etiqueta de cada una en su volumen'\n",
    "\n",
    "indicesx,indicesy,indicesz=np.where(minima2==2)\n",
    "h,_=np.histogram(vol1[indicesx[0]-1:indicesx[0]+2,indicesy[0]-1:indicesy[0]+2,indicesz[0]-1:indicesz[0]+2],bins=27)\n",
    "result=NN(train_data_total,[h])\n",
    "assert result[0]==1, f'Usted asignó con la etiqueta 2 a una predicción de negativa, las predicciones negativas deben ser 1 y las positivas 2'\n",
    "\n",
    "indicesx,indicesy,indicesz=np.where(minima2==1)\n",
    "h,_=np.histogram(vol1[indicesx[0]-1:indicesx[0]+2,indicesy[0]-1:indicesy[0]+2,indicesz[0]-1:indicesz[0]+2],bins=27)\n",
    "result=NN(train_data_total,[h])\n",
    "assert result[0]==0, f'Usted asignó con la etiqueta 2 a una predicción de negativa, las predicciones negativas deben ser 1 y las positivas 2'"
   ]
  },
  {
   "cell_type": "markdown",
   "id": "14c001c5",
   "metadata": {},
   "source": [
    "Ahora, usando estas semillas, cree 2 volumenes segmentados diferentes usando watersheds. Use como imagen a segmentar, por un lado, el volumen de gradiente morfológico en escala de grises (volumen original) y, por otro lado, el volumen de gradiente morfológico binario (volumen segmentado). Luego de segmentar don watersehds, reste 1 a cada etiqueta."
   ]
  },
  {
   "cell_type": "code",
   "execution_count": null,
   "id": "53af21b2",
   "metadata": {
    "deletable": false,
    "nbgrader": {
     "cell_type": "code",
     "checksum": "c67df12e3fd9d98d443ee64ddfbf989a",
     "grade": false,
     "grade_id": "cell-3d0e0a61733d47df",
     "locked": false,
     "schema_version": 3,
     "solution": true,
     "task": false
    }
   },
   "outputs": [],
   "source": [
    "borders_binary='' #Volumen del gradiente morfológico binario\n",
    "borders='' #Volumen del gradiente morfológico en escala de grises\n",
    "# YOUR CODE HERE\n",
    "raise NotImplementedError()"
   ]
  },
  {
   "cell_type": "code",
   "execution_count": null,
   "id": "2491e611",
   "metadata": {},
   "outputs": [],
   "source": [
    "plt.imshow(borders[:,:,66])"
   ]
  },
  {
   "cell_type": "code",
   "execution_count": null,
   "id": "93b613b3",
   "metadata": {
    "deletable": false,
    "nbgrader": {
     "cell_type": "code",
     "checksum": "8acca3a084a44f08298139a5308b07bd",
     "grade": false,
     "grade_id": "cell-accef3edb6d3e36b",
     "locked": false,
     "schema_version": 3,
     "solution": true,
     "task": false
    }
   },
   "outputs": [],
   "source": [
    "new_segment_vol_binary='' #Volumen segmentado con watersheds usando gradiente binario\n",
    "new_segment_vol_gray='' #Volumen segmentado con watersheds usando gradiente grises\n",
    "# YOUR CODE HERE\n",
    "raise NotImplementedError()"
   ]
  },
  {
   "cell_type": "markdown",
   "id": "ceeb61a1",
   "metadata": {},
   "source": [
    "Evalue sus nuevos volumenes segmentados, visualizelos tambien ¿ve alguna diferencia?"
   ]
  },
  {
   "cell_type": "code",
   "execution_count": null,
   "id": "4133c454",
   "metadata": {
    "deletable": false,
    "nbgrader": {
     "cell_type": "code",
     "checksum": "aded7b59b61302dde5c1da5e661ad71d",
     "grade": false,
     "grade_id": "cell-02bfdc8afe76f7cc",
     "locked": false,
     "schema_version": 3,
     "solution": true,
     "task": false
    }
   },
   "outputs": [],
   "source": [
    "def Jaccard_3D(Im,Gt):\n",
    "    '''\n",
    "    :param Im: Volumen de prediccion.\n",
    "    :param Gt: Segmentacion groundtruth.\n",
    "    '''\n",
    "    # YOUR CODE HERE\n",
    "    raise NotImplementedError()\n",
    "    return J\n",
    "\n",
    "# YOUR CODE HERE\n",
    "raise NotImplementedError()"
   ]
  },
  {
   "cell_type": "code",
   "execution_count": null,
   "id": "24cac2d0",
   "metadata": {
    "deletable": false,
    "editable": false,
    "nbgrader": {
     "cell_type": "code",
     "checksum": "499c2692492542e5ef4a599eb81960b3",
     "grade": true,
     "grade_id": "cell-c6cd86592cd7f225",
     "locked": true,
     "points": 0.2,
     "schema_version": 3,
     "solution": false,
     "task": false
    }
   },
   "outputs": [],
   "source": [
    "assert len(np.unique(new_segment_vol_binary))==2, 'Solo debeían haber 2 etiquetas en su volumen de segmentación'\n",
    "assert len(np.unique(new_segment_vol_gray))==2, 'Solo debeían haber 2 etiquetas en su volumen de segmentación'\n",
    "assert np.max(new_segment_vol_binary)==1, 'El maximo de su volumen de segmentación debería ser 1'\n",
    "assert np.max(new_segment_vol_gray)==1, 'El maximo de su volumen de segmentación debería ser 1'\n",
    "assert np.min(new_segment_vol_binary)==0, 'El minimo de su volumen de segmentación debería ser 0'\n",
    "assert np.min(new_segment_vol_gray)==0, 'El minimo de su volumen de segmentación debería ser 0'\n",
    "assert Jaccard_3D(new_segment_vol_binary,seg1>0)>0.5, 'Su volumen seguramente fue mal segmentado, puede deberse a la clasificación de sus semillas'\n",
    "assert Jaccard_3D(new_segment_vol_gray,seg1>0)>0.2, 'Su volumen seguramente fue mal segmentado, puede deberse a la clasificación de sus semillas, intente usar un hminima de 0.01'"
   ]
  },
  {
   "cell_type": "markdown",
   "id": "b3cb6cd6",
   "metadata": {
    "deletable": false,
    "editable": false,
    "nbgrader": {
     "cell_type": "markdown",
     "checksum": "8d820331a85c322e442f4811dc1b6ee9",
     "grade": false,
     "grade_id": "cell-06445f1893fa983e",
     "locked": true,
     "schema_version": 3,
     "solution": false,
     "task": false
    }
   },
   "source": [
    "#### **Condicionar segmentos**\n",
    "La segunda estrategia que usaremos es condicionar el segmento ya hecho. Para esto lo que vamos a hacer es primero realizar watersheds con h_minima, y apenas tengamos nuestros fragmentos lo que realizaremos será recortar la segmentación del **volumen a priori** usado anteriormente y determinar que si mas de la mitad de los voxeles del segmento pertenecen a una clase consideraremos que todo el segmento pertenece a dicha clase. Al final de esto deberíamos quedar unicamente con 1s y 0s."
   ]
  },
  {
   "cell_type": "code",
   "execution_count": null,
   "id": "b9d39f6e",
   "metadata": {
    "deletable": false,
    "nbgrader": {
     "cell_type": "code",
     "checksum": "5f7e1cea5cef700e2c58175286180648",
     "grade": false,
     "grade_id": "cell-45113c28040d013a",
     "locked": false,
     "schema_version": 3,
     "solution": true,
     "task": false
    }
   },
   "outputs": [],
   "source": [
    "watersheds_imposed_seg='' #volumen segmentado condicionando segmentos\n",
    "watersheds_h='' #volumen sobresegmentado con watersheds y h minimos usando borders como mascara\n",
    "# YOUR CODE HERE\n",
    "raise NotImplementedError()"
   ]
  },
  {
   "cell_type": "code",
   "execution_count": null,
   "id": "98cd7a79",
   "metadata": {
    "deletable": false,
    "editable": false,
    "nbgrader": {
     "cell_type": "code",
     "checksum": "256f8e61ce740334978f1009d045fc57",
     "grade": true,
     "grade_id": "cell-05474575a2c52cea",
     "locked": true,
     "points": 0.1,
     "schema_version": 3,
     "solution": false,
     "task": false
    }
   },
   "outputs": [],
   "source": [
    "assert watersheds_imposed_seg.shape == (512,512,123), f'Alteró el tamaño de su volumen de segmentacion, debe ser (512,512,123) no {watersheds_imposed_seg.shape}'\n",
    "assert len(np.unique(watersheds_imposed_seg))==2,f'su volumen debería tener solo 1s y 0s de etiquetas, no deberia tener {np.unique(watersheds_imposed_seg)}'                                                   \n",
    "assert len(np.unique(watersheds_imposed_seg))!=1,f'su volumen tiene una unica etiqueta, revise los h que está usando'\n",
    "\n",
    "labels=np.unique(watersheds_h)\n",
    "etiqueta=(np.max(labels)-np.min(labels))//2\n",
    "\n",
    "valor=np.sum(segmentacion_priori*(watersheds_h==etiqueta))/np.sum(watersheds_h==etiqueta)\n",
    "\n",
    "assert (valor>=0.5 and np.sum((watersheds_h==etiqueta)*watersheds_imposed_seg)) or (valor<0.5 and not np.sum((watersheds_h==etiqueta)*watersheds_imposed_seg)), 'El segmento tiene mas voxeles positivos en el volumen a priori y se asignó la etiqueta equivocada o viseversa'"
   ]
  },
  {
   "cell_type": "markdown",
   "id": "079a158a",
   "metadata": {
    "deletable": false,
    "editable": false,
    "nbgrader": {
     "cell_type": "markdown",
     "checksum": "54d3153f346f0cad4be56b6221e07d37",
     "grade": false,
     "grade_id": "cell-17b22f8c16f7aeee",
     "locked": true,
     "schema_version": 3,
     "solution": false,
     "task": false
    }
   },
   "source": [
    "Ahora que ya tenemos esto vamos a compararlo con nuestro volumen de anotación y saquemos el indice de Jaccard"
   ]
  },
  {
   "cell_type": "code",
   "execution_count": null,
   "id": "cec6fe5e",
   "metadata": {},
   "outputs": [],
   "source": []
  },
  {
   "cell_type": "markdown",
   "id": "687a5e79",
   "metadata": {
    "deletable": false,
    "editable": false,
    "nbgrader": {
     "cell_type": "markdown",
     "checksum": "43a5e5efc96ba9ab80799d1e0f1d1859",
     "grade": false,
     "grade_id": "cell-7d10af818e87a183",
     "locked": true,
     "schema_version": 3,
     "solution": false,
     "task": false
    }
   },
   "source": [
    "## Parte 2: Super-pixeles\n",
    "Ahora, otro uso que tambien nos puede dar watersheds es permitirnos usar super pixeles. Esta es una aproximacion que se le puede hacer a la tarea de segmentación por medio de la clasificacion. El principio de esto es que basicamente se puede tomar la tarea de segmentacion como una tarea de clasificacion de pixeles, es decir, vamos a clasificar cada pixel como algo. Sin embargo, esta tarea puede tener una gran dificultad ya que un solo pixel aveces no nos da la informacion necesaria para poder determinar su etiqueta. De esta falla es que nacen los super pixeles. Con estos podemos tomar fragmentos completos de las imagenes y usarlos para así poder usar sus estadisticas para tomar una decisión, que resulta mejor que unicamente tomar en cuenta un solo pixel. "
   ]
  },
  {
   "cell_type": "markdown",
   "id": "d01ce7e7",
   "metadata": {
    "deletable": false,
    "editable": false,
    "nbgrader": {
     "cell_type": "markdown",
     "checksum": "ead2dd4fdac643bf383fff095e03df47",
     "grade": false,
     "grade_id": "cell-c8c03664c7ccf35f",
     "locked": true,
     "schema_version": 3,
     "solution": false,
     "task": false
    }
   },
   "source": [
    "### 2.1 Muestras de entrenamiento\n",
    "Ahora lo que haremos es la parte mas interesante del proceso y es sacar nuestras muestras de entrenamiento, ya que este será nuestro primer algoritmo supervisado. Lo que haremos será el siguiente proceso:\n",
    "- Segmentar nuestro volumen usando h-minimos\n",
    "- Para cada segmento recortaremos el volumen de anotacion.\n",
    "- Revisaremos si el recorte pertenece mas a higado o a fondo **segun el groundtruth**.\n",
    "- Creamos una lista de datos y una lista de etiquetas. El dato será el histograma NORMALIZADO del recorte y la etiqueta será 0 o 1 si el recorte pertenece mas al fondo o hígado respectivamente. Agregamos cada segmento a las listas.\n",
    "Esto lo repetiremos para los 3 volumenes de entrenamiento para sacar todas las muestras que necesitemos.\n",
    "\n",
    "#### 2.1.1 Obtención de segmentos\n",
    "Cree una función que entre como parametro el volumen original, volumen sobresegmentado, el volumen groundtruth, un numero de bins con el cual calcular el histograma y la etiqueta del segmento sobre la cual se desea calcular el hitograma. La función debe retornar una tupla (histograma,label). Donde histograma es el histograma del segmento con las intensidades del volumen original y label es la label del segmento."
   ]
  },
  {
   "cell_type": "code",
   "execution_count": null,
   "id": "11f9eb64",
   "metadata": {
    "deletable": false,
    "nbgrader": {
     "cell_type": "code",
     "checksum": "3574576d96a26fa05761bc8f66b29622",
     "grade": false,
     "grade_id": "cell-a98ba2ab75b1faa5",
     "locked": false,
     "schema_version": 3,
     "solution": true,
     "task": false
    }
   },
   "outputs": [],
   "source": [
    "def dato_unico(Vol,Vol_seg,Seg,bins,etiqueta):\n",
    "    'Vol (ndarray): Volumen original'\n",
    "    'Vol_seg (ndarray): Volumen sobresegmentado'\n",
    "    'Seg (ndarray): Volumen groundtruth binario'\n",
    "    'bins (int): Numero de bins para el histograma'\n",
    "    'etiqueta (int): Numero de la etiqueta del segmento a evaluar'\n",
    "    # YOUR CODE HERE\n",
    "    raise NotImplementedError()\n",
    "    return hist,label"
   ]
  },
  {
   "cell_type": "code",
   "execution_count": null,
   "id": "ea64d399",
   "metadata": {
    "deletable": false,
    "editable": false,
    "nbgrader": {
     "cell_type": "code",
     "checksum": "43944cbf73abc574a7769bb57151b635",
     "grade": true,
     "grade_id": "cell-fbb34fcc9f641de2",
     "locked": true,
     "points": 0.2,
     "schema_version": 3,
     "solution": false,
     "task": false
    }
   },
   "outputs": [],
   "source": [
    "segmentos_p=np.unique(watersheds_h[:,:,65]*seg1[:,:,65])\n",
    "h,l=dato_unico(vol1,watersheds_h,seg1,40,segmentos_p[1])\n",
    "h2,l2=dato_unico(vol1,watersheds_h,seg1,40,40)\n",
    "\n",
    "assert l==1, 'Este segmento debería tener etiqueta de 1'\n",
    "assert l2==0, 'Este segmento debería tener etiqueta de 0'\n",
    "assert np.sum(h2)==1 and np.sum(h)==1, 'Los histogramas no estan normalizados'\n",
    "assert len(h2)==40, 'La longitud del histograma debe ser igual a la cantidad de bins especificada'\n",
    "assert h[0]<0.5, 'No incluya el fondo en su histograma'"
   ]
  },
  {
   "cell_type": "markdown",
   "id": "25f887d0",
   "metadata": {},
   "source": [
    "#### 2.1.2 Segmentos por volumen\n",
    "Ya tenemos una función que nos retorna el histograma de un segmento y su etiqueta teniendo en cuenta el volumen de groundtruth. Ahora, cree una función que reciba por parametro el volumen original, el volumen segmentado, un hminimo y el numero de bins. Esta función debe sobresegmentar el volumen del gradiente morfologico (use una bola de radio 2 para esto) con los h minimos por parametro (no olvide usar la función labels para asignarle una etiqueta a cada segmento). Luego, obtener el histograma y la etiqueta de cada segmento usando la función *dato_unico* y poniendo cada valor en una lista. Esta función debe retornar una tupla (histogram_list,labels_list) donde histogram_list es una lista de histogramas de cada segmento y labels_list es una lista de etiquetas de cada segmento."
   ]
  },
  {
   "cell_type": "code",
   "execution_count": null,
   "id": "2316b9b0",
   "metadata": {
    "deletable": false,
    "nbgrader": {
     "cell_type": "code",
     "checksum": "05e7ecd2af2355d0edeec8de296283c5",
     "grade": false,
     "grade_id": "cell-37e9b8ee3b759a2a",
     "locked": false,
     "schema_version": 3,
     "solution": true,
     "task": false
    }
   },
   "outputs": [],
   "source": [
    "from skimage.measure import label\n",
    "from skimage.segmentation import watershed\n",
    "def Volume_dataset(Vol,Seg,hminimos,bins):\n",
    "    'Vol (ndarray): Volumen original'\n",
    "    'Seg (ndarray): Volumen groundtruth binario'\n",
    "    'hminimos (float): Valor para imponer h minimos'\n",
    "    'bins (int): Numero de bins para el histograma'\n",
    "    # YOUR CODE HERE\n",
    "    raise NotImplementedError()\n",
    "    return histogram_list,label_list"
   ]
  },
  {
   "cell_type": "code",
   "execution_count": null,
   "id": "101471ad",
   "metadata": {
    "deletable": false,
    "editable": false,
    "nbgrader": {
     "cell_type": "code",
     "checksum": "5b973ca4bcd4457dd475e7567b2164c9",
     "grade": false,
     "grade_id": "cell-0f0b6c829ad3bac7",
     "locked": true,
     "schema_version": 3,
     "solution": false,
     "task": false
    }
   },
   "outputs": [],
   "source": [
    "#ADVERTENCIA\n",
    "#Este codigo tarda mucho en correr, mas o menos 40 minutos\n",
    "h_lists,l_lists=Volume_dataset(vol1,seg1,0.1,40)"
   ]
  },
  {
   "cell_type": "code",
   "execution_count": null,
   "id": "2a2bafbe",
   "metadata": {
    "deletable": false,
    "editable": false,
    "nbgrader": {
     "cell_type": "code",
     "checksum": "29522c2301359d07ae0dd25153986723",
     "grade": true,
     "grade_id": "cell-401ae3eac7ca66f4",
     "locked": true,
     "points": 0.2,
     "schema_version": 3,
     "solution": false,
     "task": false
    }
   },
   "outputs": [],
   "source": [
    "assert len(h_lists)>0, 'Su lista está vacía'\n",
    "assert len(h_lists)==len(l_lists), 'Debe tener igual cantidad de datos que de etiquetas'\n",
    "assert len(h_lists[0])==40, 'La longitud de el vector de caracteristicas debe ser 40'\n",
    "assert np.max(l_lists)==1, 'La etiqueta maxima debe ser 1'\n",
    "assert np.min(l_lists)==0, 'La etiqueta minima debe ser 0'"
   ]
  },
  {
   "cell_type": "markdown",
   "id": "ef867964",
   "metadata": {
    "deletable": false,
    "editable": false,
    "nbgrader": {
     "cell_type": "markdown",
     "checksum": "ebb7da60521226339fe78803a549b3b1",
     "grade": false,
     "grade_id": "cell-9c93b84ed5e145b3",
     "locked": true,
     "schema_version": 3,
     "solution": false,
     "task": false
    }
   },
   "source": [
    "Una idea sería aprovechar todos los volumenes de entrenamiento para obtener la mayor cnatidad de datos y tener un modelo generalizable. Sin embargo, en nuestro caso es algo muy costoso computacionalmente. Si desea intentar obtener una lista de todos los datos de la base de datos puede submuestrear, pregunte a su asistente de laboratorio si desea intentarlo.\n",
    "\n",
    "En este caso, por simplicidad, usaremos los datos de un unico volumen."
   ]
  },
  {
   "cell_type": "code",
   "execution_count": null,
   "id": "51e98c44",
   "metadata": {},
   "outputs": [],
   "source": []
  },
  {
   "cell_type": "markdown",
   "id": "033395c4",
   "metadata": {
    "deletable": false,
    "editable": false,
    "nbgrader": {
     "cell_type": "markdown",
     "checksum": "8b1dea1c2f04b699e5a6bb08edc19fa0",
     "grade": false,
     "grade_id": "cell-da22b6d0a539a48f",
     "locked": true,
     "schema_version": 3,
     "solution": false,
     "task": false
    }
   },
   "source": [
    "### 2.2 Predicción\n",
    "Ya tenemos una lista de etiquetas e histogramas de superpixeles. Ahora, usaremos nuestra función de NN creada anteriormente para segmentar nuestro volumen. Cree una función que entre por parametro un volumen, una segmentación a priori del volumen, un hminimo, un valor de bins, la lista de histogramas y la lista de etiquetas de entrenamiento creadas anteriormente. Esta función debe sobresegmentar el volumen de entrada usando de semillas los hminimos **etiquetados** y de mascara el gradiente morfológico (con bola de radio 2). Multiplique esta sobresegmentación con el volumen de segmentación a priori. Luego, debe recorrer superpixel por superpixel y clasificando cada uno. Cree una matriz de ceros del tamaño del volumen y, si el superpixel en el volumen sobresegmentado es clasificado como 1, se pinta el superpixel en el volumen de ceros. Retorne este volumen segmentado.\n",
    "\n",
    "**Nota:** A la hora de clasificar los superpixeles no tiene porque clasificar el superpixel con etiqueta 0. Esto se debe a que, al multiplicar nuestra segmentación a priori con el volumen sobresegmentado, los voxeles 0 serán unicamente aquellos que consideramos que no pertenecen a el higado."
   ]
  },
  {
   "cell_type": "code",
   "execution_count": null,
   "id": "990e2efb",
   "metadata": {
    "deletable": false,
    "nbgrader": {
     "cell_type": "code",
     "checksum": "166edc21da14a78ad2e08e7f7cd39d77",
     "grade": false,
     "grade_id": "cell-a30084c5ef2b5b81",
     "locked": false,
     "schema_version": 3,
     "solution": true,
     "task": false
    }
   },
   "outputs": [],
   "source": [
    "def Predict(Vol,Seg,hminimos,bins,h_lists,l_lists):\n",
    "    'Vol (ndarray): Volumen original'\n",
    "    'hminimos (float): Valor para imponer h minimos'\n",
    "    'bins (int): Numero de bins para el histograma'\n",
    "    'h_list (list): Lista de histogramas'\n",
    "    'l_lists (list): Lista de etiquetas'\n",
    "    # YOUR CODE HERE\n",
    "    raise NotImplementedError()\n",
    "    return final_segment"
   ]
  },
  {
   "cell_type": "code",
   "execution_count": null,
   "id": "e8a6e519",
   "metadata": {
    "deletable": false,
    "nbgrader": {
     "cell_type": "code",
     "checksum": "1b97cc3b128de5c0d0ddd424b15bf91c",
     "grade": false,
     "grade_id": "cell-138a81015f000768",
     "locked": false,
     "schema_version": 3,
     "solution": true,
     "task": false
    }
   },
   "outputs": [],
   "source": [
    "seg_priori='' #volumen de segmentación a priori\n",
    "# YOUR CODE HERE\n",
    "raise NotImplementedError()"
   ]
  },
  {
   "cell_type": "code",
   "execution_count": null,
   "id": "687ef30b",
   "metadata": {
    "deletable": false,
    "editable": false,
    "nbgrader": {
     "cell_type": "code",
     "checksum": "f9575e00a39fd732635f95f631d3b33d",
     "grade": false,
     "grade_id": "cell-6004b7139225fcd6",
     "locked": true,
     "schema_version": 3,
     "solution": false,
     "task": false
    }
   },
   "outputs": [],
   "source": [
    "#ADVERTENCIA\n",
    "#Este codigo puede demorarse en correr unos 20 minutos\n",
    "final_segment=Predict(vol1,seg_priori,0.1,40,h_lists,l_lists)"
   ]
  },
  {
   "cell_type": "code",
   "execution_count": null,
   "id": "213ba617",
   "metadata": {
    "deletable": false,
    "editable": false,
    "nbgrader": {
     "cell_type": "code",
     "checksum": "966209e979e42e78fea207128446998f",
     "grade": true,
     "grade_id": "cell-01c335cab0c8fe30",
     "locked": true,
     "points": 0.2,
     "schema_version": 3,
     "solution": false,
     "task": false
    }
   },
   "outputs": [],
   "source": [
    "assert np.max(final_segment)==1, 'La etiqueta maxima de la segmentación final debe ser 1'\n",
    "assert np.min(final_segment)==0, 'La etiqueta minima de la segmentación final debe ser 0'\n",
    "assert len(np.unique(final_segment))==2, 'Solo deben haber 2 etiquetas en su volumen'\n",
    "x,y,z=final_segment.shape\n",
    "x2,y2,z2=vol1.shape\n",
    "assert x==x2 and y==y2 and z==z2, 'Las dimensiones de su segmentación no coinsiden con las de su volumen original'\n",
    "assert Jaccard_3D(final_segment,seg1)>0.45, 'La segmentación final es muy mala, pruebe bajando los hminimos o cambiando la segmentación a priori'"
   ]
  },
  {
   "cell_type": "markdown",
   "id": "bffc1b26",
   "metadata": {
    "deletable": false,
    "editable": false,
    "nbgrader": {
     "cell_type": "markdown",
     "checksum": "a5595671583d063962e8fbb35a01177a",
     "grade": false,
     "grade_id": "cell-84371c3c348c6387",
     "locked": true,
     "schema_version": 3,
     "solution": false,
     "task": false
    }
   },
   "source": [
    "Ahora que ya tenemos esto vamos a compararlo con nuestro volumen de segmentación y saquemos el indice de Jaccard y verifique algunos cortes para evaluar cualitativamente su algoritmo"
   ]
  },
  {
   "cell_type": "code",
   "execution_count": null,
   "id": "20a83565",
   "metadata": {
    "deletable": false,
    "nbgrader": {
     "cell_type": "code",
     "checksum": "cbb5bc4fce773242087dc97bc978df0e",
     "grade": false,
     "grade_id": "cell-2fb984bc8605c5d5",
     "locked": false,
     "schema_version": 3,
     "solution": true,
     "task": false
    }
   },
   "outputs": [],
   "source": [
    "# YOUR CODE HERE\n",
    "raise NotImplementedError()"
   ]
  },
  {
   "cell_type": "markdown",
   "id": "4a8b5831",
   "metadata": {},
   "source": [
    "## Parte 3 Validación\n",
    "Ya hemos creado nuestra función de predicción y hemos verificado su funcionamiento en entrenamiento, es momento de la experimentación. Debe realizar los experimentos y evaluarlos en **Validación**. Puede usar lo que aprendió de pre-procesamiento, post-procesamiento y el algoritmo de segmentación de su preferencia (superpixeles, condicionar segmentos, clasificación de semillas, umbralización, entre otros) Pero debe recordar la experimentación exhaustiva. Ya hemos experimentado con pre y post procesamiento en la entrega  pasada, por lo que se le recomienda establecer un procedimiento estandar para estos pasos (no requiere experimentar nuevamente con ello).\n",
    "\n",
    "Debe realizar al menos 4 experimentos en el algoritmo que escogió y debe justificar su elección en el informe. Calificaré de igualforma su creatividad y sus resultados, no tengan miedo de probar cosas. Usaremos de baseline la segmentación por elemento conexo mayor.\n",
    "\n",
    "Cree una función que entre como parametro un volumen y retorne su segmentación con el algoritmo final.\n",
    "\n",
    "**Pista:** El slice de mayor area axial de higado en validación es la 446. Esta información se le proporciona, usted no puede ver ni manipular el volumen de validación."
   ]
  },
  {
   "cell_type": "code",
   "execution_count": null,
   "id": "9fe2bcf8",
   "metadata": {
    "deletable": false,
    "nbgrader": {
     "cell_type": "code",
     "checksum": "61db614f07fc75f3a847de17f9c443de",
     "grade": false,
     "grade_id": "cell-0eca4fca683a110c",
     "locked": false,
     "schema_version": 3,
     "solution": true,
     "task": false
    }
   },
   "outputs": [],
   "source": [
    "def Segmentacion(Vol):\n",
    "    # YOUR CODE HERE\n",
    "    raise NotImplementedError()\n",
    "    return seg_total"
   ]
  },
  {
   "cell_type": "code",
   "execution_count": null,
   "id": "382809ce",
   "metadata": {
    "deletable": false,
    "editable": false,
    "nbgrader": {
     "cell_type": "code",
     "checksum": "5f719e0c338aaeb5138eda18573f55f6",
     "grade": false,
     "grade_id": "cell-de53f9719e239d5b",
     "locked": true,
     "schema_version": 3,
     "solution": false,
     "task": false
    }
   },
   "outputs": [],
   "source": [
    "vol_val=nib.load(os.path.join('DB','valid','volume-10.nii.gz')).get_fdata()\n",
    "seg_val=nib.load(os.path.join('DB','valid','segmentation-10.nii.gz')).get_fdata()\n",
    "seg_total=Segmentacion(vol_val)"
   ]
  },
  {
   "cell_type": "code",
   "execution_count": null,
   "id": "a6c4d323",
   "metadata": {
    "deletable": false,
    "editable": false,
    "nbgrader": {
     "cell_type": "code",
     "checksum": "c9ee62d126ed39071d9c9e2936af9235",
     "grade": true,
     "grade_id": "cell-499c0f81bd0a871e",
     "locked": true,
     "points": 0.3,
     "schema_version": 3,
     "solution": false,
     "task": false
    }
   },
   "outputs": [],
   "source": [
    "assert len(np.unique(seg_total))==2, 'Solo deberían haber 2 etiquetas en su volumen'\n",
    "assert np.max(seg_total)==1, 'El maximo de su segmentación debería ser 1'\n",
    "assert Jaccard_3D(seg_total,seg_val)>0.49, 'Su experimentación debería superar el 0.51 de Jaccard, el baseline'"
   ]
  },
  {
   "cell_type": "markdown",
   "id": "a258789b",
   "metadata": {},
   "source": [
    "## Prueba\n",
    "Ahora es momento de hacer la prueba, ya hicimos todo este proceso en el conjunto de validación durante estas ultimas dos entregas, ya conseguimos nuestra mejor metodología. Ahora lo que nos queda es correr este algoritmo en el volumen de prueba y así poder observar el desempeño final de nuestro algoritmo.\n",
    "Además hagan un subplot con almenos 4 cortes axiales donde se pueda apreciar la calidad de la segmentación."
   ]
  },
  {
   "cell_type": "code",
   "execution_count": null,
   "id": "85dbd8cb",
   "metadata": {},
   "outputs": [],
   "source": [
    "vol_val=nib.load(os.path.join('DB','test','volume-7.nii.gz')).get_fdata()\n",
    "seg_val=nib.load(os.path.join('DB','test','segmentation-7.nii.gz')).get_fdata()\n",
    "seg_total=Segmentacion(vol_val)"
   ]
  },
  {
   "cell_type": "code",
   "execution_count": null,
   "id": "922ced54",
   "metadata": {
    "deletable": false,
    "editable": false,
    "nbgrader": {
     "cell_type": "code",
     "checksum": "69e2c05f4c90dd28b97ce425a1503171",
     "grade": true,
     "grade_id": "cell-41740a272f6a55b7",
     "locked": true,
     "points": 0.30001,
     "schema_version": 3,
     "solution": false,
     "task": false
    }
   },
   "outputs": [],
   "source": [
    "assert Jaccard_3D(seg_total,seg_val)>0.48, 'Su algoritmo final debería superar el baseline'"
   ]
  },
  {
   "cell_type": "markdown",
   "id": "22088673",
   "metadata": {},
   "source": [
    "# Informe\n",
    "### Parte 1: watersheds\n",
    "- ¿Que puede notar en su implementación original de watersheds?¿Cuantos segmentos hay?\n",
    "- Proponga otra forma de conseguir etiquetas para los segmentos o las semillas.\n",
    "- ¿Que tan validas son las suposiciones que hicimos sobre las semillas negativas? ¿Siempre es valido solo clasificar semillas en un solo slice?\n",
    "- La metodología de la clasificación de semillas ¿Que caracteristicas del objeto utiliza para segmentarlo, forma, textura, intensidad, entre otros? Justifique su respuesta\n",
    "- En cuanto a el uso de la segmentación a priori ¿Es preferible una alta cobertura o una alta precisión en este caso en particular?\n",
    "- ¿Son diferentes sus segmentaciones usando como mascara el gradiente morfológico en grises y binario? ¿Porqué puede suceder esto?\n",
    "- ¿Que tan valido es considerar que un segmento es positivo si más de la mitad de los voxeles pertenecen a la segmentación a priori? ¿De que otra forma podemos clasificar esos segmentos usando la segmentación a priori?\n",
    "- ¿Que limitaciones encuenta en cada metodología?\n",
    "\n",
    "### Parte 2: Super pixeles\n",
    "- ¿Por que cree que es necesario usar una segmentación a priori para clasificar los superpixeles?\n",
    "- ¿Por que no clasificamos los pixeles o voxeles uno por uno en vez de hacer superpixeles?\n",
    "- ¿Que otra información podría incluir para el proceso de clasificacion de super pixeles?\n",
    "- ¿Como considera la calidad de sus resultados?¿siente que podría mejorarlos?\n",
    "\n",
    "### ¡Prueba!\n",
    "- Incluyan los resultados del indice de Jaccard, incluyendo el subplot.\n",
    "- ¿Fueron congruentes sus resultados en prueba con los hechos en validación? ¿Por qué cree que su metodo funciona bien en entrenamiento y mal en validación y test? Observe los volumenes de validación y test si es necesario para contestar.\n",
    "- ¿Consideran que cualquiera de las 3 aproximaciones que hicimos fueron competentes para resolver este problema?\n",
    "- ¿Que problemas pueden ver en sus resultados cualitativos?\n",
    "- ¿Como mejorarían su metodo?"
   ]
  },
  {
   "cell_type": "code",
   "execution_count": null,
   "id": "ad34358c",
   "metadata": {},
   "outputs": [],
   "source": [
    "from utils import *\n",
    "converter(\"Entrega 3\")"
   ]
  }
 ],
 "metadata": {
  "kernelspec": {
   "display_name": "Python 3 (ipykernel)",
   "language": "python",
   "name": "python3"
  },
  "language_info": {
   "codemirror_mode": {
    "name": "ipython",
    "version": 3
   },
   "file_extension": ".py",
   "mimetype": "text/x-python",
   "name": "python",
   "nbconvert_exporter": "python",
   "pygments_lexer": "ipython3",
   "version": "3.11.3"
  }
 },
 "nbformat": 4,
 "nbformat_minor": 5
}
