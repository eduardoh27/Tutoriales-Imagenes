{
 "cells": [
  {
   "cell_type": "markdown",
   "id": "526a47b1",
   "metadata": {
    "deletable": false,
    "editable": false,
    "nbgrader": {
     "cell_type": "markdown",
     "checksum": "645dc263aaa16995ba39b31d53c78352",
     "grade": false,
     "grade_id": "cell-d43ef12d59ea7b8d",
     "locked": true,
     "schema_version": 3,
     "solution": false,
     "task": false
    }
   },
   "source": [
    "# Miniproyecto 1: Detección de globulos blancos\n",
    "\n",
    "## Entrega 1: \n",
    "En todo proyecto en el campo de visión por computador una de las partes mas importantes es conocer los datos con los cuales se va a trabajar a lo largo de este. En terminos generales las bases de datos contienen todos los datos necesarios para poder solucionar la tarea segun dicho marco experimental. En esta primera entrega haremos la exploración de la base de datos, desde la apertura y lectura de las anotaciones como la apertura de imagenes. Para esto realizaremos 3 procesos, importación de archivos, revision de estadisticas y visualización de imagenes.\n",
    "\n",
    "### Parte 1: Importación de archivos\n",
    "La primera parte para poder explorar los archivos es tener la capacidad de importarlos, por esto haremos la importación de los diferentes archivos y datos que usarán en este miniproyecto. Esto es necesario para acceder a ellos, procesarlos y manejarlos de forma correcta para así poder realizar el procedimiento adecuadamente.\n",
    "\n",
    "#### 1.1 Importación de imágenes\n",
    "Aprender a hacer de forma efectiva la importación de imagenes es una parte fundamental, en especial cuando manejamos grandes bases de datos. Por esto, necesitamos aprender a realizarlo de forma automatica por lo que debemos estar en capacidad de obtener todos los nombres de las imagenes y así poder abrirlas de forma iterativa. Una librería que permite hacer estos procedimientos es glob(https://docs.python.org/es/3/library/glob.html) la cual dado cierto formato permite abrir todos los archivos que cumplan con esas restricciones. \n",
    "> **Consejo**: Para una explicación mas detallada de este procedimiento y como usar glob pueden referirse al laboratorio 0. \n",
    "\n",
    "Ahora bien, para abrir las imagenes inicialmente vamos a realizar el procedimiento de obtener las 3 carpetas posibles *train*, *valid* y *test*. Para esto deben completar el contenido de la siguiente celda, manteniendo el nombre de las variables y teniendo en cuenta las consideraciones a continuación: \n",
    "\n",
    "> - Tengan cuidado de obtener listas vacías, glob no lanza errores al encontrarse con que ningun archivo o carpeta cumple el formato, solo retorna una lista vacía y es uno de los errores mas comunes al usar la librería.  \n",
    "> - Tengan cuidado al usar glob de no retornar una misma lista en dos ocasiones.\n",
    "> - Recuerden mantener los nombres de las variables de las listas es importante siempre mantener la misma notación en especial cuando todas son del mismo tipo y tienen una forma similar."
   ]
  },
  {
   "cell_type": "code",
   "execution_count": null,
   "id": "164610a1",
   "metadata": {
    "deletable": false,
    "nbgrader": {
     "cell_type": "code",
     "checksum": "43f0e0b6cfef2a93296617d5b879491f",
     "grade": false,
     "grade_id": "cell-60b9b6df553ba40b",
     "locked": false,
     "schema_version": 3,
     "solution": true,
     "task": false
    },
    "tags": []
   },
   "outputs": [],
   "source": [
    "import glob\n",
    "import os\n",
    "import numpy as np\n",
    "list_train = '' # variable que tendrá la lista de las imagenes de la carpeta de train\n",
    "list_val = '' # variable que tendrá la lista de las imagenes de la carpeta de val\n",
    "list_test = '' # variable que tendrá la lista de las imagenes de la carpeta de test\n",
    "# YOUR CODE HERE\n",
    "raise NotImplementedError()"
   ]
  },
  {
   "cell_type": "code",
   "execution_count": null,
   "id": "3f0315e4",
   "metadata": {
    "deletable": false,
    "editable": false,
    "nbgrader": {
     "cell_type": "code",
     "checksum": "e3c75c81afdd89f13e16979f20ee000d",
     "grade": true,
     "grade_id": "cell-c8c613173bd1926f",
     "locked": true,
     "points": 0.2,
     "schema_version": 3,
     "solution": false,
     "task": false
    },
    "tags": []
   },
   "outputs": [],
   "source": [
    "# pruebas basicas de funcionamiento correcto de la función\n",
    "assert(len(list_train)!=0), 'Su lista esta vacia'\n",
    "assert(len(list_val)!=0), 'Su lista esta vacia' \n",
    "assert(len(list_test)!=0), 'Su lista esta vacia' "
   ]
  },
  {
   "cell_type": "code",
   "execution_count": null,
   "id": "e854c9ed",
   "metadata": {
    "deletable": false,
    "editable": false,
    "nbgrader": {
     "cell_type": "code",
     "checksum": "96a6746af31461adebc39c6cf2b575bd",
     "grade": true,
     "grade_id": "cell-e4be25cb87e9ba4b",
     "locked": true,
     "points": 0.2,
     "schema_version": 3,
     "solution": false,
     "task": false
    },
    "tags": []
   },
   "outputs": [],
   "source": [
    "import numpy as np\n",
    "assert(np.isclose(len(list_train),224,0.1)), 'La cantidad de datos en su lista de entrenamiento es erroneo'\n",
    "assert(np.isclose(len(list_val),65,0.1)), 'La cantidad de datos en su lista de validacion es erroneo'\n",
    "assert(np.isclose(len(list_test),31,0.1)), 'La cantidad de datos en su lista de test es erroneo'"
   ]
  },
  {
   "cell_type": "code",
   "execution_count": null,
   "id": "71451833",
   "metadata": {
    "deletable": false,
    "editable": false,
    "nbgrader": {
     "cell_type": "code",
     "checksum": "9783496aa5e2979eab3d880288e16c1d",
     "grade": true,
     "grade_id": "cell-076a89fe57df81bf",
     "locked": true,
     "points": 0.2,
     "schema_version": 3,
     "solution": false,
     "task": false
    },
    "tags": []
   },
   "outputs": [],
   "source": [
    "assert(os.path.join('.','data_mp1','BCCD','train','BloodImage_00001_jpg.rf.ee79407f4ce4abd4fc56f42c176d324b.jpg') in list_train), 'Su lista de entrenamiento no tiene los datos correctos'\n",
    "assert(os.path.join('.','data_mp1','BCCD','valid','BloodImage_00000_jpg.rf.cf90db4f6c7327631ae0d822bab81d5f.jpg') in list_val), 'Su lista de validacion no tiene los datos correctos'\n",
    "assert(os.path.join('.','data_mp1','BCCD','test','BloodImage_00038_jpg.rf.03231bab33fddc4fabbb488a9d458343.jpg') in list_test), 'Su lista de test no tiene los datos correctos'"
   ]
  },
  {
   "cell_type": "markdown",
   "id": "20d49cd2",
   "metadata": {},
   "source": [
    "Ahora que ya tenemos las rutas de todas las imagenes almacenadas en los 3 arreglos es importante poder abrir las imagenes como tal y tener la capacidad de graficarlas. Para este proceso podemos usar unicamente la librería matplotlib tanto para abrir la imagen y graficarla. En este caso vamos a realizar un subplot pequeño con 2 imagenes diferentes de la base de datos en la siguiente celda:\n",
    "\n",
    "\n",
    "**Consejo**: Para una explicación mas detallada de este procedimiento y como abrir y graficar imagenes con matplotlib pueden referirse al laboratorio 0. Puede usar skimage.io.imread() para leer las imagenes.\n",
    "\n",
    "> - Tengan cuidado con usar plt.show() es un error muy comun al trabajar en cuadernos de Jupyter ya que sin esto la figura no se mostrará al estar en un archivo de python y en este caso mostrará información extra.  \n",
    "> - Recuerden que una imagen no debe tener ejes ya que estos no aportan información relevante, por esto busquen como poder apagar los ejes.\n",
    "> - Cuando se realice una imagen con un unico canal deben especificar el mapa de color que se va a usar, el que es correcto para las imagenes, a no ser que contenga algun tipo de información especial es 'gray'.\n",
    "> - La función imread() recibe como input un path y retorna una matriz."
   ]
  },
  {
   "cell_type": "code",
   "execution_count": null,
   "id": "613a2853",
   "metadata": {
    "deletable": false,
    "nbgrader": {
     "cell_type": "code",
     "checksum": "584b34ca2df815743e448c78a233e89e",
     "grade": false,
     "grade_id": "cell-fd4c930512a2ede0",
     "locked": false,
     "schema_version": 3,
     "solution": true,
     "task": false
    },
    "tags": []
   },
   "outputs": [],
   "source": [
    "import matplotlib.pyplot as plt\n",
    "import skimage\n",
    "\n",
    "fig, ax = plt.subplots(1,2) \n",
    "# Usen esta notación para hacer los subplots \n",
    "# (recuerden que para acceder a cada elemento se puede hacer como si fuera un array: ax[idx])\n",
    "\n",
    "# YOUR CODE HERE\n",
    "raise NotImplementedError()"
   ]
  },
  {
   "cell_type": "code",
   "execution_count": null,
   "id": "a66c2934",
   "metadata": {
    "deletable": false,
    "editable": false,
    "nbgrader": {
     "cell_type": "code",
     "checksum": "4fb16e4f6461a2a163b63fd8b4bcd83b",
     "grade": true,
     "grade_id": "cell-f64c3f291834abc3",
     "locked": true,
     "points": 0.1,
     "schema_version": 3,
     "solution": false,
     "task": false
    },
    "tags": []
   },
   "outputs": [],
   "source": [
    "assert(not ax[1].axison), 'No apago los ejes de la image 1'\n",
    "assert(not ax[0].axison), 'No apago los ejes de la image 0'"
   ]
  },
  {
   "cell_type": "markdown",
   "id": "650cfb86",
   "metadata": {
    "deletable": false,
    "editable": false,
    "nbgrader": {
     "cell_type": "markdown",
     "checksum": "403ea6e7a9dd8ce497b41deb167dc6c3",
     "grade": false,
     "grade_id": "cell-e419373744ad3e9a",
     "locked": true,
     "schema_version": 3,
     "solution": false,
     "task": false
    }
   },
   "source": [
    "#### 1.2 Importación de anotaciones\n",
    "Como se habrán dado cuenta las anotaciones están en un formato que probablemente no hayan usado nunca, un archivo *.json*. Estos archivos contienen una gran cantidad de información, tanto de la base de datos como de las imagenes y las anotaciones en si. El primer paso para poder explorarlas es poder hacer la importación de estos archivos y abrir el diccionario que se encuentra en su interior. Para ello use la siguiente celda manteniendo los nombres de las variables (pueden **apoyarse** en el codigo y la explicacion en esta pagina: https://www.geeksforgeeks.org/json-load-in-python/).\n",
    "\n",
    "> **recomendaciones:** Revisen en primer lugar que tipo de objeto es el archivo que acaban de abrir. Revisen cuales son sus elementos y que contiene cada uno de ellos. Observen que compone cada una de las partes de interés que tiene su archivo."
   ]
  },
  {
   "cell_type": "code",
   "execution_count": null,
   "id": "4d4289f6",
   "metadata": {
    "deletable": false,
    "nbgrader": {
     "cell_type": "code",
     "checksum": "d2e4b81bd1a121926e6f7aaa3bc24e0e",
     "grade": false,
     "grade_id": "cell-fdb89cfe009fb401",
     "locked": false,
     "schema_version": 3,
     "solution": true,
     "task": false
    },
    "tags": []
   },
   "outputs": [],
   "source": [
    "dict_train = '' # variable que tendrá el diccionario de las anotaciones de la carpeta de train\n",
    "dict_val = '' # variable que tendrá el diccionario de las anotaciones de la carpeta de val\n",
    "dict_test = '' # variable que tendrá el diccionario de las anotaciones de la carpeta de test\n",
    "# YOUR CODE HERE\n",
    "raise NotImplementedError()"
   ]
  },
  {
   "cell_type": "code",
   "execution_count": null,
   "id": "a2425dea",
   "metadata": {
    "tags": []
   },
   "outputs": [],
   "source": [
    "# Utilicen esta celda para poder imprimir y explorar las anotaciones."
   ]
  },
  {
   "cell_type": "code",
   "execution_count": null,
   "id": "eb5abb50",
   "metadata": {
    "deletable": false,
    "editable": false,
    "nbgrader": {
     "cell_type": "code",
     "checksum": "6556ccacc63f4a0c1c3f5cf630e97525",
     "grade": true,
     "grade_id": "cell-3b895917f8dcdbca",
     "locked": true,
     "points": 0.2,
     "schema_version": 3,
     "solution": false,
     "task": false
    },
    "tags": []
   },
   "outputs": [],
   "source": [
    "assert(type(dict_train)==dict), 'Las anotaciones deben ser un diccionario'\n",
    "assert(type(dict_val)==dict), 'Las anotaciones deben ser un diccionario'\n",
    "assert(type(dict_test)==dict), 'Las anotaciones deben ser un diccionario'\n",
    "\n",
    "assert 'images' in dict_train.keys(), 'Las anotaciones deben tener la llave images'\n",
    "assert 'images' in dict_val.keys(), 'Las anotaciones deben tener la llave images'\n",
    "assert 'images' in dict_test.keys(), 'Las anotaciones deben tener la llave images'"
   ]
  },
  {
   "cell_type": "code",
   "execution_count": null,
   "id": "3a107e47",
   "metadata": {
    "deletable": false,
    "editable": false,
    "nbgrader": {
     "cell_type": "code",
     "checksum": "687a524c71449df2e275af9c152b7ec6",
     "grade": true,
     "grade_id": "cell-b84394825072a5f1",
     "locked": true,
     "points": 0.1,
     "schema_version": 3,
     "solution": false,
     "task": false
    },
    "tags": []
   },
   "outputs": [],
   "source": [
    "assert(np.isclose(len(dict_train['images']), len(list_train))), 'La cantidad de imagenes de anotacion deben ser iguales que las de la base de datos'\n",
    "assert(np.isclose(len(dict_val['images']), len(list_val))), 'La cantidad de imagenes de anotacion deben ser iguales que las de la base de datos'\n",
    "assert(np.isclose(len(dict_test['images']), len(list_test))), 'La cantidad de imagenes de anotacion deben ser iguales que las de la base de datos'"
   ]
  },
  {
   "cell_type": "markdown",
   "id": "d8c9d8b7",
   "metadata": {},
   "source": [
    "## Parte 2: Visualización de imagenes\n",
    "\n",
    "Como pudieron observar anteriormente y del contexto del problema, estamos tratando una tarea de detección. La intuición inicial sería basarnos en color, ya que los elementos se distinguen por la tinción que tienen en las imagenes. Para esto tenemos que, en primer lugar, poder observar las anotaciones exactamente donde se encuentran respecto a el objeto de interés y, en un segundo momento, hacer una exploración de los diferentes canales de color para así poder escoger el canal o los canales que mejor permitan distinguir el objeto de interes.\n",
    "\n",
    "### 2.1 Visualización de anotaciones\n",
    "Inicialmente es importante visualizar las anotaciones, esto se debe a que se está tratando con una tarea visual. Esto nos puede ayudar a ver que tan cercanas son las anotaciones a el objeto, es decir, en este caso, si está sobre el nucleo de la celula o se encuentra al rededor de la celula o incluso un poco mas de espacio al rededor esta. Para este proposito vamos a realizar un subplot de **4 filas por 2 columnas** donde la primera columna contenga las imagenes originales y las versiones anotadas de dichas imagenes. \n",
    "Recuerden usar ``fig, ax = plt.subplots(n_rows,n_cols)`` para hacerlo, manteneniendo ``ax``.\n",
    "\n",
    "Primero, cree una función que reciba de input el diccionario de anotaciones y un path de la imagen a plotear. Debe retornar una imagen con la bounding box de la anotación correspondiente.\n",
    "\n",
    "**Pasos a seguir:**\n",
    "\n",
    "> - Lea la imagen del path de entrada y guardelo en una variable.\n",
    "\n",
    "> - El diccionario de anotacion tiene una llave \"images\" que retorna una lista de diccionarios. Estos diccionarios tienen una llave \"file_name\" que retorna el nombre de la imagen y una llave \"id\" que retorna un numero entero. Encuentre el **image_id** que corresponda a la imagen del path de entrada.\n",
    "\n",
    "> - El diccionario de anotaciones tiene una llave \"annotations\" que retorna una lista de diccionarios. Busque el diccionario cuya llave \"image_id\" sea igual al **id** de la imagen de entrada y con la llave \"category_id\" igual a 3 (la categoria de los globulos blancos).\n",
    "\n",
    "> - De este ultimo diccionario, use la llave \"bbox\" para obtener una lista de 4 numeros [X,Y,W,H] donde X,Y son las coordenadas de la esquina superior izquierda de la bounding box y W,H son el tamaño del ancho y alto de la caja. \n",
    "\n",
    "> - Use la función cv2.rectangle(image, start_point, end_point, (255,0,0), 2) para obtener una imagen con una bounding box dibujada y retornela junto con las coordenadas del bbox. Recuerde que las coordenadas deben ser enteras."
   ]
  },
  {
   "cell_type": "code",
   "execution_count": null,
   "id": "476481ee",
   "metadata": {
    "deletable": false,
    "nbgrader": {
     "cell_type": "code",
     "checksum": "cd99916cc607610e901078a678881e38",
     "grade": false,
     "grade_id": "cell-35ea08541f527cd9",
     "locked": false,
     "schema_version": 3,
     "solution": true,
     "task": false
    },
    "tags": []
   },
   "outputs": [],
   "source": [
    "from skimage import io\n",
    "import cv2\n",
    "\n",
    "def Graficar_bbox(dict_anotaciones, path):\n",
    "    # YOUR CODE HERE\n",
    "    raise NotImplementedError()\n",
    "    return img_bbox,bbox"
   ]
  },
  {
   "cell_type": "code",
   "execution_count": null,
   "id": "3b3b1844",
   "metadata": {
    "deletable": false,
    "nbgrader": {
     "cell_type": "code",
     "checksum": "ad7bb30a9c96d9f74d467105ffc00d7b",
     "grade": false,
     "grade_id": "cell-a8b896e8fdc00572",
     "locked": false,
     "schema_version": 3,
     "solution": true,
     "task": false
    },
    "tags": []
   },
   "outputs": [],
   "source": [
    "plt.rcParams['figure.figsize'] = [10, 20] # por cuestiones de visualización vamos a alterar este parametro\n",
    "fig, ax = plt.subplots(4,2)#filas,#columnas\n",
    "ax[0,0].set_title('Imagen \\n sin anotación')\n",
    "ax[0,1].set_title('Imagen \\n con anotación')\n",
    "\n",
    "# YOUR CODE HERE\n",
    "raise NotImplementedError()"
   ]
  },
  {
   "cell_type": "code",
   "execution_count": null,
   "id": "b238d386",
   "metadata": {
    "deletable": false,
    "editable": false,
    "nbgrader": {
     "cell_type": "code",
     "checksum": "28e36a6c609d1af5f434ad48c44510d4",
     "grade": true,
     "grade_id": "cell-cdc0320b5cb12295",
     "locked": true,
     "points": 0.1,
     "schema_version": 3,
     "solution": false,
     "task": false
    },
    "tags": []
   },
   "outputs": [],
   "source": [
    "assert(np.shape(ax) == (4,2)), 'EL subplot no es 4,2'\n",
    "for i in range(4):\n",
    "    for j in range(2):\n",
    "        assert(not ax[i,j].axison), 'Los ejes deben estar apagados'"
   ]
  },
  {
   "cell_type": "code",
   "execution_count": null,
   "id": "5ebc082a",
   "metadata": {
    "deletable": false,
    "editable": false,
    "nbgrader": {
     "cell_type": "code",
     "checksum": "cd7a662488dd1d5d1d3ca468ffde9c47",
     "grade": true,
     "grade_id": "cell-528ffacb57b785ea",
     "locked": true,
     "points": 0.3,
     "schema_version": 3,
     "solution": false,
     "task": false
    },
    "tags": []
   },
   "outputs": [],
   "source": [
    "bbox=Graficar_bbox(dict_train,list_train[0])[1]\n",
    "assert bbox[0]==44, 'su coordenada de filas de la esquina es erronea'\n",
    "assert bbox[1]==273, 'su coordenada de columnas de la esquina es erronea'\n",
    "assert bbox[2]==142, 'El ancho de la caja es erroneo'\n",
    "assert bbox[3]==142, 'El alto de la caja es erroneo'"
   ]
  },
  {
   "cell_type": "markdown",
   "id": "7af7e718",
   "metadata": {},
   "source": [
    "### 2.2 Exploración por canales\n",
    "\n",
    "Ahora que ya hemos visualizado las anotaciones tenemos conocimiento de como lucen estas y exactamente como se relacionan con el objeto, lo cual nos ayudará a realizar el proceso de forma automatica mas preciso. Sin embargo, como saben, la aproximación que vamos a realizar para poder resolver esta tarea es mediante segmentación y esta será basada en la información de color que tenemos disponible. Debido a esto, vamos a usar las 4 imagenes que usamos anteriormente y vamos a realizar un subplot con la siguiente forma:\n",
    "\n",
    "<div>\n",
    "<img src=\"attachment:subplot_canales.png\" width=\"500\"/>\n",
    "</div>\n",
    "\n",
    "> **consejos**: \n",
    "> - Recuerden que los subplots deben estar con sus respectivos titulos en cada fila para saber a que pertenece cada imagen. \n",
    "> - Tengan presente que deben utilizar el mapa de color de grises al presentar una imagen de un solo canal a no ser que se trate de una grafica. Para esto pueden usar el comando ``cmap`` al momento de graficar.\n",
    "> - Recuerden quitar los ejes de las imagenes."
   ]
  },
  {
   "cell_type": "code",
   "execution_count": null,
   "id": "1dbf7a03",
   "metadata": {
    "deletable": false,
    "nbgrader": {
     "cell_type": "code",
     "checksum": "abbc24cc09496546066dd6a7ca89333f",
     "grade": false,
     "grade_id": "cell-689313b5db94708c",
     "locked": false,
     "schema_version": 3,
     "solution": true,
     "task": false
    },
    "tags": []
   },
   "outputs": [],
   "source": [
    "plt.rcParams['figure.figsize'] = [10, 10] # por cuestiones de visualización vamos a alterar este parametro\n",
    "# YOUR CODE HERE\n",
    "raise NotImplementedError()"
   ]
  },
  {
   "cell_type": "code",
   "execution_count": null,
   "id": "7016567b",
   "metadata": {
    "deletable": false,
    "editable": false,
    "nbgrader": {
     "cell_type": "code",
     "checksum": "ff2fa473497e2ee1202c8ef9580d745e",
     "grade": true,
     "grade_id": "cell-7c09d3359bc643d2",
     "locked": true,
     "points": 0.1,
     "schema_version": 3,
     "solution": false,
     "task": false
    },
    "tags": []
   },
   "outputs": [],
   "source": [
    "assert(np.shape(ax) == (4,4)), 'El subplot debe ser 4x4'\n",
    "\n",
    "for i in range(4):\n",
    "    for j in range(4):\n",
    "        assert(not ax[i,j].axison), 'Los ejes deben estar apagados'"
   ]
  },
  {
   "cell_type": "markdown",
   "id": "53885fa1",
   "metadata": {
    "deletable": false,
    "editable": false,
    "nbgrader": {
     "cell_type": "markdown",
     "checksum": "bd2720b6add6a8084567387a5f489fb4",
     "grade": false,
     "grade_id": "cell-f02bd9a6356ffb0d",
     "locked": true,
     "schema_version": 3,
     "solution": false,
     "task": false
    }
   },
   "source": [
    "### 2.3 Umbrales\n",
    "\n",
    "Como dijimos con anterioridad, usaremos un metodo de segmentación para resolver el problema de detección de globulos blancos. Hagamos una pequeña implementación de la segmentación de globulos basado en color utilizando las intensidades del canal rojo. \n",
    "\n",
    "Haga un for recorriendo todo el canal rojo. Si la intensidad del pixel es mayor a 170 cambie el pixel por un 0, si es menor o igual cambielo por un 1. Haga este cambio en una nueva matriz de ceros, puede crearla usando np.zeros((x,y)) donde x e y son el tamaño de la matriz. Haga un plot con la imagen original y la segmentación."
   ]
  },
  {
   "cell_type": "code",
   "execution_count": null,
   "id": "b04a605a",
   "metadata": {
    "deletable": false,
    "editable": false,
    "nbgrader": {
     "cell_type": "code",
     "checksum": "d54393fcde1a781001b5e7df01e8fb88",
     "grade": false,
     "grade_id": "cell-38a9f102dd1ffe94",
     "locked": true,
     "schema_version": 3,
     "solution": false,
     "task": false
    },
    "tags": []
   },
   "outputs": [],
   "source": [
    "img=io.imread(list_train[0])"
   ]
  },
  {
   "cell_type": "code",
   "execution_count": null,
   "id": "1b7ce071",
   "metadata": {
    "deletable": false,
    "nbgrader": {
     "cell_type": "code",
     "checksum": "146128b7566388298cb00e77c1c19b29",
     "grade": false,
     "grade_id": "cell-dc39cdb549e353bd",
     "locked": false,
     "schema_version": 3,
     "solution": true,
     "task": false
    },
    "tags": []
   },
   "outputs": [],
   "source": [
    "new_im='' #imagen umbralizada\n",
    "\n",
    "# YOUR CODE HERE\n",
    "raise NotImplementedError()"
   ]
  },
  {
   "cell_type": "code",
   "execution_count": null,
   "id": "1eeccf98",
   "metadata": {
    "deletable": false,
    "editable": false,
    "nbgrader": {
     "cell_type": "code",
     "checksum": "8325a0170b3376c68abf8bdb184ecafe",
     "grade": true,
     "grade_id": "cell-de608c5d7150f748",
     "locked": true,
     "points": 0.2,
     "schema_version": 3,
     "solution": false,
     "task": false
    },
    "tags": []
   },
   "outputs": [],
   "source": [
    "assert np.isclose(np.sum(new_im),16886), 'La umbralización es erronea'"
   ]
  },
  {
   "cell_type": "markdown",
   "id": "0a6163bd",
   "metadata": {
    "deletable": false,
    "editable": false,
    "nbgrader": {
     "cell_type": "markdown",
     "checksum": "d049623eb72d21ca31dcedb173b3281d",
     "grade": false,
     "grade_id": "cell-aa51c4470a180de3",
     "locked": true,
     "schema_version": 3,
     "solution": false,
     "task": false
    }
   },
   "source": [
    "Veamos ahora una manera más sencilla de umbralizar una imagen. Utilice el operador <= 170 para cambiar todos los pixeles menores a 170 por un True y el resto por un False. Plotee el resultado."
   ]
  },
  {
   "cell_type": "code",
   "execution_count": null,
   "id": "eabf25f8",
   "metadata": {
    "deletable": false,
    "nbgrader": {
     "cell_type": "code",
     "checksum": "91b2bfd071d63df97a9985ae1ba8e54e",
     "grade": false,
     "grade_id": "cell-77c71c43116492e3",
     "locked": false,
     "schema_version": 3,
     "solution": true,
     "task": false
    },
    "tags": []
   },
   "outputs": [],
   "source": [
    "new_im2='' #imagen umbralizada de la segunda forma\n",
    "\n",
    "# YOUR CODE HERE\n",
    "raise NotImplementedError()"
   ]
  },
  {
   "cell_type": "code",
   "execution_count": null,
   "id": "538574fa",
   "metadata": {
    "deletable": false,
    "editable": false,
    "nbgrader": {
     "cell_type": "code",
     "checksum": "985dccb4659464ddf525a7d0df4c2d46",
     "grade": true,
     "grade_id": "cell-82f69aa388485ffd",
     "locked": true,
     "points": 0.2,
     "schema_version": 3,
     "solution": false,
     "task": false
    },
    "tags": []
   },
   "outputs": [],
   "source": [
    "assert (new_im==new_im2).all(), 'La umbralización debe ser igual'"
   ]
  },
  {
   "cell_type": "markdown",
   "id": "ae8214a8",
   "metadata": {},
   "source": [
    "### Parte 3: Base de datos\n",
    "\n",
    "Una vez se tienen disponibles los archivos con las imagenes y las anotaciones es importante hacer una revisión de la base de datos. Esto es importante ya que se debe conocer cuantas imagenes, cuantas anotaciones y cuales anotaciones  por imagen por carpeta y en total. Esta parte tiene una especial relevancia ya que en muchas ocasiones vamos a encontrarnos con bases de datos que tengan una distribución mal hecha (como pocos datos de entrenamiento) o estén desbalanceados, teniendo mas anotaciones en promedio en una carpeta. Tener pocas imagenes en entrenamiento o no tener una suficiente representación de una clase en alguna carpeta puede afectar el desempeño de nuestro modelo. \n",
    "\n",
    "Adicionalmente, debemos entender nuestro archivo de anotaciones. Como vimos con anterioridad, estos son diccionarios que almacenan la información necesaria para resolver nuestro problema de detección. Exploraremos la estructura de nuestro archivo de anotaciones y algunas estadisticas importantes."
   ]
  },
  {
   "cell_type": "code",
   "execution_count": null,
   "id": "761b22d7",
   "metadata": {
    "deletable": false,
    "nbgrader": {
     "cell_type": "code",
     "checksum": "ec2a1798c4e35a34e7ac675eceb87f53",
     "grade": false,
     "grade_id": "cell-c12f038e36876ca8",
     "locked": false,
     "schema_version": 3,
     "solution": true,
     "task": false
    },
    "tags": []
   },
   "outputs": [],
   "source": [
    "train_images = -1 # variable que tendrá el numero de imagenes en la carpeta de entrenamiento\n",
    "val_images = -1 # variable que tendrá el numero de imagenes en la carpeta de validacion\n",
    "test_images = -1 # variable que tendrá el numero de imagenes en la carpeta de prueba\n",
    "\n",
    "train_anots_1 = -1 # variable que tendrá el numero de anotaciones de la clase 1 en la carpeta de entrenamiento\n",
    "val_anots_1 = -1 # variable que tendrá el numero de anotaciones de la clase 1 en la carpeta de validacion\n",
    "test_anots_1 = -1 # variable que tendrá el numero de anotaciones de la clase 1 en la carpeta de prueba\n",
    "\n",
    "train_anots_2 = -1 # variable que tendrá el numero de anotaciones de la clase 2 en la carpeta de entrenamiento\n",
    "val_anots_2 = -1 # variable que tendrá el numero de anotaciones de la clase 2 en la carpeta de validacion\n",
    "test_anots_2 = -1 # variable que tendrá el numero de anotaciones de la clase 2 en la carpeta de prueba\n",
    "\n",
    "train_anots_3 = -1 # variable que tendrá el numero de anotaciones de la clase 3 en la carpeta de entrenamiento\n",
    "val_anots_3 = -1 # variable que tendrá el numero de anotaciones de la clase 3 en la carpeta de validacion\n",
    "test_anots_3 = -1 # variable que tendrá el numero de anotaciones de la clase 3 en la carpeta de prueba\n",
    "\n",
    "# YOUR CODE HERE\n",
    "raise NotImplementedError()"
   ]
  },
  {
   "cell_type": "markdown",
   "id": "cb5db152",
   "metadata": {},
   "source": [
    "Debemos comprobar si alguna imagen de nuestra base de datos no tiene la clase 3 ya que es nuestra clase de interés. A su vez, debemos comprobar cuantos objetos de nuestra clase de interés se encuentran en una imagen, si existe más de una célula blanca en nuestras imágenes, debemos ajustar nuestra metodología de detección.\n",
    "\n",
    "El proceso de análisis de nuestras anotaciones puede ser algo complicado si nunca ha trabajado con diccionarios o un alto volumen de datos. Les proponemos el siguiente pseudo-código.\n",
    "\n",
    "**Pasos:** \n",
    "\n",
    "> - La llave \"anotaciones\" del json retorna una lista de diccionarios. Estos diccionarios tienen un \"image_id\" que es el identificador de la imagen y un \"category_id\" que es la clase del objeto. Haga una lista que contenga solo los diccionarios de la category id =3. \n",
    "\n",
    "> - Haga una lista de 0s con np.zeros() con el tamaño de la cantidad de imagenes de entrenamiento (o validacion o test).\n",
    "\n",
    "> - Recorra todos los diccionarios del primer paso y guarde el image_id en una variable. Este image_id es un entero.\n",
    "\n",
    "> - Sume 1 en la posición del image_id en la lista de 0s. De esta forma sabremos cuantos objetos de la categoria 3 se encuentran en cada imagen sabiendo que la image_id=5 tendrá la posición 5 en nuestro vector de 0s (y así con todas las imágenes).\n",
    "\n",
    "> - Use np.min() o np.max() en el vector de 0s."
   ]
  },
  {
   "cell_type": "code",
   "execution_count": null,
   "id": "2893e8bb",
   "metadata": {
    "deletable": false,
    "nbgrader": {
     "cell_type": "code",
     "checksum": "c29317b7c761ad9e6d47af94a0659265",
     "grade": false,
     "grade_id": "cell-e58f515eedcdede0",
     "locked": false,
     "schema_version": 3,
     "solution": true,
     "task": false
    },
    "tags": []
   },
   "outputs": [],
   "source": [
    "min_train_anots_3= -1 # variable que tendrá el mínimo de elementos de la clase 3 en una imagen en entrenamiento\n",
    "min_val_anots_3= -1 # variable que tendrá el mínimo de elementos de la clase 3 en una imagen en validación\n",
    "min_test_anots_3= -1 # variable que tendrá el mínimo de elementos de la clase 3 en una imagen en prueba\n",
    "\n",
    "# YOUR CODE HERE\n",
    "raise NotImplementedError()"
   ]
  },
  {
   "cell_type": "code",
   "execution_count": null,
   "id": "26ca84f7",
   "metadata": {
    "deletable": false,
    "nbgrader": {
     "cell_type": "code",
     "checksum": "692e8e51c1def51e08a8178318f6f3ef",
     "grade": false,
     "grade_id": "cell-f1b9d7836415ed1f",
     "locked": false,
     "schema_version": 3,
     "solution": true,
     "task": false
    },
    "tags": []
   },
   "outputs": [],
   "source": [
    "max_train_anots_3= -1 # variable que tendrá el máximo de elementos de la clase 3 en una imagen en entrenamiento\n",
    "max_val_anots_3= -1 # variable que tendrá el máximo de elementos de la clase 3 en una imagen en validación\n",
    "max_test_anots_3= -1 # variable que tendrá el máximo de elementos de la clase 3 en una imagen en prueba\n",
    "\n",
    "# YOUR CODE HERE\n",
    "raise NotImplementedError()"
   ]
  },
  {
   "cell_type": "code",
   "execution_count": null,
   "id": "01dd1141",
   "metadata": {
    "deletable": false,
    "editable": false,
    "nbgrader": {
     "cell_type": "code",
     "checksum": "79c79530db6252c583d92a561ed48b97",
     "grade": true,
     "grade_id": "cell-9b1bbf224c4ba0cc",
     "locked": true,
     "points": 0.2,
     "schema_version": 3,
     "solution": false,
     "task": false
    },
    "tags": []
   },
   "outputs": [],
   "source": [
    "assert type(train_images)==int, 'El numero de imagenes de entrenamiento deberia ser entero'\n",
    "assert type(val_images)==int, 'El numero de imagenes de validacion deberia ser entero'\n",
    "assert type(test_images)==int, 'El numero de imagenes de test deberia ser entero'\n",
    "\n",
    "assert type(train_anots_1)==int, 'El numero de anotaciones de entrenamiento deberia ser entero'\n",
    "assert type(val_anots_1)==int, 'El numero de anotaciones de validacion deberia ser entero'\n",
    "assert type(test_anots_1)==int, 'El numero de anotaciones de test deberia ser entero'\n",
    "\n",
    "print (\"{:<8}             | {:<15} {:<20}\".format('Fold','Total images','Total annotations'))\n",
    "print ('----------------------------------------------------------------------------')\n",
    "print (\"{:<20} | {:<15} {:<20}\".format('Train category 1',train_images,train_anots_1))\n",
    "print (\"{:<20} | {:<15} {:<20}\".format('Valid category 1',val_images,val_anots_1))\n",
    "print (\"{:<20} | {:<15} {:<20}\".format('Test category 1',test_images,test_anots_1))\n",
    "\n",
    "assert train_images<train_anots_1, 'Deberían haber mas anotaciones de la clase 1 en entrenamiento que el total de imagenes'\n",
    "assert val_images<val_anots_1, 'Deberían haber mas anotaciones de la clase 1 en entrenamiento que el total de imagenes'\n",
    "assert test_images>test_anots_1, 'Deberían haber menos anotaciones de la clase 1 en entrenamiento que el total de imagenes'\n",
    "\n",
    "assert np.isclose(train_anots_1*val_anots_1*test_anots_1,397800), 'Algun valor de la cantidad de anotaciones esta mal'"
   ]
  },
  {
   "cell_type": "code",
   "execution_count": null,
   "id": "1f44bf43",
   "metadata": {
    "deletable": false,
    "editable": false,
    "nbgrader": {
     "cell_type": "code",
     "checksum": "b1ff8305debbda2f917ce62986ef29d2",
     "grade": true,
     "grade_id": "cell-d8a34ba578e91711",
     "locked": true,
     "points": 0.2,
     "schema_version": 3,
     "solution": false,
     "task": false
    },
    "tags": []
   },
   "outputs": [],
   "source": [
    "assert type(train_anots_2)==int, 'El numero de anotaciones de entrenamiento deberia ser entero'\n",
    "assert type(val_anots_2)==int, 'El numero de anotaciones de validacion deberia ser entero'\n",
    "assert type(test_anots_2)==int, 'El numero de anotaciones de test deberia ser entero'\n",
    "\n",
    "print (\"{:<8}             | {:<15} {:<20}\".format('Fold','Total images','Total annotations'))\n",
    "print ('----------------------------------------------------------------------------')\n",
    "print (\"{:<20} | {:<15} {:<20}\".format('Train category 2',train_images,train_anots_2))\n",
    "print (\"{:<20} | {:<15} {:<20}\".format('Valid category 2',val_images,val_anots_2))\n",
    "print (\"{:<20} | {:<15} {:<20}\".format('Test category 2',test_images,test_anots_2))\n",
    "\n",
    "assert train_images<train_anots_2, 'Deberían haber mas anotaciones de la clase 2 en entrenamiento que el total de imagenes'\n",
    "assert val_images<val_anots_2, 'Deberían haber mas anotaciones de la clase 2 en entrenamiento que el total de imagenes'\n",
    "assert test_images<test_anots_2, 'Deberían haber mas anotaciones de la clase 2 en entrenamiento que el total de imagenes'\n",
    "\n",
    "assert np.isclose(train_anots_2*val_anots_2*test_anots_2,670077408), 'Algun valor de la cantidad de anotaciones esta mal'"
   ]
  },
  {
   "cell_type": "code",
   "execution_count": null,
   "id": "a0660f53",
   "metadata": {
    "deletable": false,
    "editable": false,
    "nbgrader": {
     "cell_type": "code",
     "checksum": "76b039071eb00055ae6bda7d84e26ecc",
     "grade": true,
     "grade_id": "cell-05c752532d063975",
     "locked": true,
     "points": 0.2,
     "schema_version": 3,
     "solution": false,
     "task": false
    },
    "tags": []
   },
   "outputs": [],
   "source": [
    "assert type(train_anots_3)==int, 'El numero de anotaciones de entrenamiento deberia ser entero'\n",
    "assert type(val_anots_3)==int, 'El numero de anotaciones de validacion deberia ser entero'\n",
    "assert type(test_anots_3)==int, 'El numero de anotaciones de test deberia ser entero'\n",
    "\n",
    "print (\"{:<8}             | {:<15} {:<20} {:<20} {:<20}\".format('Fold','Total images','Total annotations', 'Min annotations', 'Max annotations'))\n",
    "print ('----------------------------------------------------------------------------')\n",
    "print (\"{:<20} | {:<15} {:<20} {:<20} {:<20}\".format('Train category 3',train_images,train_anots_3,min_train_anots_3,max_train_anots_3))\n",
    "print (\"{:<20} | {:<15} {:<20} {:<20} {:<20}\".format('Valid category 3',val_images,val_anots_3,min_val_anots_3,max_val_anots_3))\n",
    "print (\"{:<20} | {:<15} {:<20} {:<20} {:<20}\".format('Test category 3',test_images,test_anots_3,min_test_anots_3,max_test_anots_3))\n",
    "\n",
    "assert train_images<train_anots_3, 'Deberían haber mas anotaciones de la clase 3 en entrenamiento que el total de imagenes'\n",
    "assert val_images==val_anots_3, 'Deberían haber igual cantidad de anotaciones de la clase 3 en entrenamiento que el total de imagenes'\n",
    "assert test_images<test_anots_3, 'Deberían haber mas anotaciones de la clase 3 en entrenamiento que el total de imagenes'\n",
    "\n",
    "assert np.isclose(train_anots_3*val_anots_3*test_anots_3,486720), 'Algun valor de la cantidad de anotaciones esta mal'\n",
    "\n",
    "assert min_train_anots_3+min_val_anots_3+min_test_anots_3==2, 'Algun valor de minimo esta mal'\n",
    "assert max_train_anots_3+max_val_anots_3+max_test_anots_3==6, 'Algun valor de maximo esta mal'"
   ]
  },
  {
   "cell_type": "markdown",
   "id": "3a849c95",
   "metadata": {},
   "source": [
    "## Informe \n",
    "Una vez realizada la parte practica de la metodología es necesario poder comprender mas allá de lo que realizamos anteriormente. Para esto deben responder las siguientes preguntas en su informe.\n",
    "\n",
    "### Revisión de estadisticas\n",
    "Una parte importante en toda tarea de este campo, es no solo observar los problemas que puedan presentarse en la base de datos, sino poder comprender completamente cual es el proposito de cada uno de los elementos y por que deben cumplir con ciertas caracteristicas. Para poder comprender esto usted debe estar en la capacidad de responder las siguientes preguntas, por lo que debe responderlas en su informe:\n",
    "\n",
    "- ¿Porque es necesario el uso de una base de datos de entrenamiento, validación y test? ¿Cuál es la diferencia entre estas? \n",
    "- ¿Cree que su base de datos esta desbalanceada? Recuerde que queremos detectar globulos blancos.\n",
    "- ¿Que implica que hayan imagenes sin nuestra clase de interes en entrenamiento? ¿Cual puede ser su implicación en test y validación?\n",
    "- ¿Que afectaria el solo tener una base de datos de entrenamiento? ¿Como lo solucionaría?\n",
    "\n",
    "Finalmente debe realizar un esquema, de la organización de las anotaciones. Es decir, deben enunciar que elementos (keys) tienen y que contiene cada elemento. Además en caso de que los elementos al interior tambien sean diccionarios, deben enunciar los elementos de estos. Explique en detalle que es el image_id y el category_id ¿Cuál es su utilidad?.\n",
    "\n",
    "### Visualización de imágenes\n",
    "Como deben recordar, uno de los propositos de esta entrega era aproximarnos tambien al problema en si. Debido a esto deben responder las siguientes preguntas sobre este problema y las imágenes a usar.\n",
    "\n",
    "- ¿Los canales RGB que tenemos son suficientes para diferenciar las células blancas?\n",
    "- ¿Que busca resolver un problema de detección? ¿Cuáles son las anotaciones que usted tiene y cuáles son las predicciones que espera obtener?  \n",
    "- Proponga una metodología para determinar un buen umbral para la segmentación de los globulos blancos.\n",
    "\n",
    "Finalmente deben poner cada uno de los subplots que realizamos, acompañados de una breve descripción de estos. Recuerden que una descripción es diferente a un análisis."
   ]
  }
 ],
 "metadata": {
  "kernelspec": {
   "display_name": "Python 3 (ipykernel)",
   "language": "python",
   "name": "python3"
  },
  "language_info": {
   "codemirror_mode": {
    "name": "ipython",
    "version": 3
   },
   "file_extension": ".py",
   "mimetype": "text/x-python",
   "name": "python",
   "nbconvert_exporter": "python",
   "pygments_lexer": "ipython3",
   "version": "3.11.3"
  }
 },
 "nbformat": 4,
 "nbformat_minor": 5
}
