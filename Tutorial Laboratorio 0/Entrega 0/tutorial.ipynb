{
 "cells": [
  {
   "cell_type": "markdown",
   "metadata": {
    "deletable": false,
    "editable": false,
    "nbgrader": {
     "cell_type": "markdown",
     "checksum": "bf8c9fe42978bc484cc15d4df9ddde13",
     "grade": false,
     "grade_id": "cell-46ccc62fd0db4a5e",
     "locked": true,
     "schema_version": 3,
     "solution": false,
     "task": false
    }
   },
   "source": [
    "# 1. Operaciones basicas y tipos de datos\n",
    "Python es un lenguaje de progranmacion en el que no es necesario declarar el tipo de la variable antes de asignarle un valor como es el caso de C/C++ o Java. Sin embargo, por debajo Python usa diferentes tipos de variables que permiten saber el tipo de dato al que pertenece.\n",
    "\n",
    "**Nota:** Por definicion cada objeto corresponde a una clase\n",
    "\n",
    "## 1.1 Tipos de datos y clases internas\n",
    "Los siguientes son los tipos de datos que son usados de forma nativa por python:\n",
    "\n",
    "| Tipo | Descripcion |\n",
    "| ---- | ----------- |\n",
    "| ``int`` | Un numero entero |\n",
    "| ``float`` | Un numero de punto flotante |\n",
    "| ``bool`` | Un balor booleano (True or False) |\n",
    "| ``str`` | Una cadena de caracteres(texto) |\n",
    "| ``bytes`` | Una secuencia de bytes |\n",
    "| ``complex`` | Un numero complejo $a + bj$|\n",
    "| ``list`` | Una lista de objetos |\n",
    "| ``tuple`` | Una secuencia ordenada e inmutable de objetos | \n",
    "| ``dict`` | Un arreglo que asocia objetos (parejas de Key(llaves) y value(valores)) | \n",
    "| ``set`` | Un grupo de objetos sin orden|\n",
    "\n",
    "Python tambien tienen algunas funciones nativas:\n",
    "\n",
    "| Funcion | Descripcion |\n",
    "| ---- | ----------- |\n",
    "| ``abs(x)`` | El valor absoluto (norma) de un valor complejo o numerico |\n",
    "| ``sum(x)`` | Suma de todos los valores de un objeto iterable |\n",
    "| ``max(*args)`` | Valor maximo de una secuencia de valores |\n",
    "| ``min(*args)`` | Valor minimo de una secuencia de valores |\n",
    "| ``len(x)`` | Numero de objetos en un arreglo |\n",
    "| ``type(x)`` | Tipo de dato del objeto |\n",
    "| ``isinstance(obj, class)`` | Conoce si un objeto ``obj`` es del tipo ``class`` |\n",
    "| ``bin(x)`` | Convierte un numero en su secuencia binaria |\n",
    "| ``eval(str)`` | Evalua una instruccion en string y retorna el resultado |\n",
    "| ``print(*args)`` | Imprime la representacion ``str`` de una secuencia de objetos separados por un espacio |\n"
   ]
  },
  {
   "cell_type": "code",
   "execution_count": 3,
   "metadata": {
    "deletable": false,
    "editable": false,
    "nbgrader": {
     "cell_type": "code",
     "checksum": "b666edd6553c46056f8a6770543233c6",
     "grade": false,
     "grade_id": "cell-20af2fc8fb5c309c",
     "locked": true,
     "schema_version": 3,
     "solution": false,
     "task": false
    }
   },
   "outputs": [
    {
     "name": "stdout",
     "output_type": "stream",
     "text": [
      "<class 'int'>\n",
      "<class 'int'>\n",
      "<class 'int'>\n"
     ]
    }
   ],
   "source": [
    "# Define un entero\n",
    "a = 1        # Decimal \n",
    "b = 0xa      # Hexadecimal\n",
    "c = 0b01001  # Binario\n",
    "\n",
    "print(type(a))\n",
    "print(type(b))\n",
    "print(type(c))"
   ]
  },
  {
   "cell_type": "code",
   "execution_count": 4,
   "metadata": {
    "deletable": false,
    "editable": false,
    "nbgrader": {
     "cell_type": "code",
     "checksum": "8367957dd17df69e046a6409dbf57159",
     "grade": false,
     "grade_id": "cell-35287d9d5edb465c",
     "locked": true,
     "schema_version": 3,
     "solution": false,
     "task": false
    }
   },
   "outputs": [
    {
     "name": "stdout",
     "output_type": "stream",
     "text": [
      "<class 'float'>\n",
      "<class 'float'>\n"
     ]
    }
   ],
   "source": [
    "# Define variables flotantes\n",
    "a = 1.0\n",
    "b = 1.33333\n",
    "\n",
    "print(type(a))\n",
    "print(type(b))"
   ]
  },
  {
   "cell_type": "code",
   "execution_count": 5,
   "metadata": {
    "deletable": false,
    "editable": false,
    "nbgrader": {
     "cell_type": "code",
     "checksum": "0c1df59962c56f793a110ecc328b0c4d",
     "grade": false,
     "grade_id": "cell-14b06f60bec27334",
     "locked": true,
     "schema_version": 3,
     "solution": false,
     "task": false
    }
   },
   "outputs": [
    {
     "name": "stdout",
     "output_type": "stream",
     "text": [
      "<class 'bool'>\n",
      "<class 'bool'>\n"
     ]
    }
   ],
   "source": [
    "# Define variables booleanas\n",
    "a = True\n",
    "b = False\n",
    "\n",
    "print(type(a))\n",
    "print(type(b))"
   ]
  },
  {
   "cell_type": "code",
   "execution_count": 6,
   "metadata": {
    "deletable": false,
    "editable": false,
    "nbgrader": {
     "cell_type": "code",
     "checksum": "6206ae9afdf5a080be8bddc29997ad47",
     "grade": false,
     "grade_id": "cell-070676f87914c6d8",
     "locked": true,
     "schema_version": 3,
     "solution": false,
     "task": false
    }
   },
   "outputs": [
    {
     "name": "stdout",
     "output_type": "stream",
     "text": [
      "<class 'str'>\n",
      "<class 'str'>\n"
     ]
    }
   ],
   "source": [
    "# Declaracion de variables string\n",
    "a = \"This is a string\"\n",
    "b = 'This is also a string'\n",
    "\n",
    "print(type(a))\n",
    "print(type(b))"
   ]
  },
  {
   "cell_type": "code",
   "execution_count": 7,
   "metadata": {
    "deletable": false,
    "editable": false,
    "nbgrader": {
     "cell_type": "code",
     "checksum": "0c45dd7baa8cf8e2ac0d294f1c392000",
     "grade": false,
     "grade_id": "cell-8e1bb836375282b9",
     "locked": true,
     "schema_version": 3,
     "solution": false,
     "task": false
    }
   },
   "outputs": [
    {
     "name": "stdout",
     "output_type": "stream",
     "text": [
      "<class 'complex'>\n"
     ]
    }
   ],
   "source": [
    "# Definicion de numeros complejos\n",
    "a = 1 + 3j\n",
    "print(type(a))"
   ]
  },
  {
   "cell_type": "code",
   "execution_count": 8,
   "metadata": {
    "deletable": false,
    "editable": false,
    "nbgrader": {
     "cell_type": "code",
     "checksum": "712578065d585c6372b2a6cdcca9f4b9",
     "grade": false,
     "grade_id": "cell-bce77b429f7a82cc",
     "locked": true,
     "schema_version": 3,
     "solution": false,
     "task": false
    }
   },
   "outputs": [
    {
     "name": "stdout",
     "output_type": "stream",
     "text": [
      "3\n",
      "5.0\n"
     ]
    }
   ],
   "source": [
    "# Valor absoluto\n",
    "print(abs(-3))\n",
    "print(abs(-3 + 4j))"
   ]
  },
  {
   "cell_type": "code",
   "execution_count": 9,
   "metadata": {
    "deletable": false,
    "editable": false,
    "nbgrader": {
     "cell_type": "code",
     "checksum": "e54abe56bd4a389c4ac620b68801c4b1",
     "grade": false,
     "grade_id": "cell-1b73b6ea15467d4c",
     "locked": true,
     "schema_version": 3,
     "solution": false,
     "task": false
    }
   },
   "outputs": [
    {
     "name": "stdout",
     "output_type": "stream",
     "text": [
      "-3\n",
      "3\n"
     ]
    }
   ],
   "source": [
    "# Operaciones de maximo y minimo\n",
    "print(min(-3, 0))\n",
    "print(max(0, 3))"
   ]
  },
  {
   "cell_type": "code",
   "execution_count": 10,
   "metadata": {
    "deletable": false,
    "editable": false,
    "nbgrader": {
     "cell_type": "code",
     "checksum": "43022fd48eb0b6922b7c5f1a2365af87",
     "grade": false,
     "grade_id": "cell-94b2f84c1ff79b07",
     "locked": true,
     "schema_version": 3,
     "solution": false,
     "task": false
    }
   },
   "outputs": [
    {
     "name": "stdout",
     "output_type": "stream",
     "text": [
      "3\n"
     ]
    }
   ],
   "source": [
    "# Obtener la longitud de una cadena de caracteres\n",
    "print(len('123'))"
   ]
  },
  {
   "cell_type": "code",
   "execution_count": 11,
   "metadata": {
    "deletable": false,
    "editable": false,
    "nbgrader": {
     "cell_type": "code",
     "checksum": "6eacf073d31afebef1702c8fedecb3b6",
     "grade": false,
     "grade_id": "cell-9050f14e6cce3c10",
     "locked": true,
     "schema_version": 3,
     "solution": false,
     "task": false
    }
   },
   "outputs": [
    {
     "name": "stdout",
     "output_type": "stream",
     "text": [
      "True\n"
     ]
    },
    {
     "data": {
      "text/plain": [
       "False"
      ]
     },
     "execution_count": 11,
     "metadata": {},
     "output_type": "execute_result"
    }
   ],
   "source": [
    "# isinstance\n",
    "print(isinstance(9 - 4j, complex))\n",
    "\n",
    "a = False\n",
    "isinstance(a, float)"
   ]
  },
  {
   "cell_type": "code",
   "execution_count": 12,
   "metadata": {
    "deletable": false,
    "editable": false,
    "nbgrader": {
     "cell_type": "code",
     "checksum": "7ed67046815075bcd10811baf556f07f",
     "grade": false,
     "grade_id": "cell-011d8714acd5f61f",
     "locked": true,
     "schema_version": 3,
     "solution": false,
     "task": false
    }
   },
   "outputs": [
    {
     "name": "stdout",
     "output_type": "stream",
     "text": [
      "0b11111111\n"
     ]
    }
   ],
   "source": [
    "# Imprimir la representacion binaria de un numero\n",
    "print(bin(255))"
   ]
  },
  {
   "cell_type": "code",
   "execution_count": 13,
   "metadata": {
    "deletable": false,
    "editable": false,
    "nbgrader": {
     "cell_type": "code",
     "checksum": "e3204305c6a7cbbd44b04f62b72ecefd",
     "grade": false,
     "grade_id": "cell-dae27cacf6fef305",
     "locked": true,
     "schema_version": 3,
     "solution": false,
     "task": false
    }
   },
   "outputs": [
    {
     "name": "stdout",
     "output_type": "stream",
     "text": [
      "True\n"
     ]
    }
   ],
   "source": [
    "# Ejecuta una linea como un codigo de python (Cuidado!)\n",
    "print(eval('isinstance((3*4) + 7 - 1j, complex)'))"
   ]
  },
  {
   "cell_type": "markdown",
   "metadata": {
    "deletable": false,
    "editable": false,
    "nbgrader": {
     "cell_type": "markdown",
     "checksum": "936871def9c05d66cbe88b2d98a75201",
     "grade": false,
     "grade_id": "cell-1e1446fd3a8ea886",
     "locked": true,
     "schema_version": 3,
     "solution": false,
     "task": false
    }
   },
   "source": [
    "\n",
    "## 1.2 Operaciones numericas\n",
    "Las siguientes operaciones son operaciones que pueden ser realizadas sobre variables numericas, _i.e.,_ ``int``, ``float`` o ``complex``\n",
    "\n",
    "| Operation | Meaning       |\n",
    "| --------- | --------------- |\n",
    "|    +      | Suma           |\n",
    "|    -      | Resta           |\n",
    "|    *      | Producto  |\n",
    "|    /      | Division        |\n",
    "|    //     | Division con parte entera |\n",
    "|    \\*\\*   | Exponencial        |\n",
    "| ^ | Bitwise XOR |\n",
    "| &#124; | Bitwise OR |\n",
    "| & | Bitwise AND |\n",
    "\n",
    "Por ejemplo las siguientes operaciones pueden ser realizadas:"
   ]
  },
  {
   "cell_type": "code",
   "execution_count": 14,
   "metadata": {
    "deletable": false,
    "editable": false,
    "nbgrader": {
     "cell_type": "code",
     "checksum": "d37170b6fcbfe83ab3bfb9a627ce6040",
     "grade": false,
     "grade_id": "cell-3b3434c3204f57bd",
     "locked": true,
     "schema_version": 3,
     "solution": false,
     "task": false
    }
   },
   "outputs": [
    {
     "data": {
      "text/plain": [
       "2.6666666666666665"
      ]
     },
     "execution_count": 14,
     "metadata": {},
     "output_type": "execute_result"
    }
   ],
   "source": [
    "8/3 # usando decimales"
   ]
  },
  {
   "cell_type": "code",
   "execution_count": 15,
   "metadata": {
    "deletable": false,
    "editable": false,
    "nbgrader": {
     "cell_type": "code",
     "checksum": "bd28c9502cd3568989a67994f73ef0a5",
     "grade": false,
     "grade_id": "cell-a63ff4ea8bb73e6b",
     "locked": true,
     "schema_version": 3,
     "solution": false,
     "task": false
    }
   },
   "outputs": [
    {
     "data": {
      "text/plain": [
       "2"
      ]
     },
     "execution_count": 15,
     "metadata": {},
     "output_type": "execute_result"
    }
   ],
   "source": [
    "8//3 # unicamente la parte entera"
   ]
  },
  {
   "cell_type": "code",
   "execution_count": 16,
   "metadata": {
    "deletable": false,
    "editable": false,
    "nbgrader": {
     "cell_type": "code",
     "checksum": "e4c06e978a6fbbb37a04810fc6f11451",
     "grade": false,
     "grade_id": "cell-8af949b94f405e3a",
     "locked": true,
     "schema_version": 3,
     "solution": false,
     "task": false
    }
   },
   "outputs": [
    {
     "data": {
      "text/plain": [
       "8"
      ]
     },
     "execution_count": 16,
     "metadata": {},
     "output_type": "execute_result"
    }
   ],
   "source": [
    "2**3 "
   ]
  },
  {
   "cell_type": "code",
   "execution_count": 17,
   "metadata": {
    "deletable": false,
    "editable": false,
    "nbgrader": {
     "cell_type": "code",
     "checksum": "d4fae37a7640162b66865be90a39e42c",
     "grade": false,
     "grade_id": "cell-ba1b041628f81f3c",
     "locked": true,
     "schema_version": 3,
     "solution": false,
     "task": false
    }
   },
   "outputs": [
    {
     "data": {
      "text/plain": [
       "6"
      ]
     },
     "execution_count": 17,
     "metadata": {},
     "output_type": "execute_result"
    }
   ],
   "source": [
    "2*3 "
   ]
  },
  {
   "cell_type": "code",
   "execution_count": 18,
   "metadata": {
    "deletable": false,
    "editable": false,
    "nbgrader": {
     "cell_type": "code",
     "checksum": "644616357844f67b1dd76b30dc50e31c",
     "grade": false,
     "grade_id": "cell-940f3fc71e1f8787",
     "locked": true,
     "schema_version": 3,
     "solution": false,
     "task": false
    }
   },
   "outputs": [
    {
     "data": {
      "text/plain": [
       "-1"
      ]
     },
     "execution_count": 18,
     "metadata": {},
     "output_type": "execute_result"
    }
   ],
   "source": [
    "2 - 3 "
   ]
  },
  {
   "cell_type": "code",
   "execution_count": 19,
   "metadata": {
    "deletable": false,
    "editable": false,
    "nbgrader": {
     "cell_type": "code",
     "checksum": "35c955e800122264074552bdd711428e",
     "grade": false,
     "grade_id": "cell-7cc6e2f5d53c7960",
     "locked": true,
     "schema_version": 3,
     "solution": false,
     "task": false
    }
   },
   "outputs": [
    {
     "data": {
      "text/plain": [
       "5"
      ]
     },
     "execution_count": 19,
     "metadata": {},
     "output_type": "execute_result"
    }
   ],
   "source": [
    "2 + 3"
   ]
  },
  {
   "cell_type": "code",
   "execution_count": 20,
   "metadata": {
    "deletable": false,
    "editable": false,
    "nbgrader": {
     "cell_type": "code",
     "checksum": "c1c53ea24a5a13121de5afe54fd92b0e",
     "grade": false,
     "grade_id": "cell-2979e906b6380502",
     "locked": true,
     "schema_version": 3,
     "solution": false,
     "task": false
    }
   },
   "outputs": [
    {
     "data": {
      "text/plain": [
       "4"
      ]
     },
     "execution_count": 20,
     "metadata": {},
     "output_type": "execute_result"
    }
   ],
   "source": [
    "7 ^ 3"
   ]
  },
  {
   "cell_type": "code",
   "execution_count": 21,
   "metadata": {
    "deletable": false,
    "editable": false,
    "nbgrader": {
     "cell_type": "code",
     "checksum": "a13fd9044ed8c4b30bf3937137524ac6",
     "grade": false,
     "grade_id": "cell-0c4adc2cb4c57537",
     "locked": true,
     "schema_version": 3,
     "solution": false,
     "task": false
    }
   },
   "outputs": [
    {
     "data": {
      "text/plain": [
       "7"
      ]
     },
     "execution_count": 21,
     "metadata": {},
     "output_type": "execute_result"
    }
   ],
   "source": [
    "4 | 3"
   ]
  },
  {
   "cell_type": "code",
   "execution_count": 22,
   "metadata": {
    "deletable": false,
    "editable": false,
    "nbgrader": {
     "cell_type": "code",
     "checksum": "1a64205c05ce4337b110d88ba96b4442",
     "grade": false,
     "grade_id": "cell-4f333823639e56e5",
     "locked": true,
     "schema_version": 3,
     "solution": false,
     "task": false
    }
   },
   "outputs": [
    {
     "data": {
      "text/plain": [
       "0"
      ]
     },
     "execution_count": 22,
     "metadata": {},
     "output_type": "execute_result"
    }
   ],
   "source": [
    "12 & 3"
   ]
  },
  {
   "cell_type": "code",
   "execution_count": 23,
   "metadata": {
    "deletable": false,
    "editable": false,
    "nbgrader": {
     "cell_type": "code",
     "checksum": "d2ec5c54d65dcaf3458ddeea9263cb0e",
     "grade": false,
     "grade_id": "cell-6b77a7b743f8b03a",
     "locked": true,
     "schema_version": 3,
     "solution": false,
     "task": false
    }
   },
   "outputs": [
    {
     "name": "stdout",
     "output_type": "stream",
     "text": [
      "0b1\n",
      "0b10\n",
      "0b100\n",
      "0b10000\n"
     ]
    }
   ],
   "source": [
    "print(bin(1))\n",
    "print(bin(2))\n",
    "print(bin(4))\n",
    "print(bin(16))"
   ]
  },
  {
   "cell_type": "markdown",
   "metadata": {
    "deletable": false,
    "editable": false,
    "nbgrader": {
     "cell_type": "markdown",
     "checksum": "f0bc791aab148ceb84fa93c8dab157b0",
     "grade": false,
     "grade_id": "cell-b3cb1aae2337ffe4",
     "locked": true,
     "schema_version": 3,
     "solution": false,
     "task": false
    }
   },
   "source": [
    "# Listas\n",
    "\n",
    "Las listas describen arreglos de datos y son ejemplos de objetos iterables. Estos se definen usando corchetes cuadrados ``[ ]``. Estos pueden contener objetos de diferentes tipos, pudiendo definir una lista como se ve a continuacion:"
   ]
  },
  {
   "cell_type": "code",
   "execution_count": 24,
   "metadata": {
    "deletable": false,
    "editable": false,
    "nbgrader": {
     "cell_type": "code",
     "checksum": "ded9e40c958cd27a0b989d47bbe4158c",
     "grade": false,
     "grade_id": "cell-be7d8448d3e27906",
     "locked": true,
     "schema_version": 3,
     "solution": false,
     "task": false
    }
   },
   "outputs": [
    {
     "data": {
      "text/plain": [
       "[-5, 7, 4, 9, 1, 12, 2]"
      ]
     },
     "execution_count": 24,
     "metadata": {},
     "output_type": "execute_result"
    }
   ],
   "source": [
    "li = [-5, 7, 4, 9, 1, 12, 2]\n",
    "\n",
    "li"
   ]
  },
  {
   "cell_type": "markdown",
   "metadata": {
    "deletable": false,
    "editable": false,
    "nbgrader": {
     "cell_type": "markdown",
     "checksum": "c71b50a267ab9d9946b54a61f6916196",
     "grade": false,
     "grade_id": "cell-68bcf668ba7059ff",
     "locked": true,
     "schema_version": 3,
     "solution": false,
     "task": false
    }
   },
   "source": [
    "Una de las cosas mas importantes respecto a las listas es la capacidad que tienen, tal como otros objetos iterables, de ser indexados. Es decir, tienen la capacidad de extraer objetos que esten en una posicion determinada usando el indice de dicha posicion (o llave en algunos casos). Es importante recordar que contrario a otros lenguajes en Python los incides comienzan desde 0."
   ]
  },
  {
   "cell_type": "code",
   "execution_count": 25,
   "metadata": {
    "deletable": false,
    "editable": false,
    "nbgrader": {
     "cell_type": "code",
     "checksum": "fef22170fec240f81fdceec8deab91fb",
     "grade": false,
     "grade_id": "cell-e8cce5e68fb7522e",
     "locked": true,
     "schema_version": 3,
     "solution": false,
     "task": false
    }
   },
   "outputs": [
    {
     "name": "stdout",
     "output_type": "stream",
     "text": [
      "-5\n",
      "9\n"
     ]
    }
   ],
   "source": [
    "print(li[0])\n",
    "print(li[3])"
   ]
  },
  {
   "cell_type": "markdown",
   "metadata": {
    "deletable": false,
    "editable": false,
    "nbgrader": {
     "cell_type": "markdown",
     "checksum": "08a968b86fe342b8465819753a8c8147",
     "grade": false,
     "grade_id": "cell-013260ad186a9f0e",
     "locked": true,
     "schema_version": 3,
     "solution": false,
     "task": false
    }
   },
   "source": [
    "Si intentamos por ejemplo usar indices que superen el tamaño de la lista, esta nos arrojara un error como se muestra a continuacion:"
   ]
  },
  {
   "cell_type": "code",
   "execution_count": 26,
   "metadata": {
    "deletable": false,
    "editable": false,
    "nbgrader": {
     "cell_type": "code",
     "checksum": "11cd58964aa0a438f862ba026d5a1cad",
     "grade": false,
     "grade_id": "cell-f98559a47db13813",
     "locked": true,
     "schema_version": 3,
     "solution": false,
     "task": false
    }
   },
   "outputs": [
    {
     "ename": "IndexError",
     "evalue": "list index out of range",
     "output_type": "error",
     "traceback": [
      "\u001b[1;31m---------------------------------------------------------------------------\u001b[0m",
      "\u001b[1;31mIndexError\u001b[0m                                Traceback (most recent call last)",
      "\u001b[1;32mc:\\Users\\eduar\\OneDrive - Universidad de los Andes\\2023-20\\Analisis y Procesamiento de Imagenes\\Analisis_Imagenes_IBIO3470\\Tutorial Laboratorio 0\\Entrega 0\\tutorial.ipynb Cell 29\u001b[0m in \u001b[0;36m1\n\u001b[1;32m----> <a href='vscode-notebook-cell:/c%3A/Users/eduar/OneDrive%20-%20Universidad%20de%20los%20Andes/2023-20/Analisis%20y%20Procesamiento%20de%20Imagenes/Analisis_Imagenes_IBIO3470/Tutorial%20Laboratorio%200/Entrega%200/tutorial.ipynb#X40sZmlsZQ%3D%3D?line=0'>1</a>\u001b[0m li[\u001b[39m20\u001b[39;49m]\n",
      "\u001b[1;31mIndexError\u001b[0m: list index out of range"
     ]
    }
   ],
   "source": [
    "li[20]"
   ]
  },
  {
   "cell_type": "markdown",
   "metadata": {
    "deletable": false,
    "editable": false,
    "nbgrader": {
     "cell_type": "markdown",
     "checksum": "a30900f039a522ab1dc4ede284099030",
     "grade": false,
     "grade_id": "cell-f50b1198df2a1e50",
     "locked": true,
     "schema_version": 3,
     "solution": false,
     "task": false
    }
   },
   "source": [
    "Ademas, las listas son modificables, lo que nos permite alterar el contenido de un indice especifico."
   ]
  },
  {
   "cell_type": "code",
   "execution_count": 27,
   "metadata": {
    "deletable": false,
    "editable": false,
    "nbgrader": {
     "cell_type": "code",
     "checksum": "5b6ab590c15baa54106f5f02bb4951d5",
     "grade": false,
     "grade_id": "cell-5019995fd94aa9a8",
     "locked": true,
     "schema_version": 3,
     "solution": false,
     "task": false
    }
   },
   "outputs": [
    {
     "data": {
      "text/plain": [
       "[-100, 7, 4, 9, 1, 12, 2]"
      ]
     },
     "execution_count": 27,
     "metadata": {},
     "output_type": "execute_result"
    }
   ],
   "source": [
    "li[0] = -100\n",
    "li"
   ]
  },
  {
   "cell_type": "markdown",
   "metadata": {
    "deletable": false,
    "editable": false,
    "nbgrader": {
     "cell_type": "markdown",
     "checksum": "eb1d4c3e91e14dd4d69e2bf8f242ffe0",
     "grade": false,
     "grade_id": "cell-efba487c20ce40f1",
     "locked": true,
     "schema_version": 3,
     "solution": false,
     "task": false
    }
   },
   "source": [
    "Otra operacion que se puede realizar con las listas es lo que se conoce como *slicin* que nos permite hacer la seleccion de una sublista usando la notacion ``lista[a:b]`` es importante notar que el objeto que se encuentre en la posicion del final no sera incluido, a continuacion se pueden ver ejemplos de dicha operacion:"
   ]
  },
  {
   "cell_type": "code",
   "execution_count": 28,
   "metadata": {
    "deletable": false,
    "editable": false,
    "nbgrader": {
     "cell_type": "code",
     "checksum": "d8f48db03057c0efcf3f2aaddfa852dc",
     "grade": false,
     "grade_id": "cell-5113bcb5082c1e0b",
     "locked": true,
     "schema_version": 3,
     "solution": false,
     "task": false
    }
   },
   "outputs": [
    {
     "name": "stdout",
     "output_type": "stream",
     "text": [
      "[7, 4]\n",
      "[4, 9, 1, 12]\n"
     ]
    }
   ],
   "source": [
    "print(li[1:3]) # arreglo nuevo con datos desde el segundo al tercero del arreglo original\n",
    "\n",
    "print(li[2:6]) # arreglo nuevo con datos desde el tercero al sexto del arreglo original"
   ]
  },
  {
   "cell_type": "markdown",
   "metadata": {
    "deletable": false,
    "editable": false,
    "nbgrader": {
     "cell_type": "markdown",
     "checksum": "4979e53e913fb7bcfc61a1de8b0ee058",
     "grade": false,
     "grade_id": "cell-65f3391ee332c58d",
     "locked": true,
     "schema_version": 3,
     "solution": false,
     "task": false
    }
   },
   "source": [
    "Esta opearcion tambien funciona con un unico indice, ya sea al inicio al final, usando siempre ``:`` como separador. En esos casos se usara desde el indice indicado hasta el final de la lista en el caso que se use ``lista[a:]`` o desde el inicio de la lista hasta el indice indicado en caso que se use con la forma  ``lista[:b]``."
   ]
  },
  {
   "cell_type": "code",
   "execution_count": 29,
   "metadata": {
    "deletable": false,
    "editable": false,
    "nbgrader": {
     "cell_type": "code",
     "checksum": "fc3f15b9e9e5ff1340c2c6a53c744d79",
     "grade": false,
     "grade_id": "cell-253f1aa19e7673dc",
     "locked": true,
     "schema_version": 3,
     "solution": false,
     "task": false
    }
   },
   "outputs": [
    {
     "name": "stdout",
     "output_type": "stream",
     "text": [
      "[4, 9, 1, 12, 2]\n",
      "[-100, 7, 4, 9]\n"
     ]
    }
   ],
   "source": [
    "print(li[2:]) # arreglo nuevo con datos desde el tercero valor del arreglo original\n",
    "\n",
    "print(li[:4]) # arreglo nuevo con datos desde el quinto valor del arreglo original"
   ]
  },
  {
   "cell_type": "markdown",
   "metadata": {
    "deletable": false,
    "editable": false,
    "nbgrader": {
     "cell_type": "markdown",
     "checksum": "d4aea64fa1f529d18171c789ef545728",
     "grade": false,
     "grade_id": "cell-e726a6968e28a38d",
     "locked": true,
     "schema_version": 3,
     "solution": false,
     "task": false
    }
   },
   "source": [
    "La indexacion y el *Slicing* tambien funcionan con indices negativos, con los que se puede recorrer el arreglo empezando con el ultimo objeto usando el indice ``-1``: "
   ]
  },
  {
   "cell_type": "code",
   "execution_count": 30,
   "metadata": {
    "deletable": false,
    "editable": false,
    "nbgrader": {
     "cell_type": "code",
     "checksum": "380e12793d4ba6bd794d4edb8bcf52de",
     "grade": false,
     "grade_id": "cell-7016e1a5a2f57769",
     "locked": true,
     "schema_version": 3,
     "solution": false,
     "task": false
    }
   },
   "outputs": [
    {
     "name": "stdout",
     "output_type": "stream",
     "text": [
      "[-100, 7, 4, 9, 1, 12, 2]\n",
      "2\n",
      "[1, 12, 2]\n"
     ]
    }
   ],
   "source": [
    "print(li)\n",
    "\n",
    "print(li[-1]) # ultimo dato de la lista\n",
    "\n",
    "print(li[-3:]) # nuevo arreglo con datos desde el ante-penultimo valor del arreglo original"
   ]
  },
  {
   "cell_type": "markdown",
   "metadata": {
    "deletable": false,
    "editable": false,
    "nbgrader": {
     "cell_type": "markdown",
     "checksum": "5d873c3374a206bc96e9ecb61a850a7a",
     "grade": false,
     "grade_id": "cell-2a5c0eb30c984135",
     "locked": true,
     "schema_version": 3,
     "solution": false,
     "task": false
    }
   },
   "source": [
    "Ademas, existe la posibilidad de invertir una lista usando la siguiente notacion:"
   ]
  },
  {
   "cell_type": "code",
   "execution_count": 31,
   "metadata": {
    "deletable": false,
    "editable": false,
    "nbgrader": {
     "cell_type": "code",
     "checksum": "750ed1f5cb023fbcb84dd29553f73465",
     "grade": false,
     "grade_id": "cell-93cabf7094cb03ea",
     "locked": true,
     "schema_version": 3,
     "solution": false,
     "task": false
    }
   },
   "outputs": [
    {
     "name": "stdout",
     "output_type": "stream",
     "text": [
      "[-100, 7, 4, 9, 1, 12, 2]\n",
      "[2, 12, 1, 9, 4, 7, -100]\n"
     ]
    }
   ],
   "source": [
    "print(li)\n",
    "print(li[::-1])"
   ]
  },
  {
   "cell_type": "markdown",
   "metadata": {
    "deletable": false,
    "editable": false,
    "nbgrader": {
     "cell_type": "markdown",
     "checksum": "96fedde147e9906cb4c221d8944ae511",
     "grade": false,
     "grade_id": "cell-d42c328504fd720f",
     "locked": true,
     "schema_version": 3,
     "solution": false,
     "task": false
    }
   },
   "source": [
    "**Nota:** En terminos generales al usar *slicing* se puede usar la forma ``[a:b:c]``, donde la lista que se retorna es la lista desde ``a`` hasta ``b - 1`` con pasos de ``c``. De este modo, se puede, por ejemplo, tomar unicamente los numeros que esten en indices pares usando la notacion de esta forma:"
   ]
  },
  {
   "cell_type": "code",
   "execution_count": 32,
   "metadata": {
    "deletable": false,
    "editable": false,
    "nbgrader": {
     "cell_type": "code",
     "checksum": "75009cc761275f36a37a87936ca38ebd",
     "grade": false,
     "grade_id": "cell-a84452d34905c1b8",
     "locked": true,
     "schema_version": 3,
     "solution": false,
     "task": false
    }
   },
   "outputs": [
    {
     "data": {
      "text/plain": [
       "[-100, 4, 1, 2]"
      ]
     },
     "execution_count": 32,
     "metadata": {},
     "output_type": "execute_result"
    }
   ],
   "source": [
    "li[::2]"
   ]
  },
  {
   "cell_type": "markdown",
   "metadata": {
    "deletable": false,
    "editable": false,
    "nbgrader": {
     "cell_type": "markdown",
     "checksum": "734e1e85c280251e664acb6305ef9364",
     "grade": false,
     "grade_id": "cell-f369ca36be392a21",
     "locked": true,
     "schema_version": 3,
     "solution": false,
     "task": false
    }
   },
   "source": [
    "Finalmente, es posible observar que los operadores ``+`` y ``*`` pueden ser usados para concatenar dos listas y replicar una lista, respectivamente. "
   ]
  },
  {
   "cell_type": "code",
   "execution_count": 33,
   "metadata": {
    "deletable": false,
    "editable": false,
    "nbgrader": {
     "cell_type": "code",
     "checksum": "fdac74ff6933e49f4f026181232503b8",
     "grade": false,
     "grade_id": "cell-7b90c9e9a59761df",
     "locked": true,
     "schema_version": 3,
     "solution": false,
     "task": false
    }
   },
   "outputs": [
    {
     "name": "stdout",
     "output_type": "stream",
     "text": [
      "[0, 4, 7, 2, 3]\n",
      "[0, 5, 0, 5, 0, 5, 0, 5]\n"
     ]
    }
   ],
   "source": [
    "print([0, 4, 7] + [2, 3])\n",
    "\n",
    "print([0,5] * 4)"
   ]
  },
  {
   "cell_type": "markdown",
   "metadata": {
    "deletable": false,
    "editable": false,
    "nbgrader": {
     "cell_type": "markdown",
     "checksum": "a8a938cb8b89b1d24a0091f7f3f43049",
     "grade": false,
     "grade_id": "cell-2b29b4d6f025c6a2",
     "locked": true,
     "schema_version": 3,
     "solution": false,
     "task": false
    }
   },
   "source": [
    "## Orden\n",
    "\n",
    "Para ordenar listas y objetos iterables, python nos ofrece dos funciones nativas que pueden ser usadas. La diferencia entre ambos depende mas en cuanto a terminos del objeto que se retorna al finalzar dicha funcion.\n",
    "\n",
    "La funcion ``sorted()`` retorna un **nuevo** objeto con la informacion ordenada de la lista que se ingresa por parametro. Por su lado ``lista.sort()`` modifica la lista sobre la cual se corre dicha funcion, de tal forma que la lista con el orden original ya no puede ser usada. por ejemplo:"
   ]
  },
  {
   "cell_type": "code",
   "execution_count": 34,
   "metadata": {
    "deletable": false,
    "editable": false,
    "nbgrader": {
     "cell_type": "code",
     "checksum": "139d41447cd637959822121a38e730e4",
     "grade": false,
     "grade_id": "cell-b12b95bf7e9e88ff",
     "locked": true,
     "schema_version": 3,
     "solution": false,
     "task": false
    }
   },
   "outputs": [],
   "source": [
    "example_list = [-1, 0, 100, -29, 2, 3, 6]"
   ]
  },
  {
   "cell_type": "markdown",
   "metadata": {
    "deletable": false,
    "editable": false,
    "nbgrader": {
     "cell_type": "markdown",
     "checksum": "4bd456ffbf8de7ce31ea19179c36513c",
     "grade": false,
     "grade_id": "cell-8a94ec68375df504",
     "locked": true,
     "schema_version": 3,
     "solution": false,
     "task": false
    }
   },
   "source": [
    "Primero, obtendremos una nueva lista usando ``sorted``:"
   ]
  },
  {
   "cell_type": "code",
   "execution_count": 35,
   "metadata": {
    "deletable": false,
    "editable": false,
    "nbgrader": {
     "cell_type": "code",
     "checksum": "96d4ecfd56d2d43ba2c7496734570eaa",
     "grade": false,
     "grade_id": "cell-354a25cd30ad297e",
     "locked": true,
     "schema_version": 3,
     "solution": false,
     "task": false
    }
   },
   "outputs": [
    {
     "name": "stdout",
     "output_type": "stream",
     "text": [
      "[-29, -1, 0, 2, 3, 6, 100]\n",
      "[-1, 0, 100, -29, 2, 3, 6] como pueden ver no altero la lista original\n"
     ]
    }
   ],
   "source": [
    "ordered_list = sorted(example_list)\n",
    "print(ordered_list)\n",
    "print(example_list,'como pueden ver no altero la lista original') "
   ]
  },
  {
   "cell_type": "markdown",
   "metadata": {
    "deletable": false,
    "editable": false,
    "nbgrader": {
     "cell_type": "markdown",
     "checksum": "8ca8a171f98d80d7d2b179ff1d7ac508",
     "grade": false,
     "grade_id": "cell-0d97665831ea05a2",
     "locked": true,
     "schema_version": 3,
     "solution": false,
     "task": false
    }
   },
   "source": [
    "Ahora, ordenaremos al lista modificando la lista original:"
   ]
  },
  {
   "cell_type": "code",
   "execution_count": 36,
   "metadata": {
    "deletable": false,
    "editable": false,
    "nbgrader": {
     "cell_type": "code",
     "checksum": "4e0c20a6382a05b32c03b65ad830d20f",
     "grade": false,
     "grade_id": "cell-8ff0c4b4f2032a72",
     "locked": true,
     "schema_version": 3,
     "solution": false,
     "task": false
    }
   },
   "outputs": [
    {
     "name": "stdout",
     "output_type": "stream",
     "text": [
      "[-29, -1, 0, 2, 3, 6, 100] en este caso si fue alterada\n"
     ]
    }
   ],
   "source": [
    "example_list.sort()\n",
    "print(example_list, 'en este caso si fue alterada')"
   ]
  },
  {
   "cell_type": "markdown",
   "metadata": {
    "deletable": false,
    "editable": false,
    "nbgrader": {
     "cell_type": "markdown",
     "checksum": "dd6f9fe3c346050f80f5e212fc050499",
     "grade": false,
     "grade_id": "cell-e5e1ee556d66caf8",
     "locked": true,
     "schema_version": 3,
     "solution": false,
     "task": false
    }
   },
   "source": [
    "## Problemas"
   ]
  },
  {
   "cell_type": "markdown",
   "metadata": {
    "deletable": false,
    "editable": false,
    "nbgrader": {
     "cell_type": "markdown",
     "checksum": "9138df13a7a068ea6500109e4b2eea00",
     "grade": false,
     "grade_id": "cell-484cb943ab57ef8d",
     "locked": true,
     "schema_version": 3,
     "solution": false,
     "task": false
    }
   },
   "source": [
    "### Problema 1\n",
    "\n",
    "Construir una lista que tenga `100` repeticiones de los numeros `-1`, `0` y `1`, en ese orden exacto."
   ]
  },
  {
   "cell_type": "code",
   "execution_count": 162,
   "metadata": {
    "deletable": false,
    "nbgrader": {
     "cell_type": "code",
     "checksum": "b9b1e1cea56615608f4c6edbf9c5fcc5",
     "grade": false,
     "grade_id": "cell-a2dddf9bcbdd1f41",
     "locked": false,
     "schema_version": 3,
     "solution": true,
     "task": false
    }
   },
   "outputs": [],
   "source": [
    "\n",
    "lista_1 = '' # Lista que contendra la solucion (no cambien el nombre)\n",
    "# YOUR CODE HERE\n",
    "lista_1 =[-1, 0, 1]*100"
   ]
  },
  {
   "cell_type": "code",
   "execution_count": 163,
   "metadata": {
    "deletable": false,
    "editable": false,
    "nbgrader": {
     "cell_type": "code",
     "checksum": "10e9ead742243924524a5d2855664685",
     "grade": true,
     "grade_id": "cell-1e61ec27b00db1f7",
     "locked": true,
     "points": 1,
     "schema_version": 3,
     "solution": false,
     "task": false
    }
   },
   "outputs": [
    {
     "name": "stdout",
     "output_type": "stream",
     "text": [
      "[-1, 0, 1, -1, 0, 1, -1, 0, 1, -1, 0, 1, -1, 0, 1, -1, 0, 1, -1, 0, 1, -1, 0, 1, -1, 0, 1, -1, 0, 1, -1, 0, 1, -1, 0, 1, -1, 0, 1, -1, 0, 1, -1, 0, 1, -1, 0, 1, -1, 0, 1, -1, 0, 1, -1, 0, 1, -1, 0, 1, -1, 0, 1, -1, 0, 1, -1, 0, 1, -1, 0, 1, -1, 0, 1, -1, 0, 1, -1, 0, 1, -1, 0, 1, -1, 0, 1, -1, 0, 1, -1, 0, 1, -1, 0, 1, -1, 0, 1, -1, 0, 1, -1, 0, 1, -1, 0, 1, -1, 0, 1, -1, 0, 1, -1, 0, 1, -1, 0, 1, -1, 0, 1, -1, 0, 1, -1, 0, 1, -1, 0, 1, -1, 0, 1, -1, 0, 1, -1, 0, 1, -1, 0, 1, -1, 0, 1, -1, 0, 1, -1, 0, 1, -1, 0, 1, -1, 0, 1, -1, 0, 1, -1, 0, 1, -1, 0, 1, -1, 0, 1, -1, 0, 1, -1, 0, 1, -1, 0, 1, -1, 0, 1, -1, 0, 1, -1, 0, 1, -1, 0, 1, -1, 0, 1, -1, 0, 1, -1, 0, 1, -1, 0, 1, -1, 0, 1, -1, 0, 1, -1, 0, 1, -1, 0, 1, -1, 0, 1, -1, 0, 1, -1, 0, 1, -1, 0, 1, -1, 0, 1, -1, 0, 1, -1, 0, 1, -1, 0, 1, -1, 0, 1, -1, 0, 1, -1, 0, 1, -1, 0, 1, -1, 0, 1, -1, 0, 1, -1, 0, 1, -1, 0, 1, -1, 0, 1, -1, 0, 1, -1, 0, 1, -1, 0, 1, -1, 0, 1, -1, 0, 1, -1, 0, 1, -1, 0, 1, -1, 0, 1, -1, 0, 1, -1, 0, 1, -1, 0, 1]\n"
     ]
    }
   ],
   "source": [
    "print(lista_1)"
   ]
  },
  {
   "cell_type": "markdown",
   "metadata": {
    "deletable": false,
    "editable": false,
    "nbgrader": {
     "cell_type": "markdown",
     "checksum": "1a6acbe49498c89d4a399833c6ffc3f1",
     "grade": false,
     "grade_id": "cell-4c6636e73f782a4c",
     "locked": true,
     "schema_version": 3,
     "solution": false,
     "task": false
    }
   },
   "source": [
    "### Problema 2\n",
    "\n",
    "Construir una lista que tenga un `1` rodeado de `20` ceros a cada lado."
   ]
  },
  {
   "cell_type": "code",
   "execution_count": 40,
   "metadata": {
    "deletable": false,
    "nbgrader": {
     "cell_type": "code",
     "checksum": "6d75440250d792157eae060c5a5cf212",
     "grade": false,
     "grade_id": "cell-84d057fb1a502ad8",
     "locked": false,
     "schema_version": 3,
     "solution": true,
     "task": false
    }
   },
   "outputs": [],
   "source": [
    "lista_2 = '' # Lista que contendra la solucion (no cambien el nombre)\n",
    "# YOUR CODE HERE\n",
    "lista_2 = [0]*20+[1]+[0]*20"
   ]
  },
  {
   "cell_type": "code",
   "execution_count": 41,
   "metadata": {
    "deletable": false,
    "editable": false,
    "nbgrader": {
     "cell_type": "code",
     "checksum": "b459f57b8b15362b0ad1cebc5a5e18df",
     "grade": true,
     "grade_id": "cell-50ba8c286181ae42",
     "locked": true,
     "points": 1,
     "schema_version": 3,
     "solution": false,
     "task": false
    }
   },
   "outputs": [
    {
     "name": "stdout",
     "output_type": "stream",
     "text": [
      "[0, 0, 0, 0, 0, 0, 0, 0, 0, 0, 0, 0, 0, 0, 0, 0, 0, 0, 0, 0, 1, 0, 0, 0, 0, 0, 0, 0, 0, 0, 0, 0, 0, 0, 0, 0, 0, 0, 0, 0, 0]\n"
     ]
    }
   ],
   "source": [
    "print(lista_2)"
   ]
  },
  {
   "cell_type": "markdown",
   "metadata": {
    "deletable": false,
    "editable": false,
    "nbgrader": {
     "cell_type": "markdown",
     "checksum": "66265b08df00bd0cd92eba35439d519d",
     "grade": false,
     "grade_id": "cell-c6783886c00104d3",
     "locked": true,
     "schema_version": 3,
     "solution": false,
     "task": false
    }
   },
   "source": [
    "### Problema 3\n",
    "\n",
    "Calcular el promedio de la siguiente lista:"
   ]
  },
  {
   "cell_type": "code",
   "execution_count": 48,
   "metadata": {
    "deletable": false,
    "nbgrader": {
     "cell_type": "code",
     "checksum": "92e63d5ffc091fb3b63baac422d32f90",
     "grade": false,
     "grade_id": "cell-ba514f9b27b5788d",
     "locked": false,
     "schema_version": 3,
     "solution": true,
     "task": false
    }
   },
   "outputs": [],
   "source": [
    "li = [3, 18, 17, 44, 14, 12, 29, 19, 4, 6, 17, 7, 14, 6, 8, 17, 17, 21, 65,\\\n",
    "      19, 10, 31, 92, 17, 5, 15, 3, 14, 20, 12, 29, 57, 15, 2, 17, 1, 6, 17, 2,\\\n",
    "      71, 12, 11, 62, 14, 9, 20, 43, 19, 4, 15]\n",
    "\n",
    "prom = '' # variable que debe contener el promedio(no cambiarle el nombre)\n",
    "# YOUR CODE HERE\n",
    "prom = sum(li)/len(li)"
   ]
  },
  {
   "cell_type": "code",
   "execution_count": 49,
   "metadata": {
    "deletable": false,
    "editable": false,
    "nbgrader": {
     "cell_type": "code",
     "checksum": "11bb88ae09de2c3b0311aae6af062d4a",
     "grade": true,
     "grade_id": "cell-4b82a6accb62bd0e",
     "locked": true,
     "points": 1,
     "schema_version": 3,
     "solution": false,
     "task": false
    }
   },
   "outputs": [
    {
     "name": "stdout",
     "output_type": "stream",
     "text": [
      "promedio: 20.04\n"
     ]
    }
   ],
   "source": [
    "print(f'promedio: {prom}')"
   ]
  },
  {
   "cell_type": "markdown",
   "metadata": {
    "deletable": false,
    "editable": false,
    "nbgrader": {
     "cell_type": "markdown",
     "checksum": "e88d2df5e1ba2216a8d4dc9b9a5ae601",
     "grade": false,
     "grade_id": "cell-0ebb9d1ec5ee2b83",
     "locked": true,
     "schema_version": 3,
     "solution": false,
     "task": false
    }
   },
   "source": [
    "*Respuesta*:\n",
    "\n",
    "    20.04"
   ]
  },
  {
   "cell_type": "markdown",
   "metadata": {
    "deletable": false,
    "editable": false,
    "nbgrader": {
     "cell_type": "markdown",
     "checksum": "f6a1636fcfc1ac139b66280615cc63aa",
     "grade": false,
     "grade_id": "cell-99806cebaf42c5e7",
     "locked": true,
     "schema_version": 3,
     "solution": false,
     "task": false
    }
   },
   "source": [
    "# Tuplas\n",
    "\n",
    "Las tuplas son listas de objetos con la caracteristica de ser inmutables y ordenadas. Mantienen las mismas operaciones de ``slicing`` e indexacion, sin embargo, no se pueden modificar los valores. Definimos las listas usando parentesis en lugar de corchetes cuadrados:"
   ]
  },
  {
   "cell_type": "code",
   "execution_count": 50,
   "metadata": {
    "deletable": false,
    "editable": false,
    "nbgrader": {
     "cell_type": "code",
     "checksum": "c23876bbbacaf557d5066cca31b0273a",
     "grade": false,
     "grade_id": "cell-ca98852aa904518e",
     "locked": true,
     "schema_version": 3,
     "solution": false,
     "task": false
    }
   },
   "outputs": [
    {
     "name": "stdout",
     "output_type": "stream",
     "text": [
      "4\n",
      "a\n",
      "(3, 4, 'a')\n"
     ]
    }
   ],
   "source": [
    "tp = (1, 2, 3, 4, 'a')\n",
    "\n",
    "print(tp[3])\n",
    "\n",
    "print(tp[-1])\n",
    "\n",
    "print(tp[2:])"
   ]
  },
  {
   "cell_type": "markdown",
   "metadata": {
    "deletable": false,
    "editable": false,
    "nbgrader": {
     "cell_type": "markdown",
     "checksum": "8d00842ad2fc146971cd933d0157a6c3",
     "grade": false,
     "grade_id": "cell-2ffb814a30c0c4dc",
     "locked": true,
     "schema_version": 3,
     "solution": false,
     "task": false
    }
   },
   "source": [
    "Recuerden que las tuplas son inmutables:"
   ]
  },
  {
   "cell_type": "code",
   "execution_count": 51,
   "metadata": {
    "deletable": false,
    "editable": false,
    "nbgrader": {
     "cell_type": "code",
     "checksum": "681be414569cccc5324bcc007cf87b6c",
     "grade": false,
     "grade_id": "cell-0a49780475cebc8f",
     "locked": true,
     "schema_version": 3,
     "solution": false,
     "task": false
    }
   },
   "outputs": [
    {
     "ename": "TypeError",
     "evalue": "'tuple' object does not support item assignment",
     "output_type": "error",
     "traceback": [
      "\u001b[1;31m---------------------------------------------------------------------------\u001b[0m",
      "\u001b[1;31mTypeError\u001b[0m                                 Traceback (most recent call last)",
      "\u001b[1;32mc:\\Users\\eduar\\OneDrive - Universidad de los Andes\\2023-20\\Analisis y Procesamiento de Imagenes\\Analisis_Imagenes_IBIO3470\\Tutorial Laboratorio 0\\Entrega 0\\tutorial.ipynb Cell 64\u001b[0m in \u001b[0;36m1\n\u001b[1;32m----> <a href='vscode-notebook-cell:/c%3A/Users/eduar/OneDrive%20-%20Universidad%20de%20los%20Andes/2023-20/Analisis%20y%20Procesamiento%20de%20Imagenes/Analisis_Imagenes_IBIO3470/Tutorial%20Laboratorio%200/Entrega%200/tutorial.ipynb#Y120sZmlsZQ%3D%3D?line=0'>1</a>\u001b[0m tp[\u001b[39m2\u001b[39;49m] \u001b[39m=\u001b[39m \u001b[39m'\u001b[39m\u001b[39mb\u001b[39m\u001b[39m'\u001b[39m\n",
      "\u001b[1;31mTypeError\u001b[0m: 'tuple' object does not support item assignment"
     ]
    }
   ],
   "source": [
    "tp[2] = 'b'"
   ]
  },
  {
   "cell_type": "markdown",
   "metadata": {
    "deletable": false,
    "editable": false,
    "nbgrader": {
     "cell_type": "markdown",
     "checksum": "62a7759a6a00bae5dd37fdbbe53f8553",
     "grade": false,
     "grade_id": "cell-84d1e7ccfa1947c9",
     "locked": true,
     "schema_version": 3,
     "solution": false,
     "task": false
    }
   },
   "source": [
    "**Nota**: Podemos definir tuplas sin la necesidad de utilizar el parentesis, tal como se ve en la siguiente celda"
   ]
  },
  {
   "cell_type": "code",
   "execution_count": 52,
   "metadata": {
    "deletable": false,
    "editable": false,
    "nbgrader": {
     "cell_type": "code",
     "checksum": "209cb028f41f11415aa36bdd253fe63e",
     "grade": false,
     "grade_id": "cell-c7a36a5fe5611a77",
     "locked": true,
     "schema_version": 3,
     "solution": false,
     "task": false
    }
   },
   "outputs": [
    {
     "data": {
      "text/plain": [
       "('a', 'b', 2)"
      ]
     },
     "execution_count": 52,
     "metadata": {},
     "output_type": "execute_result"
    }
   ],
   "source": [
    "tp1 = 'a', 'b', 2\n",
    "\n",
    "tp1"
   ]
  },
  {
   "cell_type": "markdown",
   "metadata": {
    "deletable": false,
    "editable": false,
    "nbgrader": {
     "cell_type": "markdown",
     "checksum": "0b46524f0f4f7b8771e2a8ced6a8a46f",
     "grade": false,
     "grade_id": "cell-910ab27255b263c4",
     "locked": true,
     "schema_version": 3,
     "solution": false,
     "task": false
    }
   },
   "source": [
    "# Desempaquetamiento\n",
    "\n",
    "En python podemos \"desempaquetar\" los objetos contenidos en un objeto iterable (lista, tupla, diccionario, etc.) usando la notacion ``var1, var2, ..., varN = iterable``. Para lograrlo es necesario que el objeto iterable contenga ``N`` elementos, de lo contrario arrojara una excepcion:"
   ]
  },
  {
   "cell_type": "code",
   "execution_count": 53,
   "metadata": {
    "deletable": false,
    "editable": false,
    "nbgrader": {
     "cell_type": "code",
     "checksum": "2bba9e742e7d4937115f7bf152e9814c",
     "grade": false,
     "grade_id": "cell-500dab94beec7492",
     "locked": true,
     "schema_version": 3,
     "solution": false,
     "task": false
    }
   },
   "outputs": [
    {
     "name": "stdout",
     "output_type": "stream",
     "text": [
      "2 3 4\n",
      "1 2 3\n",
      "4 -2 (1+9j)\n"
     ]
    }
   ],
   "source": [
    "# desempaquetar listas\n",
    "a, b, c = [2, 3, 4] \n",
    "print(a, b, c)\n",
    "\n",
    "# desempaquetar strings\n",
    "a, b, c = '123'\n",
    "print(a, b, c)\n",
    "\n",
    "# desempaquetar tuplas\n",
    "a, b, c = 4, -2, 1+9j\n",
    "print(a, b, c)"
   ]
  },
  {
   "cell_type": "code",
   "execution_count": 54,
   "metadata": {
    "deletable": false,
    "editable": false,
    "nbgrader": {
     "cell_type": "code",
     "checksum": "3f6bb1f45e72d4a57ba02ca5eed4f66d",
     "grade": false,
     "grade_id": "cell-e9f008658d5bd5b5",
     "locked": true,
     "schema_version": 3,
     "solution": false,
     "task": false
    }
   },
   "outputs": [
    {
     "ename": "ValueError",
     "evalue": "not enough values to unpack (expected 3, got 2)",
     "output_type": "error",
     "traceback": [
      "\u001b[1;31m---------------------------------------------------------------------------\u001b[0m",
      "\u001b[1;31mValueError\u001b[0m                                Traceback (most recent call last)",
      "\u001b[1;32mc:\\Users\\eduar\\OneDrive - Universidad de los Andes\\2023-20\\Analisis y Procesamiento de Imagenes\\Analisis_Imagenes_IBIO3470\\Tutorial Laboratorio 0\\Entrega 0\\tutorial.ipynb Cell 69\u001b[0m in \u001b[0;36m2\n\u001b[0;32m      <a href='vscode-notebook-cell:/c%3A/Users/eduar/OneDrive%20-%20Universidad%20de%20los%20Andes/2023-20/Analisis%20y%20Procesamiento%20de%20Imagenes/Analisis_Imagenes_IBIO3470/Tutorial%20Laboratorio%200/Entrega%200/tutorial.ipynb#Y125sZmlsZQ%3D%3D?line=0'>1</a>\u001b[0m \u001b[39m# menos elementos que variables\u001b[39;00m\n\u001b[1;32m----> <a href='vscode-notebook-cell:/c%3A/Users/eduar/OneDrive%20-%20Universidad%20de%20los%20Andes/2023-20/Analisis%20y%20Procesamiento%20de%20Imagenes/Analisis_Imagenes_IBIO3470/Tutorial%20Laboratorio%200/Entrega%200/tutorial.ipynb#Y125sZmlsZQ%3D%3D?line=1'>2</a>\u001b[0m a, b, c \u001b[39m=\u001b[39m [\u001b[39m2\u001b[39m, \u001b[39m3\u001b[39m]\n",
      "\u001b[1;31mValueError\u001b[0m: not enough values to unpack (expected 3, got 2)"
     ]
    }
   ],
   "source": [
    "# menos elementos que variables\n",
    "a, b, c = [2, 3]"
   ]
  },
  {
   "cell_type": "code",
   "execution_count": 55,
   "metadata": {
    "deletable": false,
    "editable": false,
    "nbgrader": {
     "cell_type": "code",
     "checksum": "500d8a6adb5fc0acf40b51000f2400b8",
     "grade": false,
     "grade_id": "cell-083ef0e61e339b89",
     "locked": true,
     "schema_version": 3,
     "solution": false,
     "task": false
    }
   },
   "outputs": [
    {
     "ename": "ValueError",
     "evalue": "too many values to unpack (expected 2)",
     "output_type": "error",
     "traceback": [
      "\u001b[1;31m---------------------------------------------------------------------------\u001b[0m",
      "\u001b[1;31mValueError\u001b[0m                                Traceback (most recent call last)",
      "\u001b[1;32mc:\\Users\\eduar\\OneDrive - Universidad de los Andes\\2023-20\\Analisis y Procesamiento de Imagenes\\Analisis_Imagenes_IBIO3470\\Tutorial Laboratorio 0\\Entrega 0\\tutorial.ipynb Cell 70\u001b[0m in \u001b[0;36m2\n\u001b[0;32m      <a href='vscode-notebook-cell:/c%3A/Users/eduar/OneDrive%20-%20Universidad%20de%20los%20Andes/2023-20/Analisis%20y%20Procesamiento%20de%20Imagenes/Analisis_Imagenes_IBIO3470/Tutorial%20Laboratorio%200/Entrega%200/tutorial.ipynb#Y126sZmlsZQ%3D%3D?line=0'>1</a>\u001b[0m \u001b[39m# Menos variables que elementos\u001b[39;00m\n\u001b[1;32m----> <a href='vscode-notebook-cell:/c%3A/Users/eduar/OneDrive%20-%20Universidad%20de%20los%20Andes/2023-20/Analisis%20y%20Procesamiento%20de%20Imagenes/Analisis_Imagenes_IBIO3470/Tutorial%20Laboratorio%200/Entrega%200/tutorial.ipynb#Y126sZmlsZQ%3D%3D?line=1'>2</a>\u001b[0m a, b \u001b[39m=\u001b[39m [\u001b[39m4\u001b[39m, \u001b[39m5\u001b[39m, \u001b[39m6\u001b[39m]\n",
      "\u001b[1;31mValueError\u001b[0m: too many values to unpack (expected 2)"
     ]
    }
   ],
   "source": [
    "# Menos variables que elementos\n",
    "a, b = [4, 5, 6] "
   ]
  },
  {
   "cell_type": "code",
   "execution_count": 56,
   "metadata": {
    "deletable": false,
    "editable": false,
    "nbgrader": {
     "cell_type": "code",
     "checksum": "f44a650f33829526c9ab43905fce3204",
     "grade": false,
     "grade_id": "cell-9553c6a576dccf37",
     "locked": true,
     "schema_version": 3,
     "solution": false,
     "task": false
    }
   },
   "outputs": [
    {
     "name": "stdout",
     "output_type": "stream",
     "text": [
      "3 4 jasdlkasd\n"
     ]
    }
   ],
   "source": [
    "# algunos trucos que son posibles!\n",
    "(a, b), c = [(3, 4), 'jasdlkasd']\n",
    "print(a, b, c)"
   ]
  },
  {
   "cell_type": "markdown",
   "metadata": {
    "deletable": false,
    "editable": false,
    "nbgrader": {
     "cell_type": "markdown",
     "checksum": "7600d2ca7e141ebbfec9daa27b19d579",
     "grade": false,
     "grade_id": "cell-7b8dd9cda09918d4",
     "locked": true,
     "schema_version": 3,
     "solution": false,
     "task": false
    }
   },
   "source": [
    "## Problemas"
   ]
  },
  {
   "cell_type": "markdown",
   "metadata": {
    "deletable": false,
    "editable": false,
    "nbgrader": {
     "cell_type": "markdown",
     "checksum": "d29d74d3a0b2b96162f21ead77516eab",
     "grade": false,
     "grade_id": "cell-cce13b9ac35c266a",
     "locked": true,
     "schema_version": 3,
     "solution": false,
     "task": false
    }
   },
   "source": [
    "### Problema 1\n",
    "\n",
    "Es posible calcular el promedio a la lista de la siguiente tupla?"
   ]
  },
  {
   "cell_type": "code",
   "execution_count": 58,
   "metadata": {
    "deletable": false,
    "nbgrader": {
     "cell_type": "code",
     "checksum": "5b0ff34f7c54896887eec856e15467ea",
     "grade": false,
     "grade_id": "cell-812dde1f595526ce",
     "locked": false,
     "schema_version": 3,
     "solution": true,
     "task": false
    }
   },
   "outputs": [],
   "source": [
    "li = (3, 18, 17, 44, 14, 12, 29, 19, 4, 6, 17, 7, 14, 6, 8, 17, 17, 21, 65,\\\n",
    "      19, 10, 31, 92, 17, 5, 15, 3, 14, 20, 12, 29, 57, 15, 2, 17, 1, 6, 17, 2,\\\n",
    "      71, 12, 11, 62, 14, 9, 20, 43, 19, 4, 15)\n",
    "\n",
    "prom = '' # variable que debe contener el promedio(no cambiarle el nombre)\n",
    "prom = sum(li)/len(li)"
   ]
  },
  {
   "cell_type": "code",
   "execution_count": 59,
   "metadata": {
    "deletable": false,
    "editable": false,
    "nbgrader": {
     "cell_type": "code",
     "checksum": "106961977d7f147acaf6e96d915d6edf",
     "grade": true,
     "grade_id": "cell-09b9cf014dc6eb69",
     "locked": true,
     "points": 1,
     "schema_version": 3,
     "solution": false,
     "task": false
    }
   },
   "outputs": [
    {
     "name": "stdout",
     "output_type": "stream",
     "text": [
      "promedio: 20.04\n"
     ]
    }
   ],
   "source": [
    "print(f'promedio: {prom}')"
   ]
  },
  {
   "cell_type": "markdown",
   "metadata": {
    "deletable": false,
    "editable": false,
    "nbgrader": {
     "cell_type": "markdown",
     "checksum": "160da8eaf6029f0f2333ab48f0519ff0",
     "grade": false,
     "grade_id": "cell-f77c7e26b8afae10",
     "locked": true,
     "schema_version": 3,
     "solution": false,
     "task": false
    }
   },
   "source": [
    "### Problema 2\n",
    "\n",
    "Crear una tupla que tenga un solo elemento"
   ]
  },
  {
   "cell_type": "code",
   "execution_count": 63,
   "metadata": {
    "deletable": false,
    "nbgrader": {
     "cell_type": "code",
     "checksum": "800d73b38bb6f0c7154442e27df48a09",
     "grade": false,
     "grade_id": "cell-f1b6ade42c9c0a86",
     "locked": false,
     "schema_version": 3,
     "solution": true,
     "task": false
    }
   },
   "outputs": [],
   "source": [
    "tup = '' # variable que debe contener la tupla(no cambiarle el nombre)\n",
    "# YOUR CODE HERE\n",
    "tup = (1,)"
   ]
  },
  {
   "cell_type": "code",
   "execution_count": 64,
   "metadata": {
    "deletable": false,
    "editable": false,
    "nbgrader": {
     "cell_type": "code",
     "checksum": "0b915775695b99b1db4868e6f3eb3d26",
     "grade": true,
     "grade_id": "cell-ac75360d6c4c4b80",
     "locked": true,
     "points": 1,
     "schema_version": 3,
     "solution": false,
     "task": false
    }
   },
   "outputs": [
    {
     "name": "stdout",
     "output_type": "stream",
     "text": [
      "Tipo: <class 'tuple'>\n"
     ]
    }
   ],
   "source": [
    "print(f'Tipo: {type(tup)}')"
   ]
  },
  {
   "cell_type": "markdown",
   "metadata": {
    "deletable": false,
    "editable": false,
    "nbgrader": {
     "cell_type": "markdown",
     "checksum": "ffcafe9bc758657c1487765363d369da",
     "grade": false,
     "grade_id": "cell-deb80d99a0b2d8cd",
     "locked": true,
     "schema_version": 3,
     "solution": false,
     "task": false
    }
   },
   "source": [
    "# Diccionarios\n",
    "\n",
    "Los diccionarios son uno de los tipos mas usados de datos en Python. Hasta el momento hemos visto tipos de datos iterables que estan indexados con numeros enteros. Los diccionarios, contrario a las listas, pueden usar cualquier tipo de dato como indice el cual resulta ser **inmutable**. Esto permite realizar un arreglo asociativo donde el objeto se obtiene usando la llave que le corresponde. \n",
    "\n",
    "Por ejemplo, esto permitiria usar una lista que tenga contraseñas asociadas a usuarios. Ya que tenemos la asociacion del usuario como llave y la contraseña como valor, podremos obtener la contraseña de cada usuario al usar su nombre como llave."
   ]
  },
  {
   "cell_type": "code",
   "execution_count": 72,
   "metadata": {
    "deletable": false,
    "editable": false,
    "nbgrader": {
     "cell_type": "code",
     "checksum": "49a358aaa402ecc1126f49e3504aedf9",
     "grade": false,
     "grade_id": "cell-150d09e614ba41a1",
     "locked": true,
     "schema_version": 3,
     "solution": false,
     "task": false
    }
   },
   "outputs": [],
   "source": [
    "codes = {'Luis': 2257, 'Juan': 9739, 'Carlos': 5591}"
   ]
  },
  {
   "cell_type": "markdown",
   "metadata": {
    "deletable": false,
    "editable": false,
    "nbgrader": {
     "cell_type": "markdown",
     "checksum": "c403d8a68ae3fbb65ec77b8f71546a9b",
     "grade": false,
     "grade_id": "cell-b77ddaf61f1c9367",
     "locked": true,
     "schema_version": 3,
     "solution": false,
     "task": false
    }
   },
   "source": [
    "Como pueden ver, se delcara un diccionario usando corchetes cuadrados y dos puntos dividiendo los valores de las llaves ``{k:v}`` \n",
    "\n",
    "Para recuperar un valor usando su llave como si fuera el indice de una lista:"
   ]
  },
  {
   "cell_type": "code",
   "execution_count": 66,
   "metadata": {
    "deletable": false,
    "editable": false,
    "nbgrader": {
     "cell_type": "code",
     "checksum": "0418e277b3020959b21e2c5a1d71ccd2",
     "grade": false,
     "grade_id": "cell-af4aac210eefdd73",
     "locked": true,
     "schema_version": 3,
     "solution": false,
     "task": false
    }
   },
   "outputs": [
    {
     "data": {
      "text/plain": [
       "5591"
      ]
     },
     "execution_count": 66,
     "metadata": {},
     "output_type": "execute_result"
    }
   ],
   "source": [
    "codes['Carlos']"
   ]
  },
  {
   "cell_type": "code",
   "execution_count": 67,
   "metadata": {
    "deletable": false,
    "editable": false,
    "nbgrader": {
     "cell_type": "code",
     "checksum": "a960c16b04afecd78215263c67e9fafc",
     "grade": false,
     "grade_id": "cell-c926dfb31edf08a2",
     "locked": true,
     "schema_version": 3,
     "solution": false,
     "task": false
    }
   },
   "outputs": [
    {
     "data": {
      "text/plain": [
       "9739"
      ]
     },
     "execution_count": 67,
     "metadata": {},
     "output_type": "execute_result"
    }
   ],
   "source": [
    "codes['Juan']"
   ]
  },
  {
   "cell_type": "markdown",
   "metadata": {
    "deletable": false,
    "editable": false,
    "nbgrader": {
     "cell_type": "markdown",
     "checksum": "2136c8c97d3d2c26bd415268c8dbad97",
     "grade": false,
     "grade_id": "cell-6e3b8033983e80b7",
     "locked": true,
     "schema_version": 3,
     "solution": false,
     "task": false
    }
   },
   "source": [
    "El diccionario tambien permite realizar cambios a los valores asociados, como si alguien cambiara su contraseña:"
   ]
  },
  {
   "cell_type": "code",
   "execution_count": 74,
   "metadata": {
    "deletable": false,
    "editable": false,
    "nbgrader": {
     "cell_type": "code",
     "checksum": "1aceacfe25af2fa5ad0cc47d6d1d949a",
     "grade": false,
     "grade_id": "cell-81c64543e802ac25",
     "locked": true,
     "schema_version": 3,
     "solution": false,
     "task": false
    }
   },
   "outputs": [],
   "source": [
    "codes['Luis'] = 1627"
   ]
  },
  {
   "cell_type": "code",
   "execution_count": 75,
   "metadata": {
    "deletable": false,
    "editable": false,
    "nbgrader": {
     "cell_type": "code",
     "checksum": "206c9cb15dcd30c1138969eeed424f64",
     "grade": false,
     "grade_id": "cell-4e8aeaba83a997aa",
     "locked": true,
     "schema_version": 3,
     "solution": false,
     "task": false
    }
   },
   "outputs": [
    {
     "data": {
      "text/plain": [
       "{'Luis': 1627, 'Juan': 9739, 'Carlos': 5591}"
      ]
     },
     "execution_count": 75,
     "metadata": {},
     "output_type": "execute_result"
    }
   ],
   "source": [
    "codes"
   ]
  },
  {
   "cell_type": "markdown",
   "metadata": {
    "deletable": false,
    "editable": false,
    "nbgrader": {
     "cell_type": "markdown",
     "checksum": "e51fd96914f2188b16d777a55c171383",
     "grade": false,
     "grade_id": "cell-582c65b647c6425a",
     "locked": true,
     "schema_version": 3,
     "solution": false,
     "task": false
    }
   },
   "source": [
    "**Nota**: Los diccionarios no son ordenados, lo que quiere decir que como tal no existe un orden entre las llaves al momento de la definicion de estos tipos de datos. Para sobrellevar esta limitacion existe la clase ``OrderedDict`` dentro del paquete ``collections`` que ofrece las mismas operaciones que un diccionario ordinario."
   ]
  },
  {
   "cell_type": "markdown",
   "metadata": {
    "deletable": false,
    "editable": false,
    "nbgrader": {
     "cell_type": "markdown",
     "checksum": "b023146eb738f529a219a377336459e1",
     "grade": false,
     "grade_id": "cell-af1c2ae8dd7ced55",
     "locked": true,
     "schema_version": 3,
     "solution": false,
     "task": false
    }
   },
   "source": [
    "Otra operacion que se puede realizar es eliminar elementos de un diccionario, el cual dado el caso que estamos llevando, seria equivalente a que alguien cancele la subscripcion. Los comandos para esto son ``pop`` o ``del`` que se usan de la siguiente forma:"
   ]
  },
  {
   "cell_type": "code",
   "execution_count": 76,
   "metadata": {
    "deletable": false,
    "editable": false,
    "nbgrader": {
     "cell_type": "code",
     "checksum": "a5ebe0ea53800f443faa19c139ffeecf",
     "grade": false,
     "grade_id": "cell-e0989e7be912c815",
     "locked": true,
     "schema_version": 3,
     "solution": false,
     "task": false
    }
   },
   "outputs": [
    {
     "name": "stdout",
     "output_type": "stream",
     "text": [
      "9739\n",
      "{'Carlos': 5591}\n"
     ]
    }
   ],
   "source": [
    "val = codes.pop('Juan')\n",
    "print(val)\n",
    "\n",
    "del codes['Luis']\n",
    "print(codes)"
   ]
  },
  {
   "cell_type": "markdown",
   "metadata": {
    "deletable": false,
    "editable": false,
    "nbgrader": {
     "cell_type": "markdown",
     "checksum": "150d6007a0c0635256bf27efe61ca2c6",
     "grade": false,
     "grade_id": "cell-9afe81886f560903",
     "locked": true,
     "schema_version": 3,
     "solution": false,
     "task": false
    }
   },
   "source": [
    "Si quisieramos agregar una nueva llave al diccionario podemos usar la misma notacion que usamos para llamar las variables pero en este caso asignandole un valor."
   ]
  },
  {
   "cell_type": "code",
   "execution_count": 77,
   "metadata": {
    "deletable": false,
    "editable": false,
    "nbgrader": {
     "cell_type": "code",
     "checksum": "b94d69096b7b8b284a513d2285e02cf0",
     "grade": false,
     "grade_id": "cell-16a6eb2b5924fbd4",
     "locked": true,
     "schema_version": 3,
     "solution": false,
     "task": false
    }
   },
   "outputs": [
    {
     "data": {
      "text/plain": [
       "{'Carlos': 5591, 'Jorge': 6621}"
      ]
     },
     "execution_count": 77,
     "metadata": {},
     "output_type": "execute_result"
    }
   ],
   "source": [
    "codes['Jorge'] = 6621\n",
    "\n",
    "codes"
   ]
  },
  {
   "cell_type": "markdown",
   "metadata": {
    "deletable": false,
    "editable": false,
    "nbgrader": {
     "cell_type": "markdown",
     "checksum": "4ab38ca6284d6ded4f07b86da49e67bf",
     "grade": false,
     "grade_id": "cell-091f1138f5354622",
     "locked": true,
     "schema_version": 3,
     "solution": false,
     "task": false
    }
   },
   "source": [
    "Finalmente para lograr obtener todas las llaves o valores del diccionario podemos usar las funciones internas ``keys`` y ``values`` respectivamente:"
   ]
  },
  {
   "cell_type": "code",
   "execution_count": 78,
   "metadata": {
    "deletable": false,
    "editable": false,
    "nbgrader": {
     "cell_type": "code",
     "checksum": "5c469a73988f2c65763c788657c3b2f7",
     "grade": false,
     "grade_id": "cell-19c12a4fbf2e0f3b",
     "locked": true,
     "schema_version": 3,
     "solution": false,
     "task": false
    }
   },
   "outputs": [
    {
     "data": {
      "text/plain": [
       "dict_keys(['Carlos', 'Jorge'])"
      ]
     },
     "execution_count": 78,
     "metadata": {},
     "output_type": "execute_result"
    }
   ],
   "source": [
    "codes.keys()"
   ]
  },
  {
   "cell_type": "code",
   "execution_count": 79,
   "metadata": {
    "deletable": false,
    "editable": false,
    "nbgrader": {
     "cell_type": "code",
     "checksum": "72b51667cf672ca085bcdc20ef597cc3",
     "grade": false,
     "grade_id": "cell-0a75c60c36830f86",
     "locked": true,
     "schema_version": 3,
     "solution": false,
     "task": false
    }
   },
   "outputs": [
    {
     "data": {
      "text/plain": [
       "dict_values([5591, 6621])"
      ]
     },
     "execution_count": 79,
     "metadata": {},
     "output_type": "execute_result"
    }
   ],
   "source": [
    "codes.values()"
   ]
  },
  {
   "cell_type": "markdown",
   "metadata": {
    "deletable": false,
    "editable": false,
    "nbgrader": {
     "cell_type": "markdown",
     "checksum": "8d8186e589bc73a2607f465b031c8c9d",
     "grade": false,
     "grade_id": "cell-d1da8fc43c174eee",
     "locked": true,
     "schema_version": 3,
     "solution": false,
     "task": false
    }
   },
   "source": [
    "## Problemas"
   ]
  },
  {
   "cell_type": "markdown",
   "metadata": {
    "deletable": false,
    "editable": false,
    "nbgrader": {
     "cell_type": "markdown",
     "checksum": "3eaf1af71799f75adcf7c19576790966",
     "grade": false,
     "grade_id": "cell-03d565cd73e46b48",
     "locked": true,
     "schema_version": 3,
     "solution": false,
     "task": false
    }
   },
   "source": [
    "Dado el siguiente diccionario que guarda las notas de distintos estudiantes"
   ]
  },
  {
   "cell_type": "code",
   "execution_count": 80,
   "metadata": {
    "deletable": false,
    "editable": false,
    "nbgrader": {
     "cell_type": "code",
     "checksum": "42b834c3ee263d63fc1b7e783890e637",
     "grade": false,
     "grade_id": "cell-8c60da42eb2dc707",
     "locked": true,
     "schema_version": 3,
     "solution": false,
     "task": false
    }
   },
   "outputs": [],
   "source": [
    "notas = {\n",
    "    'Juan': [4.5, 3.7, 3.4, 5],\n",
    "    'Alicia': [3.5, 3.1, 4.2, 3.9],\n",
    "    'German': [2.6, 3.0, 3.9, 4.1]\n",
    "}"
   ]
  },
  {
   "cell_type": "markdown",
   "metadata": {
    "deletable": false,
    "editable": false,
    "nbgrader": {
     "cell_type": "markdown",
     "checksum": "aed3531ba52a2650fdee05b5c3c71b4e",
     "grade": false,
     "grade_id": "cell-99fd734de00ad8c0",
     "locked": true,
     "schema_version": 3,
     "solution": false,
     "task": false
    }
   },
   "source": [
    "### Problema 1\n",
    "calcular:\n",
    "\n",
    "* La nota promedio de Juan (recuerde que se puede utilizar `sum` y `len` para obtener el promedio).\n",
    "\n",
    "*Respuesta*\n",
    "\n",
    "    4.15"
   ]
  },
  {
   "cell_type": "code",
   "execution_count": 90,
   "metadata": {
    "deletable": false,
    "nbgrader": {
     "cell_type": "code",
     "checksum": "701b4820c96b2e62abb483a4fbca8b32",
     "grade": false,
     "grade_id": "cell-1a53ed6ac4b539a4",
     "locked": false,
     "schema_version": 3,
     "solution": true,
     "task": false
    }
   },
   "outputs": [],
   "source": [
    "prom_juan = '' # variable que debe contener el promedio de Juan\n",
    "# YOUR CODE HERE\n",
    "prom_juan = sum(notas['Juan'])/len(notas['Juan'])"
   ]
  },
  {
   "cell_type": "code",
   "execution_count": 91,
   "metadata": {
    "deletable": false,
    "editable": false,
    "nbgrader": {
     "cell_type": "code",
     "checksum": "a1fa332f3cf3d81c8daaadf680c66665",
     "grade": true,
     "grade_id": "cell-ed480b6d06d9b3da",
     "locked": true,
     "points": 1,
     "schema_version": 3,
     "solution": false,
     "task": false
    }
   },
   "outputs": [
    {
     "name": "stdout",
     "output_type": "stream",
     "text": [
      "el promedio de Juan es: 4.15\n"
     ]
    }
   ],
   "source": [
    "print(f'el promedio de Juan es: {prom_juan}')"
   ]
  },
  {
   "cell_type": "markdown",
   "metadata": {
    "deletable": false,
    "editable": false,
    "nbgrader": {
     "cell_type": "markdown",
     "checksum": "3752515a48f7ae86bcad8b62602fd330",
     "grade": false,
     "grade_id": "cell-2e5655da06af52ba",
     "locked": true,
     "schema_version": 3,
     "solution": false,
     "task": false
    }
   },
   "source": [
    "* La nota promedio del curso\n",
    "\n",
    "*Respuesta*\n",
    "\n",
    "    3.74"
   ]
  },
  {
   "cell_type": "code",
   "execution_count": 101,
   "metadata": {
    "deletable": false,
    "nbgrader": {
     "cell_type": "code",
     "checksum": "4b73eb44f8d33f114b7122c0d40ea560",
     "grade": false,
     "grade_id": "cell-25536bc330cc0c6d",
     "locked": false,
     "schema_version": 3,
     "solution": true,
     "task": false
    }
   },
   "outputs": [],
   "source": [
    "prom_class = '' # variable que debe contener el promedio general\n",
    "# YOUR CODE HERE\n",
    "glob = []\n",
    "for i in notas.values():\n",
    "    glob += i\n",
    "prom_class = sum(glob)/len(glob)\n"
   ]
  },
  {
   "cell_type": "code",
   "execution_count": 102,
   "metadata": {
    "deletable": false,
    "editable": false,
    "nbgrader": {
     "cell_type": "code",
     "checksum": "93650bbadf7bbf14d70ddc3ad62fcf5a",
     "grade": true,
     "grade_id": "cell-989b9582802d9a73",
     "locked": true,
     "points": 1,
     "schema_version": 3,
     "solution": false,
     "task": false
    }
   },
   "outputs": [
    {
     "name": "stdout",
     "output_type": "stream",
     "text": [
      "promedio de la clase: 3.7416666666666667\n"
     ]
    }
   ],
   "source": [
    "print(f'promedio de la clase: {prom_class}')"
   ]
  },
  {
   "cell_type": "markdown",
   "metadata": {
    "deletable": false,
    "editable": false,
    "nbgrader": {
     "cell_type": "markdown",
     "checksum": "afb27d6d0d99c6878ea74e227d66236d",
     "grade": false,
     "grade_id": "cell-2b0cc823bdf23bd3",
     "locked": true,
     "schema_version": 3,
     "solution": false,
     "task": false
    }
   },
   "source": [
    "# Conversion de tipos\n",
    "\n",
    "Para poder hacer la conversion de un tipo de dato a otro podemos usar las *keywords* de los tipos de datos como funcion:"
   ]
  },
  {
   "cell_type": "markdown",
   "metadata": {
    "deletable": false,
    "editable": false,
    "nbgrader": {
     "cell_type": "markdown",
     "checksum": "68666a4dabd65f23331afd8bbd6f2b8f",
     "grade": false,
     "grade_id": "cell-600669e7aa31792f",
     "locked": true,
     "schema_version": 3,
     "solution": false,
     "task": false
    }
   },
   "source": [
    "* **int**: Conversion a un tipo de dato int(numeros enteros)"
   ]
  },
  {
   "cell_type": "code",
   "execution_count": 103,
   "metadata": {
    "deletable": false,
    "editable": false,
    "nbgrader": {
     "cell_type": "code",
     "checksum": "73c9e5dc3a2b172fd955dc86c5ff5dbf",
     "grade": false,
     "grade_id": "cell-198a7a188af0acc4",
     "locked": true,
     "schema_version": 3,
     "solution": false,
     "task": false
    }
   },
   "outputs": [
    {
     "name": "stdout",
     "output_type": "stream",
     "text": [
      "3\n",
      "6\n"
     ]
    }
   ],
   "source": [
    "print(int(3.99))\n",
    "\n",
    "print(int('6'))"
   ]
  },
  {
   "cell_type": "markdown",
   "metadata": {
    "deletable": false,
    "editable": false,
    "nbgrader": {
     "cell_type": "markdown",
     "checksum": "2579e05c8d50c9a93129e0e786549ece",
     "grade": false,
     "grade_id": "cell-48e02f5cdcd0cf36",
     "locked": true,
     "schema_version": 3,
     "solution": false,
     "task": false
    }
   },
   "source": [
    "* **float**: Conversion a punto flotante"
   ]
  },
  {
   "cell_type": "code",
   "execution_count": 104,
   "metadata": {
    "deletable": false,
    "editable": false,
    "nbgrader": {
     "cell_type": "code",
     "checksum": "4c9a1d20254efdf9be91d907bc425a74",
     "grade": false,
     "grade_id": "cell-7c38e19234331715",
     "locked": true,
     "schema_version": 3,
     "solution": false,
     "task": false
    }
   },
   "outputs": [
    {
     "name": "stdout",
     "output_type": "stream",
     "text": [
      "12.0\n",
      "4.23\n"
     ]
    }
   ],
   "source": [
    "print(float(12))\n",
    "\n",
    "print(float('4.23'))"
   ]
  },
  {
   "cell_type": "markdown",
   "metadata": {
    "deletable": false,
    "editable": false,
    "nbgrader": {
     "cell_type": "markdown",
     "checksum": "2d9dab5ab9d834016346c81c0c34ae13",
     "grade": false,
     "grade_id": "cell-251640cc540bde24",
     "locked": true,
     "schema_version": 3,
     "solution": false,
     "task": false
    }
   },
   "source": [
    "* **str**: La representacion en string del tipo de objeto (puede ser variado y personalizable al hacer una clase)"
   ]
  },
  {
   "cell_type": "code",
   "execution_count": 105,
   "metadata": {
    "deletable": false,
    "editable": false,
    "nbgrader": {
     "cell_type": "code",
     "checksum": "5001071bbb64a3f1a79a5bf260b3cda6",
     "grade": false,
     "grade_id": "cell-4204dfeb8907e479",
     "locked": true,
     "schema_version": 3,
     "solution": false,
     "task": false
    }
   },
   "outputs": [
    {
     "name": "stdout",
     "output_type": "stream",
     "text": [
      "36.1\n",
      "[1, 2, 3]\n"
     ]
    }
   ],
   "source": [
    "print(str(36.1))\n",
    "\n",
    "print(str([1,2,3]))"
   ]
  },
  {
   "cell_type": "markdown",
   "metadata": {
    "deletable": false,
    "editable": false,
    "nbgrader": {
     "cell_type": "markdown",
     "checksum": "ec17c8b8c25ee86dbb771238ecb84f2a",
     "grade": false,
     "grade_id": "cell-54837dc14cb3929b",
     "locked": true,
     "schema_version": 3,
     "solution": false,
     "task": false
    }
   },
   "source": [
    "* **list**: Convertir objetos iterables en una lista"
   ]
  },
  {
   "cell_type": "code",
   "execution_count": 106,
   "metadata": {
    "deletable": false,
    "editable": false,
    "nbgrader": {
     "cell_type": "code",
     "checksum": "f2a03f16536c7bf8e14917d3efda0f2a",
     "grade": false,
     "grade_id": "cell-644bff8cb3c5509a",
     "locked": true,
     "schema_version": 3,
     "solution": false,
     "task": false
    }
   },
   "outputs": [
    {
     "name": "stdout",
     "output_type": "stream",
     "text": [
      "[3, 2, 4]\n",
      "['1', '4', '5', '7']\n"
     ]
    }
   ],
   "source": [
    "print(list((3, 2, 4)))\n",
    "\n",
    "print(list('1457'))"
   ]
  },
  {
   "cell_type": "markdown",
   "metadata": {
    "deletable": false,
    "editable": false,
    "nbgrader": {
     "cell_type": "markdown",
     "checksum": "da0e74a834f46018a63c4ff551433d7d",
     "grade": false,
     "grade_id": "cell-fc01656e693fdb9e",
     "locked": true,
     "schema_version": 3,
     "solution": false,
     "task": false
    }
   },
   "source": [
    "Al hacer esto con un diccionario solo mantendra las llaves."
   ]
  },
  {
   "cell_type": "code",
   "execution_count": 107,
   "metadata": {
    "deletable": false,
    "editable": false,
    "nbgrader": {
     "cell_type": "code",
     "checksum": "2a6856576deea582acd0420be85f024b",
     "grade": false,
     "grade_id": "cell-2ada2466d4dc4a61",
     "locked": true,
     "schema_version": 3,
     "solution": false,
     "task": false
    }
   },
   "outputs": [
    {
     "data": {
      "text/plain": [
       "['a', 'b']"
      ]
     },
     "execution_count": 107,
     "metadata": {},
     "output_type": "execute_result"
    }
   ],
   "source": [
    "list({'a': 12, 'b': 5})"
   ]
  },
  {
   "cell_type": "markdown",
   "metadata": {
    "deletable": false,
    "editable": false,
    "nbgrader": {
     "cell_type": "markdown",
     "checksum": "24405baac8855ed17bf534b808c1f409",
     "grade": false,
     "grade_id": "cell-d0b2d7cbebc19ad0",
     "locked": true,
     "schema_version": 3,
     "solution": false,
     "task": false
    }
   },
   "source": [
    "* **dict**: Podemos realizarlo al tener parejas de llaves y valores emparejados en una lista (K, V)."
   ]
  },
  {
   "cell_type": "code",
   "execution_count": 108,
   "metadata": {
    "deletable": false,
    "editable": false,
    "nbgrader": {
     "cell_type": "code",
     "checksum": "e16c40100af2b07d13c5d02c5f974a05",
     "grade": false,
     "grade_id": "cell-d9eff1ba8a61d571",
     "locked": true,
     "schema_version": 3,
     "solution": false,
     "task": false
    }
   },
   "outputs": [
    {
     "data": {
      "text/plain": [
       "{10: 'a', 15: 't'}"
      ]
     },
     "execution_count": 108,
     "metadata": {},
     "output_type": "execute_result"
    }
   ],
   "source": [
    "dict([[10, 'a'], [15, 't']])"
   ]
  },
  {
   "cell_type": "markdown",
   "metadata": {
    "deletable": false,
    "editable": false,
    "nbgrader": {
     "cell_type": "markdown",
     "checksum": "6bb29fed0d5d8124306fa9617e6fae1e",
     "grade": false,
     "grade_id": "cell-ae25e0e7bfe0bf5c",
     "locked": true,
     "schema_version": 3,
     "solution": false,
     "task": false
    }
   },
   "source": [
    "Tambien podemos usar ``zip`` para crear un diccionario basado en una lista de llaves y una lista de valores:"
   ]
  },
  {
   "cell_type": "code",
   "execution_count": 109,
   "metadata": {
    "deletable": false,
    "editable": false,
    "nbgrader": {
     "cell_type": "code",
     "checksum": "caf48a06f0d4877ffb99f96d9aa67efc",
     "grade": false,
     "grade_id": "cell-8957ef60ccd566fa",
     "locked": true,
     "schema_version": 3,
     "solution": false,
     "task": false
    }
   },
   "outputs": [
    {
     "name": "stdout",
     "output_type": "stream",
     "text": [
      "[('A', 12), ('B', 34), ('C', (-1+9j))]\n"
     ]
    },
    {
     "data": {
      "text/plain": [
       "{'A': 12, 'B': 34, 'C': (-1+9j)}"
      ]
     },
     "execution_count": 109,
     "metadata": {},
     "output_type": "execute_result"
    }
   ],
   "source": [
    "keys = ['A', 'B', 'C']\n",
    "values = [12, 34, -1 + 9j]\n",
    "pairs = list(zip(keys, values))\n",
    "print(pairs)\n",
    "\n",
    "dict(pairs)"
   ]
  },
  {
   "cell_type": "markdown",
   "metadata": {
    "deletable": false,
    "editable": false,
    "nbgrader": {
     "cell_type": "markdown",
     "checksum": "bf5e86a26583cb201f941121ca754191",
     "grade": false,
     "grade_id": "cell-e70ee0344415abac",
     "locked": true,
     "schema_version": 3,
     "solution": false,
     "task": false
    }
   },
   "source": [
    "# Funciones\n",
    "\n",
    "Como en cualquier otro lenguaje, en *Python* tambien es posible definir funciones, es decir, secuencias de enunciados que reciben ciertos datos, ejecutan algunas operaciones sobre ellos y devuelven un resultado.\n",
    "\n",
    "Para definir una funcion se usa la palabra clave `def`, y el valor que va a retornar siempre debe ser precedido por un `return`. La sintaxis de una funcion es como se ve a continuacion:\n",
    "\n",
    "```python\n",
    "def NOMBRE(LISTA DE ARGUMENTOS):\n",
    "    ENUNCIADOS\n",
    "    return VALOR\n",
    "```\n",
    "\n",
    "o\n",
    "\n",
    "```python\n",
    "def NOMBRE(LISTA DE ARGUMENTOS):\n",
    "    ENUNCIADOS\n",
    "    print(VALOR)\n",
    "```\n",
    "\n",
    "La linea que contiene el `return` (o `print`) es opcional, pues no todas las funciones deben retornar algo. Por ejemplo, hay algunas que solo modifican los valores de ciertas variables, por lo que no necesitan retornar o imprimir ningun valor."
   ]
  },
  {
   "cell_type": "markdown",
   "metadata": {
    "deletable": false,
    "editable": false,
    "nbgrader": {
     "cell_type": "markdown",
     "checksum": "834a26d5cfb17b7b367b48d73765c34c",
     "grade": false,
     "grade_id": "cell-57e718f01154c4dd",
     "locked": true,
     "schema_version": 3,
     "solution": false,
     "task": false
    }
   },
   "source": [
    "**Nota**:\n",
    "\n",
    "Es muy importante tener en cuenta que los enunciados que hacen parte de la funcion deben estar **una indentacion** por dentro del encabezado. En otras palabras, todo lo que este indentado por dentro de la definicion, pertenece al cuerpo de la funcion, ya que en Python la indentacion es lo unico que define la forma en que se agrupa el codigo. Solo cuando el nivel de indentacion se retorne al punto en que se escribio el primer `def` se considera que ha terminado la definicion de la funcion."
   ]
  },
  {
   "cell_type": "markdown",
   "metadata": {
    "deletable": false,
    "editable": false,
    "nbgrader": {
     "cell_type": "markdown",
     "checksum": "a0fdcf43b5cea05c94d9210c4c5ebb46",
     "grade": false,
     "grade_id": "cell-bfc128c2bc15b192",
     "locked": true,
     "schema_version": 3,
     "solution": false,
     "task": false
    }
   },
   "source": [
    "Un ejemplo muy sencillo de una funcion que toma un argumento `x` y retorna este argumento elevado al cuadrado es:"
   ]
  },
  {
   "cell_type": "code",
   "execution_count": 110,
   "metadata": {
    "deletable": false,
    "editable": false,
    "nbgrader": {
     "cell_type": "code",
     "checksum": "5f23a0e6d2a54675c3ac42d9ff63d091",
     "grade": false,
     "grade_id": "cell-64319a8489e2e3bc",
     "locked": true,
     "schema_version": 3,
     "solution": false,
     "task": false
    }
   },
   "outputs": [],
   "source": [
    "def cuadrado(x):\n",
    "    return x**2"
   ]
  },
  {
   "cell_type": "markdown",
   "metadata": {
    "deletable": false,
    "editable": false,
    "nbgrader": {
     "cell_type": "markdown",
     "checksum": "c5899f200340b62e89c721b0e815bec6",
     "grade": false,
     "grade_id": "cell-da2c4685f9282d71",
     "locked": true,
     "schema_version": 3,
     "solution": false,
     "task": false
    }
   },
   "source": [
    "Podemos comprobar que la funcion esta operando correctamente al pasarle varios argumentos y ver los resultados que retorna:"
   ]
  },
  {
   "cell_type": "code",
   "execution_count": 111,
   "metadata": {
    "deletable": false,
    "editable": false,
    "nbgrader": {
     "cell_type": "code",
     "checksum": "d500e891d337acee23c40594ed8e15bc",
     "grade": false,
     "grade_id": "cell-7ae50eb5817246d9",
     "locked": true,
     "schema_version": 3,
     "solution": false,
     "task": false
    }
   },
   "outputs": [
    {
     "data": {
      "text/plain": [
       "9"
      ]
     },
     "execution_count": 111,
     "metadata": {},
     "output_type": "execute_result"
    }
   ],
   "source": [
    "cuadrado(3)"
   ]
  },
  {
   "cell_type": "code",
   "execution_count": 112,
   "metadata": {
    "deletable": false,
    "editable": false,
    "nbgrader": {
     "cell_type": "code",
     "checksum": "6b32a965674359b263a34810c6898a35",
     "grade": false,
     "grade_id": "cell-fe0e85d9653194a9",
     "locked": true,
     "schema_version": 3,
     "solution": false,
     "task": false
    }
   },
   "outputs": [
    {
     "data": {
      "text/plain": [
       "25"
      ]
     },
     "execution_count": 112,
     "metadata": {},
     "output_type": "execute_result"
    }
   ],
   "source": [
    "cuadrado(5)"
   ]
  },
  {
   "cell_type": "code",
   "execution_count": 113,
   "metadata": {
    "deletable": false,
    "editable": false,
    "nbgrader": {
     "cell_type": "code",
     "checksum": "dc719b9cb29076bb56851dcc4273bdd9",
     "grade": false,
     "grade_id": "cell-8c5e848c60a26321",
     "locked": true,
     "schema_version": 3,
     "solution": false,
     "task": false
    }
   },
   "outputs": [
    {
     "data": {
      "text/plain": [
       "100"
      ]
     },
     "execution_count": 113,
     "metadata": {},
     "output_type": "execute_result"
    }
   ],
   "source": [
    "cuadrado(10)"
   ]
  },
  {
   "cell_type": "code",
   "execution_count": 114,
   "metadata": {
    "deletable": false,
    "editable": false,
    "nbgrader": {
     "cell_type": "code",
     "checksum": "8da2c6a7ca86f22986ce43a9e01b05c6",
     "grade": false,
     "grade_id": "cell-2123e51b2ef61df2",
     "locked": true,
     "schema_version": 3,
     "solution": false,
     "task": false
    }
   },
   "outputs": [
    {
     "ename": "TypeError",
     "evalue": "unsupported operand type(s) for ** or pow(): 'str' and 'int'",
     "output_type": "error",
     "traceback": [
      "\u001b[1;31m---------------------------------------------------------------------------\u001b[0m",
      "\u001b[1;31mTypeError\u001b[0m                                 Traceback (most recent call last)",
      "\u001b[1;32mc:\\Users\\eduar\\OneDrive - Universidad de los Andes\\2023-20\\Analisis y Procesamiento de Imagenes\\Analisis_Imagenes_IBIO3470\\Tutorial Laboratorio 0\\Entrega 0\\tutorial.ipynb Cell 127\u001b[0m in \u001b[0;36m1\n\u001b[1;32m----> <a href='vscode-notebook-cell:/c%3A/Users/eduar/OneDrive%20-%20Universidad%20de%20los%20Andes/2023-20/Analisis%20y%20Procesamiento%20de%20Imagenes/Analisis_Imagenes_IBIO3470/Tutorial%20Laboratorio%200/Entrega%200/tutorial.ipynb#Y240sZmlsZQ%3D%3D?line=0'>1</a>\u001b[0m cuadrado(\u001b[39m'\u001b[39;49m\u001b[39ma\u001b[39;49m\u001b[39m'\u001b[39;49m)\n",
      "\u001b[1;32mc:\\Users\\eduar\\OneDrive - Universidad de los Andes\\2023-20\\Analisis y Procesamiento de Imagenes\\Analisis_Imagenes_IBIO3470\\Tutorial Laboratorio 0\\Entrega 0\\tutorial.ipynb Cell 127\u001b[0m in \u001b[0;36m2\n\u001b[0;32m      <a href='vscode-notebook-cell:/c%3A/Users/eduar/OneDrive%20-%20Universidad%20de%20los%20Andes/2023-20/Analisis%20y%20Procesamiento%20de%20Imagenes/Analisis_Imagenes_IBIO3470/Tutorial%20Laboratorio%200/Entrega%200/tutorial.ipynb#Y240sZmlsZQ%3D%3D?line=0'>1</a>\u001b[0m \u001b[39mdef\u001b[39;00m \u001b[39mcuadrado\u001b[39m(x):\n\u001b[1;32m----> <a href='vscode-notebook-cell:/c%3A/Users/eduar/OneDrive%20-%20Universidad%20de%20los%20Andes/2023-20/Analisis%20y%20Procesamiento%20de%20Imagenes/Analisis_Imagenes_IBIO3470/Tutorial%20Laboratorio%200/Entrega%200/tutorial.ipynb#Y240sZmlsZQ%3D%3D?line=1'>2</a>\u001b[0m     \u001b[39mreturn\u001b[39;00m x\u001b[39m*\u001b[39;49m\u001b[39m*\u001b[39;49m\u001b[39m2\u001b[39;49m\n",
      "\u001b[1;31mTypeError\u001b[0m: unsupported operand type(s) for ** or pow(): 'str' and 'int'"
     ]
    }
   ],
   "source": [
    "cuadrado('a')"
   ]
  },
  {
   "cell_type": "markdown",
   "metadata": {
    "deletable": false,
    "editable": false,
    "nbgrader": {
     "cell_type": "markdown",
     "checksum": "75a310416ecefdb8c9faafcf67014ed2",
     "grade": false,
     "grade_id": "cell-b8fa8768046547fe",
     "locked": true,
     "schema_version": 3,
     "solution": false,
     "task": false
    }
   },
   "source": [
    "En el ultimo caso vemos que si intentamos pasarle a la funcion un argumento que no puede ser procesado, Python simplemente retorna un error."
   ]
  },
  {
   "cell_type": "markdown",
   "metadata": {
    "deletable": false,
    "editable": false,
    "nbgrader": {
     "cell_type": "markdown",
     "checksum": "a6d78819fbb70ac9c388c8af752d5c49",
     "grade": false,
     "grade_id": "cell-40062a7415c452a8",
     "locked": true,
     "schema_version": 3,
     "solution": false,
     "task": false
    }
   },
   "source": [
    "## Parametros opcionales"
   ]
  },
  {
   "cell_type": "markdown",
   "metadata": {
    "deletable": false,
    "editable": false,
    "nbgrader": {
     "cell_type": "markdown",
     "checksum": "801da2add0b9c796912118422845c439",
     "grade": false,
     "grade_id": "cell-79cedda6f90a11a3",
     "locked": true,
     "schema_version": 3,
     "solution": false,
     "task": false
    }
   },
   "source": [
    "En ocasiones, se desea que una funcion cuente con unos parametros por defecto. Por ejemplo si se desean imprimir mensajes de ejecucion en una funcion, u otro valor numerico que cuenta con una inicializacion especifica para una rutina de calculo, estos parametros se definen empleando la sintaxis ``arg=value``, donde ``arg`` es el nombre del argumento y ``value``, el valor de inicializacion por defecto. \n",
    "\n",
    "A continuacion se presenta un ejemplo de una funcion que recibe argumentos opcionales."
   ]
  },
  {
   "cell_type": "code",
   "execution_count": 115,
   "metadata": {
    "deletable": false,
    "editable": false,
    "nbgrader": {
     "cell_type": "code",
     "checksum": "881b29834876c383fdedbde70ad67e80",
     "grade": false,
     "grade_id": "cell-718edc3714cdbfdc",
     "locked": true,
     "schema_version": 3,
     "solution": false,
     "task": false
    }
   },
   "outputs": [],
   "source": [
    "def suma(x, y, verbose=False):\n",
    "    if verbose:\n",
    "        print(\"Sumara {0} y {1}\".format(x, y))\n",
    "    return x + y"
   ]
  },
  {
   "cell_type": "markdown",
   "metadata": {
    "deletable": false,
    "editable": false,
    "nbgrader": {
     "cell_type": "markdown",
     "checksum": "479af1f8e03986c9a1980c1cc926f12e",
     "grade": false,
     "grade_id": "cell-5bba76a7042d8e16",
     "locked": true,
     "schema_version": 3,
     "solution": false,
     "task": false
    }
   },
   "source": [
    "Como es posible apreciar, la funcion recibe un parametro opcional ``verbose``, el cual permite imprimir los argumentos a sumar, ahora procedemos a invocar esta funcion, primero sin el parametro opcional:"
   ]
  },
  {
   "cell_type": "code",
   "execution_count": 116,
   "metadata": {
    "deletable": false,
    "editable": false,
    "nbgrader": {
     "cell_type": "code",
     "checksum": "2c46346c0a79580d3f5d1efeefeca211",
     "grade": false,
     "grade_id": "cell-11d8b7d86df10110",
     "locked": true,
     "schema_version": 3,
     "solution": false,
     "task": false
    }
   },
   "outputs": [
    {
     "data": {
      "text/plain": [
       "1.5"
      ]
     },
     "execution_count": 116,
     "metadata": {},
     "output_type": "execute_result"
    }
   ],
   "source": [
    "suma(-1, 2.5)"
   ]
  },
  {
   "cell_type": "markdown",
   "metadata": {
    "deletable": false,
    "editable": false,
    "nbgrader": {
     "cell_type": "markdown",
     "checksum": "20c1e393f9da8f3a745c3fc760a2ead9",
     "grade": false,
     "grade_id": "cell-e58c6dca7e296690",
     "locked": true,
     "schema_version": 3,
     "solution": false,
     "task": false
    }
   },
   "source": [
    "Ahora, podemos cambiar el valor del parametro opcional con el fin de observar los argumentos a sumar:"
   ]
  },
  {
   "cell_type": "code",
   "execution_count": 117,
   "metadata": {
    "deletable": false,
    "editable": false,
    "nbgrader": {
     "cell_type": "code",
     "checksum": "6d9258490ac0294fc448182bf0748b42",
     "grade": false,
     "grade_id": "cell-c8b8b0f3fb3edf3a",
     "locked": true,
     "schema_version": 3,
     "solution": false,
     "task": false
    }
   },
   "outputs": [
    {
     "name": "stdout",
     "output_type": "stream",
     "text": [
      "Sumara -1 y 2.5\n"
     ]
    },
    {
     "data": {
      "text/plain": [
       "1.5"
      ]
     },
     "execution_count": 117,
     "metadata": {},
     "output_type": "execute_result"
    }
   ],
   "source": [
    "suma(-1, 2.5, verbose=True)"
   ]
  },
  {
   "cell_type": "markdown",
   "metadata": {
    "deletable": false,
    "editable": false,
    "nbgrader": {
     "cell_type": "markdown",
     "checksum": "219d11bbe812d92f737b75354adab1a0",
     "grade": false,
     "grade_id": "cell-cbe82838d5c05e67",
     "locked": true,
     "schema_version": 3,
     "solution": false,
     "task": false
    }
   },
   "source": [
    "Es posible definir multiples argumentos opcionales, como por ejemplo en la siguiente funcion que imprime el nombre de una persona:"
   ]
  },
  {
   "cell_type": "code",
   "execution_count": 118,
   "metadata": {
    "deletable": false,
    "editable": false,
    "nbgrader": {
     "cell_type": "code",
     "checksum": "64f574fa08f693b79a490a76aa9bcd09",
     "grade": false,
     "grade_id": "cell-5c7ffbfa412940bd",
     "locked": true,
     "schema_version": 3,
     "solution": false,
     "task": false
    }
   },
   "outputs": [],
   "source": [
    "def imprimir_nombre(primer_nombre, segundo_nombre='', apellidos=''):\n",
    "    print(\"Nombre: \", primer_nombre, segundo_nombre, apellidos)"
   ]
  },
  {
   "cell_type": "markdown",
   "metadata": {
    "deletable": false,
    "editable": false,
    "nbgrader": {
     "cell_type": "markdown",
     "checksum": "68010ca3c0cb1480d275651c3e4626a7",
     "grade": false,
     "grade_id": "cell-e5c726edf2ff7740",
     "locked": true,
     "schema_version": 3,
     "solution": false,
     "task": false
    }
   },
   "source": [
    "Ahora veamos los distintos resultados de esta funcion"
   ]
  },
  {
   "cell_type": "code",
   "execution_count": 119,
   "metadata": {
    "deletable": false,
    "editable": false,
    "nbgrader": {
     "cell_type": "code",
     "checksum": "37282cf7138c3e4d7176cff21293e665",
     "grade": false,
     "grade_id": "cell-25093aad835ad79f",
     "locked": true,
     "schema_version": 3,
     "solution": false,
     "task": false
    }
   },
   "outputs": [
    {
     "name": "stdout",
     "output_type": "stream",
     "text": [
      "Nombre:  Carlos  \n"
     ]
    }
   ],
   "source": [
    "imprimir_nombre('Carlos')"
   ]
  },
  {
   "cell_type": "code",
   "execution_count": 120,
   "metadata": {
    "deletable": false,
    "editable": false,
    "nbgrader": {
     "cell_type": "code",
     "checksum": "379d866e61bc2c750f7229da3e99f1e9",
     "grade": false,
     "grade_id": "cell-0d163d2421bfa228",
     "locked": true,
     "schema_version": 3,
     "solution": false,
     "task": false
    }
   },
   "outputs": [
    {
     "name": "stdout",
     "output_type": "stream",
     "text": [
      "Nombre:  Carlos Andres \n"
     ]
    }
   ],
   "source": [
    "imprimir_nombre('Carlos', segundo_nombre='Andres')"
   ]
  },
  {
   "cell_type": "code",
   "execution_count": 121,
   "metadata": {
    "deletable": false,
    "editable": false,
    "nbgrader": {
     "cell_type": "code",
     "checksum": "f49823ab4e5048e73298c91e55a7159d",
     "grade": false,
     "grade_id": "cell-60c8a0ec254a99fd",
     "locked": true,
     "schema_version": 3,
     "solution": false,
     "task": false
    }
   },
   "outputs": [
    {
     "name": "stdout",
     "output_type": "stream",
     "text": [
      "Nombre:  Carlos Andres Cordoba Chaves\n"
     ]
    }
   ],
   "source": [
    "imprimir_nombre('Carlos', segundo_nombre='Andres', apellidos='Cordoba Chaves')"
   ]
  },
  {
   "cell_type": "markdown",
   "metadata": {
    "deletable": false,
    "editable": false,
    "nbgrader": {
     "cell_type": "markdown",
     "checksum": "13cd00c80b664f0821e1f80cb4e9ecb6",
     "grade": false,
     "grade_id": "cell-7f1436385a97879b",
     "locked": true,
     "schema_version": 3,
     "solution": false,
     "task": false
    }
   },
   "source": [
    "Tambien podemos definir funciones recursivas:"
   ]
  },
  {
   "cell_type": "code",
   "execution_count": 122,
   "metadata": {
    "deletable": false,
    "editable": false,
    "nbgrader": {
     "cell_type": "code",
     "checksum": "13dd1172605b9af47dee7d738b4301fd",
     "grade": false,
     "grade_id": "cell-590055d9490c2466",
     "locked": true,
     "schema_version": 3,
     "solution": false,
     "task": false
    }
   },
   "outputs": [
    {
     "name": "stdout",
     "output_type": "stream",
     "text": [
      "165580141\n"
     ]
    }
   ],
   "source": [
    "def fib(N, F0=0, F1=1):\n",
    "    if N == 0:\n",
    "        return F1\n",
    "    return fib(N - 1, F1, F0 + F1)\n",
    "\n",
    "print(fib(40))"
   ]
  },
  {
   "cell_type": "markdown",
   "metadata": {
    "deletable": false,
    "editable": false,
    "nbgrader": {
     "cell_type": "markdown",
     "checksum": "d98018c778d52ec4d08baf16a1be4298",
     "grade": false,
     "grade_id": "cell-4b01f9dce71b9af0",
     "locked": true,
     "schema_version": 3,
     "solution": false,
     "task": false
    }
   },
   "source": [
    "## Funciones internas\n",
    "\n",
    "Python permite definir funciones al interior de otra funcion, las cuales se denominan funciones internas. Estas funciones pueden acceder al espacio de variables de la funcion que la encapsula. Sin embargo, estas funciones no son accesibles desde el exterior de la funcion.\n",
    "\n",
    "Por ejemplo, a continuacion se presenta una funcion que toma por parametro un elemento y retorna una lista con distintas operaciones sobre el elemento inicial:"
   ]
  },
  {
   "cell_type": "code",
   "execution_count": 123,
   "metadata": {
    "deletable": false,
    "editable": false,
    "nbgrader": {
     "cell_type": "code",
     "checksum": "90485c012a866a9952fe79140690c034",
     "grade": false,
     "grade_id": "cell-b26b199879ffee73",
     "locked": true,
     "schema_version": 3,
     "solution": false,
     "task": false
    }
   },
   "outputs": [],
   "source": [
    "def doblar_y_dividir_por_dos(x):\n",
    "    def doblar():\n",
    "        return 2 * x\n",
    "\n",
    "    def dividir_por_dos():\n",
    "        return x / 2\n",
    "\n",
    "    return [doblar(), dividir_por_dos()]"
   ]
  },
  {
   "cell_type": "code",
   "execution_count": 124,
   "metadata": {
    "deletable": false,
    "editable": false,
    "nbgrader": {
     "cell_type": "code",
     "checksum": "ae52e414e0bcd97a9c1294637f18eb36",
     "grade": false,
     "grade_id": "cell-6ca1e0717b0e3695",
     "locked": true,
     "schema_version": 3,
     "solution": false,
     "task": false
    }
   },
   "outputs": [
    {
     "data": {
      "text/plain": [
       "[20, 5.0]"
      ]
     },
     "execution_count": 124,
     "metadata": {},
     "output_type": "execute_result"
    }
   ],
   "source": [
    "doblar_y_dividir_por_dos(10)"
   ]
  },
  {
   "cell_type": "markdown",
   "metadata": {
    "deletable": false,
    "editable": false,
    "nbgrader": {
     "cell_type": "markdown",
     "checksum": "877c823d641ddca721d3c5e369c76016",
     "grade": false,
     "grade_id": "cell-f1b4275c15f17298",
     "locked": true,
     "schema_version": 3,
     "solution": false,
     "task": false
    }
   },
   "source": [
    "Si se intenta invocar a las funciones internas directamente, veremos que aparece un error debido a estas no existen por fuera de `doblar_y_dividir_por_dos`:"
   ]
  },
  {
   "cell_type": "code",
   "execution_count": 125,
   "metadata": {
    "deletable": false,
    "editable": false,
    "nbgrader": {
     "cell_type": "code",
     "checksum": "d276b35c7dd75f612f6f074caca511cc",
     "grade": false,
     "grade_id": "cell-30241bff048eabc8",
     "locked": true,
     "schema_version": 3,
     "solution": false,
     "task": false
    }
   },
   "outputs": [
    {
     "ename": "NameError",
     "evalue": "name 'doblar' is not defined",
     "output_type": "error",
     "traceback": [
      "\u001b[1;31m---------------------------------------------------------------------------\u001b[0m",
      "\u001b[1;31mNameError\u001b[0m                                 Traceback (most recent call last)",
      "\u001b[1;32mc:\\Users\\eduar\\OneDrive - Universidad de los Andes\\2023-20\\Analisis y Procesamiento de Imagenes\\Analisis_Imagenes_IBIO3470\\Tutorial Laboratorio 0\\Entrega 0\\tutorial.ipynb Cell 148\u001b[0m in \u001b[0;36m1\n\u001b[1;32m----> <a href='vscode-notebook-cell:/c%3A/Users/eduar/OneDrive%20-%20Universidad%20de%20los%20Andes/2023-20/Analisis%20y%20Procesamiento%20de%20Imagenes/Analisis_Imagenes_IBIO3470/Tutorial%20Laboratorio%200/Entrega%200/tutorial.ipynb#Y300sZmlsZQ%3D%3D?line=0'>1</a>\u001b[0m doblar\n",
      "\u001b[1;31mNameError\u001b[0m: name 'doblar' is not defined"
     ]
    }
   ],
   "source": [
    "doblar"
   ]
  },
  {
   "cell_type": "code",
   "execution_count": 126,
   "metadata": {
    "deletable": false,
    "editable": false,
    "nbgrader": {
     "cell_type": "code",
     "checksum": "531e9bdf5ac1258c036d16abb8f7d7f4",
     "grade": false,
     "grade_id": "cell-e5cb273668c456f1",
     "locked": true,
     "schema_version": 3,
     "solution": false,
     "task": false
    }
   },
   "outputs": [
    {
     "ename": "NameError",
     "evalue": "name 'dividir_por_dos' is not defined",
     "output_type": "error",
     "traceback": [
      "\u001b[1;31m---------------------------------------------------------------------------\u001b[0m",
      "\u001b[1;31mNameError\u001b[0m                                 Traceback (most recent call last)",
      "\u001b[1;32mc:\\Users\\eduar\\OneDrive - Universidad de los Andes\\2023-20\\Analisis y Procesamiento de Imagenes\\Analisis_Imagenes_IBIO3470\\Tutorial Laboratorio 0\\Entrega 0\\tutorial.ipynb Cell 149\u001b[0m in \u001b[0;36m1\n\u001b[1;32m----> <a href='vscode-notebook-cell:/c%3A/Users/eduar/OneDrive%20-%20Universidad%20de%20los%20Andes/2023-20/Analisis%20y%20Procesamiento%20de%20Imagenes/Analisis_Imagenes_IBIO3470/Tutorial%20Laboratorio%200/Entrega%200/tutorial.ipynb#Y301sZmlsZQ%3D%3D?line=0'>1</a>\u001b[0m dividir_por_dos\n",
      "\u001b[1;31mNameError\u001b[0m: name 'dividir_por_dos' is not defined"
     ]
    }
   ],
   "source": [
    "dividir_por_dos"
   ]
  },
  {
   "cell_type": "markdown",
   "metadata": {
    "deletable": false,
    "editable": false,
    "nbgrader": {
     "cell_type": "markdown",
     "checksum": "8b7323317948a42461ee69225d99061a",
     "grade": false,
     "grade_id": "cell-abaea83bb0a352ed",
     "locked": true,
     "schema_version": 3,
     "solution": false,
     "task": false
    }
   },
   "source": [
    "## Funciones anonimas\n",
    "\n",
    "Inspirado en los lenguajes funcionales, Python tambien permite definir funciones anonimas, las cuales corresponden a funciones que se pueden asignar a variables o pueden ser empleadas en los argumentos de otras funciones que requieran una funcion por parametro. Estas funciones se crean empleando la palabra clave `lambda`, como es posible apreciar a continuacion:"
   ]
  },
  {
   "cell_type": "code",
   "execution_count": 127,
   "metadata": {
    "deletable": false,
    "editable": false,
    "nbgrader": {
     "cell_type": "code",
     "checksum": "ff7986cd5e46029d7f409e4b411f6e20",
     "grade": false,
     "grade_id": "cell-6fc03bf381a31482",
     "locked": true,
     "schema_version": 3,
     "solution": false,
     "task": false
    }
   },
   "outputs": [
    {
     "data": {
      "text/plain": [
       "5"
      ]
     },
     "execution_count": 127,
     "metadata": {},
     "output_type": "execute_result"
    }
   ],
   "source": [
    "f = lambda x, y: x + y\n",
    "\n",
    "f(2, 3)"
   ]
  },
  {
   "cell_type": "markdown",
   "metadata": {
    "deletable": false,
    "editable": false,
    "nbgrader": {
     "cell_type": "markdown",
     "checksum": "4fa8528435e71a6c3ad537fdd09750e4",
     "grade": false,
     "grade_id": "cell-aa3db8e4a0890b30",
     "locked": true,
     "schema_version": 3,
     "solution": false,
     "task": false
    }
   },
   "source": [
    "En el contexto de otras funciones, es posible recordar la funcion `sorted`, introducida en el modulo de listas. Esta funcion ademas de ordenar elementos sencillos, tambien puede ordenar listas que contienen elementos mas complejos (por ejemplo diccionarios) empleando un criterio especifico tal como el valor de una llave especifica a traves del argumento `key`. Este argumento espera una funcion que tiene como parametro un elemento de la lista, y retorna el valor por el cual debe ordenarse el elemento en la lista:"
   ]
  },
  {
   "cell_type": "code",
   "execution_count": 128,
   "metadata": {
    "deletable": false,
    "editable": false,
    "nbgrader": {
     "cell_type": "code",
     "checksum": "624353f9abdae0aecaf4450db551cac8",
     "grade": false,
     "grade_id": "cell-d11ee3c15140d354",
     "locked": true,
     "schema_version": 3,
     "solution": false,
     "task": false
    }
   },
   "outputs": [
    {
     "data": {
      "text/plain": [
       "[{'nombre': 'huevos', 'precio': 200},\n",
       " {'nombre': 'enlatado', 'precio': 1000},\n",
       " {'name': 'jamon', 'precio': 2000}]"
      ]
     },
     "execution_count": 128,
     "metadata": {},
     "output_type": "execute_result"
    }
   ],
   "source": [
    "lista_desordenada = [{'nombre': 'enlatado', 'precio': 1000},\n",
    "                     {'name': 'jamon', 'precio': 2000},\n",
    "                     {'nombre': 'huevos', 'precio': 200}]\n",
    "\n",
    "lista_ordenada_por_precio = sorted(lista_desordenada, key=lambda x: x['precio'])\n",
    "\n",
    "lista_ordenada_por_precio"
   ]
  },
  {
   "cell_type": "markdown",
   "metadata": {
    "deletable": false,
    "editable": false,
    "nbgrader": {
     "cell_type": "markdown",
     "checksum": "03d015b09daa5578b41cf6ba25c26b79",
     "grade": false,
     "grade_id": "cell-9f65d448a0940e7c",
     "locked": true,
     "schema_version": 3,
     "solution": false,
     "task": false
    }
   },
   "source": [
    "**Nota:** Las funciones anonimas solo pueden ser empleadas para realizar operaciones basicas, asi como invocacion de funciones. Sin embargo, no es posible realizar flujos de control mas complejos (e.g. ciclos `for`, `while`, etc)."
   ]
  },
  {
   "cell_type": "markdown",
   "metadata": {
    "deletable": false,
    "editable": false,
    "nbgrader": {
     "cell_type": "markdown",
     "checksum": "63ed72995342bc06faf442959e941bb7",
     "grade": false,
     "grade_id": "cell-234b6006914a9df5",
     "locked": true,
     "schema_version": 3,
     "solution": false,
     "task": false
    }
   },
   "source": [
    "## Problemas"
   ]
  },
  {
   "cell_type": "markdown",
   "metadata": {
    "deletable": false,
    "editable": false,
    "nbgrader": {
     "cell_type": "markdown",
     "checksum": "a0c2e581d2d6224a1ee860aade57870f",
     "grade": false,
     "grade_id": "cell-ef7032ccb85968ba",
     "locked": true,
     "schema_version": 3,
     "solution": false,
     "task": false
    }
   },
   "source": [
    "### Problema 1\n",
    "\n",
    "Definir una funcion `imprimir_doble` que tome un argumento `x` y lo imprima dos veces, con un espacio entre una palabra y la siguiente. Por ejemplo, al evaluarla debe retornar:\n",
    "\n",
    "```python\n",
    "imprimir_doble(5)\n",
    "5 5\n",
    "```\n",
    "     \n",
    "```python\n",
    "imprimir_doble('hola')\n",
    "hola hola\n",
    "```\n",
    "     \n",
    "```python\n",
    "imprimir_doble([3,9,4])\n",
    "[3,9,4] [3,9,4]\n",
    "```"
   ]
  },
  {
   "cell_type": "code",
   "execution_count": 129,
   "metadata": {},
   "outputs": [],
   "source": [
    "# Escribir la solucion aqui\n",
    "def imprimir_doble(x):\n",
    "    print(x, x)"
   ]
  },
  {
   "cell_type": "code",
   "execution_count": 130,
   "metadata": {
    "deletable": false,
    "editable": false,
    "nbgrader": {
     "cell_type": "code",
     "checksum": "5fa6f5832c32c2e747cce4b981684437",
     "grade": false,
     "grade_id": "cell-10d4e85c3df04f66",
     "locked": true,
     "schema_version": 3,
     "solution": false,
     "task": false
    }
   },
   "outputs": [
    {
     "name": "stdout",
     "output_type": "stream",
     "text": [
      "5 5\n",
      "hola hola\n",
      "[3, 9, 4] [3, 9, 4]\n"
     ]
    }
   ],
   "source": [
    "imprimir_doble(5)\n",
    "imprimir_doble('hola')\n",
    "imprimir_doble([3,9,4])"
   ]
  },
  {
   "cell_type": "markdown",
   "metadata": {
    "deletable": false,
    "editable": false,
    "nbgrader": {
     "cell_type": "markdown",
     "checksum": "f440198809c153ec0b09cd226c6ba0a6",
     "grade": false,
     "grade_id": "cell-d6af1012af67ea6f",
     "locked": true,
     "schema_version": 3,
     "solution": false,
     "task": false
    }
   },
   "source": [
    "### Problema 2\n",
    "\n",
    "Definir una funcion `distancia` que tome dos argumentos `x,y`, que sean listas de dos elementos, y calcule la distancia entre ellos usando el teorema de Pitagoras:\n",
    "\n",
    "$$\\sqrt{\\left(x_{1}-y_{1}\\right)^{2}+\\left(x_{2}-y_{2}\\right)^{2}}$$\n",
    "\n",
    "Pueden comprobar que la funcion esta haciendo su trabajo correctamente si retorna estos valores:\n",
    "\n",
    "```python\n",
    "distancia([0,0], [1,1])\n",
    "1.4142135623730951\n",
    "```\n",
    "\n",
    "```python\n",
    "distancia([1,5], [2,2])\n",
    "3.1622776601683795\n",
    "```"
   ]
  },
  {
   "cell_type": "code",
   "execution_count": 131,
   "metadata": {
    "deletable": false,
    "nbgrader": {
     "cell_type": "code",
     "checksum": "a0e36564481b495c0c86db6d20326549",
     "grade": false,
     "grade_id": "cell-249c623de7042414",
     "locked": false,
     "schema_version": 3,
     "solution": true,
     "task": false
    }
   },
   "outputs": [],
   "source": [
    "def distancia(p1,p2):\n",
    "    # YOUR CODE HERE\n",
    "    return ((p1[0]-p2[0])**2 + (p1[1]-p2[1])**2)**(1/2)"
   ]
  },
  {
   "cell_type": "code",
   "execution_count": 132,
   "metadata": {
    "deletable": false,
    "editable": false,
    "nbgrader": {
     "cell_type": "code",
     "checksum": "46a124b23cf836296b61ffb73684dce8",
     "grade": true,
     "grade_id": "cell-2d52fd9b16ada8e3",
     "locked": true,
     "points": 1,
     "schema_version": 3,
     "solution": false,
     "task": false
    }
   },
   "outputs": [
    {
     "name": "stdout",
     "output_type": "stream",
     "text": [
      "1.4142135623730951\n",
      "3.1622776601683795\n"
     ]
    }
   ],
   "source": [
    "\n",
    "print(distancia([0,0], [1,1]))\n",
    "print(distancia([1,5], [2,2]))\n",
    "\n"
   ]
  },
  {
   "cell_type": "markdown",
   "metadata": {
    "deletable": false,
    "editable": false,
    "nbgrader": {
     "cell_type": "markdown",
     "checksum": "cf279f5a0a53e916900d6415c7488736",
     "grade": false,
     "grade_id": "cell-700547ba76c2055f",
     "locked": true,
     "schema_version": 3,
     "solution": false,
     "task": false
    }
   },
   "source": [
    "### Problema 3\n",
    "\n",
    "Definir una funcion `digitos` que tome un numero `x` y retorne los digitos de que se compone, como cadenas. Por ejemplo, `digitos` debe retornar:\n",
    "\n",
    "```python\n",
    "digitos(1234)\n",
    "['1', '2', '3', '4']\n",
    "```\n",
    "\n",
    "```python\n",
    "digitos(99861)\n",
    "['9', '9', '8', '6', '1']\n",
    "```\n",
    "\n",
    "**Nota**: Utilizar los comandos de conversion entre tipos de datos, vistos al final de la seccion anterior"
   ]
  },
  {
   "cell_type": "code",
   "execution_count": 133,
   "metadata": {
    "deletable": false,
    "nbgrader": {
     "cell_type": "code",
     "checksum": "000b7a6ea749918028fa1bd82f864421",
     "grade": false,
     "grade_id": "cell-6266fa0d7fe5f392",
     "locked": false,
     "schema_version": 3,
     "solution": true,
     "task": false
    }
   },
   "outputs": [],
   "source": [
    "def digitos(x):\n",
    "    # YOUR CODE HERE\n",
    "    return list(str(x))"
   ]
  },
  {
   "cell_type": "code",
   "execution_count": 134,
   "metadata": {
    "deletable": false,
    "editable": false,
    "nbgrader": {
     "cell_type": "code",
     "checksum": "74787be37d2f36908fe64ce25b02379f",
     "grade": true,
     "grade_id": "cell-2de97bf8081ed676",
     "locked": true,
     "points": 1,
     "schema_version": 3,
     "solution": false,
     "task": false
    }
   },
   "outputs": [
    {
     "data": {
      "text/plain": [
       "['9', '9', '8', '6', '1']"
      ]
     },
     "execution_count": 134,
     "metadata": {},
     "output_type": "execute_result"
    }
   ],
   "source": [
    "# Evaluar la funcion aqui\n",
    "\n",
    "digitos(1234)\n",
    "digitos(99861)\n",
    "\n"
   ]
  },
  {
   "cell_type": "markdown",
   "metadata": {},
   "source": [
    "# Cadenas de caracteres\n",
    "\n",
    "Los strings corresponden a una lista de caracteres, por lo tanto son iterables, lo que nos permite aplicar slicin e indexacion como lo aprendimos anteriormente. Como se vio con anterioridad, los strings se pueden definir con una comilla simple o doble:"
   ]
  },
  {
   "cell_type": "code",
   "execution_count": 135,
   "metadata": {
    "deletable": false,
    "editable": false,
    "nbgrader": {
     "cell_type": "code",
     "checksum": "2cef45d3c7d3de1823cb0e6ce0ec126b",
     "grade": false,
     "grade_id": "cell-e64ec884f16d867e",
     "locked": true,
     "schema_version": 3,
     "solution": false,
     "task": false
    }
   },
   "outputs": [],
   "source": [
    "fruit = \"banana\""
   ]
  },
  {
   "cell_type": "code",
   "execution_count": 136,
   "metadata": {
    "deletable": false,
    "editable": false,
    "nbgrader": {
     "cell_type": "code",
     "checksum": "1abb5e3ba22fc2c511eda6328b16d0c5",
     "grade": false,
     "grade_id": "cell-bb5c634681f740d1",
     "locked": true,
     "schema_version": 3,
     "solution": false,
     "task": false
    }
   },
   "outputs": [],
   "source": [
    "dulce = 'bocadillo'"
   ]
  },
  {
   "cell_type": "markdown",
   "metadata": {
    "deletable": false,
    "editable": false,
    "nbgrader": {
     "cell_type": "markdown",
     "checksum": "c37b1535e5a8d9313aa0ae0933009cdd",
     "grade": false,
     "grade_id": "cell-496d6d3b1d24daf0",
     "locked": true,
     "schema_version": 3,
     "solution": false,
     "task": false
    }
   },
   "source": [
    "With respect to common operators such as * and +, we can obtain the following results:\n",
    "En este caso, los operadores + y * dan los siguientes resultados:\n",
    "\n",
    "| Operador | Dato de input           | Resultado                                         \n",
    "| --------- | --------------- | --------- \n",
    "|    +      | str + str | Concatena ambos str                                  \n",
    "|    \\*     | str * int | Concatena el str la cantidad int idicada \n",
    "\n",
    "Podemos usar estos operadores con nuestros datos:"
   ]
  },
  {
   "cell_type": "code",
   "execution_count": 137,
   "metadata": {
    "deletable": false,
    "editable": false,
    "nbgrader": {
     "cell_type": "code",
     "checksum": "42f3521aa7dfb49944fa7a15f5345d97",
     "grade": false,
     "grade_id": "cell-5877d1f86185f179",
     "locked": true,
     "schema_version": 3,
     "solution": false,
     "task": false
    }
   },
   "outputs": [
    {
     "data": {
      "text/plain": [
       "'bananabocadillo'"
      ]
     },
     "execution_count": 137,
     "metadata": {},
     "output_type": "execute_result"
    }
   ],
   "source": [
    "fruit + dulce"
   ]
  },
  {
   "cell_type": "code",
   "execution_count": 138,
   "metadata": {
    "deletable": false,
    "editable": false,
    "nbgrader": {
     "cell_type": "code",
     "checksum": "8f7beb5b155ed30eb3a93451be424764",
     "grade": false,
     "grade_id": "cell-b7d310d98e677df8",
     "locked": true,
     "schema_version": 3,
     "solution": false,
     "task": false
    }
   },
   "outputs": [
    {
     "data": {
      "text/plain": [
       "'bananabananabanana'"
      ]
     },
     "execution_count": 138,
     "metadata": {},
     "output_type": "execute_result"
    }
   ],
   "source": [
    "fruit * 3"
   ]
  },
  {
   "cell_type": "code",
   "execution_count": 139,
   "metadata": {
    "deletable": false,
    "editable": false,
    "nbgrader": {
     "cell_type": "code",
     "checksum": "0374e65840a4c957384045419d3cf7fc",
     "grade": false,
     "grade_id": "cell-700793d9630278c7",
     "locked": true,
     "schema_version": 3,
     "solution": false,
     "task": false
    }
   },
   "outputs": [
    {
     "data": {
      "text/plain": [
       "'b'"
      ]
     },
     "execution_count": 139,
     "metadata": {},
     "output_type": "execute_result"
    }
   ],
   "source": [
    "dulce[0]"
   ]
  },
  {
   "cell_type": "code",
   "execution_count": 140,
   "metadata": {
    "deletable": false,
    "editable": false,
    "nbgrader": {
     "cell_type": "code",
     "checksum": "c6a6e38ea6e2cba983a81a044897683a",
     "grade": false,
     "grade_id": "cell-5f4ed859153419ca",
     "locked": true,
     "schema_version": 3,
     "solution": false,
     "task": false
    }
   },
   "outputs": [
    {
     "data": {
      "text/plain": [
       "'bocadil'"
      ]
     },
     "execution_count": 140,
     "metadata": {},
     "output_type": "execute_result"
    }
   ],
   "source": [
    "dulce[:7]"
   ]
  },
  {
   "cell_type": "markdown",
   "metadata": {
    "deletable": false,
    "editable": false,
    "nbgrader": {
     "cell_type": "markdown",
     "checksum": "f89902dc1ab92c0c9f10c0bcf54d6f31",
     "grade": false,
     "grade_id": "cell-9db54b8f707fba3d",
     "locked": true,
     "schema_version": 3,
     "solution": false,
     "task": false
    }
   },
   "source": [
    "Sin embargo, a diferencia de las listas, los strings son inmutables, lo que significa que no podemos asignar valores nuevos a la cadena de caracteres:"
   ]
  },
  {
   "cell_type": "code",
   "execution_count": 141,
   "metadata": {
    "deletable": false,
    "editable": false,
    "nbgrader": {
     "cell_type": "code",
     "checksum": "fd064b66b6a6699a201a4143b8a1cb33",
     "grade": false,
     "grade_id": "cell-4e5287fd38418f75",
     "locked": true,
     "schema_version": 3,
     "solution": false,
     "task": false
    }
   },
   "outputs": [
    {
     "ename": "TypeError",
     "evalue": "'str' object does not support item assignment",
     "output_type": "error",
     "traceback": [
      "\u001b[1;31m---------------------------------------------------------------------------\u001b[0m",
      "\u001b[1;31mTypeError\u001b[0m                                 Traceback (most recent call last)",
      "\u001b[1;32mc:\\Users\\eduar\\OneDrive - Universidad de los Andes\\2023-20\\Analisis y Procesamiento de Imagenes\\Analisis_Imagenes_IBIO3470\\Tutorial Laboratorio 0\\Entrega 0\\tutorial.ipynb Cell 174\u001b[0m in \u001b[0;36m1\n\u001b[1;32m----> <a href='vscode-notebook-cell:/c%3A/Users/eduar/OneDrive%20-%20Universidad%20de%20los%20Andes/2023-20/Analisis%20y%20Procesamiento%20de%20Imagenes/Analisis_Imagenes_IBIO3470/Tutorial%20Laboratorio%200/Entrega%200/tutorial.ipynb#Y335sZmlsZQ%3D%3D?line=0'>1</a>\u001b[0m fruit[\u001b[39m2\u001b[39;49m] \u001b[39m=\u001b[39m \u001b[39m'\u001b[39m\u001b[39mz\u001b[39m\u001b[39m'\u001b[39m\n",
      "\u001b[1;31mTypeError\u001b[0m: 'str' object does not support item assignment"
     ]
    }
   ],
   "source": [
    "fruit[2] = 'z'"
   ]
  },
  {
   "cell_type": "markdown",
   "metadata": {
    "deletable": false,
    "editable": false,
    "nbgrader": {
     "cell_type": "markdown",
     "checksum": "9b26cb133262116efef01c8e4b994122",
     "grade": false,
     "grade_id": "cell-e7df5b82218944ba",
     "locked": true,
     "schema_version": 3,
     "solution": false,
     "task": false
    }
   },
   "source": [
    "Los strings tienen muchos metodos asociados. Podemos ver varios de estos al agregar un punto <kbd>('.')</kbd> al string y presionar <kbd>Tab</kbd>. Por ejemplo, veamos las posibles operaciones sobre nuestra variable `fruit`:"
   ]
  },
  {
   "cell_type": "code",
   "execution_count": 145,
   "metadata": {
    "deletable": false,
    "editable": false,
    "nbgrader": {
     "cell_type": "code",
     "checksum": "d0025b628f2cecc6148496c5763f93cc",
     "grade": false,
     "grade_id": "cell-3787e266c54a6d3a",
     "locked": true,
     "schema_version": 3,
     "solution": false,
     "task": false
    }
   },
   "outputs": [
    {
     "data": {
      "text/plain": [
       "'Banana'"
      ]
     },
     "execution_count": 145,
     "metadata": {},
     "output_type": "execute_result"
    }
   ],
   "source": [
    "fruit.capitalize()"
   ]
  },
  {
   "cell_type": "markdown",
   "metadata": {
    "deletable": false,
    "editable": false,
    "nbgrader": {
     "cell_type": "markdown",
     "checksum": "a6c34395825b99769804655809c38369",
     "grade": false,
     "grade_id": "cell-f2ee50f98bceed6c",
     "locked": true,
     "schema_version": 3,
     "solution": false,
     "task": false
    }
   },
   "source": [
    "**Nota**: Todos los metodos retornan un nuevo string, puesto que estos son inmutables.\n",
    "Aqui veremos algunos de los mas importantes metodos para la manipulacion de strings:\n",
    "\n",
    "* **upper**: Convierte todos los caracteres en mayusculas"
   ]
  },
  {
   "cell_type": "code",
   "execution_count": 146,
   "metadata": {
    "deletable": false,
    "editable": false,
    "nbgrader": {
     "cell_type": "code",
     "checksum": "613f5d81cd791d7a8cef6d019aec45ad",
     "grade": false,
     "grade_id": "cell-d3344a00d5b57f7c",
     "locked": true,
     "schema_version": 3,
     "solution": false,
     "task": false
    }
   },
   "outputs": [
    {
     "data": {
      "text/plain": [
       "'BANANA'"
      ]
     },
     "execution_count": 146,
     "metadata": {},
     "output_type": "execute_result"
    }
   ],
   "source": [
    "fruit.upper()"
   ]
  },
  {
   "cell_type": "markdown",
   "metadata": {
    "deletable": false,
    "editable": false,
    "nbgrader": {
     "cell_type": "markdown",
     "checksum": "226218ae7879ff0a6ccfb5f01565df1b",
     "grade": false,
     "grade_id": "cell-06680cae82df510b",
     "locked": true,
     "schema_version": 3,
     "solution": false,
     "task": false
    }
   },
   "source": [
    "* **count**: Cuenta el numero de apariciones de un caracter en un string"
   ]
  },
  {
   "cell_type": "code",
   "execution_count": 147,
   "metadata": {
    "deletable": false,
    "editable": false,
    "nbgrader": {
     "cell_type": "code",
     "checksum": "64db8b408938397b5107370e28cdff4f",
     "grade": false,
     "grade_id": "cell-814118cc978696ef",
     "locked": true,
     "schema_version": 3,
     "solution": false,
     "task": false
    }
   },
   "outputs": [
    {
     "data": {
      "text/plain": [
       "3"
      ]
     },
     "execution_count": 147,
     "metadata": {},
     "output_type": "execute_result"
    }
   ],
   "source": [
    "fruit.count('a')"
   ]
  },
  {
   "cell_type": "markdown",
   "metadata": {
    "deletable": false,
    "editable": false,
    "nbgrader": {
     "cell_type": "markdown",
     "checksum": "fe88dee1c3f4e7106fff2f75a6ac0cd8",
     "grade": false,
     "grade_id": "cell-b39316693ceaaeb5",
     "locked": true,
     "schema_version": 3,
     "solution": false,
     "task": false
    }
   },
   "source": [
    "* **replace**: Reemplaza un caracter por otro dentro del string"
   ]
  },
  {
   "cell_type": "code",
   "execution_count": 148,
   "metadata": {
    "deletable": false,
    "editable": false,
    "nbgrader": {
     "cell_type": "code",
     "checksum": "e63c34958ce9e33ed30cb8d8fd8a6df3",
     "grade": false,
     "grade_id": "cell-9518333794c41701",
     "locked": true,
     "schema_version": 3,
     "solution": false,
     "task": false
    }
   },
   "outputs": [
    {
     "data": {
      "text/plain": [
       "'bonono'"
      ]
     },
     "execution_count": 148,
     "metadata": {},
     "output_type": "execute_result"
    }
   ],
   "source": [
    "fruit.replace('a', 'o')"
   ]
  },
  {
   "cell_type": "code",
   "execution_count": 149,
   "metadata": {
    "deletable": false,
    "editable": false,
    "nbgrader": {
     "cell_type": "code",
     "checksum": "12333b674f591fff1880808ee78ef1fc",
     "grade": false,
     "grade_id": "cell-4fffaaad11521c7a",
     "locked": true,
     "schema_version": 3,
     "solution": false,
     "task": false
    }
   },
   "outputs": [
    {
     "data": {
      "text/plain": [
       "'enana'"
      ]
     },
     "execution_count": 149,
     "metadata": {},
     "output_type": "execute_result"
    }
   ],
   "source": [
    "fruit.replace('ban', 'en')"
   ]
  },
  {
   "cell_type": "markdown",
   "metadata": {
    "deletable": false,
    "editable": false,
    "nbgrader": {
     "cell_type": "markdown",
     "checksum": "7ce701a01630b6087e566aba56dee722",
     "grade": false,
     "grade_id": "cell-d38b7eb28e79621f",
     "locked": true,
     "schema_version": 3,
     "solution": false,
     "task": false
    }
   },
   "source": [
    "\n",
    "* **split**: Separa el string por espacios y retorna una lista que contiene cada palabra individual."
   ]
  },
  {
   "cell_type": "code",
   "execution_count": 150,
   "metadata": {
    "deletable": false,
    "editable": false,
    "nbgrader": {
     "cell_type": "code",
     "checksum": "f4a2823d08a6b922ab6633e998bf1436",
     "grade": false,
     "grade_id": "cell-854c6a7345a72b38",
     "locked": true,
     "schema_version": 3,
     "solution": false,
     "task": false
    }
   },
   "outputs": [],
   "source": [
    "s = \"Hello, world! hello world\""
   ]
  },
  {
   "cell_type": "code",
   "execution_count": 151,
   "metadata": {
    "deletable": false,
    "editable": false,
    "nbgrader": {
     "cell_type": "code",
     "checksum": "fc9178eac878ad0db54a6007f22191e4",
     "grade": false,
     "grade_id": "cell-0398eca36bc19db9",
     "locked": true,
     "schema_version": 3,
     "solution": false,
     "task": false
    }
   },
   "outputs": [
    {
     "data": {
      "text/plain": [
       "['Hello,', 'world!', 'hello', 'world']"
      ]
     },
     "execution_count": 151,
     "metadata": {},
     "output_type": "execute_result"
    }
   ],
   "source": [
    "s.split()"
   ]
  },
  {
   "cell_type": "markdown",
   "metadata": {
    "deletable": false,
    "editable": false,
    "nbgrader": {
     "cell_type": "markdown",
     "checksum": "46f8e62c47d30e187a5f0496000b53b6",
     "grade": false,
     "grade_id": "cell-529dd13dd07d4c1e",
     "locked": true,
     "schema_version": 3,
     "solution": false,
     "task": false
    }
   },
   "source": [
    "\n",
    "Tambien podemos dividir las palabras usando otro caracter de string:"
   ]
  },
  {
   "cell_type": "code",
   "execution_count": 152,
   "metadata": {
    "deletable": false,
    "editable": false,
    "nbgrader": {
     "cell_type": "code",
     "checksum": "dac2715cfedfa4063fd4d33aec991c2b",
     "grade": false,
     "grade_id": "cell-737973fb93753d15",
     "locked": true,
     "schema_version": 3,
     "solution": false,
     "task": false
    }
   },
   "outputs": [
    {
     "data": {
      "text/plain": [
       "['bo', 'dillo']"
      ]
     },
     "execution_count": 152,
     "metadata": {},
     "output_type": "execute_result"
    }
   ],
   "source": [
    "dulce.split('ca')"
   ]
  },
  {
   "cell_type": "markdown",
   "metadata": {
    "deletable": false,
    "editable": false,
    "nbgrader": {
     "cell_type": "markdown",
     "checksum": "506e508c9d774f6306d571be72121834",
     "grade": false,
     "grade_id": "cell-0a17af50da56a6e7",
     "locked": true,
     "schema_version": 3,
     "solution": false,
     "task": false
    }
   },
   "source": [
    "* **rstrip:** Eliminar cualquier carácter de espacio nuevo final al final de una cadena"
   ]
  },
  {
   "cell_type": "code",
   "execution_count": 156,
   "metadata": {
    "deletable": false,
    "editable": false,
    "nbgrader": {
     "cell_type": "code",
     "checksum": "fc6289518f8aefd1d2bdaadc8f950780",
     "grade": false,
     "grade_id": "cell-2757cfe2f46319de",
     "locked": true,
     "schema_version": 3,
     "solution": false,
     "task": false
    }
   },
   "outputs": [
    {
     "data": {
      "text/plain": [
       "'I want my line without any newline'"
      ]
     },
     "execution_count": 156,
     "metadata": {},
     "output_type": "execute_result"
    }
   ],
   "source": [
    "s = 'I want my line without any newline\\n'\n",
    "s.rstrip()"
   ]
  },
  {
   "cell_type": "markdown",
   "metadata": {
    "deletable": false,
    "editable": false,
    "nbgrader": {
     "cell_type": "markdown",
     "checksum": "91be0cec736d75845180bd28cadde03e",
     "grade": false,
     "grade_id": "cell-6d87b766f3490ebb",
     "locked": true,
     "schema_version": 3,
     "solution": false,
     "task": false
    }
   },
   "source": [
    "\n",
    "Tambien funciona con el fin de linea de Windows (CRLF):"
   ]
  },
  {
   "cell_type": "code",
   "execution_count": 157,
   "metadata": {
    "deletable": false,
    "editable": false,
    "nbgrader": {
     "cell_type": "code",
     "checksum": "85cced343d079814d22e8b62afe1b6f5",
     "grade": false,
     "grade_id": "cell-e51ce9d065dfa7cc",
     "locked": true,
     "schema_version": 3,
     "solution": false,
     "task": false
    }
   },
   "outputs": [
    {
     "data": {
      "text/plain": [
       "'Windows is the original sin'"
      ]
     },
     "execution_count": 157,
     "metadata": {},
     "output_type": "execute_result"
    }
   ],
   "source": [
    "s = 'Windows is the original sin  \\r\\n'\n",
    "s.rstrip()"
   ]
  },
  {
   "cell_type": "markdown",
   "metadata": {
    "deletable": false,
    "editable": false,
    "nbgrader": {
     "cell_type": "markdown",
     "checksum": "2e21edf81cbaa20e64a223ecd62a608a",
     "grade": false,
     "grade_id": "cell-a648df7d90edd8c9",
     "locked": true,
     "schema_version": 3,
     "solution": false,
     "task": false
    }
   },
   "source": [
    "# Strings formateados"
   ]
  },
  {
   "cell_type": "code",
   "execution_count": 158,
   "metadata": {
    "deletable": false,
    "editable": false,
    "nbgrader": {
     "cell_type": "code",
     "checksum": "8ef3cfe83144037e0a0e3e5715be5986",
     "grade": false,
     "grade_id": "cell-6f21fbe62f1df7c5",
     "locked": true,
     "schema_version": 3,
     "solution": false,
     "task": false
    }
   },
   "outputs": [
    {
     "name": "stdout",
     "output_type": "stream",
     "text": [
      "La mascota de Laura se llama Max y tiene 14.58 anios\n"
     ]
    }
   ],
   "source": [
    "duenio = 'Laura'\n",
    "mascota = 'Max'\n",
    "edad = 14.576\n",
    "mi_string = f'La mascota de {duenio} se llama {mascota} y tiene {edad:3.2f} anios'\n",
    "print(mi_string)"
   ]
  },
  {
   "cell_type": "code",
   "execution_count": 159,
   "metadata": {
    "deletable": false,
    "editable": false,
    "nbgrader": {
     "cell_type": "code",
     "checksum": "1c83efc26c50376836d540d2819788fb",
     "grade": false,
     "grade_id": "cell-7713182cad459f91",
     "locked": true,
     "schema_version": 3,
     "solution": false,
     "task": false
    }
   },
   "outputs": [
    {
     "name": "stdout",
     "output_type": "stream",
     "text": [
      "La constante de Boltzmann tiene un valor de 1.38E-23\n"
     ]
    }
   ],
   "source": [
    "fisico = 'Boltzmann'\n",
    "constante = 1.38064 * 10**(-23)\n",
    "# o, mas comodamente\n",
    "constante = 1.38064e-23\n",
    "mi_string = f'La constante de {fisico} tiene un valor de {constante:3.2E}'\n",
    "print(mi_string)"
   ]
  },
  {
   "cell_type": "markdown",
   "metadata": {
    "deletable": false,
    "editable": false,
    "nbgrader": {
     "cell_type": "markdown",
     "checksum": "58a09b9e18fd12a7d1c6e5163a866b87",
     "grade": false,
     "grade_id": "cell-af9070c9f8c595f5",
     "locked": true,
     "schema_version": 3,
     "solution": false,
     "task": false
    }
   },
   "source": [
    "## Problemas"
   ]
  },
  {
   "cell_type": "markdown",
   "metadata": {
    "deletable": false,
    "editable": false,
    "nbgrader": {
     "cell_type": "markdown",
     "checksum": "33deb9dd420e391fbdc80b2ed8af07c8",
     "grade": false,
     "grade_id": "cell-75f1d459ea620eff",
     "locked": true,
     "schema_version": 3,
     "solution": false,
     "task": false
    }
   },
   "source": [
    "### Problema 1\n",
    "\n",
    "Tomar la variable `dulce`, hacer que se repita 50 veces, y separar las palabras con un espacio, de tal forma que obtengamos algo como lo siguiente, pero **sin** generar un espacio al final.\n",
    "\n",
    "        'bocadillo bocadillo ...'"
   ]
  },
  {
   "cell_type": "code",
   "execution_count": null,
   "metadata": {},
   "outputs": [],
   "source": [
    "# Escribir la solucion aqui\n"
   ]
  },
  {
   "cell_type": "markdown",
   "metadata": {
    "deletable": false,
    "editable": false,
    "nbgrader": {
     "cell_type": "markdown",
     "checksum": "f197e76116b63d10d4e0fb97f881a6aa",
     "grade": false,
     "grade_id": "cell-0f5016c480ef9ede",
     "locked": true,
     "schema_version": 3,
     "solution": false,
     "task": false
    }
   },
   "source": [
    "### Problema 2\n",
    "\n",
    "Cuuntas veces se repite la palabra `banano` en la siguiente cadena?:"
   ]
  },
  {
   "cell_type": "code",
   "execution_count": null,
   "metadata": {
    "deletable": false,
    "editable": false,
    "nbgrader": {
     "cell_type": "code",
     "checksum": "f13f5c67aeb1d8efefccfdf5165ec3dd",
     "grade": false,
     "grade_id": "cell-4b55155151a4236d",
     "locked": true,
     "schema_version": 3,
     "solution": false,
     "task": false
    }
   },
   "outputs": [],
   "source": [
    "muchas_frutas = 'banAnobanAnobananobanaNobananobananobanaNobaNanobanano\\\n",
    "bananobananobaNanobananobananobaNanobAnanobananobananobanaNobananobanAno\\\n",
    "bananobananobanaNobananobananobananobananobananobananobananobananobAnAno\\\n",
    "bAnanobananobananobananobananobananobanANobananobananobanaNobananobanano\\\n",
    "bananobanaNobAnAnobananobananobananobananobananobAnAnobananobananobanano\\\n",
    "baNanobananobananobaNaNobananobANanobananobananobananobAnanobananobanano\\\n",
    "bananobananobAnanobananobaNAnobananobananobananobaNanobanaNobANanobanano\\\n",
    "baNanobananobananobAnanobananobananobananobaNAnobananobanANobananobAnano\\\n",
    "bANanobanAnobananobaNanobananobananobananobananobananobananobAnanobanano\\\n",
    "bananobanAnobananobananobanAnobananobananobananobanAnobananobananobaNano\\\n",
    "bAnanobananobAnanobaNanobananobanaNobananobananobanANobananobananobANAno\\\n",
    "bananobananobaNAnobanaNobAnanobanAnobananobananobanAnobaNanobananobanaNo\\\n",
    "banaNobANAnobananobananobanAnobananobananobanANobananobanAnobananobanano\\\n",
    "banaNobananobAnanobananobAnanobananobanANobananobananobanAnobanaNobanano\\\n",
    "bananobAnanobananobaNanobananobanANobananobananobananobaNAnobananobanAno\\\n",
    "bananobananobananobaNanobananobananobanAnobananobananobANanobananobanano\\\n",
    "bananobananobaNanobananobananobananobAnanobananobananobananobananobanano\\\n",
    "bananobanANobananobanaNobAnanobananobaNanobaNAnobananobananobananobanano\\\n",
    "bananobananobananobananobananobAnanobanaNobananobananobaNAnobananobanANo\\\n",
    "bananobanaNobananobananobananobananobananobaNanobananobanaNobanAnobanAno\\\n",
    "bananobanAno'"
   ]
  },
  {
   "cell_type": "markdown",
   "metadata": {
    "deletable": false,
    "editable": false,
    "nbgrader": {
     "cell_type": "markdown",
     "checksum": "85ddd08c229e5196d221ed5e613f9388",
     "grade": false,
     "grade_id": "cell-4503cf3373f3d1a5",
     "locked": true,
     "schema_version": 3,
     "solution": false,
     "task": false
    }
   },
   "source": [
    "*Respuesta*:\n",
    "\n",
    "    150"
   ]
  },
  {
   "cell_type": "code",
   "execution_count": null,
   "metadata": {},
   "outputs": [],
   "source": [
    "# Escribir la solucion aqui\n"
   ]
  },
  {
   "cell_type": "markdown",
   "metadata": {
    "deletable": false,
    "editable": false,
    "nbgrader": {
     "cell_type": "markdown",
     "checksum": "a155ac1d0b71613c489572b04160373e",
     "grade": false,
     "grade_id": "cell-5c70e6115de26743",
     "locked": true,
     "schema_version": 3,
     "solution": false,
     "task": false
    }
   },
   "source": [
    "### Problema 3\n",
    "\n",
    "Cuantas veces se repite `banano` en la cadena anterior, sin importar si algunas de sus letras estan en mayusculas o no?\n",
    "\n",
    "*Respuesta*:\n",
    "\n",
    "    239"
   ]
  },
  {
   "cell_type": "code",
   "execution_count": null,
   "metadata": {},
   "outputs": [],
   "source": [
    "# Escribir la solucion aqui\n"
   ]
  },
  {
   "cell_type": "markdown",
   "metadata": {
    "deletable": false,
    "editable": false,
    "nbgrader": {
     "cell_type": "markdown",
     "checksum": "d55d9131d873052dcf652a4c559cb178",
     "grade": false,
     "grade_id": "cell-e210f491688fab79",
     "locked": true,
     "schema_version": 3,
     "solution": false,
     "task": false
    }
   },
   "source": [
    "# Importar librerias\n",
    "\n",
    "Python posee un gran variedad de librerias para todo tipo de usos, desde la creacion y apertura de archivos en cualquier sistema operativo hasta la extraccion de datos en archivos de Word o Excel, pasando por el manejo y analisis de enormes cantidades de informacion provenientes de la bolsa de valores o de experimentos astronomicos, climaticos o biologicos.\n",
    "\n",
    "La ventaja de Python sobre otros lenguajes de programacion es que posee un avanzado mecanismo para importar librerias o comandos especificos de alguna de ellas, lo que hace muy sencillo usarlas para beneficio del programador. A continuacion veremos las distintas formas en que puede hacerse esto."
   ]
  },
  {
   "cell_type": "markdown",
   "metadata": {
    "deletable": false,
    "editable": false,
    "nbgrader": {
     "cell_type": "markdown",
     "checksum": "f33dd56b2b5db375ef6ab401df17ecfc",
     "grade": false,
     "grade_id": "cell-1d4d51eb0ab0c078",
     "locked": true,
     "schema_version": 3,
     "solution": false,
     "task": false
    }
   },
   "source": [
    "## Usando `import`\n",
    "\n",
    "La primera opcion, y la mas sencilla, es usar el comando `import` seguido del nombre la libreria, asi:\n",
    "\n",
    "```python\n",
    "import math\n",
    "```\n",
    "\n",
    "Cuando querramos usar algun comando de la libreria, debemos llamarla por su nombre seguido de un punto (`.`) y la tecla <kbd>Tab</kbd>. Inmediatamente deberi aparecer una lista con las funciones que hacen parte de la misma, asi:"
   ]
  },
  {
   "cell_type": "code",
   "execution_count": null,
   "metadata": {
    "deletable": false,
    "editable": false,
    "nbgrader": {
     "cell_type": "code",
     "checksum": "8b28efa08d11537128f2c0ffbf71056a",
     "grade": false,
     "grade_id": "cell-4327172f84f35a1b",
     "locked": true,
     "schema_version": 3,
     "solution": false,
     "task": false
    }
   },
   "outputs": [],
   "source": [
    "import math"
   ]
  },
  {
   "cell_type": "markdown",
   "metadata": {
    "deletable": false,
    "editable": false,
    "nbgrader": {
     "cell_type": "markdown",
     "checksum": "18d6d849501b88e10e12a0507ecb3a1f",
     "grade": false,
     "grade_id": "cell-c7287f7dc70b0f41",
     "locked": true,
     "schema_version": 3,
     "solution": false,
     "task": false
    }
   },
   "source": [
    "Como `math` es la libreria de funciones matematicas basicas de Python, podemos utilizarla para calcular el $\\textrm{sin}(\\pi/2)$, por ejemplo:"
   ]
  },
  {
   "cell_type": "code",
   "execution_count": null,
   "metadata": {
    "deletable": false,
    "editable": false,
    "nbgrader": {
     "cell_type": "code",
     "checksum": "6a313a7da7030615c8361057afa88bd9",
     "grade": false,
     "grade_id": "cell-3239b0685ce9be16",
     "locked": true,
     "schema_version": 3,
     "solution": false,
     "task": false
    }
   },
   "outputs": [],
   "source": [
    "math.sin(math.pi/2)"
   ]
  },
  {
   "cell_type": "markdown",
   "metadata": {
    "deletable": false,
    "editable": false,
    "nbgrader": {
     "cell_type": "markdown",
     "checksum": "10464fcfcef46a44998207b2e13c63fa",
     "grade": false,
     "grade_id": "cell-824953c9a719b3af",
     "locked": true,
     "schema_version": 3,
     "solution": false,
     "task": false
    }
   },
   "source": [
    "## Usando `from`\n",
    "\n",
    "Otra opcion es solo llamar un comando especifico de una libreria determinada. Para ello usamos la siguiente sintaxis:\n",
    "\n",
    "```python\n",
    "from math import sin\n",
    "```\n",
    "\n",
    "En este caso solo se carga el comando `sin`, sin cargar el resto de la libreria. Esto puede ser muy ventajoso cuando la libreria es grande y solo queremos utilizar una pequeña funcionalidad de la misma. Otra ventaja es que no es necesario usar el nombre de la libreria antes del comando."
   ]
  },
  {
   "cell_type": "code",
   "execution_count": null,
   "metadata": {
    "deletable": false,
    "editable": false,
    "nbgrader": {
     "cell_type": "code",
     "checksum": "277eba5fcd8ce1308eeaad4b4f2dd809",
     "grade": false,
     "grade_id": "cell-e52f1ebb89ea57cf",
     "locked": true,
     "schema_version": 3,
     "solution": false,
     "task": false
    }
   },
   "outputs": [],
   "source": [
    "from math import sin"
   ]
  },
  {
   "cell_type": "code",
   "execution_count": null,
   "metadata": {
    "deletable": false,
    "editable": false,
    "nbgrader": {
     "cell_type": "code",
     "checksum": "c019267b3b87015c1fd64e9cbec700f5",
     "grade": false,
     "grade_id": "cell-3dbde0bc3ce35613",
     "locked": true,
     "schema_version": 3,
     "solution": false,
     "task": false
    }
   },
   "outputs": [],
   "source": [
    "sin(3.1)"
   ]
  },
  {
   "cell_type": "markdown",
   "metadata": {
    "deletable": false,
    "editable": false,
    "nbgrader": {
     "cell_type": "markdown",
     "checksum": "c129e7b0072c207ea0d4904345d3aa52",
     "grade": false,
     "grade_id": "cell-28e391d0a329e375",
     "locked": true,
     "schema_version": 3,
     "solution": false,
     "task": false
    }
   },
   "source": [
    "Sin embargo, si queremos utilizar `pi`, veremos un error en la consola, porque no ha sido cargado:"
   ]
  },
  {
   "cell_type": "code",
   "execution_count": null,
   "metadata": {
    "deletable": false,
    "editable": false,
    "nbgrader": {
     "cell_type": "code",
     "checksum": "8876daeaed6f337c88a56422b7210ed3",
     "grade": false,
     "grade_id": "cell-c6ca4dd52f24c387",
     "locked": true,
     "schema_version": 3,
     "solution": false,
     "task": false
    }
   },
   "outputs": [],
   "source": [
    "sin(pi/2)"
   ]
  },
  {
   "cell_type": "markdown",
   "metadata": {
    "deletable": false,
    "editable": false,
    "nbgrader": {
     "cell_type": "markdown",
     "checksum": "4fd080c50d84c7ee0a0b5dcdedb8801a",
     "grade": false,
     "grade_id": "cell-37698cf9cdec3275",
     "locked": true,
     "schema_version": 3,
     "solution": false,
     "task": false
    }
   },
   "source": [
    "Para no tener que escribir una linea `from math import ...` por cada simbolo que se desee importar, se puede usar la misma sintaxis de arriba con cada simbolo separado por una coma, asi:"
   ]
  },
  {
   "cell_type": "code",
   "execution_count": null,
   "metadata": {
    "deletable": false,
    "editable": false,
    "nbgrader": {
     "cell_type": "code",
     "checksum": "b6bc6b64da041d17f0294dd018547b4c",
     "grade": false,
     "grade_id": "cell-287f2e5d199f12e0",
     "locked": true,
     "schema_version": 3,
     "solution": false,
     "task": false
    }
   },
   "outputs": [],
   "source": [
    "from math import sin, pi"
   ]
  },
  {
   "cell_type": "markdown",
   "metadata": {
    "deletable": false,
    "editable": false,
    "nbgrader": {
     "cell_type": "markdown",
     "checksum": "7602b35b7d2e72091e99aa1b2c550d48",
     "grade": false,
     "grade_id": "cell-7a5e97974b4e0dc4",
     "locked": true,
     "schema_version": 3,
     "solution": false,
     "task": false
    }
   },
   "source": [
    "Al cargar `pi` de `math` de esta forma, ya no veremos el error anterior:"
   ]
  },
  {
   "cell_type": "code",
   "execution_count": null,
   "metadata": {},
   "outputs": [],
   "source": [
    "sin(pi/2)"
   ]
  },
  {
   "cell_type": "markdown",
   "metadata": {},
   "source": [
    "## Usando un nombre corto\n",
    "\n",
    "Una opcion para no tener que llamar una libreria por su nombre completo, es renombrarla al momento de importarla. Esto es una practica bastante comun, pues permite utilizar nombres cortos para las librerias, lo que hace mucho mas facil llamarlas. Para ello se usa la siguiente sintaxis:\n",
    "\n",
    "```python\n",
    "import math as mt\n",
    "```\n",
    "\n",
    "De esta forma, en lugar de `math` solo usamos `mt`, asi:"
   ]
  },
  {
   "cell_type": "code",
   "execution_count": null,
   "metadata": {},
   "outputs": [],
   "source": [
    "import math as mt"
   ]
  },
  {
   "cell_type": "code",
   "execution_count": null,
   "metadata": {},
   "outputs": [],
   "source": [
    "mt.sin(mt.pi/2)"
   ]
  },
  {
   "cell_type": "markdown",
   "metadata": {},
   "source": [
    "## Importando todos los comandos\n",
    "\n",
    "La ultima opcion consiste en llamar todos los comandos de una libreria sin que esten precedidos por su nombre. Para ello se utiliza la sintaxis:\n",
    "\n",
    "```python\n",
    "from math import *\n",
    "```\n",
    "\n",
    "**Advertencia**:\n",
    "\n",
    "Esta opcion no es muy recomendable ya que los comandos de varias librerias pueden tener el mismo nombre, lo que puede resultar en serias confusiones.\n",
    "\n",
    "Un ejemplo de este caso es el siguiente:"
   ]
  },
  {
   "cell_type": "code",
   "execution_count": null,
   "metadata": {},
   "outputs": [],
   "source": [
    "from math import *"
   ]
  },
  {
   "cell_type": "code",
   "execution_count": null,
   "metadata": {},
   "outputs": [],
   "source": [
    "cos(pi/2)"
   ]
  },
  {
   "cell_type": "markdown",
   "metadata": {},
   "source": [
    "## Problemas"
   ]
  },
  {
   "cell_type": "markdown",
   "metadata": {},
   "source": [
    "### Problema 1\n",
    "\n",
    "Importar la libreria `numpy` con el nombre `np`. Despues utilizar la funcion `arange` de la misma para generar una lista de numeros entre `0` y `1`, en pasos de `0.01`.\n",
    "\n",
    "**Nota**:\n",
    "\n",
    "Para mirar la ayuda de `arange`, se debe evaluar una celda nueva con la siguiente sintaxis:\n",
    "\n",
    "```python\n",
    "np.arange?\n",
    "```"
   ]
  },
  {
   "cell_type": "code",
   "execution_count": null,
   "metadata": {},
   "outputs": [],
   "source": [
    "# Escribir la solucion aqui\n"
   ]
  },
  {
   "cell_type": "markdown",
   "metadata": {},
   "source": [
    "### Problema 2\n",
    "\n",
    "De la misma libreria anterior, importar unicamente la funcion `linspace` y la constante `pi`. Utilizar estas dos expresiones para generar una lista de 100 numeros entre $0$ y $2 \\pi$."
   ]
  },
  {
   "cell_type": "code",
   "execution_count": null,
   "metadata": {},
   "outputs": [],
   "source": [
    "# Escribir la soluci�n aqu�\n"
   ]
  },
  {
   "cell_type": "markdown",
   "metadata": {},
   "source": [
    "### Problema 3\n",
    "\n",
    "Usar la funcion `sin` de `numpy` para calcular el seno de los numeros generados por `linspace` en el ejercicio anterior.\n",
    "\n",
    "**Notas**:\n",
    "\n",
    "1. **No** es necesario usar un ciclo `for`. Mirar detenidamente los ejemplos de `numpy.sin` en el visor de ayuda.\n",
    "\n",
    "2. Puede hacerse lo mismo con `math.sin`?"
   ]
  },
  {
   "cell_type": "code",
   "execution_count": null,
   "metadata": {},
   "outputs": [],
   "source": [
    "# Escribir la solucion aqui\n"
   ]
  },
  {
   "cell_type": "markdown",
   "metadata": {},
   "source": [
    "### Problema 4\n",
    "\n",
    "Generar una lista de 50 puntos aleatorios en 2D, usando la funcion `rand` de la libreria `numpy.random`"
   ]
  },
  {
   "cell_type": "code",
   "execution_count": null,
   "metadata": {},
   "outputs": [],
   "source": [
    "# Escribir la solucion aqui\n"
   ]
  },
  {
   "cell_type": "markdown",
   "metadata": {},
   "source": [
    "# If condicional\n",
    "\n",
    "Un clasico de todos los lenguajes de programacion completos de Turing. En Python se define usando la siguiente sintaxis: "
   ]
  },
  {
   "cell_type": "code",
   "execution_count": null,
   "metadata": {},
   "outputs": [],
   "source": [
    "def lesser_or_greater(x, y):\n",
    "    if x < y:\n",
    "        print(x, \"is lesser than\", y)\n",
    "    elif x > y:\n",
    "        print(x, \"is greater than\", y)\n",
    "    else:\n",
    "        print(x, \"and\", y, \"are equal\")"
   ]
  },
  {
   "cell_type": "markdown",
   "metadata": {},
   "source": [
    "\n",
    "Si invocamos la funcion usando diferentes inputs, obtendremos diferentes outputs:"
   ]
  },
  {
   "cell_type": "code",
   "execution_count": null,
   "metadata": {},
   "outputs": [],
   "source": [
    "lesser_or_greater(2, 5)"
   ]
  },
  {
   "cell_type": "code",
   "execution_count": null,
   "metadata": {},
   "outputs": [],
   "source": [
    "lesser_or_greater(100, 10)"
   ]
  },
  {
   "cell_type": "code",
   "execution_count": null,
   "metadata": {},
   "outputs": [],
   "source": [
    "lesser_or_greater(1, 1)"
   ]
  },
  {
   "cell_type": "markdown",
   "metadata": {},
   "source": [
    "Algunos operadores de comparacion importantes estan enlistados en la siguiente tabla:\n",
    "\n",
    "| Operador | Afirmacion\n",
    "| -------- | ---------\n",
    "|   ==     | Igualdad\n",
    "|   !=     | Desigualdad        \n",
    "|   <      | Menor que\n",
    "|   >      | Mayor que\n",
    "|   <=     | Menor o igual\n",
    "|   >=     | Mayor o igual\n",
    "|   not    | Negativo de una condicion booleana\n",
    "|   and    | Operacion AND entre dos booleanos\n",
    "|   or     | Operacion OR entre dos booleanos\n",
    "|   in     | Verifica si un elemento esta dentro de un objeto iterable\n",
    "|   is     | Verifica si un objeto es igual a otro (basado en memoria)\n",
    "\n",
    "Todos los operadores son similares a otros lenguajes de programacion, con excepcion de los operadores ``in``, ``is`` and ``not``:"
   ]
  },
  {
   "cell_type": "code",
   "execution_count": null,
   "metadata": {},
   "outputs": [],
   "source": [
    "3 in [1, 2, 4]"
   ]
  },
  {
   "cell_type": "code",
   "execution_count": null,
   "metadata": {},
   "outputs": [],
   "source": [
    "3 in [1, 2, 3]"
   ]
  },
  {
   "cell_type": "code",
   "execution_count": null,
   "metadata": {},
   "outputs": [],
   "source": [
    "'a' in {'a':4, 'b':3}"
   ]
  },
  {
   "cell_type": "code",
   "execution_count": null,
   "metadata": {},
   "outputs": [],
   "source": [
    "3 in (25, 6)"
   ]
  },
  {
   "cell_type": "code",
   "execution_count": null,
   "metadata": {},
   "outputs": [],
   "source": [
    "not (2 == 5)"
   ]
  },
  {
   "cell_type": "code",
   "execution_count": null,
   "metadata": {},
   "outputs": [],
   "source": [
    "3 is None"
   ]
  },
  {
   "cell_type": "code",
   "execution_count": null,
   "metadata": {},
   "outputs": [],
   "source": [
    "4 is not None"
   ]
  },
  {
   "cell_type": "markdown",
   "metadata": {},
   "source": [
    "A traves de estos ejemplos tambien podemos notar que los valores de verdad en Python se escriben como `True` y `False` para verdadero y falso, respectivamente."
   ]
  },
  {
   "cell_type": "markdown",
   "metadata": {},
   "source": [
    "# Asignacion condicional"
   ]
  },
  {
   "cell_type": "code",
   "execution_count": null,
   "metadata": {},
   "outputs": [],
   "source": [
    "condicion = False\n",
    "if condicion:\n",
    "    variable = 'si!'\n",
    "else:\n",
    "    variable = 'no!'\n",
    "print(variable)"
   ]
  },
  {
   "cell_type": "code",
   "execution_count": null,
   "metadata": {},
   "outputs": [],
   "source": [
    "variable = 'si!' if condicion else 'no!'\n",
    "print(variable)"
   ]
  },
  {
   "cell_type": "markdown",
   "metadata": {},
   "source": [
    "## Problemas"
   ]
  },
  {
   "cell_type": "markdown",
   "metadata": {},
   "source": [
    "### Problema 1\n",
    "\n",
    "Definir una funcion `absoluto(x)` que tome un numero `x` y retorne su valor absoluto, asi:\n",
    "\n",
    "```python\n",
    "absoluto(100.22)\n",
    "100.22\n",
    "```\n",
    "\n",
    "```python\n",
    "absoluto(-18.7)\n",
    "18.7\n",
    "```"
   ]
  },
  {
   "cell_type": "code",
   "execution_count": null,
   "metadata": {
    "deletable": false,
    "nbgrader": {
     "cell_type": "code",
     "checksum": "7661c7414688856ba2fab1470ac8500e",
     "grade": false,
     "grade_id": "cell-92e49b432fc7c90c",
     "locked": false,
     "schema_version": 3,
     "solution": true,
     "task": false
    }
   },
   "outputs": [],
   "source": [
    "# Escribir la solucion aqui\n",
    "def absoluto(x):\n",
    "    # YOUR CODE HERE\n",
    "    raise NotImplementedError()"
   ]
  },
  {
   "cell_type": "code",
   "execution_count": null,
   "metadata": {
    "deletable": false,
    "editable": false,
    "nbgrader": {
     "cell_type": "code",
     "checksum": "eaee086008eaf7b9ad7c9a080bbe77c6",
     "grade": true,
     "grade_id": "cell-295746509eb44d60",
     "locked": true,
     "points": 1,
     "schema_version": 3,
     "solution": false,
     "task": false
    }
   },
   "outputs": [],
   "source": [
    "assert(absoluto(100.22)==100.22)\n",
    "assert(absoluto(-18.7)==18.7)"
   ]
  },
  {
   "cell_type": "markdown",
   "metadata": {},
   "source": [
    "### Problema 2\n",
    "\n",
    "Definir una funcion `es_divisible_entre_siete(x)` que imprima si un numero es o no es divisible entre 7. La funcion debe *imprimir* resultados como los siguientes:\n",
    "\n",
    "```python\n",
    "es_divisible_entre_siete(12)\n",
    "'12 no es divisible entre 7'\n",
    "```\n",
    "\n",
    "```python\n",
    "es_divisible_entre_siete(14)\n",
    "'14 es divisible entre 7'\n",
    "```\n",
    "\n",
    "```python\n",
    "es_divisible_entre_siete(32)\n",
    "'32 no es divisible entre 7'\n",
    "```\n",
    "\n",
    "```python\n",
    "es_divisible_entre_siete(21)\n",
    "'21 es divisible entre 7'\n",
    "```\n",
    "\n",
    "**Nota**:\n",
    "\n",
    "Utilizar el operador modulo (`%`) para decidir si un numero es moltiplo de otro. Este operador retorna el resto de la division entre dos numeros. Por tanto, si un numero divide exactamente a otro, retorna `0`, sino retorna cualquier otro numero. Veamos algunos ejemplos:\n",
    "\n",
    "```python\n",
    "12%4\n",
    "0\n",
    "```\n",
    "\n",
    "```python\n",
    "12%6\n",
    "0\n",
    "```\n",
    "\n",
    "```python\n",
    "12%5\n",
    "2\n",
    "```\n",
    "\n",
    "```python\n",
    "25%5\n",
    "0\n",
    "```\n",
    "\n",
    "```python\n",
    "25%6\n",
    "1\n",
    "```"
   ]
  },
  {
   "cell_type": "code",
   "execution_count": null,
   "metadata": {},
   "outputs": [],
   "source": [
    "# Escribir la solucion aqui\n"
   ]
  },
  {
   "cell_type": "markdown",
   "metadata": {},
   "source": [
    "### Problema 3\n",
    "\n",
    "Generalizar la funcion anterior como una nueva funcion llamada `es_divisible_entre_n(x, n)` que tome dos n�meros enteros e imprima si el primero es divisible entre el segundo, asi: (Tomado de *Aprenda a pensar como un programador con Python*)\n",
    "\n",
    "```python\n",
    "es_divisible_entre_n(20, 4)\n",
    "'20 es divisible entre 4'\n",
    "```\n",
    "\n",
    "```python\n",
    "es_divisible_entre_n(36, 5)\n",
    "'36 no es divisible entre 5'\n",
    "```"
   ]
  },
  {
   "cell_type": "code",
   "execution_count": null,
   "metadata": {},
   "outputs": [],
   "source": [
    "# Escribir la solucion aqui\n"
   ]
  },
  {
   "cell_type": "markdown",
   "metadata": {},
   "source": [
    "### Problema 4\n",
    "\n",
    "Definir una funcion `agregar_nuevo(li, x)` que reciba una lista y un elemento, y retorne una nueva lista en la que esta añadido el elemento, pero solo si este **no** hace parte de la lista original (Tomado de *Introduccion a Mathematica* del Prof. Jurgen Tischer).\n",
    "\n",
    "Por ejemplo, algunos resultados de esta funcion son:\n",
    "\n",
    "```python\n",
    "agregar_nuevo([3,9,6], 11)\n",
    "[3, 9, 6, 11]\n",
    "```\n",
    "\n",
    "```python\n",
    "agregar_nuevo([3,9,6], 9)\n",
    "[3, 9, 6]\n",
    "```"
   ]
  },
  {
   "cell_type": "code",
   "execution_count": null,
   "metadata": {},
   "outputs": [],
   "source": [
    "# Escribir la solucion aqui\n"
   ]
  },
  {
   "cell_type": "markdown",
   "metadata": {},
   "source": [
    "# Ciclo For\n",
    "\n",
    "En Python, el ``for .. in`` es usado para iterar sobre elemetos iterables u objetos generator. Su sintaxis es mucho mas simple que en C/C++ o Java. En vez de definir el una variable de iteracion para aunmentar/disminuir, cada iteracion devuelve el objeto actual de la secuencia iterable.\n",
    "\n",
    "**Nota:** La secuencia es recorrida en orden de aparicion.\n",
    "\n",
    "Veamos unos ejemplos:"
   ]
  },
  {
   "cell_type": "code",
   "execution_count": null,
   "metadata": {},
   "outputs": [],
   "source": [
    "for x in [3, 9, 12, 4]:\n",
    "    print(x)"
   ]
  },
  {
   "cell_type": "code",
   "execution_count": null,
   "metadata": {},
   "outputs": [],
   "source": [
    "prefix = \"JKLMNOPQ\"\n",
    "suffix = \"ack\"\n",
    "for letter in prefix:\n",
    "    print(letter + suffix)"
   ]
  },
  {
   "cell_type": "code",
   "execution_count": null,
   "metadata": {},
   "outputs": [],
   "source": [
    "for i in range(10):\n",
    "    print(i**2)"
   ]
  },
  {
   "cell_type": "markdown",
   "metadata": {},
   "source": [
    "\n",
    "`range` permite definir una lista de indices para recorrer en secuencia. Esto permite tambien definir una secuencia de numeros entre dos valores (no inclusivo) y secuencias con skips, similar a las notaciones de slicing:\n",
    "\n",
    "**Note**: Similar a ``zip``, ``dict.keys`` y ``dict.values``, ``range`` retorna un objeto generador, el cual implica que slicing e iteracion no estan disponibles"
   ]
  },
  {
   "cell_type": "code",
   "execution_count": null,
   "metadata": {},
   "outputs": [],
   "source": [
    "list(range(10))"
   ]
  },
  {
   "cell_type": "markdown",
   "metadata": {},
   "source": [
    "`range`: Lista entre ``a`` y ``b - 1``:"
   ]
  },
  {
   "cell_type": "code",
   "execution_count": null,
   "metadata": {},
   "outputs": [],
   "source": [
    "list(range(1, 20))"
   ]
  },
  {
   "cell_type": "markdown",
   "metadata": {},
   "source": [
    "Con saltos de 3:"
   ]
  },
  {
   "cell_type": "code",
   "execution_count": null,
   "metadata": {},
   "outputs": [],
   "source": [
    "list(range(7, 25, 3))"
   ]
  },
  {
   "cell_type": "markdown",
   "metadata": {},
   "source": [
    "\n",
    "Notaciones de desempaquetado iterable puede ser usadas en un ciclo for, por ejemplo, ``enumerate`` funcion que nos permite recuperar el objeto iterado actual junto con su posicion:"
   ]
  },
  {
   "cell_type": "code",
   "execution_count": null,
   "metadata": {},
   "outputs": [],
   "source": [
    "for i, x in enumerate([2, 3, 4]):\n",
    "    print(i, x)\n"
   ]
  },
  {
   "cell_type": "code",
   "execution_count": null,
   "metadata": {},
   "outputs": [],
   "source": [
    "for i, (a, b) in enumerate([(2, 3), (3, 4)]):\n",
    "    print(i, a+b)"
   ]
  },
  {
   "cell_type": "code",
   "execution_count": null,
   "metadata": {},
   "outputs": [],
   "source": [
    "for a, b in zip([3, 4], [5, 6]):\n",
    "    print(a, b)"
   ]
  },
  {
   "cell_type": "code",
   "execution_count": null,
   "metadata": {},
   "outputs": [],
   "source": [
    "duenios_mascotas = {\n",
    "    'Laura'     : 'Max',\n",
    "    'Juan'      : 'Kyra',\n",
    "    'Catalina'  : 'Guadalupe',\n",
    "    'Alejandro' : 'Thiago'\n",
    "}\n",
    "print('=> Los duenos de las mascotas son:')\n",
    "for duenio in duenios_mascotas.keys():\n",
    "    print(duenio)\n",
    "    \n",
    "print(40 * '-')\n",
    "print('=> Las mascotas son:')\n",
    "for mascota in duenios_mascotas.values():\n",
    "    print(mascota)\n",
    "    \n",
    "print(40 * '-')\n",
    "for duenio, mascota in duenios_mascotas.items():\n",
    "    print(f'La mascota de {duenio} se llama {mascota}')\n",
    "    "
   ]
  },
  {
   "cell_type": "markdown",
   "metadata": {},
   "source": [
    "## Compension Listas/Diccionarios\n",
    "Algunas veces, nosotros solo podemos usar un ciclo for para filtrar el contenido de una lista o crear un diccionario basado en otra lista. Sin embargo, Python nos brinda un manera mas facil para realizar este tipo de operaciones en una sola linea:"
   ]
  },
  {
   "cell_type": "code",
   "execution_count": null,
   "metadata": {},
   "outputs": [],
   "source": [
    "a = []\n",
    "for x in range(0, 20):\n",
    "    if x % 2 == 0:\n",
    "        a.append(x)\n",
    "a"
   ]
  },
  {
   "cell_type": "code",
   "execution_count": null,
   "metadata": {},
   "outputs": [],
   "source": [
    "a = [x for x in range(0, 20) if x % 2 == 0]  # Obtener todos los numeros pares\n",
    "a"
   ]
  },
  {
   "cell_type": "code",
   "execution_count": null,
   "metadata": {},
   "outputs": [],
   "source": [
    "a = []\n",
    "for x in range(0, 20):\n",
    "    if x % 2 == 0:\n",
    "        a.append(x)\n",
    "    else:\n",
    "        a.append(0)\n",
    "a"
   ]
  },
  {
   "cell_type": "code",
   "execution_count": null,
   "metadata": {},
   "outputs": [],
   "source": [
    "a = [x if x % 2 == 0 else 0 for x in range(0, 20)] # En los indices impares poner 0\n",
    "a"
   ]
  },
  {
   "cell_type": "code",
   "execution_count": null,
   "metadata": {},
   "outputs": [],
   "source": [
    "a = [x if x % 2 == 0 else x**2 for x in range(0, 20)] # En los indices impares se eleva al cuadrado\n",
    "a"
   ]
  },
  {
   "cell_type": "markdown",
   "metadata": {},
   "source": [
    "Tambien podemos anidar esta notacion:"
   ]
  },
  {
   "cell_type": "code",
   "execution_count": null,
   "metadata": {},
   "outputs": [],
   "source": [
    "a = []\n",
    "for x in range(0, 5):\n",
    "    temp_list = []\n",
    "    for y in range(0, x):\n",
    "        temp_list.append(0)\n",
    "    a.append(temp_list)\n",
    "a"
   ]
  },
  {
   "cell_type": "code",
   "execution_count": null,
   "metadata": {},
   "outputs": [],
   "source": [
    "a = [[0 for y in range(0, x)] for x in range(0, 5)]\n",
    "a"
   ]
  },
  {
   "cell_type": "markdown",
   "metadata": {},
   "source": [
    "Podemos aplicar una notacion similar para crear diccionarios:"
   ]
  },
  {
   "cell_type": "code",
   "execution_count": null,
   "metadata": {},
   "outputs": [],
   "source": [
    "d = {}\n",
    "for i in range(0, 10):\n",
    "    d[i] = i+10\n",
    "d"
   ]
  },
  {
   "cell_type": "code",
   "execution_count": null,
   "metadata": {},
   "outputs": [],
   "source": [
    "d = {i:i+10 for i in range(0, 10)}\n",
    "d"
   ]
  },
  {
   "cell_type": "markdown",
   "metadata": {},
   "source": [
    "## Problemas"
   ]
  },
  {
   "cell_type": "markdown",
   "metadata": {},
   "source": [
    "### Problema 5\n",
    "\n",
    "Construir un ciclo ``for`` que imprima todos los numeros pares de 1 a 100."
   ]
  },
  {
   "cell_type": "code",
   "execution_count": null,
   "metadata": {},
   "outputs": [],
   "source": [
    "# Escribir la solucion aqui\n"
   ]
  },
  {
   "cell_type": "markdown",
   "metadata": {},
   "source": [
    "### Problema 6\n",
    "\n",
    "Definir una funcion `es_primo` que tome un numero `x` y verifique si es divisible entre todos los numeros menores a `x`. Si lo es, entonces debe retornar `False` y si no `True`. Por ejemplo:\n",
    "\n",
    "```python\n",
    "es_primo(10)\n",
    "False\n",
    "```\n",
    "\n",
    "```python\n",
    "es_primo(17)\n",
    "True\n",
    "```\n",
    "\n",
    "```python\n",
    "es_primo(15)\n",
    "False\n",
    "```\n",
    "\n",
    "```python\n",
    "es_primo(23)\n",
    "True\n",
    "```\n",
    "\n",
    "**Nota**:\n",
    "\n",
    "Modificar la funcion `es_divisible_entre_n` para que en lugar de imprimir oraciones, retorne `True` o `False`, y despues utilizarla como parte del enunciado de la funcion `es_primo`."
   ]
  },
  {
   "cell_type": "code",
   "execution_count": null,
   "metadata": {},
   "outputs": [],
   "source": [
    "# Escribir la solucion aqui\n"
   ]
  },
  {
   "cell_type": "markdown",
   "metadata": {},
   "source": [
    "### Problema 7\n",
    "\n",
    "Optimizar la funcion anterior, respondiendo a la siguiente pregunta: Es necesario revisar todos los numeros menores a `x` para verificar si `x` es divisible entre todos ellos? Hasta que numero es en realidad necesario revisar?\n",
    "\n",
    "Para ello, definir una nueva funcion `es_primo_veloz` y comparar los tiempos de ejecucion entre ella y `es_primo` usando el comando `%timeit`, asi:\n",
    "\n",
    "```python\n",
    "%timeit es_primo(600)\n",
    "```\n",
    "\n",
    "```ipython\n",
    "%timeit es_primo_veloz(600)\n",
    "```\n"
   ]
  },
  {
   "cell_type": "code",
   "execution_count": null,
   "metadata": {},
   "outputs": [],
   "source": [
    "# Escribir la solucion aqui\n"
   ]
  },
  {
   "cell_type": "markdown",
   "metadata": {},
   "source": [
    "### Problema 8\n",
    "\n",
    "Definir una funcion `desv_est` que calcule la desviacion estandar de una lista, usando la formula:\n",
    "\n",
    "$$s=\\sqrt{\\frac{\\sum_{i=1}^{n}\\left(x_{i}-\\bar{x}\\right)^{2}}{n-1}}$$\n",
    "\n",
    "donde $\\bar{x}$ es el promedio y $n$ es el numero total de datos.\n",
    "\n",
    "Por ejemplo, la desviacion estandar de la siguiente lista:"
   ]
  },
  {
   "cell_type": "code",
   "execution_count": null,
   "metadata": {
    "deletable": false,
    "nbgrader": {
     "cell_type": "code",
     "checksum": "ac7b02d1d33a68480b1022f5b2e78243",
     "grade": false,
     "grade_id": "cell-1437df95890a7320",
     "locked": false,
     "schema_version": 3,
     "solution": true,
     "task": false
    }
   },
   "outputs": [],
   "source": [
    "li = [48.38,  27.6 ,  32.46,  51.94,  47.43,  48.61,  34.38,  48.98,\\\n",
    "      48.86,  41.45,  56.55,  25.46,  27.03,  36.72,  48.03,  36.86,\\\n",
    "      42.58,  44.44,  56.12,  43.86,  44.42,  42.92,  41.43,  22.81,\\\n",
    "      36.55,  50.89,  29.93,  47.61,  63.91,  53.98,  42.64,  27.18,\\\n",
    "      29.93,  31.51]\n",
    "def desv_est(lista):\n",
    "    # YOUR CODE HERE\n",
    "    raise NotImplementedError()\n"
   ]
  },
  {
   "cell_type": "code",
   "execution_count": null,
   "metadata": {
    "deletable": false,
    "editable": false,
    "nbgrader": {
     "cell_type": "code",
     "checksum": "31e9474d8bf091b0f3e665b6d7da0709",
     "grade": true,
     "grade_id": "cell-b968b40069a7b1d3",
     "locked": true,
     "points": 1,
     "schema_version": 3,
     "solution": false,
     "task": false
    }
   },
   "outputs": [],
   "source": [
    "assert(desv_est(li)==10.193054313544058)"
   ]
  },
  {
   "cell_type": "markdown",
   "metadata": {},
   "source": [
    "debe dar como resultado\n",
    "\n",
    "```python\n",
    "desv_est(li)\n",
    "10.193054313544058\n",
    "```"
   ]
  },
  {
   "cell_type": "markdown",
   "metadata": {},
   "source": [
    "# NumPy\n",
    "\n",
    "Numpy es un paquete fundamental para la conputacion cientifica en Python. Contiene, entre muchas cosas:\n",
    "\n",
    "- objeto de arreglos N-dimensionales\n",
    "- funciones sofisticadas (de radiodifusion)\n",
    "- herramientas de integracion C/C++ y herramientas de codigo Fortran \n",
    "- utiles capacidades de algebra lineal, transformada de Fourier, y numeros aleatorios\n",
    "\n",
    "Ademas de los obvios usos cientificos, Numpy puede tambien ser usada de forma eficiente como contenedor multi-dimensional de datos genericos. Pueden definirse data-types de forma arbitraria. Esto permite a Numpy, sin problemas y rapidamente, integrarse con una amplia variedad de bases de datos."
   ]
  },
  {
   "cell_type": "code",
   "execution_count": null,
   "metadata": {},
   "outputs": [],
   "source": [
    "import numpy as np"
   ]
  },
  {
   "cell_type": "code",
   "execution_count": null,
   "metadata": {},
   "outputs": [],
   "source": [
    "a = np.array([2,3,4]) #se genera un arreglo de numpy a partir de un arreglo de Python"
   ]
  },
  {
   "cell_type": "code",
   "execution_count": null,
   "metadata": {},
   "outputs": [],
   "source": [
    "a"
   ]
  },
  {
   "cell_type": "code",
   "execution_count": null,
   "metadata": {},
   "outputs": [],
   "source": [
    "a.dtype"
   ]
  },
  {
   "cell_type": "code",
   "execution_count": null,
   "metadata": {},
   "outputs": [],
   "source": [
    "b = np.array([1.2, 3.5, 5.1])"
   ]
  },
  {
   "cell_type": "code",
   "execution_count": null,
   "metadata": {},
   "outputs": [],
   "source": [
    "b.dtype"
   ]
  },
  {
   "cell_type": "code",
   "execution_count": null,
   "metadata": {},
   "outputs": [],
   "source": [
    "a = np.array(1,2,3,4)"
   ]
  },
  {
   "cell_type": "code",
   "execution_count": null,
   "metadata": {},
   "outputs": [],
   "source": [
    "a = np.array([1,2,3,4])\n",
    "print(a)"
   ]
  },
  {
   "cell_type": "code",
   "execution_count": null,
   "metadata": {},
   "outputs": [],
   "source": [
    "b = np.array([(1.5,2,3), (4,5,6)])\n",
    "print(b)"
   ]
  },
  {
   "cell_type": "code",
   "execution_count": null,
   "metadata": {},
   "outputs": [],
   "source": [
    "np.zeros((3, 4)) # se pueden generar arreglos de solo ceros"
   ]
  },
  {
   "cell_type": "code",
   "execution_count": null,
   "metadata": {},
   "outputs": [],
   "source": [
    "c=np.ones((2, 3, 4), dtype=np.int16)  #se pueden generar arreglos de solo unos y se puede definir el tipo de dato de cualquier arreglo\n",
    "print(c)\n",
    "print(c.shape)"
   ]
  },
  {
   "cell_type": "code",
   "execution_count": null,
   "metadata": {},
   "outputs": [],
   "source": [
    "np.arange(10, 30, 5) #se pueden generar arreglos de datos secuenciales, con el valor inicial, valor final y el paso."
   ]
  },
  {
   "cell_type": "code",
   "execution_count": null,
   "metadata": {},
   "outputs": [],
   "source": [
    "[i for i in range(10,30,5)] "
   ]
  },
  {
   "cell_type": "code",
   "execution_count": null,
   "metadata": {},
   "outputs": [],
   "source": [
    "np.arange(0, 2, 0.3) #se pueden usar pasos arbitrarios"
   ]
  },
  {
   "cell_type": "code",
   "execution_count": null,
   "metadata": {},
   "outputs": [],
   "source": [
    "b = np.arange(12).reshape(4,3) #se puede cambiar las dimensiones de un arreglo simepre y cuando el tamaño concuerde con la cantidad de datos\n",
    "print(b)"
   ]
  },
  {
   "cell_type": "code",
   "execution_count": null,
   "metadata": {},
   "outputs": [],
   "source": [
    "A = np.array([[1,1], [0,1]])\n",
    "print(A)\n",
    "print()\n",
    "B = np.array([[2,0], [3,4]])\n",
    "print(B)\n",
    "print()\n",
    "print(A*B) #multiplicacion dato a dato\n",
    "print()\n",
    "print(A.dot(B)) #se realiza el producto punto de las dos matrices\n",
    "print()\n",
    "print(np.dot(A, B)) #se realiza el producto punto de las dos matrices"
   ]
  },
  {
   "cell_type": "code",
   "execution_count": null,
   "metadata": {},
   "outputs": [],
   "source": [
    "np.vstack((A,B)) #concatenar dos arreglos de forma vertical (filas)"
   ]
  },
  {
   "cell_type": "code",
   "execution_count": null,
   "metadata": {},
   "outputs": [],
   "source": [
    "b = np.random.random((2,3)) #genera una matriz con las ddimensiones especificadas con numeros aleatorios\n",
    "print(b)"
   ]
  },
  {
   "cell_type": "code",
   "execution_count": null,
   "metadata": {},
   "outputs": [],
   "source": [
    "b.sum(axis=0) # suma todos los datos de una matriz en un eje especificado"
   ]
  },
  {
   "cell_type": "markdown",
   "metadata": {},
   "source": [
    "## Copias"
   ]
  },
  {
   "cell_type": "markdown",
   "metadata": {},
   "source": [
    "#### No una copia"
   ]
  },
  {
   "cell_type": "code",
   "execution_count": null,
   "metadata": {},
   "outputs": [],
   "source": [
    "a = np.arange(12)\n",
    "b = a            # no se ha creado un nuevo objeto\n",
    "print(a)\n",
    "print(b)"
   ]
  },
  {
   "cell_type": "code",
   "execution_count": null,
   "metadata": {},
   "outputs": [],
   "source": [
    "print(b is a)\n",
    "b.shape = 3,4\n",
    "a.shape"
   ]
  },
  {
   "cell_type": "code",
   "execution_count": null,
   "metadata": {},
   "outputs": [],
   "source": [
    "print(a)\n",
    "print(b)\n",
    "print('---')\n",
    "print(id(a))\n",
    "print(id(b))"
   ]
  },
  {
   "cell_type": "markdown",
   "metadata": {},
   "source": [
    "#### Copia profunda"
   ]
  },
  {
   "cell_type": "code",
   "execution_count": null,
   "metadata": {},
   "outputs": [],
   "source": [
    "d = a.copy()\n",
    "print(d is a)\n",
    "print(d.base is a)"
   ]
  },
  {
   "cell_type": "code",
   "execution_count": null,
   "metadata": {},
   "outputs": [],
   "source": [
    "d[0,0] = 9999\n",
    "print(d)\n",
    "print(a)"
   ]
  },
  {
   "cell_type": "markdown",
   "metadata": {},
   "source": [
    "# Algebra lineal util"
   ]
  },
  {
   "cell_type": "code",
   "execution_count": null,
   "metadata": {},
   "outputs": [],
   "source": [
    "X = np.array(\n",
    "    [[1, 2, 3],\n",
    "     [4, 5, 6],\n",
    "     [7, 8, 9]]\n",
    ")\n",
    "eigvals, eigvecs = np.linalg.eig(X)\n",
    "print('Eigenvalues: \\n', eigvals)\n",
    "print('Eigenvectors: \\n', eigvecs)"
   ]
  },
  {
   "cell_type": "code",
   "execution_count": null,
   "metadata": {},
   "outputs": [],
   "source": [
    "mat_pow = np.linalg.matrix_power(X, n=3)\n",
    "print('x**3 = \\n', mat_pow)"
   ]
  },
  {
   "cell_type": "code",
   "execution_count": null,
   "metadata": {},
   "outputs": [],
   "source": [
    "gram_mat = np.matmul(X, X.T)\n",
    "print('X * X^T = \\n', gram_mat)"
   ]
  },
  {
   "cell_type": "markdown",
   "metadata": {},
   "source": [
    "# Clases\n",
    "\n",
    "Python es un muy buen lenguaje orientado a objetos (como Java), por lo que en el es muy sencillo definir y trabajar con clases. En las secciones anteriores hemos tenido la oportunidad de utilizar los metodos de cadenas y listas para resolver varios problemas, lo que indica que, en su implementacion, ambos tipos son clases, cosa que tambien es cierta para los demas (aun los numeros son clases!).\n",
    "\n",
    "En esta seccion veremos como definir nuestras propias clases y vamos a aprender como asociarle sus correspondientes atributos y metodos."
   ]
  },
  {
   "cell_type": "markdown",
   "metadata": {},
   "source": [
    "## Definicion e inicializacion\n",
    "\n",
    "En general, una clase es un objeto en el que se reunen varias funciones (llamadas metodos) y variables (llamadas atributos), con el objeto de que los metodos puedan compartir un mismo conjunto de datos, sobre el que puedan operar de cierta forma para llegar al resultado que desea el programador.\n",
    "\n",
    "En Python las clases se definen con la palabra `class` y se inicializan usando el metodo ``__init__``, que es una funcion cuyo primer argumento **siempre** debe ser la palabra `self`. Los argumentos que vengan despues de `self` van a usarse para darle valores iniciales a los atributos de la clase.\n",
    "\n",
    "Miremos como se hace con un ejemplo:"
   ]
  },
  {
   "cell_type": "code",
   "execution_count": null,
   "metadata": {},
   "outputs": [],
   "source": [
    "class NumeroComplejo:\n",
    "    def __init__(self, real, img):\n",
    "        self.real = real\n",
    "        self.img = img"
   ]
  },
  {
   "cell_type": "markdown",
   "metadata": {},
   "source": [
    "Como se infiere de su nombre, esta clase se ha definido para representar numeros complejos, por lo que debe tener dos atributos: una parte real y una parte imaginaria. En este caso, estos estan dados por `real` e `img`, respectivamente.\n",
    "\n",
    "----\n",
    "\n",
    "**Nota**:\n",
    "\n",
    "Es muy importante notar que para diferenciar los atributos de una clase de las variables locales del metodo, en Python todo atributo debe ir precedido de `self.`, como en `self.real` y `self.img`.\n",
    "\n",
    "----\n",
    "\n",
    "Ademas de `self`, podemos ver que `__init__` recibe los argumentos `real` e `img`, que se utilizan para inicializar los atributos mencionados.\n",
    "\n",
    "Para crear una instancia de la clase es necesario llamarla por su nombre, con el numero de argumentos declarados en `__init__` (sin contar `self`) y asignarsela a una variable, asi:"
   ]
  },
  {
   "cell_type": "code",
   "execution_count": null,
   "metadata": {},
   "outputs": [],
   "source": [
    "z = NumeroComplejo(1, 2)"
   ]
  },
  {
   "cell_type": "markdown",
   "metadata": {},
   "source": [
    "Para comprobar que la inicializacion ha funcionado correctamente, podemos inspeccionar los atributos de la clase directamente:"
   ]
  },
  {
   "cell_type": "code",
   "execution_count": null,
   "metadata": {},
   "outputs": [],
   "source": [
    "z.real"
   ]
  },
  {
   "cell_type": "code",
   "execution_count": null,
   "metadata": {},
   "outputs": [],
   "source": [
    "z.img"
   ]
  },
  {
   "cell_type": "markdown",
   "metadata": {},
   "source": [
    "De esta forma puede certificarse que, efectivamente, `z` es un numero complejo con parte real `1` y parte imaginaria `2`.\n",
    "\n",
    "Una vez definida una instancia, tambien es posible modificar sus atributos por medio de asignacion, asi:"
   ]
  },
  {
   "cell_type": "code",
   "execution_count": null,
   "metadata": {},
   "outputs": [],
   "source": [
    "z.real = 5"
   ]
  },
  {
   "cell_type": "code",
   "execution_count": null,
   "metadata": {},
   "outputs": [],
   "source": [
    "z.real"
   ]
  },
  {
   "cell_type": "markdown",
   "metadata": {},
   "source": [
    "## Metodos\n",
    "\n",
    "Como ya dijimos, los metodos son funciones asociadas a una clase que operan sobre sus atributos. Por ejemplo, a la clase anterior le podemos añadir un metodo que calcule el modulo de un numero complejo con la formula:\n",
    "\n",
    "$$\\left| z \\right|=\\sqrt{\\textrm{Re}\\left(z\\right)^{2}+\\textrm{Im}\\left(z\\right)^{2}}$$\n",
    "\n",
    "Para ello redefinimos `NumeroComplejo` para agregarle un nuevo metodo `modulo`, asi:"
   ]
  },
  {
   "cell_type": "code",
   "execution_count": null,
   "metadata": {},
   "outputs": [],
   "source": [
    "class NumeroComplejo:\n",
    "    def __init__(self, real, img):\n",
    "        self.real = real\n",
    "        self.img = img\n",
    "\n",
    "    def modulo(self):\n",
    "        return (self.real**2 + self.img**2)**(1/2)"
   ]
  },
  {
   "cell_type": "markdown",
   "metadata": {},
   "source": [
    "**Nota**:\n",
    "\n",
    "Al igual que para `__init__`, el primer argumento de todo metodo debe ser `self`, para indicar que hace parte de la clase."
   ]
  },
  {
   "cell_type": "markdown",
   "metadata": {},
   "source": [
    "Con esta nueva definicion obtenemos el siguiente resultado para el modulo del numero complejo definido a continuacion:"
   ]
  },
  {
   "cell_type": "code",
   "execution_count": null,
   "metadata": {},
   "outputs": [],
   "source": [
    "z = NumeroComplejo(1, 2)"
   ]
  },
  {
   "cell_type": "code",
   "execution_count": null,
   "metadata": {},
   "outputs": [],
   "source": [
    "z.modulo()"
   ]
  },
  {
   "cell_type": "markdown",
   "metadata": {},
   "source": [
    "Aqui puede parecer un poco extraño que `modulo` se llame sin argumentos, cuando al definirlo en la clase se le habia pasado a `self` como primer argumento. Esto se debe a que `self` no es un argumento en si, sino que solo se usa para señalar que una funcion es un metodo de la clase, como ya se menciono.\n",
    "\n",
    "Otra operacion que puede hacerse con numeros complejos es obtener su *conjugado*. El conjugado de un complejo $z$, es un nuevo numero complejo que se denota $\\bar{z}$ y se define como\n",
    "\n",
    "$$z=a+ib \\longrightarrow \\bar{z}=a-ib$$\n",
    "\n",
    "Para obtener el conjugado podemos entonces agregar un nuevo metodo a nuestra clase, de la siguiente forma:"
   ]
  },
  {
   "cell_type": "code",
   "execution_count": null,
   "metadata": {},
   "outputs": [],
   "source": [
    "class NumeroComplejo(object):\n",
    "    def __init__(self, real, img):\n",
    "        self.real = real\n",
    "        self.img = img\n",
    "\n",
    "    def modulo(self):\n",
    "        return (self.real**2 + self.img**2)**(1/2)\n",
    "\n",
    "    def conjugado(self):\n",
    "        return NumeroComplejo(self.real, -self.img)"
   ]
  },
  {
   "cell_type": "markdown",
   "metadata": {},
   "source": [
    "Para calcular el conjugado de un numero complejo `z`, solo debemos llamar el metodo correspondiente y asignaserlo a una nueva variable `z1` (en caso de que deseemos usarlo mas tarde):"
   ]
  },
  {
   "cell_type": "code",
   "execution_count": null,
   "metadata": {},
   "outputs": [],
   "source": [
    "z = NumeroComplejo(1, 2)"
   ]
  },
  {
   "cell_type": "code",
   "execution_count": null,
   "metadata": {},
   "outputs": [],
   "source": [
    "z1 = z.conjugado()"
   ]
  },
  {
   "cell_type": "code",
   "execution_count": null,
   "metadata": {},
   "outputs": [],
   "source": [
    "z1.real"
   ]
  },
  {
   "cell_type": "code",
   "execution_count": null,
   "metadata": {},
   "outputs": [],
   "source": [
    "z1.img"
   ]
  },
  {
   "cell_type": "markdown",
   "metadata": {
    "deletable": false,
    "editable": false,
    "nbgrader": {
     "cell_type": "markdown",
     "checksum": "778c3e8a26217a60768d299ed2e261ab",
     "grade": false,
     "grade_id": "cell-be850333bf8f03c8",
     "locked": true,
     "schema_version": 3,
     "solution": false,
     "task": false
    }
   },
   "source": [
    "Finalmente, vamos a añadir un metodo que retorne el producto de dos numeros complejos. Dados dos numeros\n",
    "\n",
    "$$\n",
    "z = a + ib \\\\\n",
    "w = c + id\n",
    "$$\n",
    "\n",
    "su producto esta dado por:\n",
    "\n",
    "$$z \\times w = (ac - bd) + i(ad + bc)$$\n",
    "\n",
    "Para ello podemos escribir el siguiente metodo, llamado `producto`, en nuestra clase:"
   ]
  },
  {
   "cell_type": "code",
   "execution_count": null,
   "metadata": {
    "deletable": false,
    "editable": false,
    "nbgrader": {
     "cell_type": "code",
     "checksum": "1c1275e01aaec50ad4fae3d4535c7990",
     "grade": false,
     "grade_id": "cell-39e2e9f950e8a40d",
     "locked": true,
     "schema_version": 3,
     "solution": false,
     "task": false
    }
   },
   "outputs": [],
   "source": [
    "class NumeroComplejo(object):\n",
    "    def __init__(self, real, img):\n",
    "        self.real = real\n",
    "        self.img = img\n",
    "\n",
    "    def modulo(self):\n",
    "        return (self.real**2 + self.img**2)**(1/2)\n",
    "\n",
    "    def conjugado(self):\n",
    "        return NumeroComplejo(self.real, -self.img)\n",
    "\n",
    "    def producto(self, w):\n",
    "        real = self.real * w.real - self.img * w.img\n",
    "        img = self.real * w.img + self.img * w.real\n",
    "        return NumeroComplejo(real, img)"
   ]
  },
  {
   "cell_type": "code",
   "execution_count": null,
   "metadata": {
    "deletable": false,
    "editable": false,
    "nbgrader": {
     "cell_type": "code",
     "checksum": "00d8d0916938d02dfad4a943b07e7a82",
     "grade": false,
     "grade_id": "cell-3406daa07799cba5",
     "locked": true,
     "schema_version": 3,
     "solution": false,
     "task": false
    }
   },
   "outputs": [],
   "source": [
    "z = NumeroComplejo(1, 2)\n",
    "w = NumeroComplejo(4, -7)"
   ]
  },
  {
   "cell_type": "code",
   "execution_count": null,
   "metadata": {
    "deletable": false,
    "editable": false,
    "nbgrader": {
     "cell_type": "code",
     "checksum": "6816d7ead0ee128ed98680cc398e69d0",
     "grade": false,
     "grade_id": "cell-9cba922f50cd7454",
     "locked": true,
     "schema_version": 3,
     "solution": false,
     "task": false
    }
   },
   "outputs": [],
   "source": [
    "x = z.producto(w)"
   ]
  },
  {
   "cell_type": "code",
   "execution_count": null,
   "metadata": {
    "deletable": false,
    "editable": false,
    "nbgrader": {
     "cell_type": "code",
     "checksum": "ec8abb178ab9c56e597f51bbc0f8b2f4",
     "grade": false,
     "grade_id": "cell-c6fe06e73b286385",
     "locked": true,
     "schema_version": 3,
     "solution": false,
     "task": false
    }
   },
   "outputs": [],
   "source": [
    "x.real"
   ]
  },
  {
   "cell_type": "code",
   "execution_count": null,
   "metadata": {
    "deletable": false,
    "editable": false,
    "nbgrader": {
     "cell_type": "code",
     "checksum": "bcc8a40a418a4961350c1d3d867a8d8f",
     "grade": false,
     "grade_id": "cell-f1ae815e8ad5da08",
     "locked": true,
     "schema_version": 3,
     "solution": false,
     "task": false
    }
   },
   "outputs": [],
   "source": [
    "x.img"
   ]
  },
  {
   "cell_type": "markdown",
   "metadata": {
    "deletable": false,
    "editable": false,
    "nbgrader": {
     "cell_type": "markdown",
     "checksum": "69fe44305df580686b3aa8935754293a",
     "grade": false,
     "grade_id": "cell-2fef7decacf06e89",
     "locked": true,
     "schema_version": 3,
     "solution": false,
     "task": false
    }
   },
   "source": [
    "Para comprobar que `producto` esta funcionando correctamente podemos usar la siguiente formula, que relaciona el modulo de un numero complejo con su conjugado:\n",
    "\n",
    "$$\\left| z \\right| = \\sqrt{\\textrm{Re} \\left( z \\times \\bar{z} \\right)}$$"
   ]
  },
  {
   "cell_type": "code",
   "execution_count": null,
   "metadata": {
    "deletable": false,
    "editable": false,
    "nbgrader": {
     "cell_type": "code",
     "checksum": "2225444e6128f9c84acea7e10b123097",
     "grade": false,
     "grade_id": "cell-22cac8dc217144de",
     "locked": true,
     "schema_version": 3,
     "solution": false,
     "task": false
    }
   },
   "outputs": [],
   "source": [
    "z2 = z.producto(z.conjugado())"
   ]
  },
  {
   "cell_type": "code",
   "execution_count": null,
   "metadata": {
    "deletable": false,
    "editable": false,
    "nbgrader": {
     "cell_type": "code",
     "checksum": "c3e5571996c58afd69a6a298223b0056",
     "grade": false,
     "grade_id": "cell-c9b65ab1c1ed9a43",
     "locked": true,
     "schema_version": 3,
     "solution": false,
     "task": false
    }
   },
   "outputs": [],
   "source": [
    "(z2.real)**(1/2) == z.modulo()"
   ]
  },
  {
   "cell_type": "markdown",
   "metadata": {
    "deletable": false,
    "editable": false,
    "nbgrader": {
     "cell_type": "markdown",
     "checksum": "030fb7555181ce70f2b490dfebcb41ca",
     "grade": false,
     "grade_id": "cell-6b7791fbd70e6269",
     "locked": true,
     "schema_version": 3,
     "solution": false,
     "task": false
    }
   },
   "source": [
    "La especificacion de clases de Python permite sobrecargar otras funciones comunes y operadores.\n",
    "\n",
    "**Para obtener mayor informacion, visitar:** https://docs.python.org/3/library/operator.html y https://docs.python.org/3/reference/datamodel.html"
   ]
  },
  {
   "cell_type": "markdown",
   "metadata": {
    "deletable": false,
    "editable": false,
    "nbgrader": {
     "cell_type": "markdown",
     "checksum": "2a8e60fed036df4dc045554b6c5cdb44",
     "grade": false,
     "grade_id": "cell-41d37dcf70448988",
     "locked": true,
     "schema_version": 3,
     "solution": false,
     "task": false
    }
   },
   "source": [
    "## Libreria Python Imaging\n",
    "\n",
    "La libreria de Python Imaging, o PIL abreviado, es una de las librerias central de la manipulacion de imagenes en Python. Desafortunadamente, su desarrollo se ha estancado, su ultima atualizacion fue en 2009.\n",
    "\n",
    "Por suerte, hay una forma que PIL que es desarrollada activamente llamada Pillow, es mas facil de installar y corre en todos los sistemas operativos, y es compatible con Python 3"
   ]
  },
  {
   "cell_type": "markdown",
   "metadata": {
    "deletable": false,
    "editable": false,
    "nbgrader": {
     "cell_type": "markdown",
     "checksum": "ba7f79db232f8451bd7f251c1a7375bb",
     "grade": false,
     "grade_id": "cell-eeb13549baf7217e",
     "locked": true,
     "schema_version": 3,
     "solution": false,
     "task": false
    }
   },
   "source": [
    "## Instalacion\n",
    "\n",
    "Si usted no tiene PIL instalado en su maquina, simplemente escriba el siguiente comando en la terminal, y estara todo hecho:\n",
    "\n",
    "`pip install pillow` o si este no funciona, `pip install --user pillow`"
   ]
  },
  {
   "cell_type": "code",
   "execution_count": null,
   "metadata": {
    "deletable": false,
    "editable": false,
    "nbgrader": {
     "cell_type": "code",
     "checksum": "24d49e2bdf925f4368b70e5b65af56e0",
     "grade": false,
     "grade_id": "cell-dbbf9f0aed7a02c0",
     "locked": true,
     "schema_version": 3,
     "solution": false,
     "task": false
    }
   },
   "outputs": [],
   "source": [
    "from PIL import Image"
   ]
  },
  {
   "cell_type": "code",
   "execution_count": null,
   "metadata": {
    "deletable": false,
    "editable": false,
    "nbgrader": {
     "cell_type": "code",
     "checksum": "d240c796b11da1fc9c25cfd3ac55348b",
     "grade": false,
     "grade_id": "cell-e92e53a5f792c665",
     "locked": true,
     "schema_version": 3,
     "solution": false,
     "task": false
    }
   },
   "outputs": [],
   "source": [
    "import requests\n",
    "from io import BytesIO\n",
    "url='https://dab1nmslvvntp.cloudfront.net/wp-content/uploads/2015/09/1441780452brick-house.png'\n",
    "response = requests.get(url)\n",
    "img = Image.open(BytesIO(response.content))"
   ]
  },
  {
   "cell_type": "code",
   "execution_count": null,
   "metadata": {
    "deletable": false,
    "editable": false,
    "nbgrader": {
     "cell_type": "code",
     "checksum": "651ddac13c6b0cdbae15817226249c3e",
     "grade": false,
     "grade_id": "cell-52efd8d39cd03210",
     "locked": true,
     "schema_version": 3,
     "solution": false,
     "task": false
    }
   },
   "outputs": [],
   "source": [
    "img.show()"
   ]
  },
  {
   "cell_type": "code",
   "execution_count": null,
   "metadata": {
    "deletable": false,
    "editable": false,
    "nbgrader": {
     "cell_type": "code",
     "checksum": "f0f5927d6e2e9abe340538ace1e537c3",
     "grade": false,
     "grade_id": "cell-ddac28371fc225d9",
     "locked": true,
     "schema_version": 3,
     "solution": false,
     "task": false
    }
   },
   "outputs": [],
   "source": [
    "img"
   ]
  },
  {
   "cell_type": "code",
   "execution_count": null,
   "metadata": {
    "deletable": false,
    "editable": false,
    "nbgrader": {
     "cell_type": "code",
     "checksum": "c392d1b9bec288950c6621be0d6d8fb6",
     "grade": false,
     "grade_id": "cell-a7c5892c9d77e97d",
     "locked": true,
     "schema_version": 3,
     "solution": false,
     "task": false
    }
   },
   "outputs": [],
   "source": [
    "img.save('imgs/brick-house.png')"
   ]
  },
  {
   "cell_type": "markdown",
   "metadata": {
    "deletable": false,
    "editable": false,
    "nbgrader": {
     "cell_type": "markdown",
     "checksum": "b791115186a9492b64256705f4388b86",
     "grade": false,
     "grade_id": "cell-c0e306274a179bbc",
     "locked": true,
     "schema_version": 3,
     "solution": false,
     "task": false
    }
   },
   "source": [
    "----\n",
    "### El archivo de brick-house.png es una imagen a color. Para convertirlo a una imagen en escala de grises, carguela y luego guarde la nueva imagen en escala de grises, puede seguir el siguiente codigo:"
   ]
  },
  {
   "cell_type": "code",
   "execution_count": null,
   "metadata": {
    "deletable": false,
    "editable": false,
    "nbgrader": {
     "cell_type": "code",
     "checksum": "583ee994a6f023b562497a084dfeed0e",
     "grade": false,
     "grade_id": "cell-8cb28d21213bd456",
     "locked": true,
     "schema_version": 3,
     "solution": false,
     "task": false
    }
   },
   "outputs": [],
   "source": [
    "from PIL import Image\n",
    "img_gs = img.convert('L')\n",
    "img_gs\n",
    "img_gs.save('imgs/brick-house-gs.png')"
   ]
  },
  {
   "cell_type": "markdown",
   "metadata": {
    "deletable": false,
    "editable": false,
    "nbgrader": {
     "cell_type": "markdown",
     "checksum": "eab7d074589d712449ae0e1e01fed396",
     "grade": false,
     "grade_id": "cell-fdf0f97505a90a92",
     "locked": true,
     "schema_version": 3,
     "solution": false,
     "task": false
    }
   },
   "source": [
    "Mas informacion en http://pillow.readthedocs.io/en/3.1.x/reference/Image.html"
   ]
  },
  {
   "cell_type": "markdown",
   "metadata": {
    "deletable": false,
    "editable": false,
    "nbgrader": {
     "cell_type": "markdown",
     "checksum": "00b0ee3dcc9a38f9e4ce356ca8562243",
     "grade": false,
     "grade_id": "cell-26d4c2d1657c345a",
     "locked": true,
     "schema_version": 3,
     "solution": false,
     "task": false
    }
   },
   "source": [
    "## Resize"
   ]
  },
  {
   "cell_type": "code",
   "execution_count": null,
   "metadata": {
    "deletable": false,
    "editable": false,
    "nbgrader": {
     "cell_type": "code",
     "checksum": "59ecf8fe8b6b3aa1000bb48e0fe2022c",
     "grade": false,
     "grade_id": "cell-2a3f72ada99221bf",
     "locked": true,
     "schema_version": 3,
     "solution": false,
     "task": false
    }
   },
   "outputs": [],
   "source": [
    "new_img = img.resize((256,256))\n",
    "new_img"
   ]
  },
  {
   "cell_type": "code",
   "execution_count": null,
   "metadata": {
    "deletable": false,
    "editable": false,
    "nbgrader": {
     "cell_type": "code",
     "checksum": "5349a978e5f65121ec0d0f31ab9b7ce1",
     "grade": false,
     "grade_id": "cell-c75b0880fcfc8483",
     "locked": true,
     "schema_version": 3,
     "solution": false,
     "task": false
    }
   },
   "outputs": [],
   "source": [
    "import numpy as np\n",
    "np.array(new_img)"
   ]
  },
  {
   "cell_type": "code",
   "execution_count": null,
   "metadata": {
    "deletable": false,
    "editable": false,
    "nbgrader": {
     "cell_type": "code",
     "checksum": "32ed66ae54152683c0327fcd933b7f80",
     "grade": false,
     "grade_id": "cell-47b299f421ef3ac2",
     "locked": true,
     "schema_version": 3,
     "solution": false,
     "task": false
    }
   },
   "outputs": [],
   "source": [
    "np.array(new_img).shape"
   ]
  },
  {
   "cell_type": "markdown",
   "metadata": {
    "deletable": false,
    "editable": false,
    "nbgrader": {
     "cell_type": "markdown",
     "checksum": "cbd8da8a3038b0b47c9e87ed0f092367",
     "grade": false,
     "grade_id": "cell-0dd919ce43c0ae58",
     "locked": true,
     "schema_version": 3,
     "solution": false,
     "task": false
    }
   },
   "source": [
    "### Bibliografia\n",
    "- https://www.sitepoint.com/manipulating-images-with-the-python-imaging-library/"
   ]
  },
  {
   "cell_type": "markdown",
   "metadata": {
    "deletable": false,
    "editable": false,
    "nbgrader": {
     "cell_type": "markdown",
     "checksum": "1096b488e5fd11a23940a187fa14be76",
     "grade": false,
     "grade_id": "cell-ab2b3c8e7b6d491e",
     "locked": true,
     "schema_version": 3,
     "solution": false,
     "task": false
    }
   },
   "source": [
    "# Matplotlib\n",
    "\n",
    "Matplotlib es una libreria de graficas 2D que produce una figura de calidad en diferentes formatos y ambientes interactivos en todas las plataformas. Matplotlib puede ser usado en codigos de Python, celdas de IPython, Jupyter notebook, servidores de aplicaciones web, y como herramientas de interfaces graficas de usuario.\n",
    "\n",
    "Matplotlib intenta hacer faciles las cosas faciles y posibles las cosas dificiles. Usted puede generar graficas, histogramas, espectros de potencia, graficas de barra, graficas de error, graficos de dispersion, etc. con unas pocas lineas de codigo. Observe unos ejemplos de graficos y galeria de miniaturas.\n",
    "\n",
    "Para realizar una grafica simple, el modulo pyplot provee una interfaz similar a la de MATLAB, en particular cuando se convina con IPython. Para los usuarios experimentados, se tiene control total de estilos de linea, propiedades de fuente, propiedades de ejes, etc. por medio de interfaces orientadas a objetos o un conjunto de funciones similares a los usuarios de MATLAB."
   ]
  },
  {
   "cell_type": "markdown",
   "metadata": {
    "deletable": false,
    "editable": false,
    "nbgrader": {
     "cell_type": "markdown",
     "checksum": "22de5143164d1e5923c75ed7bdff8015",
     "grade": false,
     "grade_id": "cell-376ce2086bf4ab42",
     "locked": true,
     "schema_version": 3,
     "solution": false,
     "task": false
    }
   },
   "source": [
    "## Instalacion\n",
    "\n",
    "Si no tiene matplotlib installada, corra el siguiente comando en la terminal y todo estara listo:\n",
    "\n",
    "`pip install matplotlib` o si este no funciona, `pip install --user matplotlib`\n",
    "\n",
    "Ahora, vamos a abrir una imagen, tambien con esta librería, para poder usarla a lo largo de esta explicación con las siguientes lineas:"
   ]
  },
  {
   "cell_type": "code",
   "execution_count": null,
   "metadata": {
    "deletable": false,
    "editable": false,
    "nbgrader": {
     "cell_type": "code",
     "checksum": "2e206d0d42b8da151196846fa09eeb1d",
     "grade": false,
     "grade_id": "cell-2e778f493804511d",
     "locked": true,
     "schema_version": 3,
     "solution": false,
     "task": false
    }
   },
   "outputs": [],
   "source": [
    "import matplotlib.pyplot as plt\n",
    "\n",
    "url = 'imgs/brick-house.png'\n",
    "img = plt.imread(url) #PNG file!"
   ]
  },
  {
   "cell_type": "markdown",
   "metadata": {
    "deletable": false,
    "editable": false,
    "nbgrader": {
     "cell_type": "markdown",
     "checksum": "0ac1abe8a6c0f3741dcf1ae1080664a6",
     "grade": false,
     "grade_id": "cell-6e93cba3d2b387c2",
     "locked": true,
     "schema_version": 3,
     "solution": false,
     "task": false
    }
   },
   "source": [
    "Ahora que tenemos la imagen podemos usar la función ``imshow()`` para poder graficar la imagen."
   ]
  },
  {
   "cell_type": "code",
   "execution_count": null,
   "metadata": {
    "deletable": false,
    "editable": false,
    "nbgrader": {
     "cell_type": "code",
     "checksum": "4100de7234c0d16aaf3d4f28df0a7aea",
     "grade": false,
     "grade_id": "cell-6b70ffbf16f1b885",
     "locked": true,
     "schema_version": 3,
     "solution": false,
     "task": false
    }
   },
   "outputs": [],
   "source": [
    "imgplot = plt.imshow(img)"
   ]
  },
  {
   "cell_type": "markdown",
   "metadata": {
    "deletable": false,
    "editable": false,
    "nbgrader": {
     "cell_type": "markdown",
     "checksum": "cef944cff0218d09513b9ee5b075f747",
     "grade": false,
     "grade_id": "cell-cc3446f40efdc8b4",
     "locked": true,
     "schema_version": 3,
     "solution": false,
     "task": false
    }
   },
   "source": [
    "Además de eso, como las imagenes son arreglos con 3 canales diferentes podemos graficar un unico canal de estos extrayendolo y luego usando la misma funcion que usamos anteriormente"
   ]
  },
  {
   "cell_type": "code",
   "execution_count": null,
   "metadata": {
    "deletable": false,
    "editable": false,
    "nbgrader": {
     "cell_type": "code",
     "checksum": "902dc0534c9bf7d534b9e017eec4eb99",
     "grade": false,
     "grade_id": "cell-2da07547f21db851",
     "locked": true,
     "schema_version": 3,
     "solution": false,
     "task": false
    }
   },
   "outputs": [],
   "source": [
    "lum_img = img[:,:,0]\n",
    "plt.imshow(lum_img)"
   ]
  },
  {
   "cell_type": "markdown",
   "metadata": {
    "deletable": false,
    "editable": false,
    "nbgrader": {
     "cell_type": "markdown",
     "checksum": "237390e56e8f838257ac38740cbee2d6",
     "grade": false,
     "grade_id": "cell-ab7067b24baefd49",
     "locked": true,
     "schema_version": 3,
     "solution": false,
     "task": false
    }
   },
   "source": [
    "Ahora, como se dieron cuenta por defecto viene un mapa de color que va desde el azul hasta el amarillo. Pero generalmente este mapa de color no es el mapa que queremos usar, sino uno que haga ver la imagen en escala de grises. Para esto, vamos a graficar nuevamente ``lum_img`` con un parametro extra: ``cmap``"
   ]
  },
  {
   "cell_type": "code",
   "execution_count": null,
   "metadata": {
    "deletable": false,
    "editable": false,
    "nbgrader": {
     "cell_type": "code",
     "checksum": "8c8708008c18f1ee5f657482e7940090",
     "grade": false,
     "grade_id": "cell-adfd0e0cd792fee1",
     "locked": true,
     "schema_version": 3,
     "solution": false,
     "task": false
    }
   },
   "outputs": [],
   "source": [
    "plt.imshow(lum_img,cmap='gray')"
   ]
  },
  {
   "cell_type": "markdown",
   "metadata": {
    "deletable": false,
    "editable": false,
    "nbgrader": {
     "cell_type": "markdown",
     "checksum": "b58163b075336f4286919ad52add3f88",
     "grade": false,
     "grade_id": "cell-eb7bfe7909ba53b8",
     "locked": true,
     "schema_version": 3,
     "solution": false,
     "task": false
    }
   },
   "source": [
    "## Subplots\n",
    "Uno de las herramientas que mas se usan y mas usarán es la realización de subplots. Existen muchas funciones diferentes que pueden usar para poder tener un subplot de la forma que ustedes prefieran, aqui podrán ver las mas basicas.\n",
    "\n",
    "En primer lugar es importante saber como declarar un subplot, la forma mas usada generlamente es ``fig, ax = plt.subplots()`` donde los dos primeros parametros son el numero de filas y numero de columnas. Este trae consigo una ventaja muy grande y es que nos permite llenarlo al interior de un for y manejarlo como si se tratara de un arreglo. A continuación podemos ver un ejemplo donde graficaremos la misma imagen en un subplot de 3x4 dentro de un for"
   ]
  },
  {
   "cell_type": "code",
   "execution_count": null,
   "metadata": {
    "deletable": false,
    "editable": false,
    "nbgrader": {
     "cell_type": "code",
     "checksum": "001486d97a45425effa610d14a691ed7",
     "grade": false,
     "grade_id": "cell-a4371c141753ccaf",
     "locked": true,
     "schema_version": 3,
     "solution": false,
     "task": false
    }
   },
   "outputs": [],
   "source": [
    "fig, ax = plt.subplots(3,4)\n",
    "for i in range(3):\n",
    "    for j in range(4):\n",
    "        ax[i,j].imshow(lum_img,cmap='gray')"
   ]
  },
  {
   "cell_type": "markdown",
   "metadata": {
    "deletable": false,
    "editable": false,
    "nbgrader": {
     "cell_type": "markdown",
     "checksum": "39ad5629050863e8effb7b4f7eaf9a6e",
     "grade": false,
     "grade_id": "cell-ba4164f24034f287",
     "locked": true,
     "schema_version": 3,
     "solution": false,
     "task": false
    }
   },
   "source": [
    "Sin embargo, como pueden notar, tiene todavía los ejes, algo que no queremos, por lo cual podemos usar la funcion ``ax[].axis('off')`` para apagarlos"
   ]
  },
  {
   "cell_type": "code",
   "execution_count": null,
   "metadata": {
    "deletable": false,
    "editable": false,
    "nbgrader": {
     "cell_type": "code",
     "checksum": "dd3ebf850367526c2b933244ce964e5b",
     "grade": false,
     "grade_id": "cell-65b09d10fc5ef54f",
     "locked": true,
     "schema_version": 3,
     "solution": false,
     "task": false
    }
   },
   "outputs": [],
   "source": [
    "fig, ax = plt.subplots(3,4)\n",
    "for i in range(3):\n",
    "    for j in range(4):\n",
    "        ax[i,j].imshow(lum_img,cmap='gray')\n",
    "        ax[i,j].axis('off')"
   ]
  },
  {
   "cell_type": "markdown",
   "metadata": {
    "deletable": false,
    "editable": false,
    "nbgrader": {
     "cell_type": "markdown",
     "checksum": "90980e90c5a4d2e892750c642fbc3c37",
     "grade": false,
     "grade_id": "cell-72c0be4b524ffda0",
     "locked": true,
     "schema_version": 3,
     "solution": false,
     "task": false
    }
   },
   "source": [
    "La ventaja que tiene esta forma es justamente que nos permite llenarlo dentro de un recorrido, asi que no nos tocaría poner 81 lineas para graficar un subplot de 9x9, sino que podemos hacerlo en 5 lineas"
   ]
  },
  {
   "cell_type": "code",
   "execution_count": null,
   "metadata": {
    "deletable": false,
    "editable": false,
    "nbgrader": {
     "cell_type": "code",
     "checksum": "fb83feeb1250e7bc1bc31260db798580",
     "grade": false,
     "grade_id": "cell-a46ac6ed00587970",
     "locked": true,
     "schema_version": 3,
     "solution": false,
     "task": false
    }
   },
   "outputs": [],
   "source": [
    "plt.rcParams['figure.figsize'] = [10, 15] # este es un parametro que nos sirve para escalar el tamaño de las imagenes\n",
    "fig, ax = plt.subplots(9,9)\n",
    "for i in range(9):\n",
    "    for j in range(9):\n",
    "        ax[i,j].imshow(lum_img,cmap='gray')\n",
    "        ax[i,j].axis('off')"
   ]
  },
  {
   "cell_type": "markdown",
   "metadata": {
    "deletable": false,
    "editable": false,
    "nbgrader": {
     "cell_type": "markdown",
     "checksum": "d5c0eead94eb22861b519cad8e2a2458",
     "grade": false,
     "grade_id": "cell-58d9818d605af680",
     "locked": true,
     "schema_version": 3,
     "solution": false,
     "task": false
    }
   },
   "source": [
    "Finalmente, lo unico que puede que le falte a nuestro subplot son titulos, ya que muchas veces tienen información crucial sobre la imagen que no podemos ignorar. Para esto usaremos el comando ``ax[].set_title()``"
   ]
  },
  {
   "cell_type": "code",
   "execution_count": null,
   "metadata": {
    "deletable": false,
    "editable": false,
    "nbgrader": {
     "cell_type": "code",
     "checksum": "47ba25f778448f79c1ec4b4a3cfa8775",
     "grade": false,
     "grade_id": "cell-0ea73c714f0d610a",
     "locked": true,
     "schema_version": 3,
     "solution": false,
     "task": false
    }
   },
   "outputs": [],
   "source": [
    "fig, ax = plt.subplots(9,9)\n",
    "for i in range(9):\n",
    "    for j in range(9):\n",
    "        ax[i,j].imshow(lum_img,cmap='gray')\n",
    "        ax[i,j].axis('off')\n",
    "        ax[i,j].set_title(f'casa {i*9+j+1}')"
   ]
  },
  {
   "cell_type": "markdown",
   "metadata": {
    "deletable": false,
    "editable": false,
    "nbgrader": {
     "cell_type": "markdown",
     "checksum": "aafee9430ee0f15164067a121ec50f96",
     "grade": false,
     "grade_id": "cell-1a9264827c04835e",
     "locked": true,
     "schema_version": 3,
     "solution": false,
     "task": false
    }
   },
   "source": [
    "### Bibliografia\n",
    "- https://matplotlib.org/devdocs/index.html\n",
    "- https://matplotlib.org/1.3.1/users/image_tutorial.html"
   ]
  },
  {
   "cell_type": "markdown",
   "metadata": {
    "deletable": false,
    "editable": false,
    "nbgrader": {
     "cell_type": "markdown",
     "checksum": "449922f16602a082fe1831a3d9b58770",
     "grade": false,
     "grade_id": "cell-e022ae6dfc40f0d9",
     "locked": true,
     "schema_version": 3,
     "solution": false,
     "task": false
    }
   },
   "source": [
    "# OpenSource Computer Vision\n",
    "\n",
    "OpenSource Computer Vision, mas conocida como OpenCV, es un software de manipulacion y procesamiento de imagenes mas avanzada que PIL. Esta implementado en muchos lenguajes y es apliamente usada."
   ]
  },
  {
   "cell_type": "markdown",
   "metadata": {
    "deletable": false,
    "editable": false,
    "nbgrader": {
     "cell_type": "markdown",
     "checksum": "21c829f29b199fd0a05446f031906625",
     "grade": false,
     "grade_id": "cell-540f8829387f7ce3",
     "locked": true,
     "schema_version": 3,
     "solution": false,
     "task": false
    }
   },
   "source": [
    "## Instalacion\n",
    "\n",
    "En Python, el procesamiento de imagenes usando OpenCV es implementada usando los modulos de cv2 y Numpy. Hay dos opciones para instalar opencv, la facil y la no tan facil. \n",
    "\n",
    "Facil: `pip install opencv-python` \n",
    "\n",
    "Menos facil: Las [instrucciones de instalacion de OpenCV](http://docs.opencv.org/2.4/doc/tutorials/introduction/table_of_content_introduction/table_of_content_introduction.html#table-of-content-introduction) podria guiarte a traves de la configuracion del proyecto usted mismo."
   ]
  },
  {
   "cell_type": "code",
   "execution_count": null,
   "metadata": {
    "deletable": false,
    "editable": false,
    "nbgrader": {
     "cell_type": "code",
     "checksum": "a1d7b7ca4eeaae6d15dd916ff38bdf38",
     "grade": false,
     "grade_id": "cell-d210fc52080527db",
     "locked": true,
     "schema_version": 3,
     "solution": false,
     "task": false
    }
   },
   "outputs": [],
   "source": [
    "import matplotlib.pyplot as plt\n",
    "import cv2\n",
    "import numpy as np"
   ]
  },
  {
   "cell_type": "code",
   "execution_count": null,
   "metadata": {
    "deletable": false,
    "editable": false,
    "nbgrader": {
     "cell_type": "code",
     "checksum": "a6bedfb0cc7045a6cf9fd91b2fcc2640",
     "grade": false,
     "grade_id": "cell-4a1c68355215520b",
     "locked": true,
     "schema_version": 3,
     "solution": false,
     "task": false
    }
   },
   "outputs": [],
   "source": [
    "# Leer la imagen\n",
    "# Escribir el path hacia la imagen 'beagle.jpg' de acuerdo a la distribucion de archivos.\n",
    "img = cv2.imread('.../Python-tutorial/imgs/beagle.jpg')\n",
    "\n",
    "# Hay un metodo de hacerlo mas facil y de forma global?"
   ]
  },
  {
   "cell_type": "code",
   "execution_count": null,
   "metadata": {
    "deletable": false,
    "editable": false,
    "nbgrader": {
     "cell_type": "code",
     "checksum": "ce46b037db4647512db282fc30cc1920",
     "grade": false,
     "grade_id": "cell-0fe637d4ec3e9f49",
     "locked": true,
     "schema_version": 3,
     "solution": false,
     "task": false
    }
   },
   "outputs": [],
   "source": [
    "plt.imshow(img)"
   ]
  },
  {
   "cell_type": "code",
   "execution_count": null,
   "metadata": {
    "deletable": false,
    "editable": false,
    "nbgrader": {
     "cell_type": "code",
     "checksum": "92039240e23912f901b1d3fcb020b6be",
     "grade": false,
     "grade_id": "cell-6cc9d676722ff4e2",
     "locked": true,
     "schema_version": 3,
     "solution": false,
     "task": false
    }
   },
   "outputs": [],
   "source": [
    "plt.imshow(img[:,:,(2,1,0)])"
   ]
  },
  {
   "cell_type": "code",
   "execution_count": null,
   "metadata": {
    "deletable": false,
    "editable": false,
    "nbgrader": {
     "cell_type": "code",
     "checksum": "825720099e2a58a5246d2321c26af45e",
     "grade": false,
     "grade_id": "cell-62ce979cea155077",
     "locked": true,
     "schema_version": 3,
     "solution": false,
     "task": false
    }
   },
   "outputs": [],
   "source": [
    "#Mostrar la imagen\n",
    "cv2.imshow('image',img)\n",
    "cv2.waitKey(0)\n",
    "cv2.destroyAllWindows()\n",
    "\n",
    "# NO CIERRE LA VENTANA DE WINDOWS USANDO LA 'X' SOLO PRECIONE CUALQUIER TECLA!"
   ]
  },
  {
   "cell_type": "code",
   "execution_count": null,
   "metadata": {
    "deletable": false,
    "editable": false,
    "nbgrader": {
     "cell_type": "code",
     "checksum": "5757c7238b59fbc4e81ad618956b23c9",
     "grade": false,
     "grade_id": "cell-195d474e02b93acd",
     "locked": true,
     "schema_version": 3,
     "solution": false,
     "task": false
    }
   },
   "outputs": [],
   "source": [
    "#Aplicar el filtro de escala de grises\n",
    "gray = cv2.cvtColor(img, cv2.COLOR_BGR2GRAY)\n",
    "gray = cv2.resize(gray, (224,224))\n",
    "cv2.imshow('image',gray)\n",
    "cv2.waitKey(0)\n",
    "cv2.destroyAllWindows()\n",
    "\n",
    "#Guardar la imagen en escala de grises\n",
    "#cv2.imwrite('graytest.jpg',gray)"
   ]
  },
  {
   "cell_type": "markdown",
   "metadata": {
    "deletable": false,
    "editable": false,
    "nbgrader": {
     "cell_type": "markdown",
     "checksum": "f6e4352db880c9d3fa99547af39671df",
     "grade": false,
     "grade_id": "cell-1c2155d9b32d8a21",
     "locked": true,
     "schema_version": 3,
     "solution": false,
     "task": false
    }
   },
   "source": [
    "# Pickle\n",
    "\n",
    "Pickle es un modulo de Python que usa protocolos binarios para empauqetar y desempaquetar objetos. Esta herramienta nos ayudara a guardar matrices, arreglos, objetos, modelos, etc."
   ]
  },
  {
   "cell_type": "code",
   "execution_count": null,
   "metadata": {
    "deletable": false,
    "editable": false,
    "nbgrader": {
     "cell_type": "code",
     "checksum": "bbf0db463ffe6a93aeceefa6d0c8424c",
     "grade": false,
     "grade_id": "cell-10683e9c6d1a84d5",
     "locked": true,
     "schema_version": 3,
     "solution": false,
     "task": false
    }
   },
   "outputs": [],
   "source": [
    "import pickle\n",
    "import numpy as np"
   ]
  },
  {
   "cell_type": "markdown",
   "metadata": {
    "deletable": false,
    "editable": false,
    "nbgrader": {
     "cell_type": "markdown",
     "checksum": "e78cde23bd24d69f5363afeb2dbf2741",
     "grade": false,
     "grade_id": "cell-dc94ca9ecc05617b",
     "locked": true,
     "schema_version": 3,
     "solution": false,
     "task": false
    }
   },
   "source": [
    "* **Nota**: Los archivos se pueden llamar como se desee, pueden agregarse las extensiones como .pkl o .mat pero no influye en nada."
   ]
  },
  {
   "cell_type": "code",
   "execution_count": null,
   "metadata": {
    "deletable": false,
    "editable": false,
    "nbgrader": {
     "cell_type": "code",
     "checksum": "6669f2eca7ab270aba8433cd657f0db7",
     "grade": false,
     "grade_id": "cell-0e5f05c5b1c6e22a",
     "locked": true,
     "schema_version": 3,
     "solution": false,
     "task": false
    }
   },
   "outputs": [],
   "source": [
    "a=np.random.random((3,3))\n",
    "with open(\"random_matrix.pkl\",\"wb\") as f: \n",
    "    pickle.dump(a,f) #para escribir elementos se usa \"wb\" y pickle.dump\n",
    "a"
   ]
  },
  {
   "cell_type": "markdown",
   "metadata": {
    "deletable": false,
    "editable": false,
    "nbgrader": {
     "cell_type": "markdown",
     "checksum": "53efe8ce453f369344e98bdac0d51e8c",
     "grade": false,
     "grade_id": "cell-d514122a20135f23",
     "locked": true,
     "schema_version": 3,
     "solution": false,
     "task": false
    }
   },
   "source": [
    "* **Nota**: Los archivos que fueron guardados con pickle solo pueden abrirse con pickle, sin importar que sean .mat, .png o cualquier otra extencion."
   ]
  },
  {
   "cell_type": "code",
   "execution_count": null,
   "metadata": {
    "deletable": false,
    "editable": false,
    "nbgrader": {
     "cell_type": "code",
     "checksum": "27f51f1b5fb69338c8cf450be70d95a2",
     "grade": false,
     "grade_id": "cell-756a62c7598d31c1",
     "locked": true,
     "schema_version": 3,
     "solution": false,
     "task": false
    }
   },
   "outputs": [],
   "source": [
    "with open(\"random_matrix.pkl\", \"rb\") as f: \n",
    "    b=pickle.load(f) #para leer archivos se usa \"rb\" y pickle.load, se debe guardar esta en una variable para su uso\n",
    "b"
   ]
  },
  {
   "cell_type": "markdown",
   "metadata": {
    "deletable": false,
    "editable": false,
    "nbgrader": {
     "cell_type": "markdown",
     "checksum": "d400f08564f83725e4411fcedea087f4",
     "grade": false,
     "grade_id": "cell-0b10fe34c0527b03",
     "locked": true,
     "schema_version": 3,
     "solution": false,
     "task": false
    }
   },
   "source": [
    "# Paths\n",
    "\n",
    "\n",
    "En el manejo de archivos se tienen varias formas de acceder a un docuemento dentro de una carpeta, se pueden usar paths absolutos o paths relativos. Los paths absolutos no se recomiendan ya que son especificos para el computador del usuario, por lo que volvera inutil el codigo en el computador de alguien mas. Los paths relativos se pueden contruir a partir de una estructura asumida de los archivos. \n",
    "\n",
    "La forma mas facil de acceder a un archivo es usando su ruta, relativa al script que se esté usando, sin importar el formato o herramienta que se use. Asi es como hemos accedido a todos los archivos que hemos usado en este tutorial. Es decir ``imgs/brick-house.png``, lo cual se puede leer como que dentro de la carpeta ``imgs`` existe un archivo de tipo ``png`` llamado ``brick-house``. Sin embargo, pueden suceder inconvenientes al usar este tipo de notación por lo que no todos los sistemas operativos usan este tipo de separador para las rutas. Algunos usan ``\\\\``,``\\`` o ``//`` como separador, y tenemos que estar preparados para que nuestro codigo sea facil de usar para todos los usuarios sin importar su sistema operativo.\n",
    "\n",
    "## Os.path.join\n",
    "\n",
    "El metodo ``path.join`` de la libreria ``os`` nos permite crear paths de los archivos y acceder a estos de forma sencilla, usando el separador usado por el sistema operativo del computador que se esté usando. Veamos un ejemplo con la ruta anterior:"
   ]
  },
  {
   "cell_type": "code",
   "execution_count": null,
   "metadata": {
    "deletable": false,
    "editable": false,
    "nbgrader": {
     "cell_type": "code",
     "checksum": "c309c748f86711c3730c96483c4124eb",
     "grade": false,
     "grade_id": "cell-3263ec32aaa5b51e",
     "locked": true,
     "schema_version": 3,
     "solution": false,
     "task": false
    }
   },
   "outputs": [],
   "source": [
    "import os\n",
    "from matplotlib import pyplot as plt\n",
    "\n",
    "ruta = os.path.join(\"imgs\",\"brick-house.png\")"
   ]
  },
  {
   "cell_type": "markdown",
   "metadata": {
    "deletable": false,
    "editable": false,
    "nbgrader": {
     "cell_type": "markdown",
     "checksum": "71dbd6fa521cb94ca103f09b2db9d0ef",
     "grade": false,
     "grade_id": "cell-0f68c1e54c557d2f",
     "locked": true,
     "schema_version": 3,
     "solution": false,
     "task": false
    }
   },
   "source": [
    "Y como podemos ver funciona igual que con la ruta anterior."
   ]
  },
  {
   "cell_type": "code",
   "execution_count": null,
   "metadata": {
    "deletable": false,
    "editable": false,
    "nbgrader": {
     "cell_type": "code",
     "checksum": "7fe0474bb50252dcded49f6a008034b0",
     "grade": false,
     "grade_id": "cell-5d13b8ac5493f487",
     "locked": true,
     "schema_version": 3,
     "solution": false,
     "task": false
    }
   },
   "outputs": [],
   "source": [
    "plt.imshow(plt.imread(ruta))"
   ]
  },
  {
   "cell_type": "markdown",
   "metadata": {
    "deletable": false,
    "editable": false,
    "nbgrader": {
     "cell_type": "markdown",
     "checksum": "9846024cc7320be01137bd3852aebc4e",
     "grade": false,
     "grade_id": "cell-9c77d49e3365ab80",
     "locked": true,
     "schema_version": 3,
     "solution": false,
     "task": false
    }
   },
   "source": [
    "## Bases de datos\n",
    "Esto funciona bien para una imagen, sin embargo, cuando vayamos a usar bases de datos de miles de imagenes no vamos a poder hacer linea por linea las rutas a todas las imagenes de la base de datos y muchas veces no podemos abrirlas por medio de un for ya que no siempre los nombres cumplen formatos. Para este proposito existe una librería llamada glob la cual nos permite justamente recopilar todos los **archivos o carpetas** que cumplan un formato que nosotros le especifiquemos. Por ejemplo podemos conocer todo lo que hay en la carpeta en la que estamos parados gracias a esta como en el ejemplo a continuación.\n",
    "\n",
    "**Datos importantes:** Los asteriscos ``*`` cuentan como cualquier nombre de archivo o carpeta. Usar dos puntos ``..`` significa que se da un paso atras en la ruta(util para acceder cosas que estén afuera de la carpeta en la que se está)"
   ]
  },
  {
   "cell_type": "code",
   "execution_count": null,
   "metadata": {
    "deletable": false,
    "editable": false,
    "nbgrader": {
     "cell_type": "code",
     "checksum": "4c00b10af2ccc035c231e64cb316dc75",
     "grade": false,
     "grade_id": "cell-6f375b3e1646ffbd",
     "locked": true,
     "schema_version": 3,
     "solution": false,
     "task": false
    }
   },
   "outputs": [],
   "source": [
    "from glob import glob\n",
    "\n",
    "print(glob('*'))"
   ]
  },
  {
   "cell_type": "markdown",
   "metadata": {
    "deletable": false,
    "editable": false,
    "nbgrader": {
     "cell_type": "markdown",
     "checksum": "fc1ef1f03200ec70c3140ebd2807eb97",
     "grade": false,
     "grade_id": "cell-690f2c46c9e13623",
     "locked": true,
     "schema_version": 3,
     "solution": false,
     "task": false
    }
   },
   "source": [
    "Por ejemplo, digamos que tenemos una base de datos como la que tenemos en la carpeta database, que son imagenes donde la mitad tienen el nombre negro y la otra mitad blanco con un numero, ademas están inmersas en carpetas de entrenamiento, validación y prueba. Un primer ejercicio puede ser revisar cuantas hay en total en la carpeta de train. Ya que sabemos en que formato estan (``jpg``) podemos acceder a ellas usando ``glob`` en combinacion de ``os.path.join`` con el siguiente comando:"
   ]
  },
  {
   "cell_type": "code",
   "execution_count": null,
   "metadata": {
    "deletable": false,
    "editable": false,
    "nbgrader": {
     "cell_type": "code",
     "checksum": "0fb838136f203536252ec186c0821a95",
     "grade": false,
     "grade_id": "cell-1e9c5060c146f6d6",
     "locked": true,
     "schema_version": 3,
     "solution": false,
     "task": false
    }
   },
   "outputs": [],
   "source": [
    "print(glob(os.path.join('database','train','*.jpg')))\n",
    "print(f\"largo: {len(glob(os.path.join('database','train','*.jpg')))}\")"
   ]
  },
  {
   "cell_type": "markdown",
   "metadata": {
    "deletable": false,
    "editable": false,
    "nbgrader": {
     "cell_type": "markdown",
     "checksum": "f99841a51089d5be7d6dfa1b968ecd78",
     "grade": false,
     "grade_id": "cell-55ac89fce52f1de4",
     "locked": true,
     "schema_version": 3,
     "solution": false,
     "task": false
    }
   },
   "source": [
    "Como pudieron ver se puede hacer de forma relativamente simple, usando el asterisco como un string sin formato especificado. Ademas podemos hacerlo con las carpetas, en caso que querramos obtener las rutas de todas las imagenes de la base de datos sin importar su carpeta, usando un asterisco en el lugar donde va la carpeta"
   ]
  },
  {
   "cell_type": "code",
   "execution_count": null,
   "metadata": {
    "deletable": false,
    "editable": false,
    "nbgrader": {
     "cell_type": "code",
     "checksum": "2337b9bfb68b7fb19d2da84648ffecc6",
     "grade": false,
     "grade_id": "cell-0829ab37afb7a255",
     "locked": true,
     "schema_version": 3,
     "solution": false,
     "task": false
    }
   },
   "outputs": [],
   "source": [
    "print(glob(os.path.join('database','*','*.jpg')))\n",
    "print(f\"largo: {len(glob(os.path.join('database','*','*.jpg')))}\")"
   ]
  },
  {
   "cell_type": "markdown",
   "metadata": {
    "deletable": false,
    "editable": false,
    "nbgrader": {
     "cell_type": "markdown",
     "checksum": "e977a3b18b340228568be00d59381b2d",
     "grade": false,
     "grade_id": "cell-14e6cb5e2c255289",
     "locked": true,
     "schema_version": 3,
     "solution": false,
     "task": false
    }
   },
   "source": [
    "Ahora bien, si por ejemplo quisieramos obtener unicamente las imagenes que están anotadas como negras, podemos tambien usar el asterisco acompañado de otro texto para poder tener las rutas que cumplan con un formato que deseemos"
   ]
  },
  {
   "cell_type": "code",
   "execution_count": null,
   "metadata": {
    "deletable": false,
    "editable": false,
    "nbgrader": {
     "cell_type": "code",
     "checksum": "f1d642c9b3e531889f036fc3a372574b",
     "grade": false,
     "grade_id": "cell-344a39d89accb6f5",
     "locked": true,
     "schema_version": 3,
     "solution": false,
     "task": false
    }
   },
   "outputs": [],
   "source": [
    "print(glob(os.path.join('database','*','Negra-*.jpg')))\n",
    "print(f\"largo: {len(glob(os.path.join('database','*','Negra-*.jpg')))}\")"
   ]
  },
  {
   "cell_type": "markdown",
   "metadata": {
    "deletable": false,
    "editable": false,
    "nbgrader": {
     "cell_type": "markdown",
     "checksum": "a16238981736ae58bcf347ef6e274abc",
     "grade": false,
     "grade_id": "cell-53a0b6f522614da6",
     "locked": true,
     "schema_version": 3,
     "solution": false,
     "task": false
    }
   },
   "source": [
    "¡Inclusive podemos ser mas especificos y buscar las imagenes cuyo numero perteneza a los 90, independiente de nombre o carpeta!"
   ]
  },
  {
   "cell_type": "code",
   "execution_count": null,
   "metadata": {
    "deletable": false,
    "editable": false,
    "nbgrader": {
     "cell_type": "code",
     "checksum": "0c5cafec328befd7989c58e53339e880",
     "grade": false,
     "grade_id": "cell-ccc783a220e3ce43",
     "locked": true,
     "schema_version": 3,
     "solution": false,
     "task": false
    }
   },
   "outputs": [],
   "source": [
    "print(glob(os.path.join('database','*','*-9*.jpg')))\n",
    "print(f\"largo: {len(glob(os.path.join('database','*','*-9*.jpg')))}\")"
   ]
  },
  {
   "cell_type": "markdown",
   "metadata": {
    "deletable": false,
    "editable": false,
    "nbgrader": {
     "cell_type": "markdown",
     "checksum": "eec8ddcf75f48175befeeb9bcfe5c7ba",
     "grade": false,
     "grade_id": "cell-a6bd6d61af0c68eb",
     "locked": true,
     "schema_version": 3,
     "solution": false,
     "task": false
    }
   },
   "source": [
    "Estas funciones que acabamos de apreder, acompañados de un buen manejo de strings puden ayudarnos a obtener cualquier ruta que queramos de forma automatica siempre que se cumpla con un formato especifico. Una de las funciones mas utiles es la funcion ``split()`` nativa de los strings, sin embargo, si vamos a separar rutas es necesario saber el separador. Para esto podemos usar ``os.path.sep`` para obtener el separador especifico. Veamos un ejemplo."
   ]
  },
  {
   "cell_type": "code",
   "execution_count": null,
   "metadata": {
    "deletable": false,
    "editable": false,
    "nbgrader": {
     "cell_type": "code",
     "checksum": "59b785afe2f7cd596b2224d75b945af0",
     "grade": false,
     "grade_id": "cell-2458070da8469c83",
     "locked": true,
     "schema_version": 3,
     "solution": false,
     "task": false
    }
   },
   "outputs": [],
   "source": [
    "ruta = os.path.join(\"imgs\",\"brick-house.png\")\n",
    "print(f'la ruta es: {ruta}')\n",
    "print(f'el separador es: {os.path.sep}')\n",
    "print(f'la ruta separada es: {ruta.split(os.path.sep)}')\n"
   ]
  },
  {
   "cell_type": "markdown",
   "metadata": {
    "deletable": false,
    "editable": false,
    "nbgrader": {
     "cell_type": "markdown",
     "checksum": "2b604ef6420361d3614a18acdd07731c",
     "grade": false,
     "grade_id": "cell-b59942056b5ea9a9",
     "locked": true,
     "schema_version": 3,
     "solution": false,
     "task": false
    }
   },
   "source": [
    "# Skimage\n",
    "\n",
    "Skimage es un modulo que cuenta con una coleccion de herramientas de procesamiento de imagenes. Puede contar con herramientas simialres a opencv y suele ser mas intuitiva de usar."
   ]
  },
  {
   "cell_type": "markdown",
   "metadata": {
    "deletable": false,
    "editable": false,
    "nbgrader": {
     "cell_type": "markdown",
     "checksum": "86f1c1a73d246e356a9fde51b7359ae0",
     "grade": false,
     "grade_id": "cell-d763100096e74948",
     "locked": true,
     "schema_version": 3,
     "solution": false,
     "task": false
    }
   },
   "source": [
    "# Instalacion\n",
    "\n",
    "Para su facil instalacion corra en la terminal el siguiente comando:\n",
    "\n",
    "``pip install scikit-image``"
   ]
  },
  {
   "cell_type": "code",
   "execution_count": null,
   "metadata": {
    "deletable": false,
    "editable": false,
    "nbgrader": {
     "cell_type": "code",
     "checksum": "5d95b6833a623c2de9073cbb11602efc",
     "grade": false,
     "grade_id": "cell-79efc13e016c2b67",
     "locked": true,
     "schema_version": 3,
     "solution": false,
     "task": false
    }
   },
   "outputs": [],
   "source": [
    "import skimage\n",
    "from skimage import io\n",
    "import os\n",
    "from matplotlib import pyplot as plt"
   ]
  },
  {
   "cell_type": "code",
   "execution_count": null,
   "metadata": {
    "deletable": false,
    "editable": false,
    "nbgrader": {
     "cell_type": "code",
     "checksum": "c3bd3d70ea5b587fc154f7287afc9325",
     "grade": false,
     "grade_id": "cell-559e1bdd952c9938",
     "locked": true,
     "schema_version": 3,
     "solution": false,
     "task": false
    }
   },
   "outputs": [],
   "source": [
    "im=io.imread(os.path.join(\"imgs\",\"brick-house.png\")) #la lectura de las imagenes\n",
    "plt.imshow(im)"
   ]
  },
  {
   "cell_type": "markdown",
   "metadata": {
    "deletable": false,
    "editable": false,
    "nbgrader": {
     "cell_type": "markdown",
     "checksum": "efaacdab8c3619513c0154a9c89afae9",
     "grade": false,
     "grade_id": "cell-9032df078c9d15da",
     "locked": true,
     "schema_version": 3,
     "solution": false,
     "task": false
    }
   },
   "source": [
    "Hay multiples funciones de ecualizacion, deteccion de maximos, operaciones morfologicas y segmentacion que usaremos mas adelante. Hechenle un ojo a la docuemntacion de los metodos!"
   ]
  }
 ],
 "metadata": {
  "kernelspec": {
   "display_name": "Python 3 (ipykernel)",
   "language": "python",
   "name": "python3"
  },
  "language_info": {
   "codemirror_mode": {
    "name": "ipython",
    "version": 3
   },
   "file_extension": ".py",
   "mimetype": "text/x-python",
   "name": "python",
   "nbconvert_exporter": "python",
   "pygments_lexer": "ipython3",
   "version": "3.9.12"
  },
  "vscode": {
   "interpreter": {
    "hash": "4406ea31cdf9857eb4429f9ef0595ec2e3b9f71979a24e3f6d87669e7dbf13d2"
   }
  }
 },
 "nbformat": 4,
 "nbformat_minor": 2
}
