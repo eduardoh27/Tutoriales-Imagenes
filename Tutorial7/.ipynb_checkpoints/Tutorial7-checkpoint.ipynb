{
 "cells": [
  {
   "cell_type": "markdown",
   "id": "6362574c",
   "metadata": {
    "deletable": false,
    "editable": false,
    "nbgrader": {
     "cell_type": "markdown",
     "checksum": "70763f3d97667059ce3fd5dcc8407b4e",
     "grade": false,
     "grade_id": "cell-7e7e16d177ee31e3",
     "locked": true,
     "schema_version": 3,
     "solution": false,
     "task": false
    }
   },
   "source": [
    "# Morfología matemática binaria\n",
    "\n",
    "En este tutorial implementaremos múltiples operaciones morfológicas entre imágenes binarias a partir de la propiedad de dualidad entre la dilatación y la erosión. Posteriormente, emplearemos estas operaciones en tareas útiles en el análisis y procesamiento de imágenes como la extracción de contornos, el relleno de huecos y la extracción de componentes conexos.\n",
    "\n",
    "## Dilatación \n",
    "\n",
    "La dilatación es una transformación morfológica, por lo tanto, y como se vio en clase, consiste en un análisis píxel a píxel empleando un elemento estructurante. La definición matemática de la dilatación está dada por la siguiente expresión:\n",
    "\n",
    "\n",
    "<div>\n",
    "<img src=\"def_dilatacion.png\" width=\"250\"/>\n",
    "</div>\n",
    "\n",
    "\n",
    "Esto se puede leer como todas las posibles traslaciones del origen de $\\hat{B}$ tales que $A$ y $\\hat{B}$ se sobreponen en **al menos un píxel.**\n",
    "\n",
    "En pocas palabras, visualmente, la dilatacion consiste en que si el píxel central del elemento estructurante (B) coincide con un píxel del objeto (A), todos los píxeles recubiertos por B tomarán el mismo valor de los píxeles de A. Esto implica que la dilatación permite ensanchar los bordes de un objeto utilizando sus píxeles más cercanos en una o más direcciones. En términos prácticos, la dilatación aumenta el tamaño, rellena huecos y rellena bahías en los objetos. Adicionalmente, puede conectar objetos cercanos entre ellos.\n",
    "\n",
    "En este taller, al basarse en morfología binaria, adoptaremos la convención que los píxeles pertenecientes a un objeto de interés tendrán una intensidad de 1. A continuación, se presenta una implementación de una función que retorna el resultado de la dilatación de una imagen empleando un elemento estructurante ingresado como parámetro:"
   ]
  },
  {
   "cell_type": "code",
   "execution_count": null,
   "id": "b73c0ae1",
   "metadata": {
    "deletable": false,
    "editable": false,
    "nbgrader": {
     "cell_type": "code",
     "checksum": "628c61c4086504b1b8cb0bfc2cad80f4",
     "grade": false,
     "grade_id": "cell-2dbdd97e8c92c5c3",
     "locked": true,
     "schema_version": 3,
     "solution": false,
     "task": false
    }
   },
   "outputs": [],
   "source": [
    "import numpy as np\n",
    "\n",
    "# Parámetros:\n",
    "# A: Imagen con objetos de interés marcados con intensidad 1\n",
    "# B: Elemento estructurante. Sus dimensiones deben ser impares de tal forma que tenga un píxel central\n",
    "\n",
    "def binary_dilatation(A, B):\n",
    "    \n",
    "    # Obtención de variables auxiliares\n",
    "    m, n = B.shape\n",
    "    a, b = (m - 1)//2, (n - 1)//2\n",
    "    \n",
    "    # Imagen con borde de ceros que permita central el elemento estructurante en aristas y vertices\n",
    "    A_pad = np.block([[np.zeros((a, b)),         np.zeros((a, A.shape[1])),    np.zeros((a, b))],\n",
    "                      [np.zeros((A.shape[0], b)),         A,                   np.zeros((A.shape[0], b))],\n",
    "                      [np.zeros((a, b)),         np.zeros((a, A.shape[1])),    np.zeros((a, b))]])\n",
    "    \n",
    "    # Arreglo en el que se almacenará el resultado de la dilatación sobre la imagen con borde\n",
    "    result_pad = np.copy(A_pad)\n",
    "    \n",
    "    # Para cada pixel del arreglo original\n",
    "    for x in range(A.shape[0]):\n",
    "        for y in range(A.shape[1]):\n",
    "            # Cambio de coordenadas a la imagen con borde\n",
    "            x_pad = x + a\n",
    "            y_pad = y + b\n",
    "            # Si el pixel en el que se centra el elemento estructurante es igual a 1\n",
    "            if A_pad[x_pad, y_pad] == 1:\n",
    "                # La imagen resultante tiene intensidad 1 en cada pixel sea 1 en la\n",
    "                # imagen original o en el elemento estructurante\n",
    "                result_pad[x_pad - a:x_pad + a + 1, y_pad - b: y_pad + b + 1] = np.logical_or(\n",
    "                result_pad[x_pad - a:x_pad + a + 1, y_pad - b: y_pad + b + 1], B)\n",
    "                \n",
    "    # El resultado corresponde al arreglo sin borde para que se conserven las dimensiones de la imagen original\n",
    "    result = result_pad[a: -a, b: -b]\n",
    "    return result"
   ]
  },
  {
   "cell_type": "markdown",
   "id": "cf8a7f84",
   "metadata": {
    "deletable": false,
    "editable": false,
    "nbgrader": {
     "cell_type": "markdown",
     "checksum": "cba235fd2ccb4fac810ad8f99fd325e3",
     "grade": false,
     "grade_id": "cell-8f20c22ecd564fb0",
     "locked": true,
     "schema_version": 3,
     "solution": false,
     "task": false
    }
   },
   "source": [
    "A continuación, se ilustra el resultado de aplicar una dilatación empleando la función definida previamente sobre dos imágenes con elementos estructurantes distintos:"
   ]
  },
  {
   "cell_type": "code",
   "execution_count": null,
   "id": "e8d05d1b",
   "metadata": {
    "deletable": false,
    "editable": false,
    "nbgrader": {
     "cell_type": "code",
     "checksum": "c0f8abb41b8a92208f8bd627a8be31af",
     "grade": false,
     "grade_id": "cell-751e8193af05ce8b",
     "locked": true,
     "schema_version": 3,
     "solution": false,
     "task": false
    }
   },
   "outputs": [],
   "source": [
    "from skimage.io import imread\n",
    "import skimage.morphology as morph\n",
    "import matplotlib.pyplot as plt\n",
    "\n",
    "# Se leen las imagenes con los objetos de interés\n",
    "geometry_img = imread('geometry.png', as_gray=True)\n",
    "toad_img = imread('toad.png', as_gray=True)\n",
    "\n",
    "# Se obtienen los elementos estructurantes a emplear\n",
    "str_element_1 = morph.disk(10)\n",
    "str_element_2 = np.array([[0,1,0],\n",
    "                        [1,1,1],\n",
    "                        [0,0,0]])\n",
    "\n",
    "# Visualización de Resultados\n",
    "plt.figure(figsize=(15,8))\n",
    "\n",
    "plt.subplot(231)\n",
    "plt.title('Imagen Original')\n",
    "plt.imshow(geometry_img, cmap='gray')\n",
    "plt.axis('Off')\n",
    "\n",
    "plt.subplot(232)\n",
    "plt.title('Elemento Estructurante')\n",
    "plt.imshow(str_element_1, cmap='gray')\n",
    "plt.axis('Off')\n",
    "\n",
    "plt.subplot(233)\n",
    "plt.title('Dilatación')\n",
    "plt.imshow(binary_dilatation(geometry_img, str_element_1), cmap='gray')\n",
    "plt.axis('Off')\n",
    "\n",
    "plt.subplot(234)\n",
    "plt.title('Imagen Original')\n",
    "plt.imshow(toad_img, cmap='gray')\n",
    "plt.xticks(np.arange(-.5, 20, 1), color='w')\n",
    "plt.yticks(np.arange(-.5, 20, 1), color='w')\n",
    "plt.grid()\n",
    "\n",
    "plt.subplot(235)\n",
    "plt.title('Elemento Estructurante')\n",
    "plt.imshow(str_element_2, cmap='gray')\n",
    "plt.xticks(np.arange(-.5, 3, 1), color='w')\n",
    "plt.yticks(np.arange(-.5, 3, 1), color='w')\n",
    "plt.grid()\n",
    "\n",
    "plt.subplot(236)\n",
    "plt.title('Dilatación')\n",
    "plt.imshow(binary_dilatation(toad_img, str_element_2), cmap='gray')\n",
    "plt.xticks(np.arange(-.5, 20, 1), color='w')\n",
    "plt.yticks(np.arange(-.5, 20, 1), color='w')\n",
    "plt.grid()"
   ]
  },
  {
   "cell_type": "markdown",
   "id": "0c7d358d",
   "metadata": {
    "deletable": false,
    "editable": false,
    "nbgrader": {
     "cell_type": "markdown",
     "checksum": "50a179a7a783bd3deff4c8079f2dd2f4",
     "grade": false,
     "grade_id": "cell-439393a20f3e24c4",
     "locked": true,
     "schema_version": 3,
     "solution": false,
     "task": false
    }
   },
   "source": [
    "Existe una implementación de la dilatación en la librería skimage.morphology."
   ]
  },
  {
   "cell_type": "code",
   "execution_count": null,
   "id": "632e00bc",
   "metadata": {
    "deletable": false,
    "editable": false,
    "nbgrader": {
     "cell_type": "code",
     "checksum": "097c09c770c81cdaa935d1126534208a",
     "grade": false,
     "grade_id": "cell-a0637ebc94d77455",
     "locked": true,
     "schema_version": 3,
     "solution": false,
     "task": false
    }
   },
   "outputs": [],
   "source": [
    "from skimage.morphology import binary_dilation as dilation\n",
    "\n",
    "plt.subplot(121)\n",
    "plt.title('Dilatación implementación propia')\n",
    "plt.imshow(binary_dilatation(toad_img, str_element_2), cmap='gray')\n",
    "plt.xticks(np.arange(-.5, 20, 1), color='w')\n",
    "plt.yticks(np.arange(-.5, 20, 1), color='w')\n",
    "plt.grid()\n",
    "\n",
    "plt.subplot(122)\n",
    "plt.title('Dilatación skimage')\n",
    "plt.imshow(dilation(toad_img, str_element_2), cmap='gray')\n",
    "plt.xticks(np.arange(-.5, 20, 1), color='w')\n",
    "plt.yticks(np.arange(-.5, 20, 1), color='w')\n",
    "plt.grid()"
   ]
  },
  {
   "cell_type": "markdown",
   "id": "14bca31c",
   "metadata": {
    "deletable": false,
    "editable": false,
    "nbgrader": {
     "cell_type": "markdown",
     "checksum": "563fab45afc86d5a4cebd48cbd89ba66",
     "grade": false,
     "grade_id": "cell-982383076a57ed3c",
     "locked": true,
     "schema_version": 3,
     "solution": false,
     "task": false
    }
   },
   "source": [
    "## Erosión\n",
    "\n",
    "La definición matemática de la erosión está dada por la siguiente expresión:\n",
    "\n",
    "<div>\n",
    "<img src=\"def_erosion-2.png\" width=\"200\"/>\n",
    "</div>\n",
    "\n",
    "Esto se puede leer como *todas las posibles posiciones del origen de $B$ tales que $B$ está completamente contenido en $A$*.\n",
    "\n",
    "En pocas palabras, la erosión consiste en que si todo el elemento estructurante está contenido por el objeto, únicamente el píxel central tomará el valor de los píxeles de A. La erosión elimina los píxeles más cercanos a un objeto en una o más direcciones (adelgaza los bordes). En términos prácticos, la erosión remueve puntos aislados y partículas pequeñas, adelgaza y desconecta objetos, y elimina picos en sus contornos.\n",
    "\n",
    "Sin embargo, a partir de las definiciones matemáticas provistas anteriormente podemos decir que la dilatación y la erosión son operaciones duales. Esta dualidad implica que se cumple la siguiente igualdad:"
   ]
  },
  {
   "cell_type": "markdown",
   "id": "a054612b",
   "metadata": {
    "deletable": false,
    "editable": false,
    "nbgrader": {
     "cell_type": "markdown",
     "checksum": "b8fd8abaf5f695395e4b4734e88c3b3d",
     "grade": false,
     "grade_id": "cell-445d98085cfe646c",
     "locked": true,
     "schema_version": 3,
     "solution": false,
     "task": false
    }
   },
   "source": [
    "<div>\n",
    "<img src=\"dualidad.png\" width=\"200\"/>\n",
    "</div>\n",
    "\n",
    "donde $A^C$ corresponde al complemento del conjunto representado por $A$, y $\\hat{B}$ corresponde al elemento estructurante reflejado con respecto a su origen. \n",
    "\n",
    "### Ejercicio 1:\n",
    "A continuación, emplearemos esta dualidad para implementar una función que lleve a cabo la erosión partiendo de nuestra función creada para la dilatación. Esta función tendrá como parametro una imagen binaria y su elemento estructurante. Retorne la imagen erosionada, el elemento estructurante reflejado y el complemento de la imagen original."
   ]
  },
  {
   "cell_type": "code",
   "execution_count": null,
   "id": "fb48cc41",
   "metadata": {
    "deletable": false,
    "nbgrader": {
     "cell_type": "code",
     "checksum": "7fa6adffb084f5412542471a6fa8b188",
     "grade": false,
     "grade_id": "cell-392359533874d71c",
     "locked": false,
     "schema_version": 3,
     "solution": true,
     "task": false
    }
   },
   "outputs": [],
   "source": [
    "def binary_erosion(A, B):\n",
    "    # YOUR CODE HERE\n",
    "    raise NotImplementedError()\n",
    "    return result, A_c, B_flip"
   ]
  },
  {
   "cell_type": "markdown",
   "id": "c4751dbe",
   "metadata": {
    "deletable": false,
    "editable": false,
    "nbgrader": {
     "cell_type": "markdown",
     "checksum": "f5e07c0232f53044f1c9a47920327736",
     "grade": false,
     "grade_id": "cell-7dbc39557fb3919a",
     "locked": true,
     "schema_version": 3,
     "solution": false,
     "task": false
    }
   },
   "source": [
    "A continuación, se ilustra el resultado de aplicar una erosión sobre las dos imágenes previas con los mismos elementos estructurantes:"
   ]
  },
  {
   "cell_type": "code",
   "execution_count": null,
   "id": "a7f46eb9",
   "metadata": {
    "deletable": false,
    "editable": false,
    "nbgrader": {
     "cell_type": "code",
     "checksum": "21fda61bfaaa2dcb2bb750ce9b3695a6",
     "grade": false,
     "grade_id": "cell-4bb94d28202caa1c",
     "locked": true,
     "schema_version": 3,
     "solution": false,
     "task": false
    }
   },
   "outputs": [],
   "source": [
    "# Visualización de Resultados\n",
    "plt.figure(figsize=(15,8))\n",
    "\n",
    "plt.subplot(231)\n",
    "plt.title('Imagen Original')\n",
    "plt.imshow(geometry_img, cmap='gray')\n",
    "plt.axis('Off')\n",
    "\n",
    "plt.subplot(232)\n",
    "plt.title('Elemento Estructurante')\n",
    "plt.imshow(str_element_1, cmap='gray')\n",
    "plt.axis('Off')\n",
    "\n",
    "plt.subplot(233)\n",
    "plt.title('Erosión')\n",
    "plt.imshow(binary_erosion(geometry_img, str_element_1)[0], cmap='gray')\n",
    "plt.axis('Off')\n",
    "\n",
    "plt.subplot(234)\n",
    "plt.title('Imagen Original')\n",
    "plt.imshow(toad_img, cmap='gray')\n",
    "plt.xticks(np.arange(-.5, 20, 1), color='w')\n",
    "plt.yticks(np.arange(-.5, 20, 1), color='w')\n",
    "plt.grid()\n",
    "\n",
    "plt.subplot(235)\n",
    "plt.title('Elemento Estructurante')\n",
    "plt.imshow(str_element_2, cmap='gray')\n",
    "plt.xticks(np.arange(-.5, 3, 1), color='w')\n",
    "plt.yticks(np.arange(-.5, 3, 1), color='w')\n",
    "plt.grid()\n",
    "\n",
    "plt.subplot(236)\n",
    "plt.title('Erosión')\n",
    "plt.imshow(binary_erosion(toad_img, str_element_2)[0], cmap='gray')\n",
    "plt.xticks(np.arange(-.5, 20, 1), color='w')\n",
    "plt.yticks(np.arange(-.5, 20, 1), color='w')\n",
    "plt.grid()"
   ]
  },
  {
   "cell_type": "markdown",
   "id": "fff7f3e6",
   "metadata": {
    "deletable": false,
    "editable": false,
    "nbgrader": {
     "cell_type": "markdown",
     "checksum": "73bcf69d7651e10e6d6f4ebcf1050abb",
     "grade": false,
     "grade_id": "cell-4c45372aa35b40ba",
     "locked": true,
     "schema_version": 3,
     "solution": false,
     "task": false
    }
   },
   "source": [
    "Existe una implementación de la erosión en la librería skimage.morphology."
   ]
  },
  {
   "cell_type": "code",
   "execution_count": null,
   "id": "bcc909d7",
   "metadata": {
    "deletable": false,
    "editable": false,
    "nbgrader": {
     "cell_type": "code",
     "checksum": "b035fa5bec976e748d3f7e94b9c056b8",
     "grade": false,
     "grade_id": "cell-d9cf0e396dbe55c5",
     "locked": true,
     "schema_version": 3,
     "solution": false,
     "task": false
    }
   },
   "outputs": [],
   "source": [
    "from skimage.morphology import binary_erosion as erosion\n",
    "\n",
    "plt.subplot(121)\n",
    "plt.title('Erosión implementación propia')\n",
    "plt.imshow(binary_erosion(toad_img, str_element_2)[0], cmap='gray')\n",
    "plt.xticks(np.arange(-.5, 20, 1), color='w')\n",
    "plt.yticks(np.arange(-.5, 20, 1), color='w')\n",
    "plt.grid()\n",
    "\n",
    "plt.subplot(122)\n",
    "plt.title('Erosión skimage')\n",
    "plt.imshow(erosion(toad_img, str_element_2), cmap='gray')\n",
    "plt.xticks(np.arange(-.5, 20, 1), color='w')\n",
    "plt.yticks(np.arange(-.5, 20, 1), color='w')\n",
    "plt.grid()"
   ]
  },
  {
   "cell_type": "code",
   "execution_count": null,
   "id": "7d5a5e19",
   "metadata": {
    "deletable": false,
    "editable": false,
    "nbgrader": {
     "cell_type": "code",
     "checksum": "da2c80f52ec8c77d929f2cdf24de7794",
     "grade": true,
     "grade_id": "cell-ba0564cc6d10ba16",
     "locked": true,
     "points": 1,
     "schema_version": 3,
     "solution": false,
     "task": false
    }
   },
   "outputs": [],
   "source": [
    "result,A_c,B_flip=binary_erosion(geometry_img,str_element_2)\n",
    "\n",
    "assert np.isclose(np.sum(A_c),180209.0), f'El complemento de la image original es erroneo, el area debería ser 180209 y es {np.sum(A_c)}'\n",
    "assert len(B_flip.shape)==2, 'Su elemento estructurante debería tener solo 2 dimensiones'\n",
    "assert B_flip.shape[0]==B_flip.shape[1], 'Su elemento estructurante debería tener las mismas dimensiones de filas y columnas'\n",
    "assert np.sum(str_element_2*B_flip)==3, 'Su elemento esctructurante fue mal reflejado'\n",
    "assert np.isclose(np.sum(result-erosion(geometry_img, str_element_2)),0,0.01), 'Su implementación es erronea, debería ser igual la erosión propia a la de skimage'"
   ]
  },
  {
   "cell_type": "markdown",
   "id": "86b153c5",
   "metadata": {
    "deletable": false,
    "editable": false,
    "nbgrader": {
     "cell_type": "markdown",
     "checksum": "da08695497b24f4f2ad80bc0b89ba59c",
     "grade": false,
     "grade_id": "cell-3d949cf92b7a7f2d",
     "locked": true,
     "schema_version": 3,
     "solution": false,
     "task": false
    }
   },
   "source": [
    "## Apertura\n",
    "La definición matemática de la apertura está dada por la siguiente expresión:\n",
    "\n",
    "<div>\n",
    "<img src=\"def_apertura.png\" width=\"250\"/>\n",
    "</div>\n",
    "\n",
    "Esto se puede leer como *la unión de todas las posibles traslaciones de $B$ que caen dentro de $A$*.\n",
    "\n",
    "En pocas palabras, la apertura consiste en que si todo el elemento estructurante está contenido por el objeto, todos los píxeles cubiertos por el elemento estructurante seguirán perteneciendo al objeto. La apertura es similar a la erosión, pero preserva más información. Esta operación desecha objetos pequeños, mantiene objetos grandes con una forma muy similar, remueve pequeños detalles en el contorno, y puede desconectar algunas partículas y zonas de un objeto.\n",
    "\n",
    "Es importante resaltar que la apertura es el resultado de aplicar una erosión seguida de una dilatación con el mismo elemento estructurante. Esto nos permite implementar de forma sencilla esta operación a partir de las funciones ya definidas:"
   ]
  },
  {
   "cell_type": "code",
   "execution_count": null,
   "id": "3a680282",
   "metadata": {
    "deletable": false,
    "editable": false,
    "nbgrader": {
     "cell_type": "code",
     "checksum": "36dc553196fb6973a7b4370956d6a465",
     "grade": false,
     "grade_id": "cell-d5a0ccfbf1626a72",
     "locked": true,
     "schema_version": 3,
     "solution": false,
     "task": false
    }
   },
   "outputs": [],
   "source": [
    "def binary_opening(A, B):\n",
    "    eroded = erosion(A, B)\n",
    "    opening = dilation(eroded, B)\n",
    "    return opening"
   ]
  },
  {
   "cell_type": "markdown",
   "id": "6f6eab1d",
   "metadata": {
    "deletable": false,
    "editable": false,
    "nbgrader": {
     "cell_type": "markdown",
     "checksum": "a30317d537e504abea69b7eb499d656d",
     "grade": false,
     "grade_id": "cell-a0b916fe2d1bb4a7",
     "locked": true,
     "schema_version": 3,
     "solution": false,
     "task": false
    }
   },
   "source": [
    "A continuación, se ilustra el resultado de aplicar una apertura sobre las dos imágenes previas con los mismos elementos estructurantes:"
   ]
  },
  {
   "cell_type": "code",
   "execution_count": null,
   "id": "c173c7bf",
   "metadata": {
    "deletable": false,
    "editable": false,
    "nbgrader": {
     "cell_type": "code",
     "checksum": "bc7906a963be41c1ac45a1a2791331db",
     "grade": false,
     "grade_id": "cell-825827f72b8b3a09",
     "locked": true,
     "schema_version": 3,
     "solution": false,
     "task": false
    }
   },
   "outputs": [],
   "source": [
    "# Visualización de Resultados\n",
    "plt.figure(figsize=(15,8))\n",
    "\n",
    "plt.subplot(231)\n",
    "plt.title('Imagen Original')\n",
    "plt.imshow(geometry_img, cmap='gray')\n",
    "plt.axis('Off')\n",
    "\n",
    "plt.subplot(232)\n",
    "plt.title('Elemento Estructurante')\n",
    "plt.imshow(str_element_1, cmap='gray')\n",
    "plt.axis('Off')\n",
    "\n",
    "plt.subplot(233)\n",
    "plt.title('Apertura')\n",
    "plt.imshow(binary_opening(geometry_img, str_element_1), cmap='gray')\n",
    "plt.axis('Off')\n",
    "\n",
    "plt.subplot(234)\n",
    "plt.title('Imagen Original')\n",
    "plt.imshow(toad_img, cmap='gray')\n",
    "plt.xticks(np.arange(-.5, 20, 1), color='w')\n",
    "plt.yticks(np.arange(-.5, 20, 1), color='w')\n",
    "plt.grid()\n",
    "\n",
    "plt.subplot(235)\n",
    "plt.title('Elemento Estructurante')\n",
    "plt.imshow(str_element_2, cmap='gray')\n",
    "plt.xticks(np.arange(-.5, 3, 1), color='w')\n",
    "plt.yticks(np.arange(-.5, 3, 1), color='w')\n",
    "plt.grid()\n",
    "\n",
    "plt.subplot(236)\n",
    "plt.title('Apertura')\n",
    "plt.imshow(binary_opening(toad_img, str_element_2), cmap='gray')\n",
    "plt.xticks(np.arange(-.5, 20, 1), color='w')\n",
    "plt.yticks(np.arange(-.5, 20, 1), color='w')\n",
    "plt.grid()"
   ]
  },
  {
   "cell_type": "markdown",
   "id": "dade5c03",
   "metadata": {
    "deletable": false,
    "editable": false,
    "nbgrader": {
     "cell_type": "markdown",
     "checksum": "b410c87bfab9adda56df98a456d8dc35",
     "grade": false,
     "grade_id": "cell-cab60911c5f277e9",
     "locked": true,
     "schema_version": 3,
     "solution": false,
     "task": false
    }
   },
   "source": [
    "### Ejercicio 2:\n",
    "\n",
    "Ahora, basemonos en la expresión en conjuntos para crear la apertura a partir de esta. Como dijimos anteriormente, la apertura es toda bola B que esta completamente contenida en A. Cree una función que tenga como parametro la imagen binaria y el elemento estructurante B. Esta función deberá \"pintar\" el elemento estructurante B si esta comletamente contenido en A para todo el arreglo. De esta forma, la función retornará la apertura de A con el elemento B, tambien debe retornar la cantidad de veces que B estuvo completamente conenido en A. \n",
    "\n",
    ">- **Nota**: basese en la función binary_dilatation que se implementó anteriormente. Note que lo importante de esta implementación es el result_pad (nuestra imagen objetivo) y la condición de pintado del elemento B."
   ]
  },
  {
   "cell_type": "code",
   "execution_count": null,
   "id": "95da5521",
   "metadata": {
    "deletable": false,
    "nbgrader": {
     "cell_type": "code",
     "checksum": "e63c845756487a0b6fedd3011bf83dd0",
     "grade": false,
     "grade_id": "cell-de4435ea2ed7e09a",
     "locked": false,
     "schema_version": 3,
     "solution": true,
     "task": false
    }
   },
   "outputs": [],
   "source": [
    "def Apertura_conjuntos(A, B):\n",
    "    # YOUR CODE HERE\n",
    "    raise NotImplementedError()\n",
    "    return result,contador"
   ]
  },
  {
   "cell_type": "code",
   "execution_count": null,
   "id": "e9e6cee3",
   "metadata": {
    "deletable": false,
    "editable": false,
    "nbgrader": {
     "cell_type": "code",
     "checksum": "e5922a94f85ed2809cb3d28bc3b39a8d",
     "grade": false,
     "grade_id": "cell-c2e840d25a732331",
     "locked": true,
     "schema_version": 3,
     "solution": false,
     "task": false
    }
   },
   "outputs": [],
   "source": [
    "plt.subplot(121)\n",
    "plt.title('Apertura implementación propia')\n",
    "plt.imshow(binary_opening(toad_img, str_element_2), cmap='gray')\n",
    "plt.xticks(np.arange(-.5, 20, 1), color='w')\n",
    "plt.yticks(np.arange(-.5, 20, 1), color='w')\n",
    "plt.grid()\n",
    "\n",
    "plt.subplot(122)\n",
    "plt.title('Apertura conjutos skimage')\n",
    "plt.imshow(Apertura_conjuntos(toad_img, str_element_2)[0], cmap='gray')\n",
    "plt.xticks(np.arange(-.5, 20, 1), color='w')\n",
    "plt.yticks(np.arange(-.5, 20, 1), color='w')\n",
    "plt.grid()"
   ]
  },
  {
   "cell_type": "code",
   "execution_count": null,
   "id": "c6763e01",
   "metadata": {
    "deletable": false,
    "editable": false,
    "nbgrader": {
     "cell_type": "code",
     "checksum": "09993e2a69de6e43afd8d44f71e97358",
     "grade": true,
     "grade_id": "cell-d0bf2f704fd5efa6",
     "locked": true,
     "points": 1,
     "schema_version": 3,
     "solution": false,
     "task": false
    }
   },
   "outputs": [],
   "source": [
    "resultado,contador=Apertura_conjuntos(toad_img, str_element_2)\n",
    "assert not np.sum((binary_opening(toad_img, str_element_2)-resultado)), 'Su implementación de la apertura por conjuntos no es igual a la erosión seguida de la dilatación'\n",
    "assert contador==28, f'La cantidad de puntos donde el elemento estructurante que caben completamente es 28 y en su implementación es {contador}'\n",
    "\n",
    "resultado,contador=Apertura_conjuntos(toad_img, str_element_2*str_element_2[::-1,:])\n",
    "assert contador==48, f'La cantidad de puntos donde el elemento estructurante que caben completamente es 28 y en su implementación es {contador}'"
   ]
  },
  {
   "cell_type": "markdown",
   "id": "3801487d",
   "metadata": {
    "deletable": false,
    "editable": false,
    "nbgrader": {
     "cell_type": "markdown",
     "checksum": "668d7d191e40cf7498ef1a104de42c01",
     "grade": false,
     "grade_id": "cell-7d43366e2ebbe634",
     "locked": true,
     "schema_version": 3,
     "solution": false,
     "task": false
    }
   },
   "source": [
    "## Clausura\n",
    "\n",
    "La clausura es la operación dual de la apertura. Esta operación equivale a aplicar una dilatación seguida de una erosión. Su resultado corresponde al conjunto de píxeles no recubiertos por el elemento estructurante cuando éste permanece enteramente fuera del objeto. Esta operación permite principalmente suavizar los contornos del objeto, rellenando las bahías. Debido a esto, podemos entender a la clausura como *todas las posibles traslaciones de $B$ que no se situan sobre $A$*. La dualidad entre clausura y apertura se puede expresar a través de la siguiente igualdad:\n",
    "\n",
    "<div>\n",
    "<img src=\"dualidad2.png\" width=\"250\"/>\n",
    "</div>\n",
    "\n",
    "A continuación, se presenta una implementación de la clausura a partir de las operaciones de dilatación y erosión:"
   ]
  },
  {
   "cell_type": "code",
   "execution_count": null,
   "id": "6171907a",
   "metadata": {
    "deletable": false,
    "editable": false,
    "nbgrader": {
     "cell_type": "code",
     "checksum": "4d3ed892405900fb57959090ac39cc00",
     "grade": false,
     "grade_id": "cell-376c299401ba2b25",
     "locked": true,
     "schema_version": 3,
     "solution": false,
     "task": false
    }
   },
   "outputs": [],
   "source": [
    "from skimage.morphology import binary_erosion as erosion\n",
    "from skimage.morphology import binary_dilation as dilation\n",
    "\n",
    "def binary_closing(A, B):\n",
    "    dilated = dilation(A, B)\n",
    "    closing = erosion(dilated, B)\n",
    "    return closing"
   ]
  },
  {
   "cell_type": "markdown",
   "id": "8e2cca91",
   "metadata": {
    "deletable": false,
    "editable": false,
    "nbgrader": {
     "cell_type": "markdown",
     "checksum": "16985ebbc980f331820f82318fa9631a",
     "grade": false,
     "grade_id": "cell-0f7b8f7e2109e2bc",
     "locked": true,
     "schema_version": 3,
     "solution": false,
     "task": false
    }
   },
   "source": [
    "A continuación, se ilustra el resultado de aplicar una clausura sobre las dos imágenes previas con los mismos elementos estructurantes:"
   ]
  },
  {
   "cell_type": "code",
   "execution_count": null,
   "id": "f379e75e",
   "metadata": {
    "deletable": false,
    "editable": false,
    "nbgrader": {
     "cell_type": "code",
     "checksum": "788f737534f6e958974a4228a1bc7f47",
     "grade": false,
     "grade_id": "cell-6f3bfd1367bc7808",
     "locked": true,
     "schema_version": 3,
     "solution": false,
     "task": false
    }
   },
   "outputs": [],
   "source": [
    "# Visualización de Resultados\n",
    "plt.figure(figsize=(15,8))\n",
    "\n",
    "plt.subplot(231)\n",
    "plt.title('Imagen Original')\n",
    "plt.imshow(geometry_img, cmap='gray')\n",
    "plt.axis('Off')\n",
    "\n",
    "plt.subplot(232)\n",
    "plt.title('Elemento Estructurante')\n",
    "plt.imshow(str_element_1, cmap='gray')\n",
    "plt.axis('Off')\n",
    "\n",
    "plt.subplot(233)\n",
    "plt.title('Clausura')\n",
    "plt.imshow(binary_closing(geometry_img, str_element_1), cmap='gray')\n",
    "plt.axis('Off')\n",
    "\n",
    "plt.subplot(234)\n",
    "plt.title('Imagen Original')\n",
    "plt.imshow(toad_img, cmap='gray')\n",
    "plt.xticks(np.arange(-.5, 20, 1), color='w')\n",
    "plt.yticks(np.arange(-.5, 20, 1), color='w')\n",
    "plt.grid()\n",
    "\n",
    "plt.subplot(235)\n",
    "plt.title('Elemento Estructurante')\n",
    "plt.imshow(str_element_2, cmap='gray')\n",
    "plt.xticks(np.arange(-.5, 3, 1), color='w')\n",
    "plt.yticks(np.arange(-.5, 3, 1), color='w')\n",
    "plt.grid()\n",
    "\n",
    "plt.subplot(236)\n",
    "plt.title('Clausura')\n",
    "plt.imshow(binary_closing(toad_img, str_element_2), cmap='gray')\n",
    "plt.xticks(np.arange(-.5, 20, 1), color='w')\n",
    "plt.yticks(np.arange(-.5, 20, 1), color='w')\n",
    "plt.grid()"
   ]
  },
  {
   "cell_type": "markdown",
   "id": "75d9c42d",
   "metadata": {
    "deletable": false,
    "editable": false,
    "nbgrader": {
     "cell_type": "markdown",
     "checksum": "dc4f8c929be752a8aac79f6689895708",
     "grade": false,
     "grade_id": "cell-5ddb7e5c93d6ca91",
     "locked": true,
     "schema_version": 3,
     "solution": false,
     "task": false
    }
   },
   "source": [
    "## Extracción de Contornos\n",
    "\n",
    "Las operaciones morfológicas nos permiten extraer los contornos de una imagen binaria de forma sencilla. Esto se puede obtener al restar una erosión (con un elemento estructurante adecuado) a la imagen original, cuya expresión sería la siguiente:\n",
    "\n",
    "<div>\n",
    "<img src=\"contorno.png\" width=\"250\"/>\n",
    "</div>\n",
    "\n",
    "En términos prácticos esto puede parecer poco útil, ya que las imágenes naturales no tienden a ser binarias. Sin embargo, una vez se obtiene una máscara de segmentación de un objeto de interés mediante un método más complejo, esta operación resulta útil. Por ejemplo, tal como se muestra a continuación, una objeto de interés en una imagen bimodal puede segmentarse mediante umbralización por el método de otsu, y se puede extraer su contorno mediante la operación morfológica previamente descrita. Como base, se empleará la siguiente imagen:"
   ]
  },
  {
   "cell_type": "markdown",
   "id": "3a1c8fcb",
   "metadata": {
    "deletable": false,
    "editable": false,
    "nbgrader": {
     "cell_type": "markdown",
     "checksum": "43a38c53f45d8f94317f9ba6f9976595",
     "grade": false,
     "grade_id": "cell-cb39d9c56dd26918",
     "locked": true,
     "schema_version": 3,
     "solution": false,
     "task": false
    }
   },
   "source": [
    "<img src=\"wolf.jpg\" width=\"500\"/>"
   ]
  },
  {
   "cell_type": "code",
   "execution_count": null,
   "id": "45db05bb",
   "metadata": {
    "deletable": false,
    "editable": false,
    "nbgrader": {
     "cell_type": "code",
     "checksum": "f75cd591cf8155f1aea2e7831e6c46c3",
     "grade": false,
     "grade_id": "cell-3819c9b129ea8bcd",
     "locked": true,
     "schema_version": 3,
     "solution": false,
     "task": false
    }
   },
   "outputs": [],
   "source": [
    "from skimage.color import rgb2gray\n",
    "from skimage.filters import threshold_otsu\n",
    "\n",
    "wolf_img = imread('wolf.jpg')\n",
    "wolf_img_gray = rgb2gray(wolf_img)\n",
    "thr_otsu = threshold_otsu(wolf_img_gray)\n",
    "obj = (wolf_img_gray < thr_otsu).astype(int)\n",
    "str_element_3 = np.array([[0, 1, 0],\n",
    "                          [1, 1, 1],\n",
    "                          [0, 1, 0]])\n",
    "erosion = binary_erosion(obj, str_element_3)[0]\n",
    "contour = obj - erosion\n",
    "\n",
    "plt.figure(figsize=(17, 8))\n",
    "plt.subplot(221)\n",
    "plt.title(\"Imagen en escala de grises\")\n",
    "plt.imshow(wolf_img_gray, cmap=\"gray\")\n",
    "plt.axis('Off')\n",
    "\n",
    "plt.subplot(222)\n",
    "plt.title(\"Umbralización por Otsu\")\n",
    "plt.imshow(obj, cmap=\"gray\")\n",
    "plt.axis('Off')\n",
    "\n",
    "plt.subplot(223)\n",
    "plt.title(\"Erosion\")\n",
    "plt.imshow(erosion, cmap='gray')\n",
    "plt.axis('Off')\n",
    "\n",
    "plt.subplot(224)\n",
    "plt.title(\"Contorno\")\n",
    "plt.imshow(contour, cmap='gray')\n",
    "plt.axis('Off')"
   ]
  },
  {
   "cell_type": "markdown",
   "id": "afe232d1",
   "metadata": {
    "deletable": false,
    "editable": false,
    "nbgrader": {
     "cell_type": "markdown",
     "checksum": "27b59cb23538810b1d7fac0269a4e1fb",
     "grade": false,
     "grade_id": "cell-20dd1134194f1867",
     "locked": true,
     "schema_version": 3,
     "solution": false,
     "task": false
    }
   },
   "source": [
    "Si bien después de la umbralización los árboles del fondo de la imagen fueron incluidos en la máscara de segmentación, en términos generales mediante este método morfológico se logró extraer un contorno adecuado para el lobo, siendo este nuestro objeto de interés. Además de extraer el contorno, podemos obtener el gradiente morfológico de la imagen según lo visto en clase.\n",
    "> recuere que para esta operacion debe usar imagwenesen escla degris, no binarias"
   ]
  },
  {
   "cell_type": "code",
   "execution_count": null,
   "id": "c7ce2274",
   "metadata": {
    "deletable": false,
    "editable": false,
    "nbgrader": {
     "cell_type": "code",
     "checksum": "d7287d9f853777dc8b1674cb50b69079",
     "grade": false,
     "grade_id": "cell-51b144310e273470",
     "locked": true,
     "schema_version": 3,
     "solution": false,
     "task": false
    }
   },
   "outputs": [],
   "source": [
    "from skimage.morphology import dilation,erosion,opening, closing\n",
    "def morph_gradient(gray_img,EE):\n",
    "\n",
    "    dil = dilation(gray_img,EE)\n",
    "    ero = erosion(gray_img,EE)\n",
    "    return dil-ero"
   ]
  },
  {
   "cell_type": "markdown",
   "id": "ffce07ee",
   "metadata": {
    "deletable": false,
    "editable": false,
    "nbgrader": {
     "cell_type": "markdown",
     "checksum": "2ff3f3c59c58901e48d6ebbccdad2728",
     "grade": false,
     "grade_id": "cell-c0f8128bdea78e73",
     "locked": true,
     "schema_version": 3,
     "solution": false,
     "task": false
    }
   },
   "source": [
    "## White top hat\n",
    "Las operaciones morfologicas nos permiten analizar conjuntos complejos usando conjuntos simples que conocemos. De esta forma podemos extarer información de una imagen usado no solo sus intensidades, sino tambien el tamaño y la forma.\n",
    "\n",
    "El white top hat es una operación morfologica que nos permite obtener los objetos brillantes más pequeños que el elemento estructurante. Esta operación se define como:\n",
    "\n",
    "$W=I-I\\circ B$\n",
    "\n",
    "### Ejercicio 3:\n",
    "\n",
    "Cree una función que entre como parametro una imagen I y un elemento estructurante B, esta función debe retornar el White top hat de la imagen."
   ]
  },
  {
   "cell_type": "code",
   "execution_count": null,
   "id": "b2fe8aeb",
   "metadata": {
    "deletable": false,
    "nbgrader": {
     "cell_type": "code",
     "checksum": "bc90323de1d67b9a3e66a3af624d0521",
     "grade": false,
     "grade_id": "cell-44d0dad5ee9a74a0",
     "locked": false,
     "schema_version": 3,
     "solution": true,
     "task": false
    }
   },
   "outputs": [],
   "source": [
    "def W_th(I,B):\n",
    "    # YOUR CODE HERE\n",
    "    raise NotImplementedError()\n",
    "    return W"
   ]
  },
  {
   "cell_type": "code",
   "execution_count": null,
   "id": "cbe8b68a",
   "metadata": {
    "deletable": false,
    "editable": false,
    "nbgrader": {
     "cell_type": "code",
     "checksum": "a6416d9d36a88692665c410deabc6c9d",
     "grade": false,
     "grade_id": "cell-85e42c17d2d43c81",
     "locked": true,
     "schema_version": 3,
     "solution": false,
     "task": false
    }
   },
   "outputs": [],
   "source": [
    "Cosmos_original = imread('Cosmos_original.jpg', as_gray=True)/255\n",
    "\n",
    "plt.figure(figsize=(17, 8))\n",
    "plt.subplot(121)\n",
    "plt.title('Imagen original')\n",
    "plt.imshow(Cosmos_original, cmap='gray')\n",
    "plt.axis('Off')\n",
    "\n",
    "plt.subplot(122)\n",
    "plt.title('White top hat')\n",
    "plt.imshow(W_th(Cosmos_original, str_element_1), cmap='gray')\n",
    "plt.axis('Off')"
   ]
  },
  {
   "cell_type": "code",
   "execution_count": null,
   "id": "91bca6b2",
   "metadata": {
    "deletable": false,
    "editable": false,
    "nbgrader": {
     "cell_type": "code",
     "checksum": "08774b800c93de5e22cd5e88d4485188",
     "grade": true,
     "grade_id": "cell-3cb83f3b39cca22f",
     "locked": true,
     "points": 1,
     "schema_version": 3,
     "solution": false,
     "task": false
    }
   },
   "outputs": [],
   "source": [
    "result=W_th(Cosmos_original, str_element_1)\n",
    "\n",
    "assert np.sum(result==0)>np.sum(result==1), 'Deberían haber mas 0s que 1s'\n",
    "assert np.sum(result)<np.sum(Cosmos_original), 'Deberían haber menos elementos brillantes en el white top hat'\n",
    "assert np.isclose(np.sum(result),8896.75), 'Su implementación no es correcta'"
   ]
  },
  {
   "cell_type": "markdown",
   "id": "e658acfd",
   "metadata": {
    "deletable": false,
    "editable": false,
    "nbgrader": {
     "cell_type": "markdown",
     "checksum": "4de080dfa4836cb50a40e974c13d4957",
     "grade": false,
     "grade_id": "cell-dd2043edd5e750ed",
     "locked": true,
     "schema_version": 3,
     "solution": false,
     "task": false
    }
   },
   "source": [
    "## Dilatación geodésica\n",
    "\n",
    "La dilatación geodésica consiste en dilatar e intersectar con una máscara iterativamente hasta que dos iteraciones consecutivas sean iguales. Sin embargo, es necesario tener una semilla como inicio para realizar la dilatación consecutiva. En esta ocasión, usaremos como mascara una segmentacíon previamente realizada, y como semilla escogeremos una erosión de la misma mascara con un elemento estructurante grande. El uso de un gran elemento estructurante para la erosión permite que solos obrevivan pixeles de los elementos más grandes de la imagen, estos elementos serán los que recuperaremos con la dilatación geodesica.\n",
    "\n",
    "### Ejercicio 3:\n",
    "Cree una función que reciba por parametro la mascara, el elemento estructurante E1 con el que se erosionará y el elemento estructurante E2 con el que se dilatará. Agregue una cantidad maxima de iteraciones para la dilatación para evitar un loop infinito. Esta función debe retornar la cantidad de iteraciones realizadas en la dilatación geodésica y el resultado final."
   ]
  },
  {
   "cell_type": "code",
   "execution_count": null,
   "id": "637b1fd1",
   "metadata": {
    "deletable": false,
    "nbgrader": {
     "cell_type": "code",
     "checksum": "4c70153638bc5bb421cb26f14769d90a",
     "grade": false,
     "grade_id": "cell-3312602afcc37c37",
     "locked": false,
     "schema_version": 3,
     "solution": true,
     "task": false
    }
   },
   "outputs": [],
   "source": [
    "def geodesic_dilatation(mask, E1,E2,max_iterations):\n",
    "    # YOUR CODE HERE\n",
    "    raise NotImplementedError()\n",
    "    return result,iterations"
   ]
  },
  {
   "cell_type": "code",
   "execution_count": null,
   "id": "5c1d5c69",
   "metadata": {
    "deletable": false,
    "editable": false,
    "nbgrader": {
     "cell_type": "code",
     "checksum": "518ba05f7f0c43c98f01de2179e8ee50",
     "grade": false,
     "grade_id": "cell-94ab247b2e9d0517",
     "locked": true,
     "schema_version": 3,
     "solution": false,
     "task": false
    }
   },
   "outputs": [],
   "source": [
    "E1=morph.disk(10)\n",
    "E2=morph.disk(2)\n",
    "thr_otsu = threshold_otsu(wolf_img_gray)\n",
    "obj = (wolf_img_gray < thr_otsu).astype(int)\n",
    "\n",
    "g_d,iterations=geodesic_dilatation(obj,E1,E2,1000)\n",
    "\n",
    "plt.figure(figsize=(17, 8))\n",
    "plt.subplot(221)\n",
    "plt.title(\"Imagen en escala de grises\")\n",
    "plt.imshow(wolf_img_gray, cmap=\"gray\")\n",
    "plt.axis('Off')\n",
    "\n",
    "plt.subplot(222)\n",
    "plt.title(\"Umbralización por Otsu\")\n",
    "plt.imshow(obj, cmap=\"gray\")\n",
    "plt.axis('Off')\n",
    "\n",
    "plt.subplot(223)\n",
    "plt.title(\"Dilatación geodésica\")\n",
    "plt.imshow(g_d, cmap=\"gray\")\n",
    "plt.axis('Off')"
   ]
  },
  {
   "cell_type": "code",
   "execution_count": null,
   "id": "9f318b2e",
   "metadata": {
    "deletable": false,
    "editable": false,
    "nbgrader": {
     "cell_type": "code",
     "checksum": "c47971558f1243293ba9cf218c96daa9",
     "grade": true,
     "grade_id": "cell-4409d13d020db647",
     "locked": true,
     "points": 1,
     "schema_version": 3,
     "solution": false,
     "task": false
    }
   },
   "outputs": [],
   "source": [
    "assert np.sum(g_d)<np.sum(g_d==0), 'Deberían haber más elementos de 0 en la dilatación geodesica'\n",
    "assert iterations==44, 'Sus iteraciones debieron ser 44'\n",
    "assert np.isclose(np.sum(g_d),20273), 'Su implementación es erronea'\n",
    "\n",
    "g_d2,iterations2=geodesic_dilatation(obj,morph.disk(20),E2,1000)\n",
    "\n",
    "assert iterations2==62, 'Sus iteraciones debieron ser 62'\n",
    "assert np.array_equal(g_d, g_d2), 'El resultado final de la dilatación geodésica debería ser igual con una erosión de disco 10 y 20'"
   ]
  }
 ],
 "metadata": {
  "kernelspec": {
   "display_name": "Python 3 (ipykernel)",
   "language": "python",
   "name": "python3"
  },
  "language_info": {
   "codemirror_mode": {
    "name": "ipython",
    "version": 3
   },
   "file_extension": ".py",
   "mimetype": "text/x-python",
   "name": "python",
   "nbconvert_exporter": "python",
   "pygments_lexer": "ipython3",
   "version": "3.11.4"
  }
 },
 "nbformat": 4,
 "nbformat_minor": 5
}
