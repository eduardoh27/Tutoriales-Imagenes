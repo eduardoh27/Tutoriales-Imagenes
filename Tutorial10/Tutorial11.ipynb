{
 "cells": [
  {
   "cell_type": "markdown",
   "id": "7e36149b",
   "metadata": {
    "deletable": false,
    "editable": false,
    "nbgrader": {
     "cell_type": "markdown",
     "checksum": "19e0eb8e60026d0350ca586baf0f75ae",
     "grade": false,
     "grade_id": "cell-9b10d2fdf09e1cb0",
     "locked": true,
     "schema_version": 3,
     "solution": false,
     "task": false
    }
   },
   "source": [
    "# Descriptores de Color y Textura - Distancia de histograma\n",
    "\n",
    "En este tutorial recapitularemos brevemente cómo obtener el histograma de color conjunto y concatenado de una imagen. Posteriormente, veremos como implementar las diferentes distancias de histogramas. Por ultimo, se presentará una implementación para obtener el descriptor basado en textura de histograma de Patrones Locales Binarios (LBP por sus siglas en inglés).\n",
    "\n",
    "## Descriptores de Color\n",
    "\n",
    "En tutoriales pasados se estudió cómo construir los histogramas conjuntos y concatenados de intensidades de color de una imagen para distintos espacios de color. En un contexto de clasificación, podemos pensar estos histogramas como un descriptor de la imagen en un espacio de representación de $N$ dimensiones, donde $N$ es la cantidad de *bins* del histograma. En otras palabras, a través del histograma podemos representar una imagen como un punto en un espacio de $N$ dimensiones.\n",
    "\n",
    "A continuación, se presentarán dos funciones que permiten obtener el vector asociado a los histogramas conjuntos y concatenados de una imagen a color. Estas funciones son adaptaciones de las presentadas en los tutoriales anteriores, de tal forma que cada una retorna un vector fila asociado al histograma de la imagen recibida por parámetro:"
   ]
  },
  {
   "cell_type": "code",
   "execution_count": null,
   "id": "e1c7a400",
   "metadata": {
    "deletable": false,
    "editable": false,
    "nbgrader": {
     "cell_type": "code",
     "checksum": "7b68b3647551d908e944bb08bcf45274",
     "grade": false,
     "grade_id": "cell-cb92629c5aa89cb1",
     "locked": true,
     "schema_version": 3,
     "solution": false,
     "task": false
    }
   },
   "outputs": [],
   "source": [
    "import numpy as np\n",
    "\n",
    "def concatenated_histogram(image, bins_per_channel):\n",
    "    concat_hist = []\n",
    "    # Para cada canal\n",
    "    for c in range(image.shape[2]):\n",
    "        # Se obtiene su histograma\n",
    "        # El parámetro range se usa para que todos los bins se encuentren distribuidos uniformemente en todo\n",
    "        # el rango dinámico de cada canal RGB. El parámetro density se usa para obtener el histograma normalizado\n",
    "        ch_hist, _ = np.histogram(image[:,:,c].flatten(), bins=bins_per_channel)\n",
    "        \n",
    "        # Se agrega el histograma del canal a la lista de histogramas de todos los canales\n",
    "        concat_hist.append(ch_hist)\n",
    "        \n",
    "    # Concatenamos los histogramas en un solo arreglo de numpy y le damos forma de un vector fila\n",
    "    concat_hist = np.concatenate(concat_hist).reshape(1, -1)\n",
    "    \n",
    "    return concat_hist/np.sum(concat_hist)\n",
    "\n",
    "def joint_histogram(image, bins_per_channel):\n",
    "    \n",
    "    # Las intensidades de la imagen de dimensiones (m, n, 3) se reordenan en una matriz de dimensiones (3, m x n)\n",
    "    # para satisfacer los requerimientos de la función histogramdd de numpy\n",
    "    intensities = np.stack([image[:, :, 0].flatten(), \n",
    "                           image[:, :, 1].flatten(),\n",
    "                           image[:, :, 2].flatten()], axis=1)\n",
    "    \n",
    "    # Se obtiene el histograma conjunto y la intersección de rangos asociada a cada bin\n",
    "    joint_hist, _ = np.histogramdd(intensities, bins = bins_per_channel, range=[(0, 255), (0, 255), (0, 255)], density=True)\n",
    "    \n",
    "    # Convertimos el histograma conjunto de dimensiones (bins_per_channel, bins_per_channel, bins_per_channel)\n",
    "    # en un vector fila de dimensiones (1, bins_per_channel^3)\n",
    "    \n",
    "    joint_hist = joint_hist.flatten().reshape(1, -1)\n",
    "    \n",
    "    joint_hist=joint_hist/np.sum(joint_hist)\n",
    "    \n",
    "    return joint_hist\n"
   ]
  },
  {
   "cell_type": "markdown",
   "id": "9a2a959a",
   "metadata": {
    "deletable": false,
    "editable": false,
    "nbgrader": {
     "cell_type": "markdown",
     "checksum": "ad7efcb19f7060c48666dd22ab54a9c5",
     "grade": false,
     "grade_id": "cell-3524600f84f620a1",
     "locked": true,
     "schema_version": 3,
     "solution": false,
     "task": false
    }
   },
   "source": [
    "En el siguiente fragmento de código obtenemos el histograma conjunto y concatenado de una imagen ejemplo, y obtenemos las dimensiones de los histogramas obtenidos:"
   ]
  },
  {
   "cell_type": "code",
   "execution_count": null,
   "id": "61c264e5",
   "metadata": {
    "deletable": false,
    "editable": false,
    "nbgrader": {
     "cell_type": "code",
     "checksum": "311d649b834ca69478b6a2b6c8a8555b",
     "grade": false,
     "grade_id": "cell-1788787ad4aaa217",
     "locked": true,
     "schema_version": 3,
     "solution": false,
     "task": false
    }
   },
   "outputs": [],
   "source": [
    "from skimage.io import imread\n",
    "import matplotlib.pyplot as plt\n",
    "\n",
    "example_1 = imread(\"starry_night.jpg\")\n",
    "plt.figure()\n",
    "plt.title(\"Imagen ejemplo 1\")\n",
    "plt.imshow(example_1)\n",
    "plt.axis(\"Off\")\n",
    "\n",
    "print(\"Dimensiones de la imagen\")\n",
    "print(example_1.shape)\n",
    "\n",
    "print(\"Cantidad de bins por canal:\")\n",
    "n = 10\n",
    "print(n)\n",
    "\n",
    "print(\"Dimensiones del histograma concatenado\")\n",
    "con_hist_1 = concatenated_histogram(example_1, 10)\n",
    "print(con_hist_1.shape)\n",
    "\n",
    "print(\"Dimensiones del histograma conjunto\")\n",
    "joint_hist_1 = joint_histogram(example_1, 10)\n",
    "print(joint_hist_1.shape)"
   ]
  },
  {
   "cell_type": "code",
   "execution_count": null,
   "id": "f67288ad",
   "metadata": {
    "deletable": false,
    "editable": false,
    "nbgrader": {
     "cell_type": "code",
     "checksum": "2c69ed055a71f1ce7ecb02bacf870056",
     "grade": false,
     "grade_id": "cell-ae8f21d8f6028e8b",
     "locked": true,
     "schema_version": 3,
     "solution": false,
     "task": false
    }
   },
   "outputs": [],
   "source": [
    "fig,ax=plt.subplots(1,2,figsize=(20,5))\n",
    "ax[0].plot(range(11),con_hist_1[0][:11],'r')\n",
    "ax[0].plot(range(10,21),con_hist_1[0][10:21],'g')\n",
    "ax[0].plot(range(20,30),con_hist_1[0][20:30],'b')\n",
    "ax[0].set_title('Histograma concatenado')\n",
    "\n",
    "ax[1].plot(joint_hist_1[0])\n",
    "ax[1].set_title('Histograma concatenado')\n",
    "plt.show()"
   ]
  },
  {
   "cell_type": "markdown",
   "id": "037d5697",
   "metadata": {
    "deletable": false,
    "editable": false,
    "nbgrader": {
     "cell_type": "markdown",
     "checksum": "facb793f88cb70b9cf3f8d7f0dfe21c0",
     "grade": false,
     "grade_id": "cell-1019afb0e195a0ea",
     "locked": true,
     "schema_version": 3,
     "solution": false,
     "task": false
    }
   },
   "source": [
    "La similitud entre los histogramas de dos imágenes nos da una noción de qué tan parecidas son sus distribuciones de colores. Una medida de la similitud entre dos histogramas es el kernel de intersección, el cual se define a partir de la siguiente expresión:\n",
    "\n",
    "\\begin{equation}\n",
    "    I(x, y) = \\sum_{i=1}^{m} \\min{(x_i, y_i)}\n",
    "\\end{equation}\n",
    "\n",
    "donde $x$ y $y$ son los vectores asociados a los histogramas a comparar y $m$ es la longitud de dichos vectores. \n",
    "\n",
    "### Ejercicio 1:\n",
    "A continuación, realice una función que calcule el kernel de intersección para evaluar qué tan similar es la distribución de color de dos imagenes."
   ]
  },
  {
   "cell_type": "code",
   "execution_count": null,
   "id": "73369b75",
   "metadata": {
    "deletable": false,
    "nbgrader": {
     "cell_type": "code",
     "checksum": "5e2ff417a6b6d5eaae0fb493b596a63d",
     "grade": false,
     "grade_id": "cell-bd38180e4e0e49e9",
     "locked": false,
     "schema_version": 3,
     "solution": true,
     "task": false
    }
   },
   "outputs": [],
   "source": [
    "def intersection_kernel(x, y):\n",
    "    'x (ndarray): Histograma de la primera imagen'\n",
    "    'y (ndarray): Histograma de la segunda imagen'\n",
    "    # YOUR CODE HERE\n",
    "    raise NotImplementedError()\n",
    "    return int_ker"
   ]
  },
  {
   "cell_type": "markdown",
   "id": "b9e4f501",
   "metadata": {
    "deletable": false,
    "editable": false,
    "nbgrader": {
     "cell_type": "markdown",
     "checksum": "b1e164ea613065d54a23637647b99b7f",
     "grade": false,
     "grade_id": "cell-e8b4f7cd14558589",
     "locked": true,
     "schema_version": 3,
     "solution": false,
     "task": false
    }
   },
   "source": [
    "Usemos la función intersection_kernel para comparar la distribución de color del cuadro \"*Noche Estrellada*\" con otras dos obras de arte de Van Gogh a partir de sus histogramas concatenados:"
   ]
  },
  {
   "cell_type": "code",
   "execution_count": null,
   "id": "4279864a",
   "metadata": {
    "deletable": false,
    "editable": false,
    "nbgrader": {
     "cell_type": "code",
     "checksum": "807a805b1565803fee732502e0f54708",
     "grade": true,
     "grade_id": "cell-516f21c8dba0768d",
     "locked": true,
     "points": 1,
     "schema_version": 3,
     "solution": false,
     "task": false
    }
   },
   "outputs": [],
   "source": [
    "example_2 = imread(\"wheatfield_with_crows.jpg\")\n",
    "example_3 = imread(\"girl_in_a_wood.jpg\")\n",
    "images = [example_1, example_2, example_3]\n",
    "\n",
    "plt.figure(figsize=(15,8))\n",
    "for i in range(3):\n",
    "    plt.subplot(1,3,i+1)\n",
    "    plt.imshow(images[i])\n",
    "    plt.title(\"Imagen Ejemplo \" + str(i+1))\n",
    "    plt.axis(\"Off\")\n",
    "\n",
    "# Se obtienen los histogramas concatenados de las imágenes 2 y 3\n",
    "con_hist_2 = concatenated_histogram(example_2, n)\n",
    "con_hist_3 = concatenated_histogram(example_3, n)\n",
    "\n",
    "print(\"El Kernel de intersección entre las imágenes 1 y 2 es:\")\n",
    "inter_1_2=intersection_kernel(con_hist_1, con_hist_2)\n",
    "print(inter_1_2)\n",
    "print(\"El Kernel de intersección entre las imágenes 1 y 3 es:\")\n",
    "inter_1_3=intersection_kernel(con_hist_1, con_hist_3)\n",
    "print(inter_1_3)\n",
    "                              \n",
    "assert inter_1_2>inter_1_3, 'El color de la imagen 2 es más parecido a la imagen original que la imagen 3'\n",
    "assert inter_1_2<=1 and inter_1_3<=1,'El kernel de intersección debe ser menor o igual a 1'\n",
    "assert np.isclose(inter_1_2,0.71,0.01), 'El kernel de intersección debe ser aproximadamente 0.7 entre la imagen 1 y la 2'\n",
    "assert intersection_kernel(con_hist_1, con_hist_1)==1, 'El kernel de intersección debe ser 1 si los histogramas son iguales'"
   ]
  },
  {
   "cell_type": "markdown",
   "id": "281d5b69",
   "metadata": {
    "deletable": false,
    "editable": false,
    "nbgrader": {
     "cell_type": "markdown",
     "checksum": "8a07433a2ce189070e86274b2bc965d9",
     "grade": false,
     "grade_id": "cell-0b10ea542f321b46",
     "locked": true,
     "schema_version": 3,
     "solution": false,
     "task": false
    }
   },
   "source": [
    "### Ejercicio 2:\n",
    "Ya hemos implementado la función que calcula la distancia del kernel de intersección, ahora crearemos una función que calcule la distancia Chi cuadrado entre 2 histogramas, recordemos que la formula es la siguiente:\n",
    "\n",
    "\\begin{equation}\n",
    "    I(x, y) = \\frac{1}{2}\\sum_{i=1}^{m} \\frac{(x_i-y_i)^2}{(x_i+y_i)}\n",
    "\\end{equation}"
   ]
  },
  {
   "cell_type": "code",
   "execution_count": null,
   "id": "dc62b395",
   "metadata": {
    "deletable": false,
    "nbgrader": {
     "cell_type": "code",
     "checksum": "c723a7a6153a97c64c56c5b966cf11f6",
     "grade": false,
     "grade_id": "cell-8e1721ea5f004f0a",
     "locked": false,
     "schema_version": 3,
     "solution": true,
     "task": false
    }
   },
   "outputs": [],
   "source": [
    "def Chiqua_dist(x, y):\n",
    "    'x (ndarray): Histograma de la primera imagen'\n",
    "    'y (ndarray): Histograma de la segunda imagen'\n",
    "    # YOUR CODE HERE\n",
    "    raise NotImplementedError()\n",
    "    return resultado"
   ]
  },
  {
   "cell_type": "code",
   "execution_count": null,
   "id": "b5c12ea8",
   "metadata": {
    "deletable": false,
    "editable": false,
    "nbgrader": {
     "cell_type": "code",
     "checksum": "f57aa471ae357a8be02ab48e62747b7e",
     "grade": true,
     "grade_id": "cell-8b628d5ec863705f",
     "locked": true,
     "points": 1,
     "schema_version": 3,
     "solution": false,
     "task": false
    }
   },
   "outputs": [],
   "source": [
    "example_2 = imread(\"wheatfield_with_crows.jpg\")\n",
    "example_3 = imread(\"girl_in_a_wood.jpg\")\n",
    "images = [example_1, example_2, example_3]\n",
    "\n",
    "plt.figure(figsize=(15,8))\n",
    "for i in range(3):\n",
    "    plt.subplot(1,3,i+1)\n",
    "    plt.imshow(images[i])\n",
    "    plt.title(\"Imagen Ejemplo \" + str(i+1))\n",
    "    plt.axis(\"Off\")\n",
    "\n",
    "# Se obtienen los histogramas concatenados de las imágenes 2 y 3\n",
    "con_hist_2 = concatenated_histogram(example_2, n)\n",
    "con_hist_3 = concatenated_histogram(example_3, n)\n",
    "\n",
    "print(\"El Kernel de intersección entre las imágenes 1 y 2 es:\")\n",
    "inter_1_2=Chiqua_dist(con_hist_1, con_hist_2)\n",
    "print(inter_1_2)\n",
    "print(\"El Kernel de intersección entre las imágenes 1 y 3 es:\")\n",
    "inter_1_3=Chiqua_dist(con_hist_1, con_hist_3)\n",
    "print(inter_1_3)\n",
    "                              \n",
    "assert inter_1_2<inter_1_3, 'El histograma de la imagen 2 se árece más a la de la imagen 3'\n",
    "assert inter_1_2<=1 and inter_1_3<=1,'La distancia Chi 2 debe ser menor o igual a 1'\n",
    "assert np.isclose(inter_1_2,0.11,0.1), 'La distancia Chi 2 debe ser aproximadamente 0.7 entre la imagen 1 y la 2'\n",
    "assert Chiqua_dist(con_hist_1, con_hist_1)==0, 'La distancia Chi 2 debe ser 0 si los histogramas son iguales'"
   ]
  },
  {
   "cell_type": "markdown",
   "id": "944ebe84",
   "metadata": {
    "deletable": false,
    "editable": false,
    "nbgrader": {
     "cell_type": "markdown",
     "checksum": "038035b582b65e58f4985be43a16e831",
     "grade": false,
     "grade_id": "cell-c91e19f95e2435cb",
     "locked": true,
     "schema_version": 3,
     "solution": false,
     "task": false
    }
   },
   "source": [
    "El kernel de intersección entre las imágenes 1 y 2 es mayor que el de las imágenes 2 y 3. Esto nos indica, como era de esperarse, que la distribución de colores entre la 1 y 2 es mayor que entre la 2 y 3. Lo mismo sucede con la distancia Chi 2, donde la distancia entre la imagen 1 y la 2 es menor que entre la 1 y la 3.\n",
    "\n",
    "Por otro lado, siguiendo la noción de que los histogramas son una forma de representar las imágenes como puntos en un espacio de $N$ dimensiones, podemos pensar que los puntos que se encuentran más cerca en este espacio representan imágenes que tienen distribuciones de color más parecidas. Una vez establecida una definición de distancia en este espacio, entre menor sea la distancia entre los puntos mayor será la similitud entre la distribución de colores de sus imágenes. \n",
    "\n",
    "\n",
    "\n",
    "A continuación, calcularemos la distancia euclídea entre los histogramas de las imágenes anteriores para ver si los resultados son congruentes por lo indicado según el kernel de intersección o la distancia Chi 2:"
   ]
  },
  {
   "cell_type": "code",
   "execution_count": null,
   "id": "b55327bb",
   "metadata": {
    "deletable": false,
    "editable": false,
    "nbgrader": {
     "cell_type": "code",
     "checksum": "13bb62128e61a987d824b9f5210aa6ec",
     "grade": false,
     "grade_id": "cell-7bcdd30d38241aad",
     "locked": true,
     "schema_version": 3,
     "solution": false,
     "task": false
    }
   },
   "outputs": [],
   "source": [
    "def euclidean_distance(x, y):\n",
    "    return np.sum((x - y)**2)\n",
    "\n",
    "print(\"La distancia euclidea entre los histogramas de las imagenes 1 y 2 es:\")\n",
    "print(euclidean_distance(con_hist_1, con_hist_2))\n",
    "print(\"La distancia euclidea entre los histogramas de las imagenes 1 y 3 es:\")\n",
    "print(euclidean_distance(con_hist_1, con_hist_3))"
   ]
  },
  {
   "cell_type": "markdown",
   "id": "f189fa01",
   "metadata": {
    "deletable": false,
    "editable": false,
    "nbgrader": {
     "cell_type": "markdown",
     "checksum": "1fcdd424a25c4eeedf0649dc33ad6c77",
     "grade": false,
     "grade_id": "cell-fc904696770911a0",
     "locked": true,
     "schema_version": 3,
     "solution": false,
     "task": false
    }
   },
   "source": [
    "Note que efectivamente la distancia euclídea entre los puntos representados por los histogramas 1 y 2 es menor a la de los histogramas 1 y 3. Esto es consistente con el hecho de que las imágenes 1 y 2 tengan una distribución de colores más similar."
   ]
  },
  {
   "cell_type": "markdown",
   "id": "eab29c70",
   "metadata": {
    "deletable": false,
    "editable": false,
    "nbgrader": {
     "cell_type": "markdown",
     "checksum": "425b7a8623677ad2e7918c408ec50956",
     "grade": false,
     "grade_id": "cell-7f000e8aab27d37e",
     "locked": true,
     "schema_version": 3,
     "solution": false,
     "task": false
    }
   },
   "source": [
    "## Descriptores de Textura\n",
    "\n",
    "Uno de los descriptores de imágenes basado en textura más comunes es el histograma de textones, el cual fue estudiado en clase.\n",
    "El procedimiento para obtener este descriptor se puede resumir en los siguientes pasos:\n",
    "\n",
    "1. Construir un banco de N filtros de diferentes formas y tamaños.\n",
    "1. Hacer la cross-correlación de todas las imágenes de entrenamiento con todo el banco de filtros.\n",
    "1. Representar cada pixel como la respuesta a los N filtros del banco.\n",
    "1. Hacer k-means con la representación de todos los píxeles de entrenamiento y crear un diccionario de textones con los centroides (textones).\n",
    "1. Para obtener la representación de textones de una nueva imagen, repetir los pasos 2 y 3 con esta imagen, y luego asignar a cada píxel el textón más cercano su representación. A la imagen resultante se le conoce como **mapa de textones**.\n",
    "1. Hacer un histograma del mapa de textones para obtener un **histograma de textones**.\n",
    "\n",
    "El histograma de textones representa a la imagen como un punto en un espacio cuyas dimensiones indican la repetición de la textura asociada a un textón en la imagen.\n",
    "\n",
    "Teniendo en cuenta que obtener el diccionario de textones resultante de un conjunto de entrenamiento grande es computacionalmente costoso, al igual que calcular el histograma de textones de dichas imágenes, se han formulado otras representaciones de textura menos costosas de obtener. Una de ellas es la representación a partir de patrones locales binarios, o LBP por sus siglas en inglés.\n",
    "\n",
    "El proceso para obtener un mapa de LBP se puede resumir en los siguientes pasos:\n",
    "1. Para cada píxel, definir una ventana de píxeles vecinos.\n",
    "1. Para cada píxel perteneciente a la ventana, asignar un 0 si su intensidad es menor a la del píxel central o un 1 si su intensidad es mayor.\n",
    "1. Agrupar las representaciones resultantes en clases dependiendo de criterios como invarianza rotacional.\n",
    "1. El mapa de LBP es el resultado de asignar una clase a cada píxel dependiendo de la agrupación anterior.\n",
    "\n",
    "El proceso de asignación de clase a cada píxel se puede entender mejor a través del siguiente diagrama:\n",
    "\n",
    "![lbp-2.png](lbp-2.png)\n"
   ]
  },
  {
   "cell_type": "markdown",
   "id": "daf31b60",
   "metadata": {
    "deletable": false,
    "editable": false,
    "nbgrader": {
     "cell_type": "markdown",
     "checksum": "ee58a004223aad85ef6430836ff707f2",
     "grade": false,
     "grade_id": "cell-582ab57442bd12fb",
     "locked": true,
     "schema_version": 3,
     "solution": false,
     "task": false
    }
   },
   "source": [
    "Para simplificar nuestra implementación solo consideraremos una ventana de 3x3 y 10 clases: una clase por cada uno de los 9 patrones uniformes (aquellos que solo tienen una transición entre 1s y 0s), y una clase para todos los patrones no uniformes:\n",
    "\n",
    "![clases.png](clases.png)"
   ]
  },
  {
   "cell_type": "markdown",
   "id": "8b1f3986",
   "metadata": {
    "deletable": false,
    "editable": false,
    "nbgrader": {
     "cell_type": "markdown",
     "checksum": "4cd7a9c8fd247f8e87805002dcc3d3bb",
     "grade": false,
     "grade_id": "cell-039bb596567616d8",
     "locked": true,
     "schema_version": 3,
     "solution": false,
     "task": false
    }
   },
   "source": [
    "### Ejercicio 3:\n",
    "Cree una función que clasifique la ventana con una clase segun la notación anterior. Se le proporciona la función is_uniform, que retorna un False si la ventana no tiene una distribución binaria uniforme y un True de lo contrario. Siga los siguientes pasos:\n",
    "\n",
    ">- Dada una ventana, binarice los pixeles de al rededor teniendo en cuenta el pixel central. Considere la ventana 3x3.\n",
    ">- Vuelva la matriz binaria un vector, recorriendo los pixeles en sentido horario.\n",
    ">- Analice el vector con la función is_uniform. Si esta función le retorna un False, la clase de la ventana es 9, de lo contrario, asigne a la ventana la clase como se indica anteriormente.\n",
    "\n",
    "La función debe retornar la ventana binarizada, el vector flatenizado en sentido horario y la clase."
   ]
  },
  {
   "cell_type": "code",
   "execution_count": null,
   "id": "604af6f2",
   "metadata": {
    "deletable": false,
    "nbgrader": {
     "cell_type": "code",
     "checksum": "0814ac222f9db726a0ca079e5a96ebc0",
     "grade": false,
     "grade_id": "cell-aaa1f8100239c840",
     "locked": false,
     "schema_version": 3,
     "solution": true,
     "task": false
    }
   },
   "outputs": [],
   "source": [
    "# Esta es una función auxiliar que nos permite saber si el vector binario asociado a una ventana es uniforme o no.\n",
    "# Lo que hace es que identifica en qué posiciones se da un salto y las marca con 1 (dif_vec). Si hay menos de 3\n",
    "# saltos el vector está asociado a una ventana uniforme.\n",
    "\n",
    "def is_uniform(vec):\n",
    "    dif_vec = np.abs(np.diff(vec))\n",
    "    return np.sum(dif_vec) < 3\n",
    "\n",
    "# Esta función recibe una ventana y retorna su clase bajo el modelo de LBP planteado.\n",
    "\n",
    "def window_to_lbp_class(window):\n",
    "    'window (ndarray): Arreglo con los pixeles a analizar'\n",
    "    # YOUR CODE HERE\n",
    "    raise NotImplementedError()\n",
    "    return window_bin,vec,cls"
   ]
  },
  {
   "cell_type": "code",
   "execution_count": null,
   "id": "75f25159",
   "metadata": {
    "deletable": false,
    "editable": false,
    "nbgrader": {
     "cell_type": "code",
     "checksum": "bef49fd8d40973c310421191bf68eb94",
     "grade": true,
     "grade_id": "cell-5a7c5326f8137a27",
     "locked": true,
     "points": 1,
     "schema_version": 3,
     "solution": false,
     "task": false
    }
   },
   "outputs": [],
   "source": [
    "# Visualización del ejemplo con la misma ventana del diagrama inicial\n",
    "\n",
    "ej_window = np.array([[10, 9,  4 ],\n",
    "                      [13, 40, 69],\n",
    "                      [8,  54, 42]])\n",
    "\n",
    "bin_window = np.array([[0, 0,  0 ],\n",
    "                      [0, 0, 1],\n",
    "                      [0,  1, 1]])\n",
    "\n",
    "flaten_bin=np.array([0,0,0,1,1,1,0,0])\n",
    "\n",
    "print(f'Venatana de ejemplo:')\n",
    "print(ej_window)\n",
    "\n",
    "print(f'Venatana binarizada:')\n",
    "print(bin_window)\n",
    "\n",
    "print(f'Venatana binarizada como vector en sentido horario:')\n",
    "print(flaten_bin)\n",
    "\n",
    "print('Clase: 3')\n",
    "\n",
    "window_bin,vec,cls=window_to_lbp_class(ej_window)\n",
    "\n",
    "print(f'Venatana binarizada implementada:')\n",
    "print(window_bin)\n",
    "\n",
    "print(f'Venatana binarizada como vector en sentido horario implementada:')\n",
    "print(vec)\n",
    "\n",
    "print(f'Clase: {cls}')\n",
    "\n",
    "assert np.sum(window_bin-bin_window)==0, 'Se calculó mal la matriz binaria'\n",
    "assert np.sum(flaten_bin-vec)==0, 'Se calculó mal el vector flatenizado en sentido horario'\n",
    "assert cls==3, 'La clase debe ser igual a la cantidad de 1s en el vector'"
   ]
  },
  {
   "cell_type": "markdown",
   "id": "de2ec2aa",
   "metadata": {
    "deletable": false,
    "editable": false,
    "nbgrader": {
     "cell_type": "markdown",
     "checksum": "cd1a6860a933af87f08da1347bfcf0a0",
     "grade": false,
     "grade_id": "cell-2a1e78ddd0b6c1c9",
     "locked": true,
     "schema_version": 3,
     "solution": false,
     "task": false
    }
   },
   "source": [
    "Note que una ventaja de este método es que para obtener las clases no fue necesario entrenar un modelo de clasificación no supervisada como k-means, reduciendo en gran medida el costo computacional. A continuación, utilizaremos esta función para obtener el mapa de LBP de algunas imágenes de textura aparentemente distinta:"
   ]
  },
  {
   "cell_type": "code",
   "execution_count": null,
   "id": "95e3ba7c",
   "metadata": {
    "deletable": false,
    "editable": false,
    "nbgrader": {
     "cell_type": "code",
     "checksum": "cfe6085bc6659e5643cd9eb7e1bab755",
     "grade": false,
     "grade_id": "cell-7c8a69267f1f666b",
     "locked": true,
     "schema_version": 3,
     "solution": false,
     "task": false
    }
   },
   "outputs": [],
   "source": [
    "# ESTE FRAGMENTO DE CÓDIGO PUEDE DEMORARSE UN POCO EN CORRER\n",
    "from tqdm import tqdm\n",
    "# Función que retorna el mapa de LBP de una imagen\n",
    "def LBP_map(image):\n",
    "    # Matriz en la que se va a almacenar el mapa de LBP. Se excluyen los bordes de la imagen\n",
    "    LBP_map = np.zeros((image.shape[0] -1, image.shape[1] -1))\n",
    "    for i in tqdm(range(1, image.shape[0] -1)):\n",
    "        for j in range(1, image.shape[1] -1):\n",
    "            # Para cada pixel que no pertenece al borde, se extrae la ventana de 3x3 centrada en él\n",
    "            window = image[i-1:i+2, j-1:j+2]\n",
    "            # Se obtiene la clase asociada a dicha ventana según el método de LBP\n",
    "            _,_,cls = window_to_lbp_class(window)\n",
    "            # Se asigna la clase al mapa de LBP\n",
    "            LBP_map[i-1, j-1] = cls\n",
    "    return LBP_map\n",
    "\n",
    "from skimage.transform import resize\n",
    "\n",
    "texture_1 = resize(imread(\"texture_1.jpg\", as_gray=True), (400, 600))\n",
    "texture_2 = resize(imread(\"texture_2.jpg\", as_gray=True), (400, 600))\n",
    "texture_3 = resize(imread(\"texture_3.jpg\", as_gray=True), (400, 600))\n",
    "images = [texture_1, texture_2, texture_3]\n",
    "\n",
    "plt.figure(figsize=(15,8))\n",
    "for i in range(3):\n",
    "    plt.subplot(1,3,i+1)\n",
    "    plt.title(\"Textura \" + str(i+1))\n",
    "    plt.imshow(images[i], cmap='gray')\n",
    "    plt.axis(\"Off\")\n",
    "    \n",
    "LBP_maps = [LBP_map(img) for img in images]\n",
    "\n",
    "plt.figure(figsize=(15,8))\n",
    "for i in range(3):\n",
    "    plt.subplot(1,3,i+1)\n",
    "    plt.title(\"Mapa LBP \" + str(i+1))\n",
    "    plt.imshow(LBP_maps[i])\n",
    "    plt.axis(\"Off\")\n",
    "plt.show()\n"
   ]
  },
  {
   "cell_type": "markdown",
   "id": "043deff7",
   "metadata": {
    "deletable": false,
    "editable": false,
    "nbgrader": {
     "cell_type": "markdown",
     "checksum": "6a52372747a586373288f37f8c97347f",
     "grade": false,
     "grade_id": "cell-ddeb2ac2b367bc06",
     "locked": true,
     "schema_version": 3,
     "solution": false,
     "task": false
    }
   },
   "source": [
    "Note que la distribución de intensidades entre los mapas de LBP es significativamente distinta entre las 3 texturas. Podemos construir un histograma asociado a cada uno de estos mapas:"
   ]
  },
  {
   "cell_type": "code",
   "execution_count": null,
   "id": "fa49802b",
   "metadata": {
    "deletable": false,
    "editable": false,
    "nbgrader": {
     "cell_type": "code",
     "checksum": "da35268bc98e81a82ba40a835facebbe",
     "grade": false,
     "grade_id": "cell-58b139309be0e4ee",
     "locked": true,
     "schema_version": 3,
     "solution": false,
     "task": false
    }
   },
   "outputs": [],
   "source": [
    "# Función que retorna los histogramas de LBP a partir de los mapas\n",
    "def LBP_histogram(LBP_map):\n",
    "    hist, _ = np.histogram(LBP_map.flatten(), bins = 10, density=True)\n",
    "    return hist\n",
    "\n",
    "# Lista de los 3 histogramas\n",
    "LBP_histograms = [LBP_histogram(mp) for mp in LBP_maps]\n",
    "\n",
    "# Visualización\n",
    "plt.figure(figsize=(15,5))\n",
    "for i in range(3):\n",
    "    plt.subplot(1, 3, 1 + i)\n",
    "    plt.title(\"Histograma de LBP \" + str(i + 1))\n",
    "    plt.xlabel(\"Clases\")\n",
    "    plt.ylabel(\"Frecuencia Normalizada\")\n",
    "    plt.xticks(range(10))\n",
    "    plt.bar(range(10) , LBP_histograms[i])\n",
    "plt.tight_layout()\n",
    "plt.show()"
   ]
  },
  {
   "cell_type": "markdown",
   "id": "03376c30",
   "metadata": {},
   "source": [
    "En este tutorial se estudiaron herramientas para representar imágenes como puntos en un espacio de alta dimensionalidad. Al combinar estas dos herramientas, se puede obtener una línea de base para un algoritmo de clasificación supervisada de imágenes basada en su contenido de color o textura.\n",
    "\n",
    "## Créditos\n",
    "### Realizado por:\n",
    "Danniel Moreno\n",
    "### Supervisado por:\n",
    "Felipe Escallón Páez - Jose Miguel Abril Nova\n",
    "\n",
    "2022"
   ]
  }
 ],
 "metadata": {
  "kernelspec": {
   "display_name": "Python 3 (ipykernel)",
   "language": "python",
   "name": "python3"
  },
  "language_info": {
   "codemirror_mode": {
    "name": "ipython",
    "version": 3
   },
   "file_extension": ".py",
   "mimetype": "text/x-python",
   "name": "python",
   "nbconvert_exporter": "python",
   "pygments_lexer": "ipython3",
   "version": "3.9.12"
  }
 },
 "nbformat": 4,
 "nbformat_minor": 5
}
