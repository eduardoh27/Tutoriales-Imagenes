{
 "cells": [
  {
   "cell_type": "markdown",
   "id": "c399c5b9",
   "metadata": {
    "deletable": false,
    "editable": false,
    "nbgrader": {
     "cell_type": "markdown",
     "checksum": "7fda06dbe260f45cec403f1cd705d22c",
     "grade": false,
     "grade_id": "cell-8b0dc43a4fb2a614",
     "locked": true,
     "schema_version": 3,
     "solution": false,
     "task": false
    }
   },
   "source": [
    "# Laboratorio 1: Introducción a los modelos de machine learning\n",
    "A partir de este momento empezaremos con lo que viene siendo machine learning en si. Por lo cual es importante que tengamos ciertas cosas claras antes de empezar a usarlas. Debido a esto a lo largo de esta corta practica aprenderemos las bases del machine learning, la forma en la que este suele usarse en python y que condiciones deben tener para la practica. En este caso usaremos aprendizaje no supervizado, sin embargo para lo que viene siendo la clasificación supervisada todo funciona de forma muy similar.\n",
    "\n",
    "## Parte 1: Datos\n",
    "Una parte fundamental del machine learning es la manera en la que vamos a presentar los datos a nuestro algoritmo. Aqui es fundamental que los datos siempre tengan la forma ```(numero_de_datos, dimension_de_los_datos)```. Nuestro algoritmo asume que lo que va a poder acceder mediante la primera dimension de nuestra lista de datos es cada dato en si, es decir si a nuestra lista de datos le aplicamos ```datos[0]``` lo que nos debe poder entregar es el dato en la posición 0, no la dimensión 0 de todos los datos.\n",
    "### Descriptores\n",
    "Un descriptor es todo aquello que tal como su nombre lo indica pretende darnos información descriptiva de un objeto o un dato especifico. Los descriptores pueden variar en su dimensionalidad y pueden ir desde una sola dimensión hasta N dimensiones. A continuación les damos algunos ejemplos de descriptores:\n",
    "- Una dimensión: Tamaño de un objeto.\n",
    "- Dos dimensiones: posición geografica de un lugar.\n",
    "- Tres dimensiones: la posición en 3 dimensiones de un voxel.\n",
    "- N dimensiones: un histograma de 4 bins de las intensidades de una imagen.\n",
    "Si se dan cuenta, a pesar de contar con un tamaño que varía podemos usar la información que ellos contienen para discriminar entre los datos que tengamos y así poder agruparlos segun estos descriptores. \n",
    "\n",
    "### Anotaciones\n",
    "Una anotación es todo aquello que se usa para poder determinar la pertenencia de un dato a una clase en particular, la cual se conoce previamente. Antes de esto hemos usado anotaciones de segmentación y de detección, pero para los problemas de detección varían en su forma ligeramente haciendolas mas faciles de usar. \n",
    "\n",
    "Las anotaciones suelen ser numeros, enteros en los casos de clasificación, que me dan información sobre nuestros datos. En la practica estos tienen la forma  ```(numero_de_datos)```, es decir, son un vector de una unica dimensión.\n",
    "\n",
    "Ahora deben hacer una función que realice la cantidad de datos que le sean dados por parametro en un espacio de n dimensiones y tenga la capacidad de generalos segun un numero de clusters ingresado de forma opcional. Esto lo podemos hacer con la función```make_blobs``` de sklearn.datasets. Esta funcion nos realiza un numero de datos determinados agrupados en clusters. Mas informacion la pueden encontrar en: https://scikit-learn.org/stable/modules/generated/sklearn.datasets.make_blobs.html"
   ]
  },
  {
   "cell_type": "code",
   "execution_count": 1,
   "id": "cb659e85",
   "metadata": {
    "deletable": false,
    "nbgrader": {
     "cell_type": "code",
     "checksum": "f20ff8bae5a43f9d9249f9ab68bfc9a0",
     "grade": false,
     "grade_id": "cell-527811789d475b46",
     "locked": false,
     "schema_version": 3,
     "solution": true,
     "task": false
    }
   },
   "outputs": [],
   "source": [
    "from sklearn import datasets\n",
    "import matplotlib.pyplot as plt\n",
    "import numpy as np\n",
    "\n",
    "\n",
    "def make_data_nd(number_of_points,point_dimension,number_of_clusters=2):\n",
    "    np.random.seed(42)\n",
    "    # YOUR CODE HERE\n",
    "    X, y = datasets.make_blobs(n_samples=number_of_points, n_features=point_dimension, centers=number_of_clusters)\n",
    "    #print(f'X = {X}')\n",
    "    #print(f'y = {y}')\n",
    "    return X"
   ]
  },
  {
   "cell_type": "code",
   "execution_count": 2,
   "id": "69d7dbbc",
   "metadata": {
    "deletable": false,
    "editable": false,
    "nbgrader": {
     "cell_type": "code",
     "checksum": "0c9e31c9954add2978f99f354b9b4479",
     "grade": true,
     "grade_id": "cell-e56cf9788bf04c57",
     "locked": true,
     "points": 1,
     "schema_version": 3,
     "solution": false,
     "task": false
    }
   },
   "outputs": [
    {
     "data": {
      "text/plain": [
       "<matplotlib.collections.PathCollection at 0x15f0709c150>"
      ]
     },
     "execution_count": 2,
     "metadata": {},
     "output_type": "execute_result"
    },
    {
     "data": {
      "image/png": "[encoded data removed]",
      "text/plain": [
       "<Figure size 640x480 with 1 Axes>"
      ]
     },
     "metadata": {},
     "output_type": "display_data"
    }
   ],
   "source": [
    "datos = [10,20,50,100]\n",
    "dimensiones = [2,5,6,10,20]\n",
    "for dato in datos:\n",
    "    for dimension in dimensiones:\n",
    "        assert make_data_nd(dato,dimension).shape==(dato,dimension),f'Su función retorna de forma incorrecta los datos, deberian tener forma ({dato},{dimension}) no {make_data_nd(dato,dimension).shape}'\n",
    "data = make_data_nd(100,2,2)\n",
    "plt.scatter(data[:,0],data[:,1])"
   ]
  },
  {
   "cell_type": "markdown",
   "id": "a3cf2fca",
   "metadata": {
    "deletable": false,
    "editable": false,
    "nbgrader": {
     "cell_type": "markdown",
     "checksum": "80d1930692aca6bec9f00744c6c25bc9",
     "grade": false,
     "grade_id": "cell-e889efa37e9f02e2",
     "locked": true,
     "schema_version": 3,
     "solution": false,
     "task": false
    }
   },
   "source": [
    "## Parte 2: Modelos\n",
    "Ahora que ya sabemos y podemos controlar los datos que vamos a usar es momento de aprender sobre los modelos en si, ya que ellos van a ser los que hacen el proceso de aprender a diferenciar los datos de forma automatica. Estos modelos hay que aprender que tiene 3 funciones principales:\n",
    "- ```__init__()```\n",
    "- ```fit()```\n",
    "- ```predict()```\n",
    "### ```__init__()```: Inicializacion\n",
    "Una de las primeras cosas que debemos aprender de nuestros modelos es que son clases por ende lo que haremos será usar objetos. Todo objeto tiene una función de inicialización, esta determina los valores principales que debe detener todo objeto y son determinados por la clase de este. Existen algunos objetos que tienen parametros obligatorios y otros tienen unicamente parametros con valores opcionales. En este breve laboratorio usaremos la clase ```KMeans``` de ```sklearn.cluster``` esta tiene un objeto que realiza el algoritmo de K-Means. Ahora inicialicemos un objeto que sea de esta clase, use 2 como numero de clusters."
   ]
  },
  {
   "cell_type": "code",
   "execution_count": 3,
   "id": "d5549606",
   "metadata": {
    "deletable": false,
    "nbgrader": {
     "cell_type": "code",
     "checksum": "69004393d7581034233994166376bbc6",
     "grade": false,
     "grade_id": "cell-46c591b1f802d348",
     "locked": false,
     "schema_version": 3,
     "solution": true,
     "task": false
    }
   },
   "outputs": [],
   "source": [
    "from sklearn import cluster\n",
    "\n",
    "model = '' #Variable que contendrá el modelo de k-means\n",
    "# YOUR CODE HERE\n",
    "model = cluster.KMeans(n_clusters=2)"
   ]
  },
  {
   "cell_type": "code",
   "execution_count": 4,
   "id": "517ed5bc",
   "metadata": {
    "deletable": false,
    "editable": false,
    "nbgrader": {
     "cell_type": "code",
     "checksum": "ef5fa52418f2b3d9c74d9466ec8bad7e",
     "grade": true,
     "grade_id": "cell-71b66bb2e974196e",
     "locked": true,
     "points": 1,
     "schema_version": 3,
     "solution": false,
     "task": false
    }
   },
   "outputs": [],
   "source": [
    "assert str(type(model))==\"<class 'sklearn.cluster._kmeans.KMeans'>\",f\"su objeto es de clase {str(type(model))} no <class 'sklearn.cluster._kmeans.KMeans'>\"\n",
    "assert model.n_clusters == 2, f'su modelo tiene {model.n_clusters} clusters, no 2 como se indicó'"
   ]
  },
  {
   "cell_type": "markdown",
   "id": "d1e8d36b",
   "metadata": {
    "deletable": false,
    "editable": false,
    "nbgrader": {
     "cell_type": "markdown",
     "checksum": "6227d3393539986e3443433aee407e86",
     "grade": false,
     "grade_id": "cell-ba89b330d8462c4e",
     "locked": true,
     "schema_version": 3,
     "solution": false,
     "task": false
    }
   },
   "source": [
    "### fit(): Entrenamiento\n",
    "Otra funcion basica que tienen todos los objetos propios del machine learning es la funcion de entrenamiento, esta funcion dependiendo del tipo de algoritmo va a recibir uno o dos parametros obligatorios y varios mas opcionales. Estos parametos para aquellos modelos de aprendizaje no supervisado será unicamente los descriptores mientras que para los de aprendizaje supervisado serán los descriptores y las etiquetas. Ahora, lo que haremos será entrenar nuestro modelo en los datos contenidos en la variable ```data``` usando la funcion fit() de nuestro modelo. Pueden referirse a la documentacion de KMeans si tienen dudad sobre el uso de esta variable."
   ]
  },
  {
   "cell_type": "code",
   "execution_count": 5,
   "id": "02e469ca",
   "metadata": {
    "deletable": false,
    "nbgrader": {
     "cell_type": "code",
     "checksum": "2dd0c82dcf418c115f979475fda36298",
     "grade": false,
     "grade_id": "cell-a816b5ad271fc63c",
     "locked": false,
     "schema_version": 3,
     "solution": true,
     "task": false
    }
   },
   "outputs": [
    {
     "name": "stderr",
     "output_type": "stream",
     "text": [
      "C:\\Users\\eduar\\anaconda3\\Lib\\site-packages\\sklearn\\cluster\\_kmeans.py:1412: FutureWarning: The default value of `n_init` will change from 10 to 'auto' in 1.4. Set the value of `n_init` explicitly to suppress the warning\n",
      "  super()._check_params_vs_input(X, default_n_init=10)\n",
      "C:\\Users\\eduar\\anaconda3\\Lib\\site-packages\\sklearn\\cluster\\_kmeans.py:1436: UserWarning: KMeans is known to have a memory leak on Windows with MKL, when there are less chunks than available threads. You can avoid it by setting the environment variable OMP_NUM_THREADS=1.\n",
      "  warnings.warn(\n"
     ]
    },
    {
     "data": {
      "text/html": [
       "<style>#sk-container-id-1 {color: black;}#sk-container-id-1 pre{padding: 0;}#sk-container-id-1 div.sk-toggleable {background-color: white;}#sk-container-id-1 label.sk-toggleable__label {cursor: pointer;display: block;width: 100%;margin-bottom: 0;padding: 0.3em;box-sizing: border-box;text-align: center;}#sk-container-id-1 label.sk-toggleable__label-arrow:before {content: \"▸\";float: left;margin-right: 0.25em;color: #696969;}#sk-container-id-1 label.sk-toggleable__label-arrow:hover:before {color: black;}#sk-container-id-1 div.sk-estimator:hover label.sk-toggleable__label-arrow:before {color: black;}#sk-container-id-1 div.sk-toggleable__content {max-height: 0;max-width: 0;overflow: hidden;text-align: left;background-color: #f0f8ff;}#sk-container-id-1 div.sk-toggleable__content pre {margin: 0.2em;color: black;border-radius: 0.25em;background-color: #f0f8ff;}#sk-container-id-1 input.sk-toggleable__control:checked~div.sk-toggleable__content {max-height: 200px;max-width: 100%;overflow: auto;}#sk-container-id-1 input.sk-toggleable__control:checked~label.sk-toggleable__label-arrow:before {content: \"▾\";}#sk-container-id-1 div.sk-estimator input.sk-toggleable__control:checked~label.sk-toggleable__label {background-color: #d4ebff;}#sk-container-id-1 div.sk-label input.sk-toggleable__control:checked~label.sk-toggleable__label {background-color: #d4ebff;}#sk-container-id-1 input.sk-hidden--visually {border: 0;clip: rect(1px 1px 1px 1px);clip: rect(1px, 1px, 1px, 1px);height: 1px;margin: -1px;overflow: hidden;padding: 0;position: absolute;width: 1px;}#sk-container-id-1 div.sk-estimator {font-family: monospace;background-color: #f0f8ff;border: 1px dotted black;border-radius: 0.25em;box-sizing: border-box;margin-bottom: 0.5em;}#sk-container-id-1 div.sk-estimator:hover {background-color: #d4ebff;}#sk-container-id-1 div.sk-parallel-item::after {content: \"\";width: 100%;border-bottom: 1px solid gray;flex-grow: 1;}#sk-container-id-1 div.sk-label:hover label.sk-toggleable__label {background-color: #d4ebff;}#sk-container-id-1 div.sk-serial::before {content: \"\";position: absolute;border-left: 1px solid gray;box-sizing: border-box;top: 0;bottom: 0;left: 50%;z-index: 0;}#sk-container-id-1 div.sk-serial {display: flex;flex-direction: column;align-items: center;background-color: white;padding-right: 0.2em;padding-left: 0.2em;position: relative;}#sk-container-id-1 div.sk-item {position: relative;z-index: 1;}#sk-container-id-1 div.sk-parallel {display: flex;align-items: stretch;justify-content: center;background-color: white;position: relative;}#sk-container-id-1 div.sk-item::before, #sk-container-id-1 div.sk-parallel-item::before {content: \"\";position: absolute;border-left: 1px solid gray;box-sizing: border-box;top: 0;bottom: 0;left: 50%;z-index: -1;}#sk-container-id-1 div.sk-parallel-item {display: flex;flex-direction: column;z-index: 1;position: relative;background-color: white;}#sk-container-id-1 div.sk-parallel-item:first-child::after {align-self: flex-end;width: 50%;}#sk-container-id-1 div.sk-parallel-item:last-child::after {align-self: flex-start;width: 50%;}#sk-container-id-1 div.sk-parallel-item:only-child::after {width: 0;}#sk-container-id-1 div.sk-dashed-wrapped {border: 1px dashed gray;margin: 0 0.4em 0.5em 0.4em;box-sizing: border-box;padding-bottom: 0.4em;background-color: white;}#sk-container-id-1 div.sk-label label {font-family: monospace;font-weight: bold;display: inline-block;line-height: 1.2em;}#sk-container-id-1 div.sk-label-container {text-align: center;}#sk-container-id-1 div.sk-container {/* jupyter's `normalize.less` sets `[hidden] { display: none; }` but bootstrap.min.css set `[hidden] { display: none !important; }` so we also need the `!important` here to be able to override the default hidden behavior on the sphinx rendered scikit-learn.org. See: https://github.com/scikit-learn/scikit-learn/issues/21755 */display: inline-block !important;position: relative;}#sk-container-id-1 div.sk-text-repr-fallback {display: none;}</style><div id=\"sk-container-id-1\" class=\"sk-top-container\"><div class=\"sk-text-repr-fallback\"><pre>KMeans(n_clusters=2)</pre><b>In a Jupyter environment, please rerun this cell to show the HTML representation or trust the notebook. <br />On GitHub, the HTML representation is unable to render, please try loading this page with nbviewer.org.</b></div><div class=\"sk-container\" hidden><div class=\"sk-item\"><div class=\"sk-estimator sk-toggleable\"><input class=\"sk-toggleable__control sk-hidden--visually\" id=\"sk-estimator-id-1\" type=\"checkbox\" checked><label for=\"sk-estimator-id-1\" class=\"sk-toggleable__label sk-toggleable__label-arrow\">KMeans</label><div class=\"sk-toggleable__content\"><pre>KMeans(n_clusters=2)</pre></div></div></div></div></div>"
      ],
      "text/plain": [
       "KMeans(n_clusters=2)"
      ]
     },
     "execution_count": 5,
     "metadata": {},
     "output_type": "execute_result"
    }
   ],
   "source": [
    "# YOUR CODE HERE\n",
    "model.fit(data)"
   ]
  },
  {
   "cell_type": "code",
   "execution_count": 6,
   "id": "6890b1b1",
   "metadata": {
    "deletable": false,
    "editable": false,
    "nbgrader": {
     "cell_type": "code",
     "checksum": "b7e1032bf2ee8754babec42941013dbe",
     "grade": true,
     "grade_id": "cell-da107c703d719ba4",
     "locked": true,
     "points": 0.5,
     "schema_version": 3,
     "solution": false,
     "task": false
    }
   },
   "outputs": [],
   "source": [
    "try:\n",
    "    model.n_features_in_\n",
    "except:\n",
    "    assert False,f'Su modelo no fue entrenado'\n",
    "assert model.n_features_in_ == 2,f'su modelo tiene un espacio de {model.n_features_in_} dimensiones, no 2 como debería'\n",
    "assert len(model.labels_)==100,f'su modelo tiene {len(model.labels_)} puntos, no 100'"
   ]
  },
  {
   "cell_type": "markdown",
   "id": "846a6802",
   "metadata": {
    "deletable": false,
    "editable": false,
    "nbgrader": {
     "cell_type": "markdown",
     "checksum": "7e88b721c3149979ed2ae6bead557c39",
     "grade": false,
     "grade_id": "cell-b4046070ae7464d8",
     "locked": true,
     "schema_version": 3,
     "solution": false,
     "task": false
    }
   },
   "source": [
    "### predict(): Prediccion\n",
    "La ultima funcion fundamental que deben aprender acerca de los modelos de machine learning es la funcion de predicción, si bien, casi todos los modelos tienen una función llamada ```fit_predict``` que hace el proceso de entrenamiento y predicción de forma simultanea, esto generalmente solo sirve para ver que tan bien se ajusta a los datos de entrenamiento. En el caso de querer revisar la pertenencia de nuevos datos sin volverlos parte de nuestra muestra debemos usar la funcion predict, que hace justamente este proceso. A diferencia de la funcion ```fit```, esta función unicamente recibe un parametro en todos los modelos, y es la lista de descriptores. A continuación deben hacer la predicción de los datos contenidos en ```data``` y guardarlos en la variable ```y```"
   ]
  },
  {
   "cell_type": "code",
   "execution_count": 7,
   "id": "4312ad3f",
   "metadata": {
    "deletable": false,
    "nbgrader": {
     "cell_type": "code",
     "checksum": "db064f393c02bc94bc16a3b106e1ce83",
     "grade": false,
     "grade_id": "cell-f978c112ee077dd7",
     "locked": false,
     "schema_version": 3,
     "solution": true,
     "task": false
    }
   },
   "outputs": [],
   "source": [
    "y = '' #variable que contendrá todos los datos\n",
    "# YOUR CODE HERE\n",
    "y = model.predict(data)"
   ]
  },
  {
   "cell_type": "code",
   "execution_count": 8,
   "id": "314bffc2",
   "metadata": {
    "deletable": false,
    "editable": false,
    "nbgrader": {
     "cell_type": "code",
     "checksum": "5c25e917686e6fa91758aae83f41f731",
     "grade": true,
     "grade_id": "cell-1816fc845ee99628",
     "locked": true,
     "points": 0.5,
     "schema_version": 3,
     "solution": false,
     "task": false
    }
   },
   "outputs": [
    {
     "data": {
      "image/png": "[encoded data removed]",
      "text/plain": [
       "<Figure size 640x480 with 1 Axes>"
      ]
     },
     "metadata": {},
     "output_type": "display_data"
    }
   ],
   "source": [
    "assert len(y) == 100, f'sus predicciones tiene {len(y)} datos, no 100'\n",
    "assert len(np.unique(y))==2,f'sus predicciones tienen {len(np.unique(y))} clases, no 2'\n",
    "for i in range(2):\n",
    "    plt.scatter(data[y==i,0], data[y==i,1])"
   ]
  },
  {
   "cell_type": "markdown",
   "id": "e292454c",
   "metadata": {
    "deletable": false,
    "editable": false,
    "nbgrader": {
     "cell_type": "markdown",
     "checksum": "00fb80420d547f3871cf8cfa46a4b2c5",
     "grade": false,
     "grade_id": "cell-e3f02ce8d2b3e5dc",
     "locked": true,
     "schema_version": 3,
     "solution": false,
     "task": false
    }
   },
   "source": [
    "## Parte 3: Clasificación Jerarquica\n",
    "Ahora que ya manejamos lo basico del modelo K-Means hagamos una aplicación de forma manual, haremos la clasificación jerarquica de los puntos por medio de k-means como se vio en clase. recordemos que el algoritmo para esto, al ser una clasificación jerarquica de tipo top-down es de tipo divisiva. El algoritmo debe seguir este orden:\n",
    "- Asignar todos los puntos a una unica clase\n",
    "- Dividir los puntos de dicha clase en 2 clases diferentes\n",
    "- Para cada nivel de profundidad dividir los puntos de cada clase de la profundidad anterior en 2 clases diferentes"
   ]
  },
  {
   "cell_type": "code",
   "execution_count": 9,
   "id": "a0879836",
   "metadata": {
    "deletable": false,
    "nbgrader": {
     "cell_type": "code",
     "checksum": "de27e68723a1f9a3a518b584beb1d883",
     "grade": false,
     "grade_id": "cell-f922a6b4c8e87994",
     "locked": false,
     "schema_version": 3,
     "solution": true,
     "task": false
    }
   },
   "outputs": [
    {
     "ename": "NotImplementedError",
     "evalue": "",
     "output_type": "error",
     "traceback": [
      "\u001b[1;31m---------------------------------------------------------------------------\u001b[0m",
      "\u001b[1;31mNotImplementedError\u001b[0m                       Traceback (most recent call last)",
      "Cell \u001b[1;32mIn[9], line 6\u001b[0m\n\u001b[0;32m      4\u001b[0m labels8 \u001b[38;5;241m=\u001b[39m \u001b[38;5;124m'\u001b[39m\u001b[38;5;124m'\u001b[39m \u001b[38;5;66;03m# arreglo que contiene las etiquetas de los datos asignados en ocho clusters\u001b[39;00m\n\u001b[0;32m      5\u001b[0m \u001b[38;5;66;03m# YOUR CODE HERE\u001b[39;00m\n\u001b[1;32m----> 6\u001b[0m \u001b[38;5;28;01mraise\u001b[39;00m \u001b[38;5;167;01mNotImplementedError\u001b[39;00m()\n",
      "\u001b[1;31mNotImplementedError\u001b[0m: "
     ]
    }
   ],
   "source": [
    "labels1 = '' # arreglo que contiene las etiquetas de los datos asignados en un cluster\n",
    "labels2 = '' # arreglo que contiene las etiquetas de los datos asignados en dos clusters\n",
    "labels4 = '' # arreglo que contiene las etiquetas de los datos asignados en cuatro clusters\n",
    "labels8 = '' # arreglo que contiene las etiquetas de los datos asignados en ocho clusters\n",
    "# YOUR CODE HERE\n"
   ]
  },
  {
   "cell_type": "code",
   "execution_count": null,
   "id": "a2f3556d",
   "metadata": {
    "deletable": false,
    "editable": false,
    "nbgrader": {
     "cell_type": "code",
     "checksum": "93e5b56df211a4facdbd65c69ea34754",
     "grade": true,
     "grade_id": "cell-c570179ed8530123",
     "locked": true,
     "points": 2,
     "schema_version": 3,
     "solution": false,
     "task": false
    }
   },
   "outputs": [],
   "source": [
    "plt.figure()\n",
    "plt.title('1 cluster')\n",
    "for i in np.unique(labels1):\n",
    "    plt.scatter(data[labels1==i,0],data[labels1==i,1])\n",
    "plt.figure()\n",
    "plt.title('2 clusters')\n",
    "for i in np.unique(labels2):\n",
    "    plt.scatter(data[labels2==i,0],data[labels2==i,1])\n",
    "plt.figure()\n",
    "plt.title('4 clusters')\n",
    "for i in np.unique(labels4):\n",
    "    plt.scatter(data[labels4==i,0],data[labels4==i,1])\n",
    "plt.figure()\n",
    "plt.title('8 clusters')\n",
    "for i in np.unique(labels8):\n",
    "    plt.scatter(data[labels8==i,0],data[labels8==i,1])\n",
    "\n",
    "assert len(labels1)==len(y),f'su division usando 1 cluster tiene {len(labels1)} datos, no 100'\n",
    "assert len(labels2)==len(y),f'su division usando 1 cluster tiene {len(labels2)} datos, no 100'\n",
    "assert len(labels4)==len(y),f'su division usando 1 cluster tiene {len(labels4)} datos, no 100'\n",
    "assert len(labels8)==len(y),f'su division usando 1 cluster tiene {len(labels8)} datos, no 100'\n",
    "for i in np.unique(labels4):\n",
    "    comparacion = 0\n",
    "    for punto in data[labels4==i]:\n",
    "        if punto not in data[labels2==i]:\n",
    "            comparacion+=1\n",
    "        elif comparacion == 2:\n",
    "            assert False,'sus labels con 4 clusters no son una subdivisión de sus labels con 2 clusters'\n",
    "for i in np.unique(labels8):\n",
    "    comparacion = 0\n",
    "    for punto in data[labels8==i]:\n",
    "        if punto not in data[labels4==i]:\n",
    "            comparacion+=1\n",
    "        elif comparacion == 4:\n",
    "            assert False,'sus labels con 8 clusters no son una subdivisión de sus labels con 4 clusters'\n",
    "            \n",
    "    "
   ]
  }
 ],
 "metadata": {
  "kernelspec": {
   "display_name": "Python 3 (ipykernel)",
   "language": "python",
   "name": "python3"
  },
  "language_info": {
   "codemirror_mode": {
    "name": "ipython",
    "version": 3
   },
   "file_extension": ".py",
   "mimetype": "text/x-python",
   "name": "python",
   "nbconvert_exporter": "python",
   "pygments_lexer": "ipython3",
   "version": "3.11.4"
  }
 },
 "nbformat": 4,
 "nbformat_minor": 5
}
